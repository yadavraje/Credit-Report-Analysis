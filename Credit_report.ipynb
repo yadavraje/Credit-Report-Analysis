{
 "cells": [
  {
   "cell_type": "code",
   "execution_count": 70,
   "id": "3bc1e8a5",
   "metadata": {},
   "outputs": [],
   "source": [
    "import pandas as pd\n",
    "import numpy as np\n",
    "import matplotlib.pyplot as plt\n",
    "import seaborn as sns"
   ]
  },
  {
   "cell_type": "code",
   "execution_count": 71,
   "id": "007ebc0d",
   "metadata": {},
   "outputs": [
    {
     "name": "stderr",
     "output_type": "stream",
     "text": [
      "C:\\Users\\Rajesh Desai\\AppData\\Local\\Temp\\ipykernel_15108\\2187086723.py:1: DtypeWarning: Columns (26) have mixed types. Specify dtype option on import or set low_memory=False.\n",
      "  df=pd.read_csv(\"Credit_report.csv\")\n"
     ]
    },
    {
     "data": {
      "text/html": [
       "<div>\n",
       "<style scoped>\n",
       "    .dataframe tbody tr th:only-of-type {\n",
       "        vertical-align: middle;\n",
       "    }\n",
       "\n",
       "    .dataframe tbody tr th {\n",
       "        vertical-align: top;\n",
       "    }\n",
       "\n",
       "    .dataframe thead th {\n",
       "        text-align: right;\n",
       "    }\n",
       "</style>\n",
       "<table border=\"1\" class=\"dataframe\">\n",
       "  <thead>\n",
       "    <tr style=\"text-align: right;\">\n",
       "      <th></th>\n",
       "      <th>ID</th>\n",
       "      <th>Customer_ID</th>\n",
       "      <th>Month</th>\n",
       "      <th>Name</th>\n",
       "      <th>Age</th>\n",
       "      <th>SSN</th>\n",
       "      <th>Occupation</th>\n",
       "      <th>Annual_Income</th>\n",
       "      <th>Monthly_Inhand_Salary</th>\n",
       "      <th>Num_Bank_Accounts</th>\n",
       "      <th>...</th>\n",
       "      <th>Credit_Mix</th>\n",
       "      <th>Outstanding_Debt</th>\n",
       "      <th>Credit_Utilization_Ratio</th>\n",
       "      <th>Credit_History_Age</th>\n",
       "      <th>Payment_of_Min_Amount</th>\n",
       "      <th>Total_EMI_per_month</th>\n",
       "      <th>Amount_invested_monthly</th>\n",
       "      <th>Payment_Behaviour</th>\n",
       "      <th>Monthly_Balance</th>\n",
       "      <th>Credit_Score</th>\n",
       "    </tr>\n",
       "  </thead>\n",
       "  <tbody>\n",
       "    <tr>\n",
       "      <th>0</th>\n",
       "      <td>0x1602</td>\n",
       "      <td>CUS_0xd40</td>\n",
       "      <td>January</td>\n",
       "      <td>Aaron Maashoh</td>\n",
       "      <td>23</td>\n",
       "      <td>821-00-0265</td>\n",
       "      <td>Scientist</td>\n",
       "      <td>19114.12</td>\n",
       "      <td>1824.843333</td>\n",
       "      <td>3</td>\n",
       "      <td>...</td>\n",
       "      <td>_</td>\n",
       "      <td>809.98</td>\n",
       "      <td>26.822620</td>\n",
       "      <td>22 Years and 1 Months</td>\n",
       "      <td>No</td>\n",
       "      <td>49.574949</td>\n",
       "      <td>80.41529543900253</td>\n",
       "      <td>High_spent_Small_value_payments</td>\n",
       "      <td>312.49408867943663</td>\n",
       "      <td>Good</td>\n",
       "    </tr>\n",
       "    <tr>\n",
       "      <th>1</th>\n",
       "      <td>0x1603</td>\n",
       "      <td>CUS_0xd40</td>\n",
       "      <td>February</td>\n",
       "      <td>Aaron Maashoh</td>\n",
       "      <td>23</td>\n",
       "      <td>821-00-0265</td>\n",
       "      <td>Scientist</td>\n",
       "      <td>19114.12</td>\n",
       "      <td>NaN</td>\n",
       "      <td>3</td>\n",
       "      <td>...</td>\n",
       "      <td>Good</td>\n",
       "      <td>809.98</td>\n",
       "      <td>31.944960</td>\n",
       "      <td>NaN</td>\n",
       "      <td>No</td>\n",
       "      <td>49.574949</td>\n",
       "      <td>118.28022162236736</td>\n",
       "      <td>Low_spent_Large_value_payments</td>\n",
       "      <td>284.62916249607184</td>\n",
       "      <td>Good</td>\n",
       "    </tr>\n",
       "    <tr>\n",
       "      <th>2</th>\n",
       "      <td>0x1604</td>\n",
       "      <td>CUS_0xd40</td>\n",
       "      <td>March</td>\n",
       "      <td>Aaron Maashoh</td>\n",
       "      <td>-500</td>\n",
       "      <td>821-00-0265</td>\n",
       "      <td>Scientist</td>\n",
       "      <td>19114.12</td>\n",
       "      <td>NaN</td>\n",
       "      <td>3</td>\n",
       "      <td>...</td>\n",
       "      <td>Good</td>\n",
       "      <td>809.98</td>\n",
       "      <td>28.609352</td>\n",
       "      <td>22 Years and 3 Months</td>\n",
       "      <td>No</td>\n",
       "      <td>49.574949</td>\n",
       "      <td>81.699521264648</td>\n",
       "      <td>Low_spent_Medium_value_payments</td>\n",
       "      <td>331.2098628537912</td>\n",
       "      <td>Good</td>\n",
       "    </tr>\n",
       "    <tr>\n",
       "      <th>3</th>\n",
       "      <td>0x1605</td>\n",
       "      <td>CUS_0xd40</td>\n",
       "      <td>April</td>\n",
       "      <td>Aaron Maashoh</td>\n",
       "      <td>23</td>\n",
       "      <td>821-00-0265</td>\n",
       "      <td>Scientist</td>\n",
       "      <td>19114.12</td>\n",
       "      <td>NaN</td>\n",
       "      <td>3</td>\n",
       "      <td>...</td>\n",
       "      <td>Good</td>\n",
       "      <td>809.98</td>\n",
       "      <td>31.377862</td>\n",
       "      <td>22 Years and 4 Months</td>\n",
       "      <td>No</td>\n",
       "      <td>49.574949</td>\n",
       "      <td>199.4580743910713</td>\n",
       "      <td>Low_spent_Small_value_payments</td>\n",
       "      <td>223.45130972736786</td>\n",
       "      <td>Good</td>\n",
       "    </tr>\n",
       "    <tr>\n",
       "      <th>4</th>\n",
       "      <td>0x1606</td>\n",
       "      <td>CUS_0xd40</td>\n",
       "      <td>May</td>\n",
       "      <td>Aaron Maashoh</td>\n",
       "      <td>23</td>\n",
       "      <td>821-00-0265</td>\n",
       "      <td>Scientist</td>\n",
       "      <td>19114.12</td>\n",
       "      <td>1824.843333</td>\n",
       "      <td>3</td>\n",
       "      <td>...</td>\n",
       "      <td>Good</td>\n",
       "      <td>809.98</td>\n",
       "      <td>24.797347</td>\n",
       "      <td>22 Years and 5 Months</td>\n",
       "      <td>No</td>\n",
       "      <td>49.574949</td>\n",
       "      <td>41.420153086217326</td>\n",
       "      <td>High_spent_Medium_value_payments</td>\n",
       "      <td>341.48923103222177</td>\n",
       "      <td>Good</td>\n",
       "    </tr>\n",
       "  </tbody>\n",
       "</table>\n",
       "<p>5 rows × 28 columns</p>\n",
       "</div>"
      ],
      "text/plain": [
       "       ID Customer_ID     Month           Name   Age          SSN Occupation  \\\n",
       "0  0x1602   CUS_0xd40   January  Aaron Maashoh    23  821-00-0265  Scientist   \n",
       "1  0x1603   CUS_0xd40  February  Aaron Maashoh    23  821-00-0265  Scientist   \n",
       "2  0x1604   CUS_0xd40     March  Aaron Maashoh  -500  821-00-0265  Scientist   \n",
       "3  0x1605   CUS_0xd40     April  Aaron Maashoh    23  821-00-0265  Scientist   \n",
       "4  0x1606   CUS_0xd40       May  Aaron Maashoh    23  821-00-0265  Scientist   \n",
       "\n",
       "  Annual_Income  Monthly_Inhand_Salary  Num_Bank_Accounts  ...  Credit_Mix  \\\n",
       "0      19114.12            1824.843333                  3  ...           _   \n",
       "1      19114.12                    NaN                  3  ...        Good   \n",
       "2      19114.12                    NaN                  3  ...        Good   \n",
       "3      19114.12                    NaN                  3  ...        Good   \n",
       "4      19114.12            1824.843333                  3  ...        Good   \n",
       "\n",
       "   Outstanding_Debt Credit_Utilization_Ratio     Credit_History_Age  \\\n",
       "0            809.98                26.822620  22 Years and 1 Months   \n",
       "1            809.98                31.944960                    NaN   \n",
       "2            809.98                28.609352  22 Years and 3 Months   \n",
       "3            809.98                31.377862  22 Years and 4 Months   \n",
       "4            809.98                24.797347  22 Years and 5 Months   \n",
       "\n",
       "   Payment_of_Min_Amount Total_EMI_per_month Amount_invested_monthly  \\\n",
       "0                     No           49.574949       80.41529543900253   \n",
       "1                     No           49.574949      118.28022162236736   \n",
       "2                     No           49.574949         81.699521264648   \n",
       "3                     No           49.574949       199.4580743910713   \n",
       "4                     No           49.574949      41.420153086217326   \n",
       "\n",
       "                  Payment_Behaviour     Monthly_Balance Credit_Score  \n",
       "0   High_spent_Small_value_payments  312.49408867943663         Good  \n",
       "1    Low_spent_Large_value_payments  284.62916249607184         Good  \n",
       "2   Low_spent_Medium_value_payments   331.2098628537912         Good  \n",
       "3    Low_spent_Small_value_payments  223.45130972736786         Good  \n",
       "4  High_spent_Medium_value_payments  341.48923103222177         Good  \n",
       "\n",
       "[5 rows x 28 columns]"
      ]
     },
     "execution_count": 71,
     "metadata": {},
     "output_type": "execute_result"
    }
   ],
   "source": [
    "df=pd.read_csv(\"Credit_report.csv\")\n",
    "df.head()"
   ]
  },
  {
   "cell_type": "code",
   "execution_count": 72,
   "id": "69ecc913",
   "metadata": {},
   "outputs": [
    {
     "name": "stdout",
     "output_type": "stream",
     "text": [
      "<class 'pandas.core.frame.DataFrame'>\n",
      "RangeIndex: 100000 entries, 0 to 99999\n",
      "Data columns (total 28 columns):\n",
      " #   Column                    Non-Null Count   Dtype  \n",
      "---  ------                    --------------   -----  \n",
      " 0   ID                        100000 non-null  object \n",
      " 1   Customer_ID               100000 non-null  object \n",
      " 2   Month                     100000 non-null  object \n",
      " 3   Name                      90015 non-null   object \n",
      " 4   Age                       100000 non-null  object \n",
      " 5   SSN                       100000 non-null  object \n",
      " 6   Occupation                100000 non-null  object \n",
      " 7   Annual_Income             100000 non-null  object \n",
      " 8   Monthly_Inhand_Salary     84998 non-null   float64\n",
      " 9   Num_Bank_Accounts         100000 non-null  int64  \n",
      " 10  Num_Credit_Card           100000 non-null  int64  \n",
      " 11  Interest_Rate             100000 non-null  int64  \n",
      " 12  Num_of_Loan               100000 non-null  object \n",
      " 13  Type_of_Loan              88592 non-null   object \n",
      " 14  Delay_from_due_date       100000 non-null  int64  \n",
      " 15  Num_of_Delayed_Payment    92998 non-null   object \n",
      " 16  Changed_Credit_Limit      100000 non-null  object \n",
      " 17  Num_Credit_Inquiries      98035 non-null   float64\n",
      " 18  Credit_Mix                100000 non-null  object \n",
      " 19  Outstanding_Debt          100000 non-null  object \n",
      " 20  Credit_Utilization_Ratio  100000 non-null  float64\n",
      " 21  Credit_History_Age        90970 non-null   object \n",
      " 22  Payment_of_Min_Amount     100000 non-null  object \n",
      " 23  Total_EMI_per_month       100000 non-null  float64\n",
      " 24  Amount_invested_monthly   95521 non-null   object \n",
      " 25  Payment_Behaviour         100000 non-null  object \n",
      " 26  Monthly_Balance           98800 non-null   object \n",
      " 27  Credit_Score              100000 non-null  object \n",
      "dtypes: float64(4), int64(4), object(20)\n",
      "memory usage: 21.4+ MB\n"
     ]
    }
   ],
   "source": [
    "df.info()"
   ]
  },
  {
   "cell_type": "code",
   "execution_count": 73,
   "id": "855b80e1",
   "metadata": {},
   "outputs": [
    {
     "data": {
      "text/plain": [
       "(100000, 28)"
      ]
     },
     "execution_count": 73,
     "metadata": {},
     "output_type": "execute_result"
    }
   ],
   "source": [
    "df.shape   #check the shape of data"
   ]
  },
  {
   "cell_type": "code",
   "execution_count": 74,
   "id": "9b151f7a",
   "metadata": {},
   "outputs": [
    {
     "data": {
      "text/html": [
       "<div>\n",
       "<style scoped>\n",
       "    .dataframe tbody tr th:only-of-type {\n",
       "        vertical-align: middle;\n",
       "    }\n",
       "\n",
       "    .dataframe tbody tr th {\n",
       "        vertical-align: top;\n",
       "    }\n",
       "\n",
       "    .dataframe thead th {\n",
       "        text-align: right;\n",
       "    }\n",
       "</style>\n",
       "<table border=\"1\" class=\"dataframe\">\n",
       "  <thead>\n",
       "    <tr style=\"text-align: right;\">\n",
       "      <th></th>\n",
       "      <th>ID</th>\n",
       "      <th>Customer_ID</th>\n",
       "      <th>Month</th>\n",
       "      <th>Name</th>\n",
       "      <th>Age</th>\n",
       "      <th>SSN</th>\n",
       "      <th>Occupation</th>\n",
       "      <th>Annual_Income</th>\n",
       "      <th>Monthly_Inhand_Salary</th>\n",
       "      <th>Num_Bank_Accounts</th>\n",
       "      <th>...</th>\n",
       "      <th>Credit_Mix</th>\n",
       "      <th>Outstanding_Debt</th>\n",
       "      <th>Credit_Utilization_Ratio</th>\n",
       "      <th>Credit_History_Age</th>\n",
       "      <th>Payment_of_Min_Amount</th>\n",
       "      <th>Total_EMI_per_month</th>\n",
       "      <th>Amount_invested_monthly</th>\n",
       "      <th>Payment_Behaviour</th>\n",
       "      <th>Monthly_Balance</th>\n",
       "      <th>Credit_Score</th>\n",
       "    </tr>\n",
       "  </thead>\n",
       "  <tbody>\n",
       "    <tr>\n",
       "      <th>0</th>\n",
       "      <td>0x1602</td>\n",
       "      <td>CUS_0xd40</td>\n",
       "      <td>January</td>\n",
       "      <td>Aaron Maashoh</td>\n",
       "      <td>23</td>\n",
       "      <td>821-00-0265</td>\n",
       "      <td>Scientist</td>\n",
       "      <td>19114.12</td>\n",
       "      <td>1824.843333</td>\n",
       "      <td>3</td>\n",
       "      <td>...</td>\n",
       "      <td>_</td>\n",
       "      <td>809.98</td>\n",
       "      <td>26.822620</td>\n",
       "      <td>22 Years and 1 Months</td>\n",
       "      <td>No</td>\n",
       "      <td>49.574949</td>\n",
       "      <td>80.41529543900253</td>\n",
       "      <td>High_spent_Small_value_payments</td>\n",
       "      <td>312.49408867943663</td>\n",
       "      <td>Good</td>\n",
       "    </tr>\n",
       "    <tr>\n",
       "      <th>1</th>\n",
       "      <td>0x1603</td>\n",
       "      <td>CUS_0xd40</td>\n",
       "      <td>February</td>\n",
       "      <td>Aaron Maashoh</td>\n",
       "      <td>23</td>\n",
       "      <td>821-00-0265</td>\n",
       "      <td>Scientist</td>\n",
       "      <td>19114.12</td>\n",
       "      <td>NaN</td>\n",
       "      <td>3</td>\n",
       "      <td>...</td>\n",
       "      <td>Good</td>\n",
       "      <td>809.98</td>\n",
       "      <td>31.944960</td>\n",
       "      <td>NaN</td>\n",
       "      <td>No</td>\n",
       "      <td>49.574949</td>\n",
       "      <td>118.28022162236736</td>\n",
       "      <td>Low_spent_Large_value_payments</td>\n",
       "      <td>284.62916249607184</td>\n",
       "      <td>Good</td>\n",
       "    </tr>\n",
       "    <tr>\n",
       "      <th>2</th>\n",
       "      <td>0x1604</td>\n",
       "      <td>CUS_0xd40</td>\n",
       "      <td>March</td>\n",
       "      <td>Aaron Maashoh</td>\n",
       "      <td>-500</td>\n",
       "      <td>821-00-0265</td>\n",
       "      <td>Scientist</td>\n",
       "      <td>19114.12</td>\n",
       "      <td>NaN</td>\n",
       "      <td>3</td>\n",
       "      <td>...</td>\n",
       "      <td>Good</td>\n",
       "      <td>809.98</td>\n",
       "      <td>28.609352</td>\n",
       "      <td>22 Years and 3 Months</td>\n",
       "      <td>No</td>\n",
       "      <td>49.574949</td>\n",
       "      <td>81.699521264648</td>\n",
       "      <td>Low_spent_Medium_value_payments</td>\n",
       "      <td>331.2098628537912</td>\n",
       "      <td>Good</td>\n",
       "    </tr>\n",
       "    <tr>\n",
       "      <th>3</th>\n",
       "      <td>0x1605</td>\n",
       "      <td>CUS_0xd40</td>\n",
       "      <td>April</td>\n",
       "      <td>Aaron Maashoh</td>\n",
       "      <td>23</td>\n",
       "      <td>821-00-0265</td>\n",
       "      <td>Scientist</td>\n",
       "      <td>19114.12</td>\n",
       "      <td>NaN</td>\n",
       "      <td>3</td>\n",
       "      <td>...</td>\n",
       "      <td>Good</td>\n",
       "      <td>809.98</td>\n",
       "      <td>31.377862</td>\n",
       "      <td>22 Years and 4 Months</td>\n",
       "      <td>No</td>\n",
       "      <td>49.574949</td>\n",
       "      <td>199.4580743910713</td>\n",
       "      <td>Low_spent_Small_value_payments</td>\n",
       "      <td>223.45130972736786</td>\n",
       "      <td>Good</td>\n",
       "    </tr>\n",
       "    <tr>\n",
       "      <th>4</th>\n",
       "      <td>0x1606</td>\n",
       "      <td>CUS_0xd40</td>\n",
       "      <td>May</td>\n",
       "      <td>Aaron Maashoh</td>\n",
       "      <td>23</td>\n",
       "      <td>821-00-0265</td>\n",
       "      <td>Scientist</td>\n",
       "      <td>19114.12</td>\n",
       "      <td>1824.843333</td>\n",
       "      <td>3</td>\n",
       "      <td>...</td>\n",
       "      <td>Good</td>\n",
       "      <td>809.98</td>\n",
       "      <td>24.797347</td>\n",
       "      <td>22 Years and 5 Months</td>\n",
       "      <td>No</td>\n",
       "      <td>49.574949</td>\n",
       "      <td>41.420153086217326</td>\n",
       "      <td>High_spent_Medium_value_payments</td>\n",
       "      <td>341.48923103222177</td>\n",
       "      <td>Good</td>\n",
       "    </tr>\n",
       "    <tr>\n",
       "      <th>...</th>\n",
       "      <td>...</td>\n",
       "      <td>...</td>\n",
       "      <td>...</td>\n",
       "      <td>...</td>\n",
       "      <td>...</td>\n",
       "      <td>...</td>\n",
       "      <td>...</td>\n",
       "      <td>...</td>\n",
       "      <td>...</td>\n",
       "      <td>...</td>\n",
       "      <td>...</td>\n",
       "      <td>...</td>\n",
       "      <td>...</td>\n",
       "      <td>...</td>\n",
       "      <td>...</td>\n",
       "      <td>...</td>\n",
       "      <td>...</td>\n",
       "      <td>...</td>\n",
       "      <td>...</td>\n",
       "      <td>...</td>\n",
       "      <td>...</td>\n",
       "    </tr>\n",
       "    <tr>\n",
       "      <th>99995</th>\n",
       "      <td>0x25fe9</td>\n",
       "      <td>CUS_0x942c</td>\n",
       "      <td>April</td>\n",
       "      <td>Nicks</td>\n",
       "      <td>25</td>\n",
       "      <td>078-73-5990</td>\n",
       "      <td>Mechanic</td>\n",
       "      <td>39628.99</td>\n",
       "      <td>3359.415833</td>\n",
       "      <td>4</td>\n",
       "      <td>...</td>\n",
       "      <td>_</td>\n",
       "      <td>502.38</td>\n",
       "      <td>34.663572</td>\n",
       "      <td>31 Years and 6 Months</td>\n",
       "      <td>No</td>\n",
       "      <td>35.104023</td>\n",
       "      <td>60.97133255718485</td>\n",
       "      <td>High_spent_Large_value_payments</td>\n",
       "      <td>479.866228</td>\n",
       "      <td>Poor</td>\n",
       "    </tr>\n",
       "    <tr>\n",
       "      <th>99996</th>\n",
       "      <td>0x25fea</td>\n",
       "      <td>CUS_0x942c</td>\n",
       "      <td>May</td>\n",
       "      <td>Nicks</td>\n",
       "      <td>25</td>\n",
       "      <td>078-73-5990</td>\n",
       "      <td>Mechanic</td>\n",
       "      <td>39628.99</td>\n",
       "      <td>3359.415833</td>\n",
       "      <td>4</td>\n",
       "      <td>...</td>\n",
       "      <td>_</td>\n",
       "      <td>502.38</td>\n",
       "      <td>40.565631</td>\n",
       "      <td>31 Years and 7 Months</td>\n",
       "      <td>No</td>\n",
       "      <td>35.104023</td>\n",
       "      <td>54.18595028760385</td>\n",
       "      <td>High_spent_Medium_value_payments</td>\n",
       "      <td>496.65161</td>\n",
       "      <td>Poor</td>\n",
       "    </tr>\n",
       "    <tr>\n",
       "      <th>99997</th>\n",
       "      <td>0x25feb</td>\n",
       "      <td>CUS_0x942c</td>\n",
       "      <td>June</td>\n",
       "      <td>Nicks</td>\n",
       "      <td>25</td>\n",
       "      <td>078-73-5990</td>\n",
       "      <td>Mechanic</td>\n",
       "      <td>39628.99</td>\n",
       "      <td>3359.415833</td>\n",
       "      <td>4</td>\n",
       "      <td>...</td>\n",
       "      <td>Good</td>\n",
       "      <td>502.38</td>\n",
       "      <td>41.255522</td>\n",
       "      <td>31 Years and 8 Months</td>\n",
       "      <td>No</td>\n",
       "      <td>35.104023</td>\n",
       "      <td>24.02847744864441</td>\n",
       "      <td>High_spent_Large_value_payments</td>\n",
       "      <td>516.809083</td>\n",
       "      <td>Poor</td>\n",
       "    </tr>\n",
       "    <tr>\n",
       "      <th>99998</th>\n",
       "      <td>0x25fec</td>\n",
       "      <td>CUS_0x942c</td>\n",
       "      <td>July</td>\n",
       "      <td>Nicks</td>\n",
       "      <td>25</td>\n",
       "      <td>078-73-5990</td>\n",
       "      <td>Mechanic</td>\n",
       "      <td>39628.99</td>\n",
       "      <td>3359.415833</td>\n",
       "      <td>4</td>\n",
       "      <td>...</td>\n",
       "      <td>Good</td>\n",
       "      <td>502.38</td>\n",
       "      <td>33.638208</td>\n",
       "      <td>31 Years and 9 Months</td>\n",
       "      <td>No</td>\n",
       "      <td>35.104023</td>\n",
       "      <td>251.67258219721603</td>\n",
       "      <td>Low_spent_Large_value_payments</td>\n",
       "      <td>319.164979</td>\n",
       "      <td>Standard</td>\n",
       "    </tr>\n",
       "    <tr>\n",
       "      <th>99999</th>\n",
       "      <td>0x25fed</td>\n",
       "      <td>CUS_0x942c</td>\n",
       "      <td>August</td>\n",
       "      <td>Nicks</td>\n",
       "      <td>25</td>\n",
       "      <td>078-73-5990</td>\n",
       "      <td>Mechanic</td>\n",
       "      <td>39628.99_</td>\n",
       "      <td>3359.415833</td>\n",
       "      <td>4</td>\n",
       "      <td>...</td>\n",
       "      <td>Good</td>\n",
       "      <td>502.38</td>\n",
       "      <td>34.192463</td>\n",
       "      <td>31 Years and 10 Months</td>\n",
       "      <td>No</td>\n",
       "      <td>35.104023</td>\n",
       "      <td>167.1638651610451</td>\n",
       "      <td>!@9#%8</td>\n",
       "      <td>393.673696</td>\n",
       "      <td>Poor</td>\n",
       "    </tr>\n",
       "  </tbody>\n",
       "</table>\n",
       "<p>100000 rows × 28 columns</p>\n",
       "</div>"
      ],
      "text/plain": [
       "            ID Customer_ID     Month           Name   Age          SSN  \\\n",
       "0       0x1602   CUS_0xd40   January  Aaron Maashoh    23  821-00-0265   \n",
       "1       0x1603   CUS_0xd40  February  Aaron Maashoh    23  821-00-0265   \n",
       "2       0x1604   CUS_0xd40     March  Aaron Maashoh  -500  821-00-0265   \n",
       "3       0x1605   CUS_0xd40     April  Aaron Maashoh    23  821-00-0265   \n",
       "4       0x1606   CUS_0xd40       May  Aaron Maashoh    23  821-00-0265   \n",
       "...        ...         ...       ...            ...   ...          ...   \n",
       "99995  0x25fe9  CUS_0x942c     April          Nicks    25  078-73-5990   \n",
       "99996  0x25fea  CUS_0x942c       May          Nicks    25  078-73-5990   \n",
       "99997  0x25feb  CUS_0x942c      June          Nicks    25  078-73-5990   \n",
       "99998  0x25fec  CUS_0x942c      July          Nicks    25  078-73-5990   \n",
       "99999  0x25fed  CUS_0x942c    August          Nicks    25  078-73-5990   \n",
       "\n",
       "      Occupation Annual_Income  Monthly_Inhand_Salary  Num_Bank_Accounts  ...  \\\n",
       "0      Scientist      19114.12            1824.843333                  3  ...   \n",
       "1      Scientist      19114.12                    NaN                  3  ...   \n",
       "2      Scientist      19114.12                    NaN                  3  ...   \n",
       "3      Scientist      19114.12                    NaN                  3  ...   \n",
       "4      Scientist      19114.12            1824.843333                  3  ...   \n",
       "...          ...           ...                    ...                ...  ...   \n",
       "99995   Mechanic      39628.99            3359.415833                  4  ...   \n",
       "99996   Mechanic      39628.99            3359.415833                  4  ...   \n",
       "99997   Mechanic      39628.99            3359.415833                  4  ...   \n",
       "99998   Mechanic      39628.99            3359.415833                  4  ...   \n",
       "99999   Mechanic     39628.99_            3359.415833                  4  ...   \n",
       "\n",
       "       Credit_Mix  Outstanding_Debt Credit_Utilization_Ratio  \\\n",
       "0               _            809.98                26.822620   \n",
       "1            Good            809.98                31.944960   \n",
       "2            Good            809.98                28.609352   \n",
       "3            Good            809.98                31.377862   \n",
       "4            Good            809.98                24.797347   \n",
       "...           ...               ...                      ...   \n",
       "99995           _            502.38                34.663572   \n",
       "99996           _            502.38                40.565631   \n",
       "99997        Good            502.38                41.255522   \n",
       "99998        Good            502.38                33.638208   \n",
       "99999        Good            502.38                34.192463   \n",
       "\n",
       "           Credit_History_Age  Payment_of_Min_Amount Total_EMI_per_month  \\\n",
       "0       22 Years and 1 Months                     No           49.574949   \n",
       "1                         NaN                     No           49.574949   \n",
       "2       22 Years and 3 Months                     No           49.574949   \n",
       "3       22 Years and 4 Months                     No           49.574949   \n",
       "4       22 Years and 5 Months                     No           49.574949   \n",
       "...                       ...                    ...                 ...   \n",
       "99995   31 Years and 6 Months                     No           35.104023   \n",
       "99996   31 Years and 7 Months                     No           35.104023   \n",
       "99997   31 Years and 8 Months                     No           35.104023   \n",
       "99998   31 Years and 9 Months                     No           35.104023   \n",
       "99999  31 Years and 10 Months                     No           35.104023   \n",
       "\n",
       "      Amount_invested_monthly                 Payment_Behaviour  \\\n",
       "0           80.41529543900253   High_spent_Small_value_payments   \n",
       "1          118.28022162236736    Low_spent_Large_value_payments   \n",
       "2             81.699521264648   Low_spent_Medium_value_payments   \n",
       "3           199.4580743910713    Low_spent_Small_value_payments   \n",
       "4          41.420153086217326  High_spent_Medium_value_payments   \n",
       "...                       ...                               ...   \n",
       "99995       60.97133255718485   High_spent_Large_value_payments   \n",
       "99996       54.18595028760385  High_spent_Medium_value_payments   \n",
       "99997       24.02847744864441   High_spent_Large_value_payments   \n",
       "99998      251.67258219721603    Low_spent_Large_value_payments   \n",
       "99999       167.1638651610451                            !@9#%8   \n",
       "\n",
       "          Monthly_Balance Credit_Score  \n",
       "0      312.49408867943663         Good  \n",
       "1      284.62916249607184         Good  \n",
       "2       331.2098628537912         Good  \n",
       "3      223.45130972736786         Good  \n",
       "4      341.48923103222177         Good  \n",
       "...                   ...          ...  \n",
       "99995          479.866228         Poor  \n",
       "99996           496.65161         Poor  \n",
       "99997          516.809083         Poor  \n",
       "99998          319.164979     Standard  \n",
       "99999          393.673696         Poor  \n",
       "\n",
       "[100000 rows x 28 columns]"
      ]
     },
     "execution_count": 74,
     "metadata": {},
     "output_type": "execute_result"
    }
   ],
   "source": [
    "df.drop_duplicates(keep=False)     # Removing the Duplicate Rows - 0 rows found"
   ]
  },
  {
   "cell_type": "code",
   "execution_count": 75,
   "id": "bedc5bed",
   "metadata": {},
   "outputs": [
    {
     "data": {
      "text/html": [
       "<div>\n",
       "<style scoped>\n",
       "    .dataframe tbody tr th:only-of-type {\n",
       "        vertical-align: middle;\n",
       "    }\n",
       "\n",
       "    .dataframe tbody tr th {\n",
       "        vertical-align: top;\n",
       "    }\n",
       "\n",
       "    .dataframe thead th {\n",
       "        text-align: right;\n",
       "    }\n",
       "</style>\n",
       "<table border=\"1\" class=\"dataframe\">\n",
       "  <thead>\n",
       "    <tr style=\"text-align: right;\">\n",
       "      <th></th>\n",
       "      <th>ID</th>\n",
       "      <th>Customer_ID</th>\n",
       "      <th>Month</th>\n",
       "      <th>Name</th>\n",
       "      <th>Age</th>\n",
       "      <th>SSN</th>\n",
       "      <th>Occupation</th>\n",
       "      <th>Annual_Income</th>\n",
       "      <th>Monthly_Inhand_Salary</th>\n",
       "      <th>Num_Bank_Accounts</th>\n",
       "      <th>...</th>\n",
       "      <th>Credit_Mix</th>\n",
       "      <th>Outstanding_Debt</th>\n",
       "      <th>Credit_Utilization_Ratio</th>\n",
       "      <th>Credit_History_Age</th>\n",
       "      <th>Payment_of_Min_Amount</th>\n",
       "      <th>Total_EMI_per_month</th>\n",
       "      <th>Amount_invested_monthly</th>\n",
       "      <th>Payment_Behaviour</th>\n",
       "      <th>Monthly_Balance</th>\n",
       "      <th>Credit_Score</th>\n",
       "    </tr>\n",
       "  </thead>\n",
       "  <tbody>\n",
       "    <tr>\n",
       "      <th>0</th>\n",
       "      <td>0x1602</td>\n",
       "      <td>CUS_0xd40</td>\n",
       "      <td>January</td>\n",
       "      <td>Aaron Maashoh</td>\n",
       "      <td>23</td>\n",
       "      <td>821-00-0265</td>\n",
       "      <td>Scientist</td>\n",
       "      <td>19114.12</td>\n",
       "      <td>1824.843333</td>\n",
       "      <td>3</td>\n",
       "      <td>...</td>\n",
       "      <td>_</td>\n",
       "      <td>809.98</td>\n",
       "      <td>26.82262</td>\n",
       "      <td>22 Years and 1 Months</td>\n",
       "      <td>No</td>\n",
       "      <td>49.574949</td>\n",
       "      <td>80.41529543900253</td>\n",
       "      <td>High_spent_Small_value_payments</td>\n",
       "      <td>312.49408867943663</td>\n",
       "      <td>Good</td>\n",
       "    </tr>\n",
       "    <tr>\n",
       "      <th>1</th>\n",
       "      <td>0x1603</td>\n",
       "      <td>CUS_0xd40</td>\n",
       "      <td>February</td>\n",
       "      <td>Aaron Maashoh</td>\n",
       "      <td>23</td>\n",
       "      <td>821-00-0265</td>\n",
       "      <td>Scientist</td>\n",
       "      <td>19114.12</td>\n",
       "      <td>NaN</td>\n",
       "      <td>3</td>\n",
       "      <td>...</td>\n",
       "      <td>Good</td>\n",
       "      <td>809.98</td>\n",
       "      <td>31.94496</td>\n",
       "      <td>NaN</td>\n",
       "      <td>No</td>\n",
       "      <td>49.574949</td>\n",
       "      <td>118.28022162236736</td>\n",
       "      <td>Low_spent_Large_value_payments</td>\n",
       "      <td>284.62916249607184</td>\n",
       "      <td>Good</td>\n",
       "    </tr>\n",
       "    <tr>\n",
       "      <th>2</th>\n",
       "      <td>0x1604</td>\n",
       "      <td>CUS_0xd40</td>\n",
       "      <td>March</td>\n",
       "      <td>Aaron Maashoh</td>\n",
       "      <td>-500</td>\n",
       "      <td>821-00-0265</td>\n",
       "      <td>Scientist</td>\n",
       "      <td>19114.12</td>\n",
       "      <td>NaN</td>\n",
       "      <td>3</td>\n",
       "      <td>...</td>\n",
       "      <td>Good</td>\n",
       "      <td>809.98</td>\n",
       "      <td>28.609352</td>\n",
       "      <td>22 Years and 3 Months</td>\n",
       "      <td>No</td>\n",
       "      <td>49.574949</td>\n",
       "      <td>81.699521264648</td>\n",
       "      <td>Low_spent_Medium_value_payments</td>\n",
       "      <td>331.2098628537912</td>\n",
       "      <td>Good</td>\n",
       "    </tr>\n",
       "    <tr>\n",
       "      <th>3</th>\n",
       "      <td>0x1605</td>\n",
       "      <td>CUS_0xd40</td>\n",
       "      <td>April</td>\n",
       "      <td>Aaron Maashoh</td>\n",
       "      <td>23</td>\n",
       "      <td>821-00-0265</td>\n",
       "      <td>Scientist</td>\n",
       "      <td>19114.12</td>\n",
       "      <td>NaN</td>\n",
       "      <td>3</td>\n",
       "      <td>...</td>\n",
       "      <td>Good</td>\n",
       "      <td>809.98</td>\n",
       "      <td>31.377862</td>\n",
       "      <td>22 Years and 4 Months</td>\n",
       "      <td>No</td>\n",
       "      <td>49.574949</td>\n",
       "      <td>199.4580743910713</td>\n",
       "      <td>Low_spent_Small_value_payments</td>\n",
       "      <td>223.45130972736786</td>\n",
       "      <td>Good</td>\n",
       "    </tr>\n",
       "    <tr>\n",
       "      <th>4</th>\n",
       "      <td>0x1606</td>\n",
       "      <td>CUS_0xd40</td>\n",
       "      <td>May</td>\n",
       "      <td>Aaron Maashoh</td>\n",
       "      <td>23</td>\n",
       "      <td>821-00-0265</td>\n",
       "      <td>Scientist</td>\n",
       "      <td>19114.12</td>\n",
       "      <td>1824.843333</td>\n",
       "      <td>3</td>\n",
       "      <td>...</td>\n",
       "      <td>Good</td>\n",
       "      <td>809.98</td>\n",
       "      <td>24.797347</td>\n",
       "      <td>22 Years and 5 Months</td>\n",
       "      <td>No</td>\n",
       "      <td>49.574949</td>\n",
       "      <td>41.420153086217326</td>\n",
       "      <td>High_spent_Medium_value_payments</td>\n",
       "      <td>341.48923103222177</td>\n",
       "      <td>Good</td>\n",
       "    </tr>\n",
       "    <tr>\n",
       "      <th>...</th>\n",
       "      <td>...</td>\n",
       "      <td>...</td>\n",
       "      <td>...</td>\n",
       "      <td>...</td>\n",
       "      <td>...</td>\n",
       "      <td>...</td>\n",
       "      <td>...</td>\n",
       "      <td>...</td>\n",
       "      <td>...</td>\n",
       "      <td>...</td>\n",
       "      <td>...</td>\n",
       "      <td>...</td>\n",
       "      <td>...</td>\n",
       "      <td>...</td>\n",
       "      <td>...</td>\n",
       "      <td>...</td>\n",
       "      <td>...</td>\n",
       "      <td>...</td>\n",
       "      <td>...</td>\n",
       "      <td>...</td>\n",
       "      <td>...</td>\n",
       "    </tr>\n",
       "    <tr>\n",
       "      <th>99995</th>\n",
       "      <td>0x25fe9</td>\n",
       "      <td>CUS_0x942c</td>\n",
       "      <td>April</td>\n",
       "      <td>Nicks</td>\n",
       "      <td>25</td>\n",
       "      <td>078-73-5990</td>\n",
       "      <td>Mechanic</td>\n",
       "      <td>39628.99</td>\n",
       "      <td>3359.415833</td>\n",
       "      <td>4</td>\n",
       "      <td>...</td>\n",
       "      <td>_</td>\n",
       "      <td>502.38</td>\n",
       "      <td>34.663572</td>\n",
       "      <td>31 Years and 6 Months</td>\n",
       "      <td>No</td>\n",
       "      <td>35.104023</td>\n",
       "      <td>60.97133255718485</td>\n",
       "      <td>High_spent_Large_value_payments</td>\n",
       "      <td>479.866228</td>\n",
       "      <td>Poor</td>\n",
       "    </tr>\n",
       "    <tr>\n",
       "      <th>99996</th>\n",
       "      <td>0x25fea</td>\n",
       "      <td>CUS_0x942c</td>\n",
       "      <td>May</td>\n",
       "      <td>Nicks</td>\n",
       "      <td>25</td>\n",
       "      <td>078-73-5990</td>\n",
       "      <td>Mechanic</td>\n",
       "      <td>39628.99</td>\n",
       "      <td>3359.415833</td>\n",
       "      <td>4</td>\n",
       "      <td>...</td>\n",
       "      <td>_</td>\n",
       "      <td>502.38</td>\n",
       "      <td>40.565631</td>\n",
       "      <td>31 Years and 7 Months</td>\n",
       "      <td>No</td>\n",
       "      <td>35.104023</td>\n",
       "      <td>54.18595028760385</td>\n",
       "      <td>High_spent_Medium_value_payments</td>\n",
       "      <td>496.65161</td>\n",
       "      <td>Poor</td>\n",
       "    </tr>\n",
       "    <tr>\n",
       "      <th>99997</th>\n",
       "      <td>0x25feb</td>\n",
       "      <td>CUS_0x942c</td>\n",
       "      <td>June</td>\n",
       "      <td>Nicks</td>\n",
       "      <td>25</td>\n",
       "      <td>078-73-5990</td>\n",
       "      <td>Mechanic</td>\n",
       "      <td>39628.99</td>\n",
       "      <td>3359.415833</td>\n",
       "      <td>4</td>\n",
       "      <td>...</td>\n",
       "      <td>Good</td>\n",
       "      <td>502.38</td>\n",
       "      <td>41.255522</td>\n",
       "      <td>31 Years and 8 Months</td>\n",
       "      <td>No</td>\n",
       "      <td>35.104023</td>\n",
       "      <td>24.02847744864441</td>\n",
       "      <td>High_spent_Large_value_payments</td>\n",
       "      <td>516.809083</td>\n",
       "      <td>Poor</td>\n",
       "    </tr>\n",
       "    <tr>\n",
       "      <th>99998</th>\n",
       "      <td>0x25fec</td>\n",
       "      <td>CUS_0x942c</td>\n",
       "      <td>July</td>\n",
       "      <td>Nicks</td>\n",
       "      <td>25</td>\n",
       "      <td>078-73-5990</td>\n",
       "      <td>Mechanic</td>\n",
       "      <td>39628.99</td>\n",
       "      <td>3359.415833</td>\n",
       "      <td>4</td>\n",
       "      <td>...</td>\n",
       "      <td>Good</td>\n",
       "      <td>502.38</td>\n",
       "      <td>33.638208</td>\n",
       "      <td>31 Years and 9 Months</td>\n",
       "      <td>No</td>\n",
       "      <td>35.104023</td>\n",
       "      <td>251.67258219721603</td>\n",
       "      <td>Low_spent_Large_value_payments</td>\n",
       "      <td>319.164979</td>\n",
       "      <td>Standard</td>\n",
       "    </tr>\n",
       "    <tr>\n",
       "      <th>99999</th>\n",
       "      <td>0x25fed</td>\n",
       "      <td>CUS_0x942c</td>\n",
       "      <td>August</td>\n",
       "      <td>Nicks</td>\n",
       "      <td>25</td>\n",
       "      <td>078-73-5990</td>\n",
       "      <td>Mechanic</td>\n",
       "      <td>39628.99_</td>\n",
       "      <td>3359.415833</td>\n",
       "      <td>4</td>\n",
       "      <td>...</td>\n",
       "      <td>Good</td>\n",
       "      <td>502.38</td>\n",
       "      <td>34.192463</td>\n",
       "      <td>31 Years and 10 Months</td>\n",
       "      <td>No</td>\n",
       "      <td>35.104023</td>\n",
       "      <td>167.1638651610451</td>\n",
       "      <td>!@9#%8</td>\n",
       "      <td>393.673696</td>\n",
       "      <td>Poor</td>\n",
       "    </tr>\n",
       "  </tbody>\n",
       "</table>\n",
       "<p>100000 rows × 28 columns</p>\n",
       "</div>"
      ],
      "text/plain": [
       "            ID Customer_ID     Month           Name   Age          SSN  \\\n",
       "0       0x1602   CUS_0xd40   January  Aaron Maashoh    23  821-00-0265   \n",
       "1       0x1603   CUS_0xd40  February  Aaron Maashoh    23  821-00-0265   \n",
       "2       0x1604   CUS_0xd40     March  Aaron Maashoh  -500  821-00-0265   \n",
       "3       0x1605   CUS_0xd40     April  Aaron Maashoh    23  821-00-0265   \n",
       "4       0x1606   CUS_0xd40       May  Aaron Maashoh    23  821-00-0265   \n",
       "...        ...         ...       ...            ...   ...          ...   \n",
       "99995  0x25fe9  CUS_0x942c     April          Nicks    25  078-73-5990   \n",
       "99996  0x25fea  CUS_0x942c       May          Nicks    25  078-73-5990   \n",
       "99997  0x25feb  CUS_0x942c      June          Nicks    25  078-73-5990   \n",
       "99998  0x25fec  CUS_0x942c      July          Nicks    25  078-73-5990   \n",
       "99999  0x25fed  CUS_0x942c    August          Nicks    25  078-73-5990   \n",
       "\n",
       "      Occupation Annual_Income Monthly_Inhand_Salary Num_Bank_Accounts  ...  \\\n",
       "0      Scientist      19114.12           1824.843333                 3  ...   \n",
       "1      Scientist      19114.12                   NaN                 3  ...   \n",
       "2      Scientist      19114.12                   NaN                 3  ...   \n",
       "3      Scientist      19114.12                   NaN                 3  ...   \n",
       "4      Scientist      19114.12           1824.843333                 3  ...   \n",
       "...          ...           ...                   ...               ...  ...   \n",
       "99995   Mechanic      39628.99           3359.415833                 4  ...   \n",
       "99996   Mechanic      39628.99           3359.415833                 4  ...   \n",
       "99997   Mechanic      39628.99           3359.415833                 4  ...   \n",
       "99998   Mechanic      39628.99           3359.415833                 4  ...   \n",
       "99999   Mechanic     39628.99_           3359.415833                 4  ...   \n",
       "\n",
       "      Credit_Mix Outstanding_Debt Credit_Utilization_Ratio  \\\n",
       "0              _           809.98                 26.82262   \n",
       "1           Good           809.98                 31.94496   \n",
       "2           Good           809.98                28.609352   \n",
       "3           Good           809.98                31.377862   \n",
       "4           Good           809.98                24.797347   \n",
       "...          ...              ...                      ...   \n",
       "99995          _           502.38                34.663572   \n",
       "99996          _           502.38                40.565631   \n",
       "99997       Good           502.38                41.255522   \n",
       "99998       Good           502.38                33.638208   \n",
       "99999       Good           502.38                34.192463   \n",
       "\n",
       "           Credit_History_Age Payment_of_Min_Amount Total_EMI_per_month  \\\n",
       "0       22 Years and 1 Months                    No           49.574949   \n",
       "1                         NaN                    No           49.574949   \n",
       "2       22 Years and 3 Months                    No           49.574949   \n",
       "3       22 Years and 4 Months                    No           49.574949   \n",
       "4       22 Years and 5 Months                    No           49.574949   \n",
       "...                       ...                   ...                 ...   \n",
       "99995   31 Years and 6 Months                    No           35.104023   \n",
       "99996   31 Years and 7 Months                    No           35.104023   \n",
       "99997   31 Years and 8 Months                    No           35.104023   \n",
       "99998   31 Years and 9 Months                    No           35.104023   \n",
       "99999  31 Years and 10 Months                    No           35.104023   \n",
       "\n",
       "      Amount_invested_monthly                 Payment_Behaviour  \\\n",
       "0           80.41529543900253   High_spent_Small_value_payments   \n",
       "1          118.28022162236736    Low_spent_Large_value_payments   \n",
       "2             81.699521264648   Low_spent_Medium_value_payments   \n",
       "3           199.4580743910713    Low_spent_Small_value_payments   \n",
       "4          41.420153086217326  High_spent_Medium_value_payments   \n",
       "...                       ...                               ...   \n",
       "99995       60.97133255718485   High_spent_Large_value_payments   \n",
       "99996       54.18595028760385  High_spent_Medium_value_payments   \n",
       "99997       24.02847744864441   High_spent_Large_value_payments   \n",
       "99998      251.67258219721603    Low_spent_Large_value_payments   \n",
       "99999       167.1638651610451                            !@9#%8   \n",
       "\n",
       "          Monthly_Balance Credit_Score  \n",
       "0      312.49408867943663         Good  \n",
       "1      284.62916249607184         Good  \n",
       "2       331.2098628537912         Good  \n",
       "3      223.45130972736786         Good  \n",
       "4      341.48923103222177         Good  \n",
       "...                   ...          ...  \n",
       "99995          479.866228         Poor  \n",
       "99996           496.65161         Poor  \n",
       "99997          516.809083         Poor  \n",
       "99998          319.164979     Standard  \n",
       "99999          393.673696         Poor  \n",
       "\n",
       "[100000 rows x 28 columns]"
      ]
     },
     "execution_count": 75,
     "metadata": {},
     "output_type": "execute_result"
    }
   ],
   "source": [
    "df.T.drop_duplicates().T     #Removing duplicate Columns"
   ]
  },
  {
   "cell_type": "code",
   "execution_count": 76,
   "id": "27f9de6c",
   "metadata": {},
   "outputs": [
    {
     "data": {
      "text/plain": [
       "ID                              0\n",
       "Customer_ID                     0\n",
       "Month                           0\n",
       "Name                         9985\n",
       "Age                             0\n",
       "SSN                             0\n",
       "Occupation                      0\n",
       "Annual_Income                   0\n",
       "Monthly_Inhand_Salary       15002\n",
       "Num_Bank_Accounts               0\n",
       "Num_Credit_Card                 0\n",
       "Interest_Rate                   0\n",
       "Num_of_Loan                     0\n",
       "Type_of_Loan                11408\n",
       "Delay_from_due_date             0\n",
       "Num_of_Delayed_Payment       7002\n",
       "Changed_Credit_Limit            0\n",
       "Num_Credit_Inquiries         1965\n",
       "Credit_Mix                      0\n",
       "Outstanding_Debt                0\n",
       "Credit_Utilization_Ratio        0\n",
       "Credit_History_Age           9030\n",
       "Payment_of_Min_Amount           0\n",
       "Total_EMI_per_month             0\n",
       "Amount_invested_monthly      4479\n",
       "Payment_Behaviour               0\n",
       "Monthly_Balance              1200\n",
       "Credit_Score                    0\n",
       "dtype: int64"
      ]
     },
     "execution_count": 76,
     "metadata": {},
     "output_type": "execute_result"
    }
   ],
   "source": [
    "df.isnull().sum()              #checking null values in each column"
   ]
  },
  {
   "cell_type": "code",
   "execution_count": 77,
   "id": "1b37bb30",
   "metadata": {},
   "outputs": [
    {
     "name": "stdout",
     "output_type": "stream",
     "text": [
      "<class 'pandas.core.frame.DataFrame'>\n",
      "RangeIndex: 100000 entries, 0 to 99999\n",
      "Data columns (total 28 columns):\n",
      " #   Column                    Non-Null Count   Dtype  \n",
      "---  ------                    --------------   -----  \n",
      " 0   ID                        100000 non-null  object \n",
      " 1   Customer_ID               100000 non-null  object \n",
      " 2   Month                     100000 non-null  object \n",
      " 3   Name                      90015 non-null   object \n",
      " 4   Age                       100000 non-null  object \n",
      " 5   SSN                       100000 non-null  object \n",
      " 6   Occupation                100000 non-null  object \n",
      " 7   Annual_Income             100000 non-null  object \n",
      " 8   Monthly_Inhand_Salary     84998 non-null   float64\n",
      " 9   Num_Bank_Accounts         100000 non-null  int64  \n",
      " 10  Num_Credit_Card           100000 non-null  int64  \n",
      " 11  Interest_Rate             100000 non-null  int64  \n",
      " 12  Num_of_Loan               100000 non-null  object \n",
      " 13  Type_of_Loan              88592 non-null   object \n",
      " 14  Delay_from_due_date       100000 non-null  int64  \n",
      " 15  Num_of_Delayed_Payment    92998 non-null   object \n",
      " 16  Changed_Credit_Limit      100000 non-null  object \n",
      " 17  Num_Credit_Inquiries      98035 non-null   float64\n",
      " 18  Credit_Mix                100000 non-null  object \n",
      " 19  Outstanding_Debt          100000 non-null  object \n",
      " 20  Credit_Utilization_Ratio  100000 non-null  float64\n",
      " 21  Credit_History_Age        90970 non-null   object \n",
      " 22  Payment_of_Min_Amount     100000 non-null  object \n",
      " 23  Total_EMI_per_month       100000 non-null  float64\n",
      " 24  Amount_invested_monthly   95521 non-null   object \n",
      " 25  Payment_Behaviour         100000 non-null  object \n",
      " 26  Monthly_Balance           98800 non-null   object \n",
      " 27  Credit_Score              100000 non-null  object \n",
      "dtypes: float64(4), int64(4), object(20)\n",
      "memory usage: 21.4+ MB\n"
     ]
    }
   ],
   "source": [
    "df.info()"
   ]
  },
  {
   "cell_type": "code",
   "execution_count": 78,
   "id": "77ed2417",
   "metadata": {},
   "outputs": [],
   "source": [
    "def Separate_data_type(df):\n",
    "    cat=[]\n",
    "    cont=[]\n",
    "    for column in df.columns:\n",
    "        if df[column].nunique()>70:\n",
    "            cont.append(column)\n",
    "        else:\n",
    "            cat.append(column)\n",
    "    return cat,cont"
   ]
  },
  {
   "cell_type": "code",
   "execution_count": 79,
   "id": "1d4e4ac4",
   "metadata": {},
   "outputs": [],
   "source": [
    "cat,cont=Separate_data_type(df)"
   ]
  },
  {
   "cell_type": "code",
   "execution_count": 80,
   "id": "ceacf994",
   "metadata": {},
   "outputs": [
    {
     "data": {
      "text/plain": [
       "['Month',\n",
       " 'Occupation',\n",
       " 'Credit_Mix',\n",
       " 'Payment_of_Min_Amount',\n",
       " 'Payment_Behaviour',\n",
       " 'Credit_Score']"
      ]
     },
     "execution_count": 80,
     "metadata": {},
     "output_type": "execute_result"
    }
   ],
   "source": [
    "cat               #categorical data"
   ]
  },
  {
   "cell_type": "code",
   "execution_count": 81,
   "id": "17090891",
   "metadata": {},
   "outputs": [
    {
     "data": {
      "text/plain": [
       "['ID',\n",
       " 'Customer_ID',\n",
       " 'Name',\n",
       " 'Age',\n",
       " 'SSN',\n",
       " 'Annual_Income',\n",
       " 'Monthly_Inhand_Salary',\n",
       " 'Num_Bank_Accounts',\n",
       " 'Num_Credit_Card',\n",
       " 'Interest_Rate',\n",
       " 'Num_of_Loan',\n",
       " 'Type_of_Loan',\n",
       " 'Delay_from_due_date',\n",
       " 'Num_of_Delayed_Payment',\n",
       " 'Changed_Credit_Limit',\n",
       " 'Num_Credit_Inquiries',\n",
       " 'Outstanding_Debt',\n",
       " 'Credit_Utilization_Ratio',\n",
       " 'Credit_History_Age',\n",
       " 'Total_EMI_per_month',\n",
       " 'Amount_invested_monthly',\n",
       " 'Monthly_Balance']"
      ]
     },
     "execution_count": 81,
     "metadata": {},
     "output_type": "execute_result"
    }
   ],
   "source": [
    "cont                #Continuous Data"
   ]
  },
  {
   "cell_type": "markdown",
   "id": "b115ad7b",
   "metadata": {},
   "source": [
    "## working on df[\"ID\"]"
   ]
  },
  {
   "cell_type": "code",
   "execution_count": 82,
   "id": "b2975a75",
   "metadata": {},
   "outputs": [
    {
     "data": {
      "text/plain": [
       "100000"
      ]
     },
     "execution_count": 82,
     "metadata": {},
     "output_type": "execute_result"
    }
   ],
   "source": [
    "df[\"ID\"].nunique()    # No. of unique values are equal to no. of rows in data it is just a nominal data"
   ]
  },
  {
   "cell_type": "code",
   "execution_count": 83,
   "id": "f89a94af",
   "metadata": {},
   "outputs": [
    {
     "data": {
      "text/plain": [
       "0"
      ]
     },
     "execution_count": 83,
     "metadata": {},
     "output_type": "execute_result"
    }
   ],
   "source": [
    "df[\"ID\"].isnull().sum()    # has 0 nos of null values"
   ]
  },
  {
   "cell_type": "code",
   "execution_count": 84,
   "id": "10dbd5c2",
   "metadata": {},
   "outputs": [],
   "source": [
    "df=df.drop(['ID'], axis =1)      #dropping the column ID as it will not contribute to the out put variable"
   ]
  },
  {
   "cell_type": "markdown",
   "id": "36d79a7d",
   "metadata": {},
   "source": [
    "## Working on df[\"Customer_ID\"] & df[\"Name\"]"
   ]
  },
  {
   "cell_type": "code",
   "execution_count": 85,
   "id": "84f4662e",
   "metadata": {},
   "outputs": [],
   "source": [
    "# Both Columns represent the same data"
   ]
  },
  {
   "cell_type": "code",
   "execution_count": 86,
   "id": "2a0684cd",
   "metadata": {},
   "outputs": [],
   "source": [
    "df=df.drop([\"Name\"], axis=1)                 # Drop customer ID"
   ]
  },
  {
   "cell_type": "code",
   "execution_count": 87,
   "id": "d261a8ef",
   "metadata": {},
   "outputs": [
    {
     "data": {
      "text/plain": [
       "(100000, 26)"
      ]
     },
     "execution_count": 87,
     "metadata": {},
     "output_type": "execute_result"
    }
   ],
   "source": [
    "df.shape"
   ]
  },
  {
   "cell_type": "code",
   "execution_count": 88,
   "id": "627e18b2",
   "metadata": {},
   "outputs": [
    {
     "data": {
      "text/plain": [
       "12500"
      ]
     },
     "execution_count": 88,
     "metadata": {},
     "output_type": "execute_result"
    }
   ],
   "source": [
    "df['Customer_ID'].nunique()"
   ]
  },
  {
   "cell_type": "code",
   "execution_count": 89,
   "id": "e3dbefdd",
   "metadata": {},
   "outputs": [
    {
     "data": {
      "text/plain": [
       "0"
      ]
     },
     "execution_count": 89,
     "metadata": {},
     "output_type": "execute_result"
    }
   ],
   "source": [
    "df['Customer_ID'].isnull().sum()"
   ]
  },
  {
   "cell_type": "code",
   "execution_count": 90,
   "id": "1050d285",
   "metadata": {},
   "outputs": [],
   "source": [
    "df=df.drop([\"Customer_ID\"],axis=1)"
   ]
  },
  {
   "cell_type": "code",
   "execution_count": 91,
   "id": "d9d2a4c9",
   "metadata": {},
   "outputs": [
    {
     "data": {
      "text/plain": [
       "(100000, 25)"
      ]
     },
     "execution_count": 91,
     "metadata": {},
     "output_type": "execute_result"
    }
   ],
   "source": [
    "df.shape"
   ]
  },
  {
   "cell_type": "markdown",
   "id": "07572064",
   "metadata": {},
   "source": [
    "## Working on df[\"Age\"]"
   ]
  },
  {
   "cell_type": "code",
   "execution_count": 92,
   "id": "11e11f36",
   "metadata": {},
   "outputs": [
    {
     "data": {
      "text/plain": [
       "0"
      ]
     },
     "execution_count": 92,
     "metadata": {},
     "output_type": "execute_result"
    }
   ],
   "source": [
    "df[\"Age\"].isnull().sum()                     #no missing value in the column"
   ]
  },
  {
   "cell_type": "code",
   "execution_count": 93,
   "id": "25a5e446",
   "metadata": {},
   "outputs": [
    {
     "data": {
      "text/plain": [
       "1788"
      ]
     },
     "execution_count": 93,
     "metadata": {},
     "output_type": "execute_result"
    }
   ],
   "source": [
    "df[\"Age\"].nunique()"
   ]
  },
  {
   "cell_type": "code",
   "execution_count": 94,
   "id": "75a79f25",
   "metadata": {},
   "outputs": [
    {
     "data": {
      "text/plain": [
       "dtype('O')"
      ]
     },
     "execution_count": 94,
     "metadata": {},
     "output_type": "execute_result"
    }
   ],
   "source": [
    "df[\"Age\"].dtypes"
   ]
  },
  {
   "cell_type": "code",
   "execution_count": 95,
   "id": "3c56c9d7",
   "metadata": {},
   "outputs": [
    {
     "data": {
      "text/plain": [
       "dtype('O')"
      ]
     },
     "execution_count": 95,
     "metadata": {},
     "output_type": "execute_result"
    }
   ],
   "source": [
    "df[\"Age\"].dtypes"
   ]
  },
  {
   "cell_type": "code",
   "execution_count": 96,
   "id": "fd2fa0ad",
   "metadata": {},
   "outputs": [],
   "source": [
    "list1=list(df[\"Age\"])"
   ]
  },
  {
   "cell_type": "code",
   "execution_count": 97,
   "id": "02120e85",
   "metadata": {},
   "outputs": [
    {
     "data": {
      "text/plain": [
       "'23'"
      ]
     },
     "execution_count": 97,
     "metadata": {},
     "output_type": "execute_result"
    }
   ],
   "source": [
    "list1[1]"
   ]
  },
  {
   "cell_type": "code",
   "execution_count": 98,
   "id": "c5b5f001",
   "metadata": {},
   "outputs": [],
   "source": [
    "li=[]\n",
    "for i in list1:\n",
    "    if i[len(i)-1]=='_':\n",
    "        i[len(i)-1]==''\n"
   ]
  },
  {
   "cell_type": "code",
   "execution_count": 99,
   "id": "855dd36a",
   "metadata": {},
   "outputs": [],
   "source": [
    "df[\"Age\"]=df[\"Age\"].str.replace(\"_\",\"\").astype(float)"
   ]
  },
  {
   "cell_type": "code",
   "execution_count": 100,
   "id": "1f15199a",
   "metadata": {},
   "outputs": [
    {
     "data": {
      "text/plain": [
       "38.0      2994\n",
       "28.0      2968\n",
       "31.0      2955\n",
       "26.0      2945\n",
       "32.0      2884\n",
       "          ... \n",
       "1908.0       1\n",
       "4583.0       1\n",
       "7549.0       1\n",
       "3119.0       1\n",
       "1342.0       1\n",
       "Name: Age, Length: 1728, dtype: int64"
      ]
     },
     "execution_count": 100,
     "metadata": {},
     "output_type": "execute_result"
    }
   ],
   "source": [
    "df['Age'].value_counts()"
   ]
  },
  {
   "cell_type": "code",
   "execution_count": 101,
   "id": "4947c6f3",
   "metadata": {},
   "outputs": [
    {
     "data": {
      "text/plain": [
       "<Axes: xlabel='Age', ylabel='Count'>"
      ]
     },
     "execution_count": 101,
     "metadata": {},
     "output_type": "execute_result"
    }
   ],
   "source": [
    "sns.histplot(df[\"Age\"])"
   ]
  },
  {
   "cell_type": "code",
   "execution_count": 102,
   "id": "82085af8",
   "metadata": {},
   "outputs": [
    {
     "data": {
      "text/plain": [
       "8487"
      ]
     },
     "execution_count": 102,
     "metadata": {},
     "output_type": "execute_result"
    }
   ],
   "source": [
    "a=0\n",
    "for i in range(len(df)):\n",
    "    if df.loc[i,\"Age\"]>69 or df.loc[i,\"Age\"]<18:\n",
    "        a=a+1\n",
    "a\n",
    "#no. of transactions having age more than 69 and less than 18."
   ]
  },
  {
   "cell_type": "code",
   "execution_count": 103,
   "id": "842035ef",
   "metadata": {},
   "outputs": [],
   "source": [
    "# Identifing the outliers\n",
    "def uflf(ser):\n",
    "    comp= pd.Series(ser)\n",
    "    print(\"Minimum\",min(comp))\n",
    "    print(\"Maximum\",max(comp))\n",
    "    print(\"Range\",(max(comp)-min(comp)))\n",
    "    Q1= comp.quantile(0.25)\n",
    "    Q3= comp.quantile(0.75)\n",
    "    IQR= Q3-Q1\n",
    "    uf= Q3+1.5*IQR\n",
    "    lf= Q1-1.5*IQR\n",
    "    print(\"uf=\",uf,\"   lf=\",lf)\n",
    "    return uf,lf\n"
   ]
  },
  {
   "cell_type": "code",
   "execution_count": 104,
   "id": "b994ebfb",
   "metadata": {},
   "outputs": [
    {
     "data": {
      "text/plain": [
       "110.6497"
      ]
     },
     "execution_count": 104,
     "metadata": {},
     "output_type": "execute_result"
    }
   ],
   "source": [
    "df[\"Age\"].mean()"
   ]
  },
  {
   "cell_type": "code",
   "execution_count": 105,
   "id": "f7481ea1",
   "metadata": {},
   "outputs": [
    {
     "data": {
      "text/plain": [
       "33.0"
      ]
     },
     "execution_count": 105,
     "metadata": {},
     "output_type": "execute_result"
    }
   ],
   "source": [
    "df[\"Age\"].median()"
   ]
  },
  {
   "cell_type": "code",
   "execution_count": 106,
   "id": "12cbd433",
   "metadata": {},
   "outputs": [],
   "source": [
    "# Outliers treatment\n",
    "for i in range(len(df)):\n",
    "    if df.loc[i,\"Age\"]<18 or df.loc[i,\"Age\"]>70:\n",
    "        df.loc[i,\"Age\"]=df[\"Age\"].median()"
   ]
  },
  {
   "cell_type": "code",
   "execution_count": 107,
   "id": "8208788e",
   "metadata": {},
   "outputs": [
    {
     "data": {
      "text/plain": [
       "0"
      ]
     },
     "execution_count": 107,
     "metadata": {},
     "output_type": "execute_result"
    }
   ],
   "source": [
    "a=0\n",
    "for i in range(len(df)):\n",
    "    if df.loc[i,\"Age\"]>69 or df.loc[i,\"Age\"]<18:\n",
    "        a=a+1\n",
    "a\n",
    "#no. of transactions having age more than 69 and less than 18."
   ]
  },
  {
   "cell_type": "code",
   "execution_count": null,
   "id": "248538d0",
   "metadata": {},
   "outputs": [],
   "source": [
    "comp= pd.Series(df[\"Age\"])\n",
    "print(\"Minimum\",min(comp))\n",
    "print(\"Maximum\",max(comp))\n",
    "print(\"Range\",(max(comp)-min(comp)))\n",
    "Q1= comp.quantile(0.25)\n",
    "Q3= comp.quantile(0.75)\n",
    "IQR= Q3-Q1\n",
    "uf= Q3+1.5*IQR\n",
    "lf= Q1-1.5*IQR\n",
    "print(\"lf=\",lf,\"   uf=\",uf)"
   ]
  },
  {
   "cell_type": "code",
   "execution_count": null,
   "id": "91974e5e",
   "metadata": {},
   "outputs": [],
   "source": [
    "sns.boxplot(df[\"Age\"])"
   ]
  },
  {
   "cell_type": "markdown",
   "id": "a76783d9",
   "metadata": {},
   "source": [
    "## Working on df[\"Month\"]"
   ]
  },
  {
   "cell_type": "code",
   "execution_count": null,
   "id": "141d7362",
   "metadata": {},
   "outputs": [],
   "source": [
    "df[\"Month\"].isnull().sum()"
   ]
  },
  {
   "cell_type": "code",
   "execution_count": null,
   "id": "f4ae32ec",
   "metadata": {},
   "outputs": [],
   "source": [
    "df[\"Month\"].nunique()"
   ]
  },
  {
   "cell_type": "code",
   "execution_count": null,
   "id": "2d9d6567",
   "metadata": {},
   "outputs": [],
   "source": [
    "sns.histplot(df[\"Month\"])"
   ]
  },
  {
   "cell_type": "code",
   "execution_count": null,
   "id": "07d559c5",
   "metadata": {},
   "outputs": [],
   "source": [
    "df[\"Month\"].value_counts()"
   ]
  },
  {
   "cell_type": "code",
   "execution_count": null,
   "id": "ce794ff5",
   "metadata": {},
   "outputs": [],
   "source": [
    "# Considering it an ordinal data\n",
    "\n",
    "from sklearn.preprocessing import LabelEncoder\n",
    "month_encoder=LabelEncoder()\n",
    "month_encoder.fit(df['Month'])\n",
    "print(month_encoder.classes_)\n",
    "df['Month']=month_encoder.transform(df['Month'])"
   ]
  },
  {
   "cell_type": "markdown",
   "id": "a6550db9",
   "metadata": {},
   "source": [
    "# Working on df[\"SSN\"]"
   ]
  },
  {
   "cell_type": "code",
   "execution_count": null,
   "id": "ba95f49a",
   "metadata": {},
   "outputs": [],
   "source": [
    "df[\"SSN\"].nunique()"
   ]
  },
  {
   "cell_type": "code",
   "execution_count": null,
   "id": "2bc4ccbd",
   "metadata": {},
   "outputs": [],
   "source": [
    "df[\"SSN\"].isnull().sum()"
   ]
  },
  {
   "cell_type": "code",
   "execution_count": null,
   "id": "b40b0d04",
   "metadata": {},
   "outputs": [],
   "source": [
    "df=df.drop([\"SSN\"], axis=1)    #AS SSN WILL REMAIN SAME FOR NAMES OR CUSTOMER ID TO IT WILL REPRESENT THE SAME DATA AS OF NAME/CUSTOMER_ID SO IT WILL NOT COMTRIBUTE TO THE OUTPUT DATA"
   ]
  },
  {
   "cell_type": "code",
   "execution_count": null,
   "id": "3709cb54",
   "metadata": {},
   "outputs": [],
   "source": [
    "df.shape"
   ]
  },
  {
   "cell_type": "markdown",
   "id": "c8a192ea",
   "metadata": {},
   "source": [
    "## Working on df[\"Occupation\"]"
   ]
  },
  {
   "cell_type": "code",
   "execution_count": null,
   "id": "d2eff5af",
   "metadata": {},
   "outputs": [],
   "source": [
    "df[\"Occupation\"].isnull().sum()"
   ]
  },
  {
   "cell_type": "code",
   "execution_count": null,
   "id": "473a987f",
   "metadata": {},
   "outputs": [],
   "source": [
    "df[\"Occupation\"].nunique()"
   ]
  },
  {
   "cell_type": "code",
   "execution_count": null,
   "id": "79cc3bf8",
   "metadata": {},
   "outputs": [],
   "source": [
    "sns.histplot(df[\"Occupation\"])"
   ]
  },
  {
   "cell_type": "markdown",
   "id": "360e7c20",
   "metadata": {},
   "source": [
    "## Working on df[\"Annual_Income\"] & df[\"Monthly_Inhand_Salary\"]"
   ]
  },
  {
   "cell_type": "code",
   "execution_count": null,
   "id": "38c46e10",
   "metadata": {},
   "outputs": [],
   "source": [
    "df[\"Annual_Income\"].isnull().sum()"
   ]
  },
  {
   "cell_type": "code",
   "execution_count": null,
   "id": "1fbcee2c",
   "metadata": {},
   "outputs": [],
   "source": [
    "df[\"Annual_Income\"]=df[\"Annual_Income\"].str.replace('_','').astype(float)"
   ]
  },
  {
   "cell_type": "code",
   "execution_count": null,
   "id": "65d909f8",
   "metadata": {},
   "outputs": [],
   "source": [
    "df.boxplot(column=\"Annual_Income\")"
   ]
  },
  {
   "cell_type": "code",
   "execution_count": null,
   "id": "86e82507",
   "metadata": {},
   "outputs": [],
   "source": [
    "comp=pd.Series(df[\"Annual_Income\"])\n",
    "Q1= comp.quantile(0.25)\n",
    "Q3= comp.quantile(0.75)\n",
    "IQR= Q3-Q1\n",
    "uf= Q3+1.5*IQR\n",
    "lf= Q1-1.5*IQR\n",
    "print(\"lf=\",lf,\"   uf=\",uf)"
   ]
  },
  {
   "cell_type": "code",
   "execution_count": null,
   "id": "a28923d2",
   "metadata": {},
   "outputs": [],
   "source": [
    "a=0\n",
    "for i in range(len(df)):\n",
    "    if df.loc[i,\"Annual_Income\"]>uf:\n",
    "        a=a+1\n",
    "a"
   ]
  },
  {
   "cell_type": "code",
   "execution_count": null,
   "id": "6a21d951",
   "metadata": {},
   "outputs": [],
   "source": [
    "uf"
   ]
  },
  {
   "cell_type": "code",
   "execution_count": null,
   "id": "bd3e8ad2",
   "metadata": {},
   "outputs": [],
   "source": [
    "df[\"Annual_Income\"].mean()"
   ]
  },
  {
   "cell_type": "code",
   "execution_count": null,
   "id": "171b58f7",
   "metadata": {},
   "outputs": [],
   "source": [
    "for i in range(len(df)):\n",
    "    if df.loc[i,\"Annual_Income\"]>uf:\n",
    "        df.loc[i,\"Annual_Income\"]=df[\"Annual_Income\"].mean()"
   ]
  },
  {
   "cell_type": "code",
   "execution_count": null,
   "id": "3f7d21b3",
   "metadata": {},
   "outputs": [],
   "source": [
    "df[\"Annual_Income\"][55]"
   ]
  },
  {
   "cell_type": "code",
   "execution_count": null,
   "id": "de7595e5",
   "metadata": {},
   "outputs": [],
   "source": [
    "df[\"Monthly_Inhand_Salary\"].isnull().sum()              #null values in df[\"Monthly_Inhand_Salary\"]"
   ]
  },
  {
   "cell_type": "code",
   "execution_count": null,
   "id": "eb3e3fd9",
   "metadata": {},
   "outputs": [],
   "source": [
    "df.boxplot(column=\"Monthly_Inhand_Salary\")"
   ]
  },
  {
   "cell_type": "code",
   "execution_count": null,
   "id": "d8de4943",
   "metadata": {},
   "outputs": [],
   "source": []
  },
  {
   "cell_type": "code",
   "execution_count": null,
   "id": "2bff9a65",
   "metadata": {},
   "outputs": [],
   "source": [
    "comp=pd.Series(df[\"Monthly_Inhand_Salary\"])\n",
    "Q1= comp.quantile(0.25)\n",
    "Q3= comp.quantile(0.75)\n",
    "IQR= Q3-Q1\n",
    "uf= Q3+1.5*IQR\n",
    "lf= Q1-1.5*IQR\n",
    "print(\"lf=\",lf,\"   uf=\",uf)"
   ]
  },
  {
   "cell_type": "code",
   "execution_count": null,
   "id": "6f94939a",
   "metadata": {},
   "outputs": [],
   "source": [
    "df[\"Monthly_Inhand_Salary\"].mean()"
   ]
  },
  {
   "cell_type": "code",
   "execution_count": null,
   "id": "37a9051e",
   "metadata": {},
   "outputs": [],
   "source": [
    "for i in range(len(df)):\n",
    "    if df[\"Monthly_Inhand_Salary\"].isnull()[i]==True or df[\"Monthly_Inhand_Salary\"][i]<0:\n",
    "        df.loc[i,\"Monthly_Inhand_Salary\"]=0\n",
    "#replacing negative values with '0'"
   ]
  },
  {
   "cell_type": "code",
   "execution_count": null,
   "id": "f6dc7a1f",
   "metadata": {},
   "outputs": [],
   "source": [
    "df[\"Monthly_Inhand_Salary\"].isnull().sum()"
   ]
  },
  {
   "cell_type": "code",
   "execution_count": null,
   "id": "926b7d9f",
   "metadata": {},
   "outputs": [],
   "source": [
    "for i in range(len(df)):\n",
    "    if df[\"Monthly_Inhand_Salary\"][i]>lf or df[\"Monthly_Inhand_Salary\"][i]==0 :\n",
    "        df.loc[i,\"Monthly_Inhand_Salary\"]=df[\"Monthly_Inhand_Salary\"].mean()"
   ]
  },
  {
   "cell_type": "code",
   "execution_count": null,
   "id": "0d9f58c7",
   "metadata": {},
   "outputs": [],
   "source": [
    "df[\"Monthly_Inhand_Salary\"].corr(df[\"Annual_Income\"])"
   ]
  },
  {
   "cell_type": "code",
   "execution_count": null,
   "id": "7988dc01",
   "metadata": {},
   "outputs": [],
   "source": [
    "df.boxplot(column=\"Monthly_Inhand_Salary\")"
   ]
  },
  {
   "cell_type": "markdown",
   "id": "dccc3445",
   "metadata": {},
   "source": [
    "# Working on df[\"Num_Bank_Accounts\"]"
   ]
  },
  {
   "cell_type": "code",
   "execution_count": null,
   "id": "a72ac203",
   "metadata": {},
   "outputs": [],
   "source": [
    "df[\"Num_Bank_Accounts\"].unique()"
   ]
  },
  {
   "cell_type": "code",
   "execution_count": null,
   "id": "6e8758f1",
   "metadata": {},
   "outputs": [],
   "source": [
    "uflf(df[\"Num_Bank_Accounts\"])"
   ]
  },
  {
   "cell_type": "code",
   "execution_count": null,
   "id": "c15bd8f6",
   "metadata": {},
   "outputs": [],
   "source": [
    "#df=df.drop('Num_Bank_Accounts',axis=1)      #Data seems to be absurd or irrelevant as a person cannot have "
   ]
  },
  {
   "cell_type": "code",
   "execution_count": null,
   "id": "e3a0969c",
   "metadata": {},
   "outputs": [],
   "source": [
    "df.shape"
   ]
  },
  {
   "cell_type": "markdown",
   "id": "ce7bc713",
   "metadata": {},
   "source": [
    "## Working on df[\"Num_Credit_Card\"]"
   ]
  },
  {
   "cell_type": "code",
   "execution_count": null,
   "id": "76e9606f",
   "metadata": {},
   "outputs": [],
   "source": [
    "df[\"Num_Credit_Card\"].nunique()"
   ]
  },
  {
   "cell_type": "code",
   "execution_count": null,
   "id": "182dca87",
   "metadata": {},
   "outputs": [],
   "source": [
    "df[\"Num_Credit_Card\"].isnull().sum()"
   ]
  },
  {
   "cell_type": "code",
   "execution_count": null,
   "id": "15691620",
   "metadata": {},
   "outputs": [],
   "source": [
    "df.boxplot(\"Num_Credit_Card\")"
   ]
  },
  {
   "cell_type": "code",
   "execution_count": null,
   "id": "7d4d5260",
   "metadata": {},
   "outputs": [],
   "source": [
    "uflf(df[\"Num_Credit_Card\"])"
   ]
  },
  {
   "cell_type": "code",
   "execution_count": null,
   "id": "bc2a3d62",
   "metadata": {},
   "outputs": [],
   "source": [
    "# No. of Outliers\n",
    "a=0\n",
    "for i in range(len(df)):\n",
    "    if df.loc[i,\"Num_Credit_Card\"]>11.5 or df.loc[i,\"Num_Credit_Card\"]<1:\n",
    "        a=a+1\n",
    "a"
   ]
  },
  {
   "cell_type": "code",
   "execution_count": null,
   "id": "d9217e96",
   "metadata": {},
   "outputs": [],
   "source": [
    "print(df[\"Num_Credit_Card\"].mean())\n",
    "print(df[\"Num_Credit_Card\"].median())"
   ]
  },
  {
   "cell_type": "code",
   "execution_count": null,
   "id": "68f02aea",
   "metadata": {},
   "outputs": [],
   "source": [
    "# Outlier Treatment\n",
    "a=0\n",
    "for i in range(len(df)):\n",
    "    if df.loc[i,\"Num_Credit_Card\"]>11.5 or df.loc[i,\"Num_Credit_Card\"]<1:\n",
    "        df.loc[i,\"Num_Credit_Card\"]=df[\"Num_Credit_Card\"].median()"
   ]
  },
  {
   "cell_type": "code",
   "execution_count": null,
   "id": "980378cb",
   "metadata": {},
   "outputs": [],
   "source": [
    "df.boxplot(\"Num_Credit_Card\")"
   ]
  },
  {
   "cell_type": "code",
   "execution_count": null,
   "id": "1587f85e",
   "metadata": {},
   "outputs": [],
   "source": [
    "df[\"Num_Credit_Card\"].dtypes"
   ]
  },
  {
   "cell_type": "markdown",
   "id": "a47c313f",
   "metadata": {},
   "source": [
    "## Working on df[\"Interest_Rate\"]"
   ]
  },
  {
   "cell_type": "code",
   "execution_count": null,
   "id": "dbbf069a",
   "metadata": {},
   "outputs": [],
   "source": [
    "df[\"Interest_Rate\"].dtypes"
   ]
  },
  {
   "cell_type": "code",
   "execution_count": null,
   "id": "40dbed23",
   "metadata": {},
   "outputs": [],
   "source": [
    "df[\"Interest_Rate\"].unique()"
   ]
  },
  {
   "cell_type": "code",
   "execution_count": null,
   "id": "36f69904",
   "metadata": {},
   "outputs": [],
   "source": [
    "df[\"Interest_Rate\"].isnull().sum()"
   ]
  },
  {
   "cell_type": "code",
   "execution_count": null,
   "id": "e342f7ed",
   "metadata": {},
   "outputs": [],
   "source": [
    "df.boxplot(\"Interest_Rate\")"
   ]
  },
  {
   "cell_type": "code",
   "execution_count": null,
   "id": "70d1ab9d",
   "metadata": {},
   "outputs": [],
   "source": [
    "uflf(df[\"Interest_Rate\"])"
   ]
  },
  {
   "cell_type": "code",
   "execution_count": null,
   "id": "3192b21c",
   "metadata": {},
   "outputs": [],
   "source": [
    "# No. of Outliers\n",
    "a=0\n",
    "for i in range(len(df)):\n",
    "    if df.loc[i,\"Interest_Rate\"]>38 or df.loc[i,\"Interest_Rate\"]<1:\n",
    "        a=a+1\n",
    "a"
   ]
  },
  {
   "cell_type": "code",
   "execution_count": null,
   "id": "6ff85730",
   "metadata": {},
   "outputs": [],
   "source": [
    "print(df[\"Interest_Rate\"].mean())\n",
    "print(df[\"Interest_Rate\"].median())"
   ]
  },
  {
   "cell_type": "code",
   "execution_count": null,
   "id": "ca935b0b",
   "metadata": {},
   "outputs": [],
   "source": [
    "# Outlier Treatment\n",
    "for i in range(len(df)):\n",
    "    if df.loc[i,\"Interest_Rate\"]>38 or df.loc[i,\"Interest_Rate\"]<1:\n",
    "        df.loc[i,\"Interest_Rate\"]=df[\"Interest_Rate\"].median()"
   ]
  },
  {
   "cell_type": "code",
   "execution_count": null,
   "id": "2ab12cfd",
   "metadata": {},
   "outputs": [],
   "source": [
    "df.boxplot(\"Interest_Rate\")"
   ]
  },
  {
   "cell_type": "code",
   "execution_count": null,
   "id": "5153faa8",
   "metadata": {},
   "outputs": [],
   "source": []
  },
  {
   "cell_type": "markdown",
   "id": "99b01a4e",
   "metadata": {},
   "source": [
    "## Working On df[\"Num_of_Loan\"]"
   ]
  },
  {
   "cell_type": "code",
   "execution_count": null,
   "id": "0534e001",
   "metadata": {},
   "outputs": [],
   "source": [
    "df[\"Num_of_Loan\"].nunique()"
   ]
  },
  {
   "cell_type": "code",
   "execution_count": null,
   "id": "25097af9",
   "metadata": {},
   "outputs": [],
   "source": [
    "df[\"Num_of_Loan\"].isnull().sum()"
   ]
  },
  {
   "cell_type": "code",
   "execution_count": null,
   "id": "34c42983",
   "metadata": {},
   "outputs": [],
   "source": [
    "df[\"Num_of_Loan\"].dtypes"
   ]
  },
  {
   "cell_type": "code",
   "execution_count": null,
   "id": "3c6c6de0",
   "metadata": {},
   "outputs": [],
   "source": [
    "df[\"Num_of_Loan\"]=df[\"Num_of_Loan\"].str.replace(\"_\",\"\").astype('float')"
   ]
  },
  {
   "cell_type": "code",
   "execution_count": null,
   "id": "cc0ce892",
   "metadata": {},
   "outputs": [],
   "source": [
    "df.boxplot('Num_of_Loan')"
   ]
  },
  {
   "cell_type": "code",
   "execution_count": null,
   "id": "78436416",
   "metadata": {},
   "outputs": [],
   "source": [
    "uflf(df[\"Num_of_Loan\"])"
   ]
  },
  {
   "cell_type": "code",
   "execution_count": null,
   "id": "b97dd8bb",
   "metadata": {},
   "outputs": [],
   "source": [
    "# No. of Outliers = approx 4.5% of total data\n",
    "a=0\n",
    "for i in range(len(df)):\n",
    "    if df.loc[i,\"Num_of_Loan\"]>11 or df.loc[i,\"Num_of_Loan\"]<0:\n",
    "        a=a+1\n",
    "a"
   ]
  },
  {
   "cell_type": "code",
   "execution_count": null,
   "id": "fe67258b",
   "metadata": {},
   "outputs": [],
   "source": [
    "print(df[\"Num_of_Loan\"].mean())\n",
    "print(df[\"Num_of_Loan\"].median())"
   ]
  },
  {
   "cell_type": "code",
   "execution_count": null,
   "id": "ee2e5ba0",
   "metadata": {},
   "outputs": [],
   "source": [
    "# Outlier Treatment\n",
    "for i in range(len(df)):\n",
    "    if df.loc[i,\"Num_of_Loan\"]>38 or df.loc[i,\"Num_of_Loan\"]<1:\n",
    "        df.loc[i,\"Num_of_Loan\"]=df[\"Num_of_Loan\"].median()"
   ]
  },
  {
   "cell_type": "code",
   "execution_count": null,
   "id": "7ef4c0ec",
   "metadata": {},
   "outputs": [],
   "source": [
    "df.boxplot('Num_of_Loan')"
   ]
  },
  {
   "cell_type": "code",
   "execution_count": null,
   "id": "ab2aa903",
   "metadata": {},
   "outputs": [],
   "source": []
  },
  {
   "cell_type": "markdown",
   "id": "92ba0bf4",
   "metadata": {},
   "source": [
    "## Working on df[\"Type_of_Loan\"]"
   ]
  },
  {
   "cell_type": "code",
   "execution_count": null,
   "id": "faa03007",
   "metadata": {},
   "outputs": [],
   "source": [
    "df[\"Type_of_Loan\"].nunique()"
   ]
  },
  {
   "cell_type": "code",
   "execution_count": null,
   "id": "a537860b",
   "metadata": {},
   "outputs": [],
   "source": [
    "df[\"Type_of_Loan\"].value_counts()"
   ]
  },
  {
   "cell_type": "code",
   "execution_count": null,
   "id": "e40d528f",
   "metadata": {},
   "outputs": [],
   "source": [
    "df[\"Type_of_Loan\"].isnull().sum()"
   ]
  },
  {
   "cell_type": "code",
   "execution_count": null,
   "id": "32bd6be4",
   "metadata": {},
   "outputs": [],
   "source": [
    "df.Type_of_Loan.fillna(\"Not Specified\",inplace=True)"
   ]
  },
  {
   "cell_type": "code",
   "execution_count": null,
   "id": "c1cf5944",
   "metadata": {},
   "outputs": [],
   "source": [
    "df[\"Type_of_Loan\"].isnull().sum()"
   ]
  },
  {
   "cell_type": "code",
   "execution_count": null,
   "id": "7abebf73",
   "metadata": {},
   "outputs": [],
   "source": [
    "df[\"Type_of_Loan\"].mode()"
   ]
  },
  {
   "cell_type": "code",
   "execution_count": null,
   "id": "e42621e4",
   "metadata": {},
   "outputs": [],
   "source": [
    "# Considering it an ordinal data\n",
    "\n",
    "Loantype_encoder=LabelEncoder()\n",
    "Loantype_encoder.fit(df['Type_of_Loan'])\n",
    "print(Loantype_encoder.classes_)"
   ]
  },
  {
   "cell_type": "code",
   "execution_count": null,
   "id": "bb68c478",
   "metadata": {},
   "outputs": [],
   "source": [
    "df['Type_of_Loan']=Loantype_encoder.transform(df['Type_of_Loan'])"
   ]
  },
  {
   "cell_type": "code",
   "execution_count": null,
   "id": "5bb58a2e",
   "metadata": {},
   "outputs": [],
   "source": []
  },
  {
   "cell_type": "markdown",
   "id": "7f13ff56",
   "metadata": {},
   "source": [
    "## Working on df[\"Delay_from_due_date \"]"
   ]
  },
  {
   "cell_type": "code",
   "execution_count": null,
   "id": "afda607f",
   "metadata": {},
   "outputs": [],
   "source": [
    "df[\"Delay_from_due_date\"].dtypes"
   ]
  },
  {
   "cell_type": "code",
   "execution_count": null,
   "id": "9e7793a5",
   "metadata": {},
   "outputs": [],
   "source": [
    "df[\"Delay_from_due_date\"].nunique()"
   ]
  },
  {
   "cell_type": "code",
   "execution_count": null,
   "id": "96a896b3",
   "metadata": {},
   "outputs": [],
   "source": [
    "df.boxplot('Delay_from_due_date')"
   ]
  },
  {
   "cell_type": "code",
   "execution_count": null,
   "id": "6daa40dd",
   "metadata": {},
   "outputs": [],
   "source": [
    "uflf(df[\"Delay_from_due_date\"])"
   ]
  },
  {
   "cell_type": "code",
   "execution_count": null,
   "id": "08b8f959",
   "metadata": {},
   "outputs": [],
   "source": [
    "# No. of Outliers = approx 4.5% of total data\n",
    "a=0\n",
    "for i in range(len(df)):\n",
    "    if df.loc[i,\"Delay_from_due_date\"]>uf or df.loc[i,\"Delay_from_due_date\"]<0:\n",
    "        a=a+1\n",
    "a"
   ]
  },
  {
   "cell_type": "code",
   "execution_count": null,
   "id": "eaa45dd4",
   "metadata": {},
   "outputs": [],
   "source": [
    "print(df[\"Delay_from_due_date\"].mean())\n",
    "print(df[\"Delay_from_due_date\"].median())"
   ]
  },
  {
   "cell_type": "code",
   "execution_count": null,
   "id": "6d210511",
   "metadata": {},
   "outputs": [],
   "source": [
    "for i in range(len(df)):\n",
    "    if df.loc[i,\"Delay_from_due_date\"]>38 or df.loc[i,\"Delay_from_due_date\"]<1:\n",
    "        df.loc[i,\"Delay_from_due_date\"]=df[\"Delay_from_due_date\"].mean()"
   ]
  },
  {
   "cell_type": "code",
   "execution_count": null,
   "id": "7735a94d",
   "metadata": {},
   "outputs": [],
   "source": [
    "df.boxplot('Delay_from_due_date')"
   ]
  },
  {
   "cell_type": "code",
   "execution_count": null,
   "id": "ea716d00",
   "metadata": {},
   "outputs": [],
   "source": []
  },
  {
   "cell_type": "markdown",
   "id": "44b70397",
   "metadata": {},
   "source": [
    "## Working on df[\"Num_of_Delayed_Payment\"]"
   ]
  },
  {
   "cell_type": "code",
   "execution_count": null,
   "id": "579c6c22",
   "metadata": {},
   "outputs": [],
   "source": [
    "df[\"Num_of_Delayed_Payment\"].dtypes"
   ]
  },
  {
   "cell_type": "code",
   "execution_count": null,
   "id": "0815da5e",
   "metadata": {},
   "outputs": [],
   "source": [
    "df[\"Num_of_Delayed_Payment\"].isnull().sum()"
   ]
  },
  {
   "cell_type": "code",
   "execution_count": null,
   "id": "490746ae",
   "metadata": {},
   "outputs": [],
   "source": [
    "df[\"Num_of_Delayed_Payment\"].nunique()"
   ]
  },
  {
   "cell_type": "code",
   "execution_count": null,
   "id": "95a3496f",
   "metadata": {},
   "outputs": [],
   "source": [
    "df[\"Num_of_Delayed_Payment\"]=df[\"Num_of_Delayed_Payment\"].str.replace(\"_\",\"\").astype(float)"
   ]
  },
  {
   "cell_type": "code",
   "execution_count": null,
   "id": "abd4a3ac",
   "metadata": {},
   "outputs": [],
   "source": [
    "df.boxplot(\"Num_of_Delayed_Payment\")"
   ]
  },
  {
   "cell_type": "code",
   "execution_count": null,
   "id": "0b8e543c",
   "metadata": {},
   "outputs": [],
   "source": [
    "uflf(df[\"Num_of_Delayed_Payment\"])"
   ]
  },
  {
   "cell_type": "code",
   "execution_count": null,
   "id": "76f0ed4c",
   "metadata": {},
   "outputs": [],
   "source": [
    "# No. of Outliers = approx 0.7% of total data\n",
    "a=0\n",
    "for i in range(len(df)):\n",
    "    if df.loc[i,\"Num_of_Delayed_Payment\"]>uf or df.loc[i,\"Num_of_Delayed_Payment\"]<0:\n",
    "        a=a+1\n",
    "a"
   ]
  },
  {
   "cell_type": "code",
   "execution_count": null,
   "id": "9d7abd2a",
   "metadata": {},
   "outputs": [],
   "source": [
    "# No. of Outliers + Total No. of Missing Values = 7646 that is about 7.7% of total data"
   ]
  },
  {
   "cell_type": "code",
   "execution_count": null,
   "id": "1825db4d",
   "metadata": {},
   "outputs": [],
   "source": [
    "print(df[\"Num_of_Delayed_Payment\"].mean())\n",
    "print(df[\"Num_of_Delayed_Payment\"].median())"
   ]
  },
  {
   "cell_type": "code",
   "execution_count": null,
   "id": "25b20f52",
   "metadata": {},
   "outputs": [],
   "source": [
    "for i in range(len(df)):\n",
    "    if df.loc[i,\"Num_of_Delayed_Payment\"]>38 or df.loc[i,\"Num_of_Delayed_Payment\"]<0:\n",
    "        df.loc[i,\"Num_of_Delayed_Payment\"]=df[\"Num_of_Delayed_Payment\"].mean()"
   ]
  },
  {
   "cell_type": "code",
   "execution_count": null,
   "id": "627d751c",
   "metadata": {},
   "outputs": [],
   "source": [
    "df.boxplot(\"Num_of_Delayed_Payment\")"
   ]
  },
  {
   "cell_type": "code",
   "execution_count": null,
   "id": "1f113b46",
   "metadata": {},
   "outputs": [],
   "source": []
  },
  {
   "cell_type": "markdown",
   "id": "30833fa1",
   "metadata": {},
   "source": [
    "## Working on df[\"Changed_Credit_Limit\"]"
   ]
  },
  {
   "cell_type": "code",
   "execution_count": null,
   "id": "353a71a0",
   "metadata": {},
   "outputs": [],
   "source": [
    "df[\"Changed_Credit_Limit\"].isnull().sum()"
   ]
  },
  {
   "cell_type": "code",
   "execution_count": null,
   "id": "bf5c1bd5",
   "metadata": {},
   "outputs": [],
   "source": [
    "df[\"Changed_Credit_Limit\"].dtypes"
   ]
  },
  {
   "cell_type": "code",
   "execution_count": null,
   "id": "b522decf",
   "metadata": {},
   "outputs": [],
   "source": [
    "df[\"Changed_Credit_Limit\"].nunique()"
   ]
  },
  {
   "cell_type": "code",
   "execution_count": null,
   "id": "0e323853",
   "metadata": {},
   "outputs": [],
   "source": [
    "df[\"Changed_Credit_Limit\"].value_counts()"
   ]
  },
  {
   "cell_type": "code",
   "execution_count": null,
   "id": "9769e684",
   "metadata": {},
   "outputs": [],
   "source": [
    "#df[\"Changed_Credit_Limit\"].str.replace(\"_\",\"\")"
   ]
  },
  {
   "cell_type": "code",
   "execution_count": null,
   "id": "61d7ed0a",
   "metadata": {},
   "outputs": [],
   "source": [
    "li=list(df[\"Changed_Credit_Limit\"])"
   ]
  },
  {
   "cell_type": "code",
   "execution_count": null,
   "id": "65a0a73c",
   "metadata": {},
   "outputs": [],
   "source": [
    "ccl=[]\n",
    "count=0\n",
    "for i in li:\n",
    "    if i!=\"_\":\n",
    "        ccl.append(float(i))\n",
    "    else:\n",
    "        count=count+1\n",
    "count           #2% of total data to be treated"
   ]
  },
  {
   "cell_type": "code",
   "execution_count": null,
   "id": "37347c2a",
   "metadata": {},
   "outputs": [],
   "source": [
    "plt.boxplot(ccl)"
   ]
  },
  {
   "cell_type": "code",
   "execution_count": null,
   "id": "fb2cae0d",
   "metadata": {},
   "outputs": [],
   "source": [
    "uflf(ccl)"
   ]
  },
  {
   "cell_type": "code",
   "execution_count": null,
   "id": "93cd8e35",
   "metadata": {},
   "outputs": [],
   "source": [
    "avg_Changed_Credit_Limit=np.mean(ccl)"
   ]
  },
  {
   "cell_type": "code",
   "execution_count": null,
   "id": "016b0f3e",
   "metadata": {},
   "outputs": [],
   "source": [
    "np.median(ccl)"
   ]
  },
  {
   "cell_type": "code",
   "execution_count": null,
   "id": "fb3067a9",
   "metadata": {},
   "outputs": [],
   "source": [
    "#Data Treatment\n",
    "for i in range(len(df)):\n",
    "    if df.loc[i,\"Changed_Credit_Limit\"]==\"_\":\n",
    "        df.loc[i,\"Changed_Credit_Limit\"]=avg_Changed_Credit_Limit"
   ]
  },
  {
   "cell_type": "code",
   "execution_count": null,
   "id": "156940f1",
   "metadata": {},
   "outputs": [],
   "source": [
    "df[\"Changed_Credit_Limit\"]=df[\"Changed_Credit_Limit\"].astype(float)"
   ]
  },
  {
   "cell_type": "code",
   "execution_count": null,
   "id": "12ff04f9",
   "metadata": {},
   "outputs": [],
   "source": [
    "for i in range(len(df)):\n",
    "    if df.loc[i,\"Changed_Credit_Limit\"]>uf or df.loc[i,\"Changed_Credit_Limit\"]<lf:\n",
    "        df.loc[i,\"Changed_Credit_Limit\"]=avg_Changed_Credit_Limit"
   ]
  },
  {
   "cell_type": "code",
   "execution_count": null,
   "id": "2c965fac",
   "metadata": {},
   "outputs": [],
   "source": [
    "uflf(df[\"Changed_Credit_Limit\"])"
   ]
  },
  {
   "cell_type": "code",
   "execution_count": null,
   "id": "8d442906",
   "metadata": {},
   "outputs": [],
   "source": [
    "uf"
   ]
  },
  {
   "cell_type": "code",
   "execution_count": null,
   "id": "7796e12d",
   "metadata": {},
   "outputs": [],
   "source": [
    "df.boxplot(\"Changed_Credit_Limit\")"
   ]
  },
  {
   "cell_type": "code",
   "execution_count": null,
   "id": "c6188829",
   "metadata": {},
   "outputs": [],
   "source": [
    "# No. of Outliers = approx 0.8% of total data\n",
    "a=0\n",
    "for i in range(len(df)):\n",
    "    if df.loc[i,\"Changed_Credit_Limit\"]>29 or df.loc[i,\"Changed_Credit_Limit\"]<-8.44:\n",
    "        a=a+1\n",
    "a"
   ]
  },
  {
   "cell_type": "code",
   "execution_count": null,
   "id": "d65e1377",
   "metadata": {},
   "outputs": [],
   "source": [
    "print(df[\"Changed_Credit_Limit\"].mean())\n",
    "print(df[\"Changed_Credit_Limit\"].median())"
   ]
  },
  {
   "cell_type": "code",
   "execution_count": null,
   "id": "7d8f5770",
   "metadata": {},
   "outputs": [],
   "source": [
    "for i in range(len(df)):\n",
    "    if df.loc[i,\"Changed_Credit_Limit\"]>29 or df.loc[i,\"Changed_Credit_Limit\"]<-8.44:\n",
    "        df.loc[i,\"Changed_Credit_Limit\"]=df[\"Changed_Credit_Limit\"].median()"
   ]
  },
  {
   "cell_type": "code",
   "execution_count": null,
   "id": "4eb7f39b",
   "metadata": {},
   "outputs": [],
   "source": [
    "df.boxplot(\"Changed_Credit_Limit\")"
   ]
  },
  {
   "cell_type": "code",
   "execution_count": null,
   "id": "060cdb71",
   "metadata": {},
   "outputs": [],
   "source": []
  },
  {
   "cell_type": "markdown",
   "id": "8e9f720a",
   "metadata": {},
   "source": [
    "## Working on df[\"Num_Credit_Inquiries\"]"
   ]
  },
  {
   "cell_type": "code",
   "execution_count": null,
   "id": "b5dd478f",
   "metadata": {},
   "outputs": [],
   "source": [
    "df[\"Num_Credit_Inquiries\"].dtypes"
   ]
  },
  {
   "cell_type": "code",
   "execution_count": null,
   "id": "f22c030d",
   "metadata": {},
   "outputs": [],
   "source": [
    "df[\"Num_Credit_Inquiries\"].nunique()"
   ]
  },
  {
   "cell_type": "code",
   "execution_count": null,
   "id": "911757b1",
   "metadata": {},
   "outputs": [],
   "source": [
    "n_missing=df[\"Num_Credit_Inquiries\"].isnull().sum()\n",
    "n_missing"
   ]
  },
  {
   "cell_type": "code",
   "execution_count": null,
   "id": "2b26010e",
   "metadata": {},
   "outputs": [],
   "source": [
    "df.boxplot(\"Num_Credit_Inquiries\")"
   ]
  },
  {
   "cell_type": "code",
   "execution_count": null,
   "id": "702aaf9f",
   "metadata": {},
   "outputs": [],
   "source": [
    "uf,lf=uflf(df[\"Num_Credit_Inquiries\"])"
   ]
  },
  {
   "cell_type": "code",
   "execution_count": null,
   "id": "6883ce02",
   "metadata": {},
   "outputs": [],
   "source": [
    "# No. of Outliers = approx 0.8% of total data\n",
    "a=0\n",
    "for i in range(len(df)):\n",
    "    if df.loc[i,\"Num_Credit_Inquiries\"]>uf or df.loc[i,\"Num_Credit_Inquiries\"]<lf:\n",
    "        a=a+1\n",
    "a"
   ]
  },
  {
   "cell_type": "code",
   "execution_count": null,
   "id": "ace22a3c",
   "metadata": {},
   "outputs": [],
   "source": [
    "print(df[\"Num_Credit_Inquiries\"].mean())\n",
    "print(df[\"Num_Credit_Inquiries\"].median())"
   ]
  },
  {
   "cell_type": "code",
   "execution_count": null,
   "id": "46d357e5",
   "metadata": {},
   "outputs": [],
   "source": [
    "#Total No. of elements to be treated is approx 3.6% of total no. of rows\n",
    "total=n_missing+a\n",
    "total"
   ]
  },
  {
   "cell_type": "code",
   "execution_count": null,
   "id": "33569575",
   "metadata": {},
   "outputs": [],
   "source": [
    "for i in range(len(df)):\n",
    "    if df.loc[i,\"Num_Credit_Inquiries\"]>uf or df.loc[i,\"Num_Credit_Inquiries\"]<lf:\n",
    "        df.loc[i,\"Num_Credit_Inquiries\"]=df[\"Num_Credit_Inquiries\"].median()"
   ]
  },
  {
   "cell_type": "code",
   "execution_count": null,
   "id": "8c4e2384",
   "metadata": {},
   "outputs": [],
   "source": [
    "df.boxplot(\"Num_Credit_Inquiries\")"
   ]
  },
  {
   "cell_type": "code",
   "execution_count": null,
   "id": "b429f4c8",
   "metadata": {},
   "outputs": [],
   "source": []
  },
  {
   "cell_type": "markdown",
   "id": "ca957b27",
   "metadata": {},
   "source": [
    "## Working on df[\"Credit_Mix\"]"
   ]
  },
  {
   "cell_type": "code",
   "execution_count": null,
   "id": "6120d35d",
   "metadata": {},
   "outputs": [],
   "source": [
    "df[\"Credit_Mix\"].dtypes"
   ]
  },
  {
   "cell_type": "code",
   "execution_count": null,
   "id": "07000056",
   "metadata": {},
   "outputs": [],
   "source": [
    "df[\"Credit_Mix\"].unique()"
   ]
  },
  {
   "cell_type": "code",
   "execution_count": null,
   "id": "48eee922",
   "metadata": {},
   "outputs": [],
   "source": [
    "df[\"Credit_Mix\"].value_counts()"
   ]
  },
  {
   "cell_type": "code",
   "execution_count": null,
   "id": "f28dd684",
   "metadata": {},
   "outputs": [],
   "source": [
    "df[\"Credit_Mix\"]=df[\"Credit_Mix\"].replace(\"_\",\"unknown\")"
   ]
  },
  {
   "cell_type": "code",
   "execution_count": null,
   "id": "24d52bfd",
   "metadata": {},
   "outputs": [],
   "source": []
  },
  {
   "cell_type": "markdown",
   "id": "bb91fc31",
   "metadata": {},
   "source": [
    "## Working on df[\"Outstanding_Debt\"]"
   ]
  },
  {
   "cell_type": "code",
   "execution_count": null,
   "id": "703d1823",
   "metadata": {},
   "outputs": [],
   "source": [
    "df[\"Outstanding_Debt\"].dtypes"
   ]
  },
  {
   "cell_type": "code",
   "execution_count": null,
   "id": "4ffa5584",
   "metadata": {},
   "outputs": [],
   "source": [
    "df[\"Outstanding_Debt\"].nunique()"
   ]
  },
  {
   "cell_type": "code",
   "execution_count": null,
   "id": "a8dca879",
   "metadata": {},
   "outputs": [],
   "source": [
    "df[\"Outstanding_Debt\"].isnull().sum()"
   ]
  },
  {
   "cell_type": "code",
   "execution_count": null,
   "id": "b746be12",
   "metadata": {},
   "outputs": [],
   "source": [
    "df[\"Outstanding_Debt\"][17]"
   ]
  },
  {
   "cell_type": "code",
   "execution_count": null,
   "id": "5d8cdcb4",
   "metadata": {},
   "outputs": [],
   "source": [
    "df[\"Outstanding_Debt\"].str.replace(\"_\",\"\").astype(float)"
   ]
  },
  {
   "cell_type": "code",
   "execution_count": null,
   "id": "80b3050b",
   "metadata": {},
   "outputs": [],
   "source": [
    "df[\"Outstanding_Debt\"]=df[\"Outstanding_Debt\"].str.replace(\"_\",\"\").astype(float)"
   ]
  },
  {
   "cell_type": "code",
   "execution_count": null,
   "id": "c880a4cf",
   "metadata": {},
   "outputs": [],
   "source": [
    "df[\"Outstanding_Debt\"].dtypes"
   ]
  },
  {
   "cell_type": "code",
   "execution_count": null,
   "id": "f9861170",
   "metadata": {},
   "outputs": [],
   "source": [
    "df.boxplot(\"Outstanding_Debt\")"
   ]
  },
  {
   "cell_type": "code",
   "execution_count": null,
   "id": "7c59c4ef",
   "metadata": {},
   "outputs": [],
   "source": [
    "uf,lf=uflf(df[\"Outstanding_Debt\"])"
   ]
  },
  {
   "cell_type": "code",
   "execution_count": null,
   "id": "58aab0b6",
   "metadata": {},
   "outputs": [],
   "source": [
    "# No. of Outliers = approx 0.8% of total data\n",
    "a=0\n",
    "for i in range(len(df)):\n",
    "    if df.loc[i,\"Outstanding_Debt\"]>uf or df.loc[i,\"Outstanding_Debt\"]<lf:\n",
    "        a=a+1\n",
    "a"
   ]
  },
  {
   "cell_type": "code",
   "execution_count": null,
   "id": "201a0b5c",
   "metadata": {},
   "outputs": [],
   "source": [
    "print(df[\"Outstanding_Debt\"].mean())\n",
    "print(df[\"Outstanding_Debt\"].median())"
   ]
  },
  {
   "cell_type": "code",
   "execution_count": null,
   "id": "70a022fa",
   "metadata": {},
   "outputs": [],
   "source": [
    "for i in range(len(df)):\n",
    "    if df.loc[i,\"Outstanding_Debt\"]>uf or df.loc[i,\"Outstanding_Debt\"]<lf:\n",
    "        df.loc[i,\"Outstanding_Debt\"]=df[\"Outstanding_Debt\"].mean()"
   ]
  },
  {
   "cell_type": "code",
   "execution_count": null,
   "id": "c8b5dfd2",
   "metadata": {},
   "outputs": [],
   "source": [
    "df.boxplot(\"Outstanding_Debt\")"
   ]
  },
  {
   "cell_type": "code",
   "execution_count": null,
   "id": "16b4dea1",
   "metadata": {},
   "outputs": [],
   "source": []
  },
  {
   "cell_type": "markdown",
   "id": "117ed766",
   "metadata": {},
   "source": [
    "## Working on df[\"Credit_Utilization_Ratio\"]"
   ]
  },
  {
   "cell_type": "code",
   "execution_count": null,
   "id": "fa3331e4",
   "metadata": {},
   "outputs": [],
   "source": [
    "df[\"Credit_Utilization_Ratio\"].dtypes"
   ]
  },
  {
   "cell_type": "code",
   "execution_count": null,
   "id": "0bca097f",
   "metadata": {},
   "outputs": [],
   "source": [
    "df[\"Credit_Utilization_Ratio\"].nunique()"
   ]
  },
  {
   "cell_type": "code",
   "execution_count": null,
   "id": "fb9a8204",
   "metadata": {},
   "outputs": [],
   "source": [
    "df[\"Credit_Utilization_Ratio\"].isnull().sum()"
   ]
  },
  {
   "cell_type": "code",
   "execution_count": null,
   "id": "67a11de8",
   "metadata": {},
   "outputs": [],
   "source": [
    "df.boxplot(\"Credit_Utilization_Ratio\")"
   ]
  },
  {
   "cell_type": "code",
   "execution_count": null,
   "id": "f249ce20",
   "metadata": {},
   "outputs": [],
   "source": [
    "uf,lf=uflf(df[\"Credit_Utilization_Ratio\"])"
   ]
  },
  {
   "cell_type": "code",
   "execution_count": null,
   "id": "49245c53",
   "metadata": {},
   "outputs": [],
   "source": [
    "# No. of Outliers = approx 0.8% of total data\n",
    "a=0\n",
    "for i in range(len(df)):\n",
    "    if df.loc[i,\"Credit_Utilization_Ratio\"]>uf or df.loc[i,\"Credit_Utilization_Ratio\"]<lf:\n",
    "        a=a+1\n",
    "a"
   ]
  },
  {
   "cell_type": "code",
   "execution_count": null,
   "id": "45cb3420",
   "metadata": {},
   "outputs": [],
   "source": [
    "print(df[\"Outstanding_Debt\"].mean())\n",
    "print(df[\"Outstanding_Debt\"].median())"
   ]
  },
  {
   "cell_type": "code",
   "execution_count": null,
   "id": "760da1b2",
   "metadata": {},
   "outputs": [],
   "source": [
    "for i in range(len(df)):\n",
    "    if df.loc[i,\"Credit_Utilization_Ratio\"]>uf or df.loc[i,\"Credit_Utilization_Ratio\"]<lf:\n",
    "        df.loc[i,\"Credit_Utilization_Ratio\"]=df[\"Credit_Utilization_Ratio\"].mean()"
   ]
  },
  {
   "cell_type": "code",
   "execution_count": null,
   "id": "900580ed",
   "metadata": {},
   "outputs": [],
   "source": [
    "df.boxplot(\"Credit_Utilization_Ratio\")"
   ]
  },
  {
   "cell_type": "code",
   "execution_count": null,
   "id": "c9d7f1c2",
   "metadata": {},
   "outputs": [],
   "source": []
  },
  {
   "cell_type": "markdown",
   "id": "96b8653d",
   "metadata": {},
   "source": [
    "## Working on df[\"Credit_History_Age\"]"
   ]
  },
  {
   "cell_type": "code",
   "execution_count": 108,
   "id": "19ba9cf8",
   "metadata": {},
   "outputs": [
    {
     "data": {
      "text/plain": [
       "dtype('O')"
      ]
     },
     "execution_count": 108,
     "metadata": {},
     "output_type": "execute_result"
    }
   ],
   "source": [
    "df[\"Credit_History_Age\"].dtypes"
   ]
  },
  {
   "cell_type": "code",
   "execution_count": 109,
   "id": "00bff0d9",
   "metadata": {},
   "outputs": [
    {
     "data": {
      "text/plain": [
       "404"
      ]
     },
     "execution_count": 109,
     "metadata": {},
     "output_type": "execute_result"
    }
   ],
   "source": [
    "df[\"Credit_History_Age\"].nunique()"
   ]
  },
  {
   "cell_type": "code",
   "execution_count": 110,
   "id": "07b2ba32",
   "metadata": {},
   "outputs": [
    {
     "data": {
      "text/plain": [
       "9030"
      ]
     },
     "execution_count": 110,
     "metadata": {},
     "output_type": "execute_result"
    }
   ],
   "source": [
    "df[\"Credit_History_Age\"].isnull().sum()"
   ]
  },
  {
   "cell_type": "code",
   "execution_count": 111,
   "id": "f3f05395",
   "metadata": {},
   "outputs": [
    {
     "data": {
      "text/plain": [
       "15 Years and 11 Months    446\n",
       "19 Years and 4 Months     445\n",
       "19 Years and 5 Months     444\n",
       "17 Years and 11 Months    443\n",
       "19 Years and 3 Months     441\n",
       "                         ... \n",
       "0 Years and 3 Months       20\n",
       "0 Years and 2 Months       15\n",
       "33 Years and 7 Months      14\n",
       "33 Years and 8 Months      12\n",
       "0 Years and 1 Months        2\n",
       "Name: Credit_History_Age, Length: 404, dtype: int64"
      ]
     },
     "execution_count": 111,
     "metadata": {},
     "output_type": "execute_result"
    }
   ],
   "source": [
    "df[\"Credit_History_Age\"].value_counts()"
   ]
  },
  {
   "cell_type": "code",
   "execution_count": 112,
   "id": "b18316c9",
   "metadata": {},
   "outputs": [
    {
     "data": {
      "text/plain": [
       "9030"
      ]
     },
     "execution_count": 112,
     "metadata": {},
     "output_type": "execute_result"
    }
   ],
   "source": [
    "df[\"Credit_History_Age\"].isnull().sum()          #null values are almost 9% of the Data"
   ]
  },
  {
   "cell_type": "code",
   "execution_count": 113,
   "id": "c5c202a2",
   "metadata": {},
   "outputs": [
    {
     "data": {
      "text/plain": [
       "'17 Years and 10 Months'"
      ]
     },
     "execution_count": 113,
     "metadata": {},
     "output_type": "execute_result"
    }
   ],
   "source": [
    "df[\"Credit_History_Age\"][17]"
   ]
  },
  {
   "cell_type": "code",
   "execution_count": 114,
   "id": "c384a8bc",
   "metadata": {},
   "outputs": [
    {
     "data": {
      "text/plain": [
       "'1'"
      ]
     },
     "execution_count": 114,
     "metadata": {},
     "output_type": "execute_result"
    }
   ],
   "source": [
    "s=\"17 Years and 10 Months\"\n",
    "s[13]"
   ]
  },
  {
   "cell_type": "code",
   "execution_count": 115,
   "id": "b3535020",
   "metadata": {},
   "outputs": [
    {
     "data": {
      "text/plain": [
       "214.0"
      ]
     },
     "execution_count": 115,
     "metadata": {},
     "output_type": "execute_result"
    }
   ],
   "source": [
    "s=\"17 Years and 10 Months\"\n",
    "p=s.split(\" \")\n",
    "(float(p[0])*12)+float(p[3])"
   ]
  },
  {
   "cell_type": "code",
   "execution_count": 116,
   "id": "e195f164",
   "metadata": {},
   "outputs": [],
   "source": [
    "for i in range(len(df)):\n",
    "    s=str(df.loc[i,\"Credit_History_Age\"])\n",
    "    p=s.split(\" \")\n",
    "    if len(p)>4:\n",
    "        df.loc[i,\"Credit_History_Age\"]=(float(p[0])*12)+float(p[3])"
   ]
  },
  {
   "cell_type": "code",
   "execution_count": 117,
   "id": "f489c605",
   "metadata": {},
   "outputs": [
    {
     "data": {
      "text/plain": [
       "214.0"
      ]
     },
     "execution_count": 117,
     "metadata": {},
     "output_type": "execute_result"
    }
   ],
   "source": [
    "df[\"Credit_History_Age\"][17]"
   ]
  },
  {
   "cell_type": "code",
   "execution_count": 118,
   "id": "350da62e",
   "metadata": {},
   "outputs": [
    {
     "data": {
      "text/plain": [
       "9030"
      ]
     },
     "execution_count": 118,
     "metadata": {},
     "output_type": "execute_result"
    }
   ],
   "source": [
    "df[\"Credit_History_Age\"].isnull().sum()  "
   ]
  },
  {
   "cell_type": "code",
   "execution_count": 119,
   "id": "ff7c6668",
   "metadata": {},
   "outputs": [
    {
     "data": {
      "text/plain": [
       "dtype('O')"
      ]
     },
     "execution_count": 119,
     "metadata": {},
     "output_type": "execute_result"
    }
   ],
   "source": [
    "df[\"Credit_History_Age\"].dtypes"
   ]
  },
  {
   "cell_type": "code",
   "execution_count": 120,
   "id": "f4895967",
   "metadata": {},
   "outputs": [],
   "source": [
    "df[\"Credit_History_Age\"]=df[\"Credit_History_Age\"].astype(float)"
   ]
  },
  {
   "cell_type": "code",
   "execution_count": 121,
   "id": "be6dd6a6",
   "metadata": {},
   "outputs": [
    {
     "data": {
      "text/plain": [
       "dtype('float64')"
      ]
     },
     "execution_count": 121,
     "metadata": {},
     "output_type": "execute_result"
    }
   ],
   "source": [
    "df[\"Credit_History_Age\"].dtypes"
   ]
  },
  {
   "cell_type": "code",
   "execution_count": 124,
   "id": "62ee290f",
   "metadata": {},
   "outputs": [
    {
     "name": "stdout",
     "output_type": "stream",
     "text": [
      "Minimum 1.0\n",
      "Maximum 404.0\n",
      "Range 403.0\n",
      "uf= 539.0    lf= -93.0\n"
     ]
    }
   ],
   "source": [
    "uf,lf=uflf(df[\"Credit_History_Age\"])"
   ]
  },
  {
   "cell_type": "code",
   "execution_count": 125,
   "id": "9e57f0c6",
   "metadata": {},
   "outputs": [
    {
     "data": {
      "text/plain": [
       "0"
      ]
     },
     "execution_count": 125,
     "metadata": {},
     "output_type": "execute_result"
    }
   ],
   "source": [
    "# No. of Outliers = approx 0.8% of total data\n",
    "a=0\n",
    "for i in range(len(df)):\n",
    "    if df.loc[i,\"Credit_History_Age\"]>uf or df.loc[i,\"Credit_History_Age\"]<lf:\n",
    "        a=a+1\n",
    "a"
   ]
  },
  {
   "cell_type": "code",
   "execution_count": 127,
   "id": "818de7c9",
   "metadata": {},
   "outputs": [
    {
     "name": "stdout",
     "output_type": "stream",
     "text": [
      "221.19540507859733\n",
      "219.0\n"
     ]
    }
   ],
   "source": [
    "print(df[\"Credit_History_Age\"].mean())\n",
    "print(df[\"Credit_History_Age\"].median())"
   ]
  },
  {
   "cell_type": "code",
   "execution_count": 128,
   "id": "b98e21f8",
   "metadata": {},
   "outputs": [],
   "source": [
    "df[\"Credit_History_Age\"].fillna(df[\"Credit_History_Age\"].mean(),inplace=True)"
   ]
  },
  {
   "cell_type": "code",
   "execution_count": 129,
   "id": "43abeec1",
   "metadata": {},
   "outputs": [
    {
     "data": {
      "text/plain": [
       "0"
      ]
     },
     "execution_count": 129,
     "metadata": {},
     "output_type": "execute_result"
    }
   ],
   "source": [
    "df[\"Credit_History_Age\"].isnull().sum()  "
   ]
  },
  {
   "cell_type": "markdown",
   "id": "c3dca407",
   "metadata": {},
   "source": [
    "## Working on df[\"Payment_of_Min_Amount\"]"
   ]
  },
  {
   "cell_type": "code",
   "execution_count": null,
   "id": "08e9edef",
   "metadata": {},
   "outputs": [],
   "source": [
    "df[\"Payment_of_Min_Amount\"].dtypes"
   ]
  },
  {
   "cell_type": "code",
   "execution_count": null,
   "id": "d9352411",
   "metadata": {},
   "outputs": [],
   "source": [
    "df[\"Payment_of_Min_Amount\"].nunique()"
   ]
  },
  {
   "cell_type": "code",
   "execution_count": null,
   "id": "5002dd7d",
   "metadata": {},
   "outputs": [],
   "source": [
    "df[\"Payment_of_Min_Amount\"].isnull().sum()"
   ]
  },
  {
   "cell_type": "code",
   "execution_count": null,
   "id": "0d12ee27",
   "metadata": {},
   "outputs": [],
   "source": [
    "df[\"Payment_of_Min_Amount\"].value_counts()"
   ]
  },
  {
   "cell_type": "code",
   "execution_count": null,
   "id": "a7a6f6d4",
   "metadata": {},
   "outputs": [],
   "source": [
    "sns.countplot(x=df[\"Payment_of_Min_Amount\"])"
   ]
  },
  {
   "cell_type": "code",
   "execution_count": null,
   "id": "1528c38f",
   "metadata": {},
   "outputs": [],
   "source": []
  },
  {
   "cell_type": "markdown",
   "id": "5465cab1",
   "metadata": {},
   "source": [
    "## Working on df[\"Total_EMI_per_month\"]"
   ]
  },
  {
   "cell_type": "code",
   "execution_count": null,
   "id": "8750e07d",
   "metadata": {},
   "outputs": [],
   "source": [
    "df[\"Total_EMI_per_month\"].dtypes"
   ]
  },
  {
   "cell_type": "code",
   "execution_count": null,
   "id": "5b9d8877",
   "metadata": {},
   "outputs": [],
   "source": [
    "df[\"Total_EMI_per_month\"].isnull().sum()"
   ]
  },
  {
   "cell_type": "code",
   "execution_count": null,
   "id": "295285a4",
   "metadata": {},
   "outputs": [],
   "source": [
    "df[\"Total_EMI_per_month\"].nunique()"
   ]
  },
  {
   "cell_type": "code",
   "execution_count": null,
   "id": "4023bc97",
   "metadata": {},
   "outputs": [],
   "source": [
    "df.boxplot(\"Total_EMI_per_month\")"
   ]
  },
  {
   "cell_type": "code",
   "execution_count": null,
   "id": "328fc941",
   "metadata": {},
   "outputs": [],
   "source": [
    "uf,lf=uflf(df[\"Total_EMI_per_month\"])"
   ]
  },
  {
   "cell_type": "code",
   "execution_count": null,
   "id": "c85caf61",
   "metadata": {},
   "outputs": [],
   "source": [
    "# No. of Outliers = approx 0.8% of total data\n",
    "a=0\n",
    "for i in range(len(df)):\n",
    "    if df.loc[i,\"Total_EMI_per_month\"]>uf or df.loc[i,\"Total_EMI_per_month\"]<lf:\n",
    "        a=a+1\n",
    "a"
   ]
  },
  {
   "cell_type": "code",
   "execution_count": null,
   "id": "06153cea",
   "metadata": {},
   "outputs": [],
   "source": [
    "print(df[\"Total_EMI_per_month\"].mean())\n",
    "print(df[\"Total_EMI_per_month\"].median())"
   ]
  },
  {
   "cell_type": "code",
   "execution_count": null,
   "id": "215b7e8b",
   "metadata": {},
   "outputs": [],
   "source": [
    "for i in range(len(df)):\n",
    "    if df.loc[i,\"Total_EMI_per_month\"]>uf or df.loc[i,\"Total_EMI_per_month\"]<lf:\n",
    "        df.loc[i,\"Total_EMI_per_month\"]=df[\"Total_EMI_per_month\"].median()"
   ]
  },
  {
   "cell_type": "code",
   "execution_count": null,
   "id": "edcebe44",
   "metadata": {},
   "outputs": [],
   "source": [
    "df.boxplot(\"Total_EMI_per_month\")"
   ]
  },
  {
   "cell_type": "code",
   "execution_count": null,
   "id": "092a3c07",
   "metadata": {},
   "outputs": [],
   "source": []
  },
  {
   "cell_type": "markdown",
   "id": "1a53a625",
   "metadata": {},
   "source": [
    "## Working on df[\"Amount_invested_monthly\"]"
   ]
  },
  {
   "cell_type": "code",
   "execution_count": null,
   "id": "f47c5502",
   "metadata": {},
   "outputs": [],
   "source": [
    "df[\"Amount_invested_monthly\"].dtypes"
   ]
  },
  {
   "cell_type": "code",
   "execution_count": null,
   "id": "056c59f0",
   "metadata": {},
   "outputs": [],
   "source": [
    "df[\"Amount_invested_monthly\"]"
   ]
  },
  {
   "cell_type": "code",
   "execution_count": null,
   "id": "679d2260",
   "metadata": {},
   "outputs": [],
   "source": [
    "df[\"Amount_invested_monthly\"]=df[\"Amount_invested_monthly\"].str.replace(\"_\",\"\").astype(float)"
   ]
  },
  {
   "cell_type": "code",
   "execution_count": null,
   "id": "ee4da018",
   "metadata": {},
   "outputs": [],
   "source": [
    "df[\"Amount_invested_monthly\"].dtypes"
   ]
  },
  {
   "cell_type": "code",
   "execution_count": null,
   "id": "7cb8a7e7",
   "metadata": {},
   "outputs": [],
   "source": [
    "df[\"Amount_invested_monthly\"].isnull().sum()"
   ]
  },
  {
   "cell_type": "code",
   "execution_count": null,
   "id": "d8c8dfc3",
   "metadata": {},
   "outputs": [],
   "source": [
    "df[\"Amount_invested_monthly\"].nunique()"
   ]
  },
  {
   "cell_type": "code",
   "execution_count": null,
   "id": "ecc215b7",
   "metadata": {},
   "outputs": [],
   "source": [
    "uf,lf = uflf(df[\"Amount_invested_monthly\"])"
   ]
  },
  {
   "cell_type": "code",
   "execution_count": null,
   "id": "f0867cae",
   "metadata": {},
   "outputs": [],
   "source": [
    "df.boxplot(\"Amount_invested_monthly\")"
   ]
  },
  {
   "cell_type": "code",
   "execution_count": null,
   "id": "687dc56c",
   "metadata": {},
   "outputs": [],
   "source": [
    "# No. of Outliers = approx 10% of total data\n",
    "a=0\n",
    "for i in range(len(df)):\n",
    "    if df.loc[i,\"Amount_invested_monthly\"]>uf or df.loc[i,\"Amount_invested_monthly\"]<lf:\n",
    "        a=a+1\n",
    "a"
   ]
  },
  {
   "cell_type": "code",
   "execution_count": null,
   "id": "477ca66e",
   "metadata": {},
   "outputs": [],
   "source": [
    "print(df[\"Amount_invested_monthly\"].mean())\n",
    "print(df[\"Amount_invested_monthly\"].median())"
   ]
  },
  {
   "cell_type": "code",
   "execution_count": null,
   "id": "327517ce",
   "metadata": {},
   "outputs": [],
   "source": [
    "#Total Data to be treated is outliers + Null values, is around 15% of Data.\n",
    "for i in range(len(df)):\n",
    "    if df.loc[i,\"Amount_invested_monthly\"]>uf or df.loc[i,\"Amount_invested_monthly\"]<lf:\n",
    "        df.loc[i,\"Amount_invested_monthly\"]=df[\"Amount_invested_monthly\"].median()"
   ]
  },
  {
   "cell_type": "code",
   "execution_count": null,
   "id": "87f733aa",
   "metadata": {},
   "outputs": [],
   "source": [
    "med=df[\"Amount_invested_monthly\"].median()"
   ]
  },
  {
   "cell_type": "code",
   "execution_count": null,
   "id": "9adda56f",
   "metadata": {},
   "outputs": [],
   "source": [
    "df[\"Amount_invested_monthly\"].fillna(df[\"Amount_invested_monthly\"].median(),inplace=True)"
   ]
  },
  {
   "cell_type": "code",
   "execution_count": null,
   "id": "373199f1",
   "metadata": {},
   "outputs": [],
   "source": [
    "df.boxplot(\"Amount_invested_monthly\")"
   ]
  },
  {
   "cell_type": "code",
   "execution_count": null,
   "id": "67e1c603",
   "metadata": {},
   "outputs": [],
   "source": [
    "df[\"Amount_invested_monthly\"].isnull().sum()"
   ]
  },
  {
   "cell_type": "code",
   "execution_count": null,
   "id": "9fb9bd54",
   "metadata": {},
   "outputs": [],
   "source": []
  },
  {
   "cell_type": "markdown",
   "id": "8a6afdca",
   "metadata": {},
   "source": [
    "## Working on df[\"Payment_Behaviour\"]"
   ]
  },
  {
   "cell_type": "code",
   "execution_count": 3,
   "id": "a031dd90",
   "metadata": {},
   "outputs": [
    {
     "data": {
      "text/plain": [
       "7"
      ]
     },
     "execution_count": 3,
     "metadata": {},
     "output_type": "execute_result"
    }
   ],
   "source": [
    "df[\"Payment_Behaviour\"].nunique()"
   ]
  },
  {
   "cell_type": "code",
   "execution_count": null,
   "id": "be61cc4a",
   "metadata": {},
   "outputs": [],
   "source": [
    "df[\"Payment_Behaviour\"].isnull().sum()"
   ]
  },
  {
   "cell_type": "code",
   "execution_count": null,
   "id": "15a6ac47",
   "metadata": {},
   "outputs": [],
   "source": [
    "df[\"Payment_Behaviour\"].value_counts()"
   ]
  },
  {
   "cell_type": "code",
   "execution_count": null,
   "id": "fdf0675c",
   "metadata": {},
   "outputs": [],
   "source": [
    "mode_of_Payment_Behaviour=df[\"Payment_Behaviour\"].mode()"
   ]
  },
  {
   "cell_type": "code",
   "execution_count": null,
   "id": "05278d6a",
   "metadata": {},
   "outputs": [],
   "source": [
    "#   '!@9#%8' is to be treated, It occupies about 7% of the data.....Treating it by replacing it with mode() of the column\n",
    "df[\"Payment_Behaviour\"]=df[\"Payment_Behaviour\"].replace(\"!@9#%8\",\"Low_spent_Small_value_payments\")"
   ]
  },
  {
   "cell_type": "code",
   "execution_count": null,
   "id": "b2f79a24",
   "metadata": {},
   "outputs": [],
   "source": [
    "df[\"Payment_Behaviour\"].value_counts()"
   ]
  },
  {
   "cell_type": "code",
   "execution_count": null,
   "id": "2dedf02c",
   "metadata": {},
   "outputs": [],
   "source": [
    "sns.countplot(x=df[\"Payment_Behaviour\"])"
   ]
  },
  {
   "cell_type": "code",
   "execution_count": null,
   "id": "dd210c87",
   "metadata": {},
   "outputs": [],
   "source": []
  },
  {
   "cell_type": "markdown",
   "id": "103352fa",
   "metadata": {},
   "source": [
    "## Working on df[\" Monthly_Balance\"]"
   ]
  },
  {
   "cell_type": "code",
   "execution_count": 13,
   "id": "f4e8a422",
   "metadata": {},
   "outputs": [
    {
     "data": {
      "text/plain": [
       "98792"
      ]
     },
     "execution_count": 13,
     "metadata": {},
     "output_type": "execute_result"
    }
   ],
   "source": [
    "df[\"Monthly_Balance\"].nunique()"
   ]
  },
  {
   "cell_type": "code",
   "execution_count": 14,
   "id": "4e539876",
   "metadata": {},
   "outputs": [
    {
     "data": {
      "text/plain": [
       "dtype('O')"
      ]
     },
     "execution_count": 14,
     "metadata": {},
     "output_type": "execute_result"
    }
   ],
   "source": [
    "df[\"Monthly_Balance\"].dtypes"
   ]
  },
  {
   "cell_type": "code",
   "execution_count": 15,
   "id": "844579c0",
   "metadata": {},
   "outputs": [
    {
     "data": {
      "text/plain": [
       "1200"
      ]
     },
     "execution_count": 15,
     "metadata": {},
     "output_type": "execute_result"
    }
   ],
   "source": [
    "df[\"Monthly_Balance\"].isnull().sum()"
   ]
  },
  {
   "cell_type": "code",
   "execution_count": 16,
   "id": "a9a64871",
   "metadata": {},
   "outputs": [],
   "source": [
    "df[\"Monthly_Balance\"]=df[\"Monthly_Balance\"].str.replace(\"_\",\"\").astype(float)"
   ]
  },
  {
   "cell_type": "code",
   "execution_count": 17,
   "id": "6fc31003",
   "metadata": {},
   "outputs": [
    {
     "data": {
      "text/plain": [
       "2868"
      ]
     },
     "execution_count": 17,
     "metadata": {},
     "output_type": "execute_result"
    }
   ],
   "source": [
    "df[\"Monthly_Balance\"].isnull().sum()"
   ]
  },
  {
   "cell_type": "code",
   "execution_count": 18,
   "id": "1b8973b4",
   "metadata": {},
   "outputs": [
    {
     "data": {
      "text/plain": [
       "dtype('float64')"
      ]
     },
     "execution_count": 18,
     "metadata": {},
     "output_type": "execute_result"
    }
   ],
   "source": [
    "df[\"Monthly_Balance\"].dtypes"
   ]
  },
  {
   "cell_type": "code",
   "execution_count": 19,
   "id": "966e8914",
   "metadata": {},
   "outputs": [
    {
     "data": {
      "text/plain": [
       "97124"
      ]
     },
     "execution_count": 19,
     "metadata": {},
     "output_type": "execute_result"
    }
   ],
   "source": [
    "df[\"Monthly_Balance\"].nunique()"
   ]
  },
  {
   "cell_type": "code",
   "execution_count": 20,
   "id": "3cce9cd9",
   "metadata": {},
   "outputs": [
    {
     "data": {
      "text/plain": [
       "<Axes: >"
      ]
     },
     "execution_count": 20,
     "metadata": {},
     "output_type": "execute_result"
    },
    {
     "data": {
      "image/png": "[encoded data removed]",
      "text/plain": [
       "<Figure size 640x480 with 1 Axes>"
      ]
     },
     "metadata": {},
     "output_type": "display_data"
    }
   ],
   "source": [
    "df.boxplot(\"Monthly_Balance\")"
   ]
  },
  {
   "cell_type": "code",
   "execution_count": 23,
   "id": "f6a5f568",
   "metadata": {},
   "outputs": [
    {
     "name": "stdout",
     "output_type": "stream",
     "text": [
      "Minimum -3.333333333333333e+26\n",
      "Maximum 1602.0405189622518\n",
      "Range 3.333333333333333e+26\n",
      "uf= 769.1225277810217    lf= -29.49624661125773\n"
     ]
    }
   ],
   "source": [
    "uf,lf=uflf(df[\"Monthly_Balance\"])"
   ]
  },
  {
   "cell_type": "code",
   "execution_count": 24,
   "id": "dbdfc433",
   "metadata": {},
   "outputs": [
    {
     "data": {
      "text/plain": [
       "7517"
      ]
     },
     "execution_count": 24,
     "metadata": {},
     "output_type": "execute_result"
    }
   ],
   "source": [
    "# No. of Outliers = approx 10% of total data\n",
    "a=0\n",
    "for i in range(len(df)):\n",
    "    if df.loc[i,\"Monthly_Balance\"]>uf or df.loc[i,\"Monthly_Balance\"]<lf:\n",
    "        a=a+1\n",
    "a"
   ]
  },
  {
   "cell_type": "code",
   "execution_count": 25,
   "id": "0c8ae5e1",
   "metadata": {},
   "outputs": [
    {
     "name": "stdout",
     "output_type": "stream",
     "text": [
      "-3.0885804884075278e+22\n",
      "336.44926592668395\n"
     ]
    }
   ],
   "source": [
    "print(df[\"Monthly_Balance\"].mean())\n",
    "print(df[\"Monthly_Balance\"].median())"
   ]
  },
  {
   "cell_type": "code",
   "execution_count": 26,
   "id": "8e8d0420",
   "metadata": {},
   "outputs": [
    {
     "data": {
      "text/plain": [
       "2868"
      ]
     },
     "execution_count": 26,
     "metadata": {},
     "output_type": "execute_result"
    }
   ],
   "source": [
    "df[\"Monthly_Balance\"].isnull().sum()"
   ]
  },
  {
   "cell_type": "code",
   "execution_count": 18,
   "id": "426c1128",
   "metadata": {},
   "outputs": [],
   "source": [
    "# Data to be treated is about 10% of total"
   ]
  },
  {
   "cell_type": "code",
   "execution_count": 28,
   "id": "c640caf3",
   "metadata": {},
   "outputs": [],
   "source": [
    "#Missing Value Treatment\n",
    "df['Monthly_Balance'].fillna(df['Monthly_Balance'].median(),inplace=True)"
   ]
  },
  {
   "cell_type": "code",
   "execution_count": 29,
   "id": "7023694c",
   "metadata": {},
   "outputs": [
    {
     "data": {
      "text/plain": [
       "0"
      ]
     },
     "execution_count": 29,
     "metadata": {},
     "output_type": "execute_result"
    }
   ],
   "source": [
    "df[\"Monthly_Balance\"].isnull().sum()"
   ]
  },
  {
   "cell_type": "code",
   "execution_count": 35,
   "id": "30e0653a",
   "metadata": {},
   "outputs": [],
   "source": [
    "for i in range(len(df)):\n",
    "    if df.loc[i,\"Monthly_Balance\"]>uf or df.loc[i,\"Monthly_Balance\"]<lf:\n",
    "        df.loc[i,\"Monthly_Balance\"]=df[\"Monthly_Balance\"].median()"
   ]
  },
  {
   "cell_type": "code",
   "execution_count": 36,
   "id": "4ee32213",
   "metadata": {},
   "outputs": [
    {
     "data": {
      "text/plain": [
       "0"
      ]
     },
     "execution_count": 36,
     "metadata": {},
     "output_type": "execute_result"
    }
   ],
   "source": [
    "df[\"Monthly_Balance\"].isnull().sum()"
   ]
  },
  {
   "cell_type": "code",
   "execution_count": null,
   "id": "9a77c58c",
   "metadata": {},
   "outputs": [],
   "source": []
  }
 ],
 "metadata": {
  "kernelspec": {
   "display_name": "Python 3 (ipykernel)",
   "language": "python",
   "name": "python3"
  },
  "language_info": {
   "codemirror_mode": {
    "name": "ipython",
    "version": 3
   },
   "file_extension": ".py",
   "mimetype": "text/x-python",
   "name": "python",
   "nbconvert_exporter": "python",
   "pygments_lexer": "ipython3",
   "version": "3.10.9"
  }
 },
 "nbformat": 4,
 "nbformat_minor": 5
}
