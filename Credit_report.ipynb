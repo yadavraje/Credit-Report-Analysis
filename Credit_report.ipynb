{
 "cells": [
  {
   "cell_type": "code",
   "execution_count": 418,
   "id": "3bc1e8a5",
   "metadata": {},
   "outputs": [],
   "source": [
    "import pandas as pd\n",
    "import numpy as np\n",
    "import matplotlib.pyplot as plt\n",
    "import seaborn as sns"
   ]
  },
  {
   "cell_type": "code",
   "execution_count": 640,
   "id": "007ebc0d",
   "metadata": {},
   "outputs": [
    {
     "name": "stderr",
     "output_type": "stream",
     "text": [
      "C:\\Users\\Rajesh Desai\\AppData\\Local\\Temp\\ipykernel_8856\\2187086723.py:1: DtypeWarning: Columns (26) have mixed types. Specify dtype option on import or set low_memory=False.\n",
      "  df=pd.read_csv(\"Credit_report.csv\")\n"
     ]
    },
    {
     "data": {
      "text/html": [
       "<div>\n",
       "<style scoped>\n",
       "    .dataframe tbody tr th:only-of-type {\n",
       "        vertical-align: middle;\n",
       "    }\n",
       "\n",
       "    .dataframe tbody tr th {\n",
       "        vertical-align: top;\n",
       "    }\n",
       "\n",
       "    .dataframe thead th {\n",
       "        text-align: right;\n",
       "    }\n",
       "</style>\n",
       "<table border=\"1\" class=\"dataframe\">\n",
       "  <thead>\n",
       "    <tr style=\"text-align: right;\">\n",
       "      <th></th>\n",
       "      <th>ID</th>\n",
       "      <th>Customer_ID</th>\n",
       "      <th>Month</th>\n",
       "      <th>Name</th>\n",
       "      <th>Age</th>\n",
       "      <th>SSN</th>\n",
       "      <th>Occupation</th>\n",
       "      <th>Annual_Income</th>\n",
       "      <th>Monthly_Inhand_Salary</th>\n",
       "      <th>Num_Bank_Accounts</th>\n",
       "      <th>...</th>\n",
       "      <th>Credit_Mix</th>\n",
       "      <th>Outstanding_Debt</th>\n",
       "      <th>Credit_Utilization_Ratio</th>\n",
       "      <th>Credit_History_Age</th>\n",
       "      <th>Payment_of_Min_Amount</th>\n",
       "      <th>Total_EMI_per_month</th>\n",
       "      <th>Amount_invested_monthly</th>\n",
       "      <th>Payment_Behaviour</th>\n",
       "      <th>Monthly_Balance</th>\n",
       "      <th>Credit_Score</th>\n",
       "    </tr>\n",
       "  </thead>\n",
       "  <tbody>\n",
       "    <tr>\n",
       "      <th>0</th>\n",
       "      <td>0x1602</td>\n",
       "      <td>CUS_0xd40</td>\n",
       "      <td>January</td>\n",
       "      <td>Aaron Maashoh</td>\n",
       "      <td>23</td>\n",
       "      <td>821-00-0265</td>\n",
       "      <td>Scientist</td>\n",
       "      <td>19114.12</td>\n",
       "      <td>1824.843333</td>\n",
       "      <td>3</td>\n",
       "      <td>...</td>\n",
       "      <td>_</td>\n",
       "      <td>809.98</td>\n",
       "      <td>26.822620</td>\n",
       "      <td>22 Years and 1 Months</td>\n",
       "      <td>No</td>\n",
       "      <td>49.574949</td>\n",
       "      <td>80.41529543900253</td>\n",
       "      <td>High_spent_Small_value_payments</td>\n",
       "      <td>312.49408867943663</td>\n",
       "      <td>Good</td>\n",
       "    </tr>\n",
       "    <tr>\n",
       "      <th>1</th>\n",
       "      <td>0x1603</td>\n",
       "      <td>CUS_0xd40</td>\n",
       "      <td>February</td>\n",
       "      <td>Aaron Maashoh</td>\n",
       "      <td>23</td>\n",
       "      <td>821-00-0265</td>\n",
       "      <td>Scientist</td>\n",
       "      <td>19114.12</td>\n",
       "      <td>NaN</td>\n",
       "      <td>3</td>\n",
       "      <td>...</td>\n",
       "      <td>Good</td>\n",
       "      <td>809.98</td>\n",
       "      <td>31.944960</td>\n",
       "      <td>NaN</td>\n",
       "      <td>No</td>\n",
       "      <td>49.574949</td>\n",
       "      <td>118.28022162236736</td>\n",
       "      <td>Low_spent_Large_value_payments</td>\n",
       "      <td>284.62916249607184</td>\n",
       "      <td>Good</td>\n",
       "    </tr>\n",
       "    <tr>\n",
       "      <th>2</th>\n",
       "      <td>0x1604</td>\n",
       "      <td>CUS_0xd40</td>\n",
       "      <td>March</td>\n",
       "      <td>Aaron Maashoh</td>\n",
       "      <td>-500</td>\n",
       "      <td>821-00-0265</td>\n",
       "      <td>Scientist</td>\n",
       "      <td>19114.12</td>\n",
       "      <td>NaN</td>\n",
       "      <td>3</td>\n",
       "      <td>...</td>\n",
       "      <td>Good</td>\n",
       "      <td>809.98</td>\n",
       "      <td>28.609352</td>\n",
       "      <td>22 Years and 3 Months</td>\n",
       "      <td>No</td>\n",
       "      <td>49.574949</td>\n",
       "      <td>81.699521264648</td>\n",
       "      <td>Low_spent_Medium_value_payments</td>\n",
       "      <td>331.2098628537912</td>\n",
       "      <td>Good</td>\n",
       "    </tr>\n",
       "    <tr>\n",
       "      <th>3</th>\n",
       "      <td>0x1605</td>\n",
       "      <td>CUS_0xd40</td>\n",
       "      <td>April</td>\n",
       "      <td>Aaron Maashoh</td>\n",
       "      <td>23</td>\n",
       "      <td>821-00-0265</td>\n",
       "      <td>Scientist</td>\n",
       "      <td>19114.12</td>\n",
       "      <td>NaN</td>\n",
       "      <td>3</td>\n",
       "      <td>...</td>\n",
       "      <td>Good</td>\n",
       "      <td>809.98</td>\n",
       "      <td>31.377862</td>\n",
       "      <td>22 Years and 4 Months</td>\n",
       "      <td>No</td>\n",
       "      <td>49.574949</td>\n",
       "      <td>199.4580743910713</td>\n",
       "      <td>Low_spent_Small_value_payments</td>\n",
       "      <td>223.45130972736786</td>\n",
       "      <td>Good</td>\n",
       "    </tr>\n",
       "    <tr>\n",
       "      <th>4</th>\n",
       "      <td>0x1606</td>\n",
       "      <td>CUS_0xd40</td>\n",
       "      <td>May</td>\n",
       "      <td>Aaron Maashoh</td>\n",
       "      <td>23</td>\n",
       "      <td>821-00-0265</td>\n",
       "      <td>Scientist</td>\n",
       "      <td>19114.12</td>\n",
       "      <td>1824.843333</td>\n",
       "      <td>3</td>\n",
       "      <td>...</td>\n",
       "      <td>Good</td>\n",
       "      <td>809.98</td>\n",
       "      <td>24.797347</td>\n",
       "      <td>22 Years and 5 Months</td>\n",
       "      <td>No</td>\n",
       "      <td>49.574949</td>\n",
       "      <td>41.420153086217326</td>\n",
       "      <td>High_spent_Medium_value_payments</td>\n",
       "      <td>341.48923103222177</td>\n",
       "      <td>Good</td>\n",
       "    </tr>\n",
       "  </tbody>\n",
       "</table>\n",
       "<p>5 rows × 28 columns</p>\n",
       "</div>"
      ],
      "text/plain": [
       "       ID Customer_ID     Month           Name   Age          SSN Occupation  \\\n",
       "0  0x1602   CUS_0xd40   January  Aaron Maashoh    23  821-00-0265  Scientist   \n",
       "1  0x1603   CUS_0xd40  February  Aaron Maashoh    23  821-00-0265  Scientist   \n",
       "2  0x1604   CUS_0xd40     March  Aaron Maashoh  -500  821-00-0265  Scientist   \n",
       "3  0x1605   CUS_0xd40     April  Aaron Maashoh    23  821-00-0265  Scientist   \n",
       "4  0x1606   CUS_0xd40       May  Aaron Maashoh    23  821-00-0265  Scientist   \n",
       "\n",
       "  Annual_Income  Monthly_Inhand_Salary  Num_Bank_Accounts  ...  Credit_Mix  \\\n",
       "0      19114.12            1824.843333                  3  ...           _   \n",
       "1      19114.12                    NaN                  3  ...        Good   \n",
       "2      19114.12                    NaN                  3  ...        Good   \n",
       "3      19114.12                    NaN                  3  ...        Good   \n",
       "4      19114.12            1824.843333                  3  ...        Good   \n",
       "\n",
       "   Outstanding_Debt Credit_Utilization_Ratio     Credit_History_Age  \\\n",
       "0            809.98                26.822620  22 Years and 1 Months   \n",
       "1            809.98                31.944960                    NaN   \n",
       "2            809.98                28.609352  22 Years and 3 Months   \n",
       "3            809.98                31.377862  22 Years and 4 Months   \n",
       "4            809.98                24.797347  22 Years and 5 Months   \n",
       "\n",
       "   Payment_of_Min_Amount Total_EMI_per_month Amount_invested_monthly  \\\n",
       "0                     No           49.574949       80.41529543900253   \n",
       "1                     No           49.574949      118.28022162236736   \n",
       "2                     No           49.574949         81.699521264648   \n",
       "3                     No           49.574949       199.4580743910713   \n",
       "4                     No           49.574949      41.420153086217326   \n",
       "\n",
       "                  Payment_Behaviour     Monthly_Balance Credit_Score  \n",
       "0   High_spent_Small_value_payments  312.49408867943663         Good  \n",
       "1    Low_spent_Large_value_payments  284.62916249607184         Good  \n",
       "2   Low_spent_Medium_value_payments   331.2098628537912         Good  \n",
       "3    Low_spent_Small_value_payments  223.45130972736786         Good  \n",
       "4  High_spent_Medium_value_payments  341.48923103222177         Good  \n",
       "\n",
       "[5 rows x 28 columns]"
      ]
     },
     "execution_count": 640,
     "metadata": {},
     "output_type": "execute_result"
    }
   ],
   "source": [
    "df=pd.read_csv(\"Credit_report.csv\")\n",
    "df.head()"
   ]
  },
  {
   "cell_type": "code",
   "execution_count": 420,
   "id": "69ecc913",
   "metadata": {},
   "outputs": [
    {
     "name": "stdout",
     "output_type": "stream",
     "text": [
      "<class 'pandas.core.frame.DataFrame'>\n",
      "RangeIndex: 100000 entries, 0 to 99999\n",
      "Data columns (total 28 columns):\n",
      " #   Column                    Non-Null Count   Dtype  \n",
      "---  ------                    --------------   -----  \n",
      " 0   ID                        100000 non-null  object \n",
      " 1   Customer_ID               100000 non-null  object \n",
      " 2   Month                     100000 non-null  object \n",
      " 3   Name                      90015 non-null   object \n",
      " 4   Age                       100000 non-null  object \n",
      " 5   SSN                       100000 non-null  object \n",
      " 6   Occupation                100000 non-null  object \n",
      " 7   Annual_Income             100000 non-null  object \n",
      " 8   Monthly_Inhand_Salary     84998 non-null   float64\n",
      " 9   Num_Bank_Accounts         100000 non-null  int64  \n",
      " 10  Num_Credit_Card           100000 non-null  int64  \n",
      " 11  Interest_Rate             100000 non-null  int64  \n",
      " 12  Num_of_Loan               100000 non-null  object \n",
      " 13  Type_of_Loan              88592 non-null   object \n",
      " 14  Delay_from_due_date       100000 non-null  int64  \n",
      " 15  Num_of_Delayed_Payment    92998 non-null   object \n",
      " 16  Changed_Credit_Limit      100000 non-null  object \n",
      " 17  Num_Credit_Inquiries      98035 non-null   float64\n",
      " 18  Credit_Mix                100000 non-null  object \n",
      " 19  Outstanding_Debt          100000 non-null  object \n",
      " 20  Credit_Utilization_Ratio  100000 non-null  float64\n",
      " 21  Credit_History_Age        90970 non-null   object \n",
      " 22  Payment_of_Min_Amount     100000 non-null  object \n",
      " 23  Total_EMI_per_month       100000 non-null  float64\n",
      " 24  Amount_invested_monthly   95521 non-null   object \n",
      " 25  Payment_Behaviour         100000 non-null  object \n",
      " 26  Monthly_Balance           98800 non-null   object \n",
      " 27  Credit_Score              100000 non-null  object \n",
      "dtypes: float64(4), int64(4), object(20)\n",
      "memory usage: 21.4+ MB\n"
     ]
    }
   ],
   "source": [
    "df.info()"
   ]
  },
  {
   "cell_type": "code",
   "execution_count": 421,
   "id": "855b80e1",
   "metadata": {},
   "outputs": [
    {
     "data": {
      "text/plain": [
       "(100000, 28)"
      ]
     },
     "execution_count": 421,
     "metadata": {},
     "output_type": "execute_result"
    }
   ],
   "source": [
    "df.shape   #check the shapeof data"
   ]
  },
  {
   "cell_type": "code",
   "execution_count": 422,
   "id": "9b151f7a",
   "metadata": {},
   "outputs": [
    {
     "data": {
      "text/html": [
       "<div>\n",
       "<style scoped>\n",
       "    .dataframe tbody tr th:only-of-type {\n",
       "        vertical-align: middle;\n",
       "    }\n",
       "\n",
       "    .dataframe tbody tr th {\n",
       "        vertical-align: top;\n",
       "    }\n",
       "\n",
       "    .dataframe thead th {\n",
       "        text-align: right;\n",
       "    }\n",
       "</style>\n",
       "<table border=\"1\" class=\"dataframe\">\n",
       "  <thead>\n",
       "    <tr style=\"text-align: right;\">\n",
       "      <th></th>\n",
       "      <th>ID</th>\n",
       "      <th>Customer_ID</th>\n",
       "      <th>Month</th>\n",
       "      <th>Name</th>\n",
       "      <th>Age</th>\n",
       "      <th>SSN</th>\n",
       "      <th>Occupation</th>\n",
       "      <th>Annual_Income</th>\n",
       "      <th>Monthly_Inhand_Salary</th>\n",
       "      <th>Num_Bank_Accounts</th>\n",
       "      <th>...</th>\n",
       "      <th>Credit_Mix</th>\n",
       "      <th>Outstanding_Debt</th>\n",
       "      <th>Credit_Utilization_Ratio</th>\n",
       "      <th>Credit_History_Age</th>\n",
       "      <th>Payment_of_Min_Amount</th>\n",
       "      <th>Total_EMI_per_month</th>\n",
       "      <th>Amount_invested_monthly</th>\n",
       "      <th>Payment_Behaviour</th>\n",
       "      <th>Monthly_Balance</th>\n",
       "      <th>Credit_Score</th>\n",
       "    </tr>\n",
       "  </thead>\n",
       "  <tbody>\n",
       "    <tr>\n",
       "      <th>0</th>\n",
       "      <td>0x1602</td>\n",
       "      <td>CUS_0xd40</td>\n",
       "      <td>January</td>\n",
       "      <td>Aaron Maashoh</td>\n",
       "      <td>23</td>\n",
       "      <td>821-00-0265</td>\n",
       "      <td>Scientist</td>\n",
       "      <td>19114.12</td>\n",
       "      <td>1824.843333</td>\n",
       "      <td>3</td>\n",
       "      <td>...</td>\n",
       "      <td>_</td>\n",
       "      <td>809.98</td>\n",
       "      <td>26.822620</td>\n",
       "      <td>22 Years and 1 Months</td>\n",
       "      <td>No</td>\n",
       "      <td>49.574949</td>\n",
       "      <td>80.41529543900253</td>\n",
       "      <td>High_spent_Small_value_payments</td>\n",
       "      <td>312.49408867943663</td>\n",
       "      <td>Good</td>\n",
       "    </tr>\n",
       "    <tr>\n",
       "      <th>1</th>\n",
       "      <td>0x1603</td>\n",
       "      <td>CUS_0xd40</td>\n",
       "      <td>February</td>\n",
       "      <td>Aaron Maashoh</td>\n",
       "      <td>23</td>\n",
       "      <td>821-00-0265</td>\n",
       "      <td>Scientist</td>\n",
       "      <td>19114.12</td>\n",
       "      <td>NaN</td>\n",
       "      <td>3</td>\n",
       "      <td>...</td>\n",
       "      <td>Good</td>\n",
       "      <td>809.98</td>\n",
       "      <td>31.944960</td>\n",
       "      <td>NaN</td>\n",
       "      <td>No</td>\n",
       "      <td>49.574949</td>\n",
       "      <td>118.28022162236736</td>\n",
       "      <td>Low_spent_Large_value_payments</td>\n",
       "      <td>284.62916249607184</td>\n",
       "      <td>Good</td>\n",
       "    </tr>\n",
       "    <tr>\n",
       "      <th>2</th>\n",
       "      <td>0x1604</td>\n",
       "      <td>CUS_0xd40</td>\n",
       "      <td>March</td>\n",
       "      <td>Aaron Maashoh</td>\n",
       "      <td>-500</td>\n",
       "      <td>821-00-0265</td>\n",
       "      <td>Scientist</td>\n",
       "      <td>19114.12</td>\n",
       "      <td>NaN</td>\n",
       "      <td>3</td>\n",
       "      <td>...</td>\n",
       "      <td>Good</td>\n",
       "      <td>809.98</td>\n",
       "      <td>28.609352</td>\n",
       "      <td>22 Years and 3 Months</td>\n",
       "      <td>No</td>\n",
       "      <td>49.574949</td>\n",
       "      <td>81.699521264648</td>\n",
       "      <td>Low_spent_Medium_value_payments</td>\n",
       "      <td>331.2098628537912</td>\n",
       "      <td>Good</td>\n",
       "    </tr>\n",
       "    <tr>\n",
       "      <th>3</th>\n",
       "      <td>0x1605</td>\n",
       "      <td>CUS_0xd40</td>\n",
       "      <td>April</td>\n",
       "      <td>Aaron Maashoh</td>\n",
       "      <td>23</td>\n",
       "      <td>821-00-0265</td>\n",
       "      <td>Scientist</td>\n",
       "      <td>19114.12</td>\n",
       "      <td>NaN</td>\n",
       "      <td>3</td>\n",
       "      <td>...</td>\n",
       "      <td>Good</td>\n",
       "      <td>809.98</td>\n",
       "      <td>31.377862</td>\n",
       "      <td>22 Years and 4 Months</td>\n",
       "      <td>No</td>\n",
       "      <td>49.574949</td>\n",
       "      <td>199.4580743910713</td>\n",
       "      <td>Low_spent_Small_value_payments</td>\n",
       "      <td>223.45130972736786</td>\n",
       "      <td>Good</td>\n",
       "    </tr>\n",
       "    <tr>\n",
       "      <th>4</th>\n",
       "      <td>0x1606</td>\n",
       "      <td>CUS_0xd40</td>\n",
       "      <td>May</td>\n",
       "      <td>Aaron Maashoh</td>\n",
       "      <td>23</td>\n",
       "      <td>821-00-0265</td>\n",
       "      <td>Scientist</td>\n",
       "      <td>19114.12</td>\n",
       "      <td>1824.843333</td>\n",
       "      <td>3</td>\n",
       "      <td>...</td>\n",
       "      <td>Good</td>\n",
       "      <td>809.98</td>\n",
       "      <td>24.797347</td>\n",
       "      <td>22 Years and 5 Months</td>\n",
       "      <td>No</td>\n",
       "      <td>49.574949</td>\n",
       "      <td>41.420153086217326</td>\n",
       "      <td>High_spent_Medium_value_payments</td>\n",
       "      <td>341.48923103222177</td>\n",
       "      <td>Good</td>\n",
       "    </tr>\n",
       "    <tr>\n",
       "      <th>...</th>\n",
       "      <td>...</td>\n",
       "      <td>...</td>\n",
       "      <td>...</td>\n",
       "      <td>...</td>\n",
       "      <td>...</td>\n",
       "      <td>...</td>\n",
       "      <td>...</td>\n",
       "      <td>...</td>\n",
       "      <td>...</td>\n",
       "      <td>...</td>\n",
       "      <td>...</td>\n",
       "      <td>...</td>\n",
       "      <td>...</td>\n",
       "      <td>...</td>\n",
       "      <td>...</td>\n",
       "      <td>...</td>\n",
       "      <td>...</td>\n",
       "      <td>...</td>\n",
       "      <td>...</td>\n",
       "      <td>...</td>\n",
       "      <td>...</td>\n",
       "    </tr>\n",
       "    <tr>\n",
       "      <th>99995</th>\n",
       "      <td>0x25fe9</td>\n",
       "      <td>CUS_0x942c</td>\n",
       "      <td>April</td>\n",
       "      <td>Nicks</td>\n",
       "      <td>25</td>\n",
       "      <td>078-73-5990</td>\n",
       "      <td>Mechanic</td>\n",
       "      <td>39628.99</td>\n",
       "      <td>3359.415833</td>\n",
       "      <td>4</td>\n",
       "      <td>...</td>\n",
       "      <td>_</td>\n",
       "      <td>502.38</td>\n",
       "      <td>34.663572</td>\n",
       "      <td>31 Years and 6 Months</td>\n",
       "      <td>No</td>\n",
       "      <td>35.104023</td>\n",
       "      <td>60.97133255718485</td>\n",
       "      <td>High_spent_Large_value_payments</td>\n",
       "      <td>479.866228</td>\n",
       "      <td>Poor</td>\n",
       "    </tr>\n",
       "    <tr>\n",
       "      <th>99996</th>\n",
       "      <td>0x25fea</td>\n",
       "      <td>CUS_0x942c</td>\n",
       "      <td>May</td>\n",
       "      <td>Nicks</td>\n",
       "      <td>25</td>\n",
       "      <td>078-73-5990</td>\n",
       "      <td>Mechanic</td>\n",
       "      <td>39628.99</td>\n",
       "      <td>3359.415833</td>\n",
       "      <td>4</td>\n",
       "      <td>...</td>\n",
       "      <td>_</td>\n",
       "      <td>502.38</td>\n",
       "      <td>40.565631</td>\n",
       "      <td>31 Years and 7 Months</td>\n",
       "      <td>No</td>\n",
       "      <td>35.104023</td>\n",
       "      <td>54.18595028760385</td>\n",
       "      <td>High_spent_Medium_value_payments</td>\n",
       "      <td>496.65161</td>\n",
       "      <td>Poor</td>\n",
       "    </tr>\n",
       "    <tr>\n",
       "      <th>99997</th>\n",
       "      <td>0x25feb</td>\n",
       "      <td>CUS_0x942c</td>\n",
       "      <td>June</td>\n",
       "      <td>Nicks</td>\n",
       "      <td>25</td>\n",
       "      <td>078-73-5990</td>\n",
       "      <td>Mechanic</td>\n",
       "      <td>39628.99</td>\n",
       "      <td>3359.415833</td>\n",
       "      <td>4</td>\n",
       "      <td>...</td>\n",
       "      <td>Good</td>\n",
       "      <td>502.38</td>\n",
       "      <td>41.255522</td>\n",
       "      <td>31 Years and 8 Months</td>\n",
       "      <td>No</td>\n",
       "      <td>35.104023</td>\n",
       "      <td>24.02847744864441</td>\n",
       "      <td>High_spent_Large_value_payments</td>\n",
       "      <td>516.809083</td>\n",
       "      <td>Poor</td>\n",
       "    </tr>\n",
       "    <tr>\n",
       "      <th>99998</th>\n",
       "      <td>0x25fec</td>\n",
       "      <td>CUS_0x942c</td>\n",
       "      <td>July</td>\n",
       "      <td>Nicks</td>\n",
       "      <td>25</td>\n",
       "      <td>078-73-5990</td>\n",
       "      <td>Mechanic</td>\n",
       "      <td>39628.99</td>\n",
       "      <td>3359.415833</td>\n",
       "      <td>4</td>\n",
       "      <td>...</td>\n",
       "      <td>Good</td>\n",
       "      <td>502.38</td>\n",
       "      <td>33.638208</td>\n",
       "      <td>31 Years and 9 Months</td>\n",
       "      <td>No</td>\n",
       "      <td>35.104023</td>\n",
       "      <td>251.67258219721603</td>\n",
       "      <td>Low_spent_Large_value_payments</td>\n",
       "      <td>319.164979</td>\n",
       "      <td>Standard</td>\n",
       "    </tr>\n",
       "    <tr>\n",
       "      <th>99999</th>\n",
       "      <td>0x25fed</td>\n",
       "      <td>CUS_0x942c</td>\n",
       "      <td>August</td>\n",
       "      <td>Nicks</td>\n",
       "      <td>25</td>\n",
       "      <td>078-73-5990</td>\n",
       "      <td>Mechanic</td>\n",
       "      <td>39628.99_</td>\n",
       "      <td>3359.415833</td>\n",
       "      <td>4</td>\n",
       "      <td>...</td>\n",
       "      <td>Good</td>\n",
       "      <td>502.38</td>\n",
       "      <td>34.192463</td>\n",
       "      <td>31 Years and 10 Months</td>\n",
       "      <td>No</td>\n",
       "      <td>35.104023</td>\n",
       "      <td>167.1638651610451</td>\n",
       "      <td>!@9#%8</td>\n",
       "      <td>393.673696</td>\n",
       "      <td>Poor</td>\n",
       "    </tr>\n",
       "  </tbody>\n",
       "</table>\n",
       "<p>100000 rows × 28 columns</p>\n",
       "</div>"
      ],
      "text/plain": [
       "            ID Customer_ID     Month           Name   Age          SSN  \\\n",
       "0       0x1602   CUS_0xd40   January  Aaron Maashoh    23  821-00-0265   \n",
       "1       0x1603   CUS_0xd40  February  Aaron Maashoh    23  821-00-0265   \n",
       "2       0x1604   CUS_0xd40     March  Aaron Maashoh  -500  821-00-0265   \n",
       "3       0x1605   CUS_0xd40     April  Aaron Maashoh    23  821-00-0265   \n",
       "4       0x1606   CUS_0xd40       May  Aaron Maashoh    23  821-00-0265   \n",
       "...        ...         ...       ...            ...   ...          ...   \n",
       "99995  0x25fe9  CUS_0x942c     April          Nicks    25  078-73-5990   \n",
       "99996  0x25fea  CUS_0x942c       May          Nicks    25  078-73-5990   \n",
       "99997  0x25feb  CUS_0x942c      June          Nicks    25  078-73-5990   \n",
       "99998  0x25fec  CUS_0x942c      July          Nicks    25  078-73-5990   \n",
       "99999  0x25fed  CUS_0x942c    August          Nicks    25  078-73-5990   \n",
       "\n",
       "      Occupation Annual_Income  Monthly_Inhand_Salary  Num_Bank_Accounts  ...  \\\n",
       "0      Scientist      19114.12            1824.843333                  3  ...   \n",
       "1      Scientist      19114.12                    NaN                  3  ...   \n",
       "2      Scientist      19114.12                    NaN                  3  ...   \n",
       "3      Scientist      19114.12                    NaN                  3  ...   \n",
       "4      Scientist      19114.12            1824.843333                  3  ...   \n",
       "...          ...           ...                    ...                ...  ...   \n",
       "99995   Mechanic      39628.99            3359.415833                  4  ...   \n",
       "99996   Mechanic      39628.99            3359.415833                  4  ...   \n",
       "99997   Mechanic      39628.99            3359.415833                  4  ...   \n",
       "99998   Mechanic      39628.99            3359.415833                  4  ...   \n",
       "99999   Mechanic     39628.99_            3359.415833                  4  ...   \n",
       "\n",
       "       Credit_Mix  Outstanding_Debt Credit_Utilization_Ratio  \\\n",
       "0               _            809.98                26.822620   \n",
       "1            Good            809.98                31.944960   \n",
       "2            Good            809.98                28.609352   \n",
       "3            Good            809.98                31.377862   \n",
       "4            Good            809.98                24.797347   \n",
       "...           ...               ...                      ...   \n",
       "99995           _            502.38                34.663572   \n",
       "99996           _            502.38                40.565631   \n",
       "99997        Good            502.38                41.255522   \n",
       "99998        Good            502.38                33.638208   \n",
       "99999        Good            502.38                34.192463   \n",
       "\n",
       "           Credit_History_Age  Payment_of_Min_Amount Total_EMI_per_month  \\\n",
       "0       22 Years and 1 Months                     No           49.574949   \n",
       "1                         NaN                     No           49.574949   \n",
       "2       22 Years and 3 Months                     No           49.574949   \n",
       "3       22 Years and 4 Months                     No           49.574949   \n",
       "4       22 Years and 5 Months                     No           49.574949   \n",
       "...                       ...                    ...                 ...   \n",
       "99995   31 Years and 6 Months                     No           35.104023   \n",
       "99996   31 Years and 7 Months                     No           35.104023   \n",
       "99997   31 Years and 8 Months                     No           35.104023   \n",
       "99998   31 Years and 9 Months                     No           35.104023   \n",
       "99999  31 Years and 10 Months                     No           35.104023   \n",
       "\n",
       "      Amount_invested_monthly                 Payment_Behaviour  \\\n",
       "0           80.41529543900253   High_spent_Small_value_payments   \n",
       "1          118.28022162236736    Low_spent_Large_value_payments   \n",
       "2             81.699521264648   Low_spent_Medium_value_payments   \n",
       "3           199.4580743910713    Low_spent_Small_value_payments   \n",
       "4          41.420153086217326  High_spent_Medium_value_payments   \n",
       "...                       ...                               ...   \n",
       "99995       60.97133255718485   High_spent_Large_value_payments   \n",
       "99996       54.18595028760385  High_spent_Medium_value_payments   \n",
       "99997       24.02847744864441   High_spent_Large_value_payments   \n",
       "99998      251.67258219721603    Low_spent_Large_value_payments   \n",
       "99999       167.1638651610451                            !@9#%8   \n",
       "\n",
       "          Monthly_Balance Credit_Score  \n",
       "0      312.49408867943663         Good  \n",
       "1      284.62916249607184         Good  \n",
       "2       331.2098628537912         Good  \n",
       "3      223.45130972736786         Good  \n",
       "4      341.48923103222177         Good  \n",
       "...                   ...          ...  \n",
       "99995          479.866228         Poor  \n",
       "99996           496.65161         Poor  \n",
       "99997          516.809083         Poor  \n",
       "99998          319.164979     Standard  \n",
       "99999          393.673696         Poor  \n",
       "\n",
       "[100000 rows x 28 columns]"
      ]
     },
     "execution_count": 422,
     "metadata": {},
     "output_type": "execute_result"
    }
   ],
   "source": [
    "df.drop_duplicates(keep=False)     # Removing the Duplicate Rows - 0 rows found"
   ]
  },
  {
   "cell_type": "code",
   "execution_count": 423,
   "id": "bedc5bed",
   "metadata": {},
   "outputs": [
    {
     "data": {
      "text/html": [
       "<div>\n",
       "<style scoped>\n",
       "    .dataframe tbody tr th:only-of-type {\n",
       "        vertical-align: middle;\n",
       "    }\n",
       "\n",
       "    .dataframe tbody tr th {\n",
       "        vertical-align: top;\n",
       "    }\n",
       "\n",
       "    .dataframe thead th {\n",
       "        text-align: right;\n",
       "    }\n",
       "</style>\n",
       "<table border=\"1\" class=\"dataframe\">\n",
       "  <thead>\n",
       "    <tr style=\"text-align: right;\">\n",
       "      <th></th>\n",
       "      <th>ID</th>\n",
       "      <th>Customer_ID</th>\n",
       "      <th>Month</th>\n",
       "      <th>Name</th>\n",
       "      <th>Age</th>\n",
       "      <th>SSN</th>\n",
       "      <th>Occupation</th>\n",
       "      <th>Annual_Income</th>\n",
       "      <th>Monthly_Inhand_Salary</th>\n",
       "      <th>Num_Bank_Accounts</th>\n",
       "      <th>...</th>\n",
       "      <th>Credit_Mix</th>\n",
       "      <th>Outstanding_Debt</th>\n",
       "      <th>Credit_Utilization_Ratio</th>\n",
       "      <th>Credit_History_Age</th>\n",
       "      <th>Payment_of_Min_Amount</th>\n",
       "      <th>Total_EMI_per_month</th>\n",
       "      <th>Amount_invested_monthly</th>\n",
       "      <th>Payment_Behaviour</th>\n",
       "      <th>Monthly_Balance</th>\n",
       "      <th>Credit_Score</th>\n",
       "    </tr>\n",
       "  </thead>\n",
       "  <tbody>\n",
       "    <tr>\n",
       "      <th>0</th>\n",
       "      <td>0x1602</td>\n",
       "      <td>CUS_0xd40</td>\n",
       "      <td>January</td>\n",
       "      <td>Aaron Maashoh</td>\n",
       "      <td>23</td>\n",
       "      <td>821-00-0265</td>\n",
       "      <td>Scientist</td>\n",
       "      <td>19114.12</td>\n",
       "      <td>1824.843333</td>\n",
       "      <td>3</td>\n",
       "      <td>...</td>\n",
       "      <td>_</td>\n",
       "      <td>809.98</td>\n",
       "      <td>26.82262</td>\n",
       "      <td>22 Years and 1 Months</td>\n",
       "      <td>No</td>\n",
       "      <td>49.574949</td>\n",
       "      <td>80.41529543900253</td>\n",
       "      <td>High_spent_Small_value_payments</td>\n",
       "      <td>312.49408867943663</td>\n",
       "      <td>Good</td>\n",
       "    </tr>\n",
       "    <tr>\n",
       "      <th>1</th>\n",
       "      <td>0x1603</td>\n",
       "      <td>CUS_0xd40</td>\n",
       "      <td>February</td>\n",
       "      <td>Aaron Maashoh</td>\n",
       "      <td>23</td>\n",
       "      <td>821-00-0265</td>\n",
       "      <td>Scientist</td>\n",
       "      <td>19114.12</td>\n",
       "      <td>NaN</td>\n",
       "      <td>3</td>\n",
       "      <td>...</td>\n",
       "      <td>Good</td>\n",
       "      <td>809.98</td>\n",
       "      <td>31.94496</td>\n",
       "      <td>NaN</td>\n",
       "      <td>No</td>\n",
       "      <td>49.574949</td>\n",
       "      <td>118.28022162236736</td>\n",
       "      <td>Low_spent_Large_value_payments</td>\n",
       "      <td>284.62916249607184</td>\n",
       "      <td>Good</td>\n",
       "    </tr>\n",
       "    <tr>\n",
       "      <th>2</th>\n",
       "      <td>0x1604</td>\n",
       "      <td>CUS_0xd40</td>\n",
       "      <td>March</td>\n",
       "      <td>Aaron Maashoh</td>\n",
       "      <td>-500</td>\n",
       "      <td>821-00-0265</td>\n",
       "      <td>Scientist</td>\n",
       "      <td>19114.12</td>\n",
       "      <td>NaN</td>\n",
       "      <td>3</td>\n",
       "      <td>...</td>\n",
       "      <td>Good</td>\n",
       "      <td>809.98</td>\n",
       "      <td>28.609352</td>\n",
       "      <td>22 Years and 3 Months</td>\n",
       "      <td>No</td>\n",
       "      <td>49.574949</td>\n",
       "      <td>81.699521264648</td>\n",
       "      <td>Low_spent_Medium_value_payments</td>\n",
       "      <td>331.2098628537912</td>\n",
       "      <td>Good</td>\n",
       "    </tr>\n",
       "    <tr>\n",
       "      <th>3</th>\n",
       "      <td>0x1605</td>\n",
       "      <td>CUS_0xd40</td>\n",
       "      <td>April</td>\n",
       "      <td>Aaron Maashoh</td>\n",
       "      <td>23</td>\n",
       "      <td>821-00-0265</td>\n",
       "      <td>Scientist</td>\n",
       "      <td>19114.12</td>\n",
       "      <td>NaN</td>\n",
       "      <td>3</td>\n",
       "      <td>...</td>\n",
       "      <td>Good</td>\n",
       "      <td>809.98</td>\n",
       "      <td>31.377862</td>\n",
       "      <td>22 Years and 4 Months</td>\n",
       "      <td>No</td>\n",
       "      <td>49.574949</td>\n",
       "      <td>199.4580743910713</td>\n",
       "      <td>Low_spent_Small_value_payments</td>\n",
       "      <td>223.45130972736786</td>\n",
       "      <td>Good</td>\n",
       "    </tr>\n",
       "    <tr>\n",
       "      <th>4</th>\n",
       "      <td>0x1606</td>\n",
       "      <td>CUS_0xd40</td>\n",
       "      <td>May</td>\n",
       "      <td>Aaron Maashoh</td>\n",
       "      <td>23</td>\n",
       "      <td>821-00-0265</td>\n",
       "      <td>Scientist</td>\n",
       "      <td>19114.12</td>\n",
       "      <td>1824.843333</td>\n",
       "      <td>3</td>\n",
       "      <td>...</td>\n",
       "      <td>Good</td>\n",
       "      <td>809.98</td>\n",
       "      <td>24.797347</td>\n",
       "      <td>22 Years and 5 Months</td>\n",
       "      <td>No</td>\n",
       "      <td>49.574949</td>\n",
       "      <td>41.420153086217326</td>\n",
       "      <td>High_spent_Medium_value_payments</td>\n",
       "      <td>341.48923103222177</td>\n",
       "      <td>Good</td>\n",
       "    </tr>\n",
       "    <tr>\n",
       "      <th>...</th>\n",
       "      <td>...</td>\n",
       "      <td>...</td>\n",
       "      <td>...</td>\n",
       "      <td>...</td>\n",
       "      <td>...</td>\n",
       "      <td>...</td>\n",
       "      <td>...</td>\n",
       "      <td>...</td>\n",
       "      <td>...</td>\n",
       "      <td>...</td>\n",
       "      <td>...</td>\n",
       "      <td>...</td>\n",
       "      <td>...</td>\n",
       "      <td>...</td>\n",
       "      <td>...</td>\n",
       "      <td>...</td>\n",
       "      <td>...</td>\n",
       "      <td>...</td>\n",
       "      <td>...</td>\n",
       "      <td>...</td>\n",
       "      <td>...</td>\n",
       "    </tr>\n",
       "    <tr>\n",
       "      <th>99995</th>\n",
       "      <td>0x25fe9</td>\n",
       "      <td>CUS_0x942c</td>\n",
       "      <td>April</td>\n",
       "      <td>Nicks</td>\n",
       "      <td>25</td>\n",
       "      <td>078-73-5990</td>\n",
       "      <td>Mechanic</td>\n",
       "      <td>39628.99</td>\n",
       "      <td>3359.415833</td>\n",
       "      <td>4</td>\n",
       "      <td>...</td>\n",
       "      <td>_</td>\n",
       "      <td>502.38</td>\n",
       "      <td>34.663572</td>\n",
       "      <td>31 Years and 6 Months</td>\n",
       "      <td>No</td>\n",
       "      <td>35.104023</td>\n",
       "      <td>60.97133255718485</td>\n",
       "      <td>High_spent_Large_value_payments</td>\n",
       "      <td>479.866228</td>\n",
       "      <td>Poor</td>\n",
       "    </tr>\n",
       "    <tr>\n",
       "      <th>99996</th>\n",
       "      <td>0x25fea</td>\n",
       "      <td>CUS_0x942c</td>\n",
       "      <td>May</td>\n",
       "      <td>Nicks</td>\n",
       "      <td>25</td>\n",
       "      <td>078-73-5990</td>\n",
       "      <td>Mechanic</td>\n",
       "      <td>39628.99</td>\n",
       "      <td>3359.415833</td>\n",
       "      <td>4</td>\n",
       "      <td>...</td>\n",
       "      <td>_</td>\n",
       "      <td>502.38</td>\n",
       "      <td>40.565631</td>\n",
       "      <td>31 Years and 7 Months</td>\n",
       "      <td>No</td>\n",
       "      <td>35.104023</td>\n",
       "      <td>54.18595028760385</td>\n",
       "      <td>High_spent_Medium_value_payments</td>\n",
       "      <td>496.65161</td>\n",
       "      <td>Poor</td>\n",
       "    </tr>\n",
       "    <tr>\n",
       "      <th>99997</th>\n",
       "      <td>0x25feb</td>\n",
       "      <td>CUS_0x942c</td>\n",
       "      <td>June</td>\n",
       "      <td>Nicks</td>\n",
       "      <td>25</td>\n",
       "      <td>078-73-5990</td>\n",
       "      <td>Mechanic</td>\n",
       "      <td>39628.99</td>\n",
       "      <td>3359.415833</td>\n",
       "      <td>4</td>\n",
       "      <td>...</td>\n",
       "      <td>Good</td>\n",
       "      <td>502.38</td>\n",
       "      <td>41.255522</td>\n",
       "      <td>31 Years and 8 Months</td>\n",
       "      <td>No</td>\n",
       "      <td>35.104023</td>\n",
       "      <td>24.02847744864441</td>\n",
       "      <td>High_spent_Large_value_payments</td>\n",
       "      <td>516.809083</td>\n",
       "      <td>Poor</td>\n",
       "    </tr>\n",
       "    <tr>\n",
       "      <th>99998</th>\n",
       "      <td>0x25fec</td>\n",
       "      <td>CUS_0x942c</td>\n",
       "      <td>July</td>\n",
       "      <td>Nicks</td>\n",
       "      <td>25</td>\n",
       "      <td>078-73-5990</td>\n",
       "      <td>Mechanic</td>\n",
       "      <td>39628.99</td>\n",
       "      <td>3359.415833</td>\n",
       "      <td>4</td>\n",
       "      <td>...</td>\n",
       "      <td>Good</td>\n",
       "      <td>502.38</td>\n",
       "      <td>33.638208</td>\n",
       "      <td>31 Years and 9 Months</td>\n",
       "      <td>No</td>\n",
       "      <td>35.104023</td>\n",
       "      <td>251.67258219721603</td>\n",
       "      <td>Low_spent_Large_value_payments</td>\n",
       "      <td>319.164979</td>\n",
       "      <td>Standard</td>\n",
       "    </tr>\n",
       "    <tr>\n",
       "      <th>99999</th>\n",
       "      <td>0x25fed</td>\n",
       "      <td>CUS_0x942c</td>\n",
       "      <td>August</td>\n",
       "      <td>Nicks</td>\n",
       "      <td>25</td>\n",
       "      <td>078-73-5990</td>\n",
       "      <td>Mechanic</td>\n",
       "      <td>39628.99_</td>\n",
       "      <td>3359.415833</td>\n",
       "      <td>4</td>\n",
       "      <td>...</td>\n",
       "      <td>Good</td>\n",
       "      <td>502.38</td>\n",
       "      <td>34.192463</td>\n",
       "      <td>31 Years and 10 Months</td>\n",
       "      <td>No</td>\n",
       "      <td>35.104023</td>\n",
       "      <td>167.1638651610451</td>\n",
       "      <td>!@9#%8</td>\n",
       "      <td>393.673696</td>\n",
       "      <td>Poor</td>\n",
       "    </tr>\n",
       "  </tbody>\n",
       "</table>\n",
       "<p>100000 rows × 28 columns</p>\n",
       "</div>"
      ],
      "text/plain": [
       "            ID Customer_ID     Month           Name   Age          SSN  \\\n",
       "0       0x1602   CUS_0xd40   January  Aaron Maashoh    23  821-00-0265   \n",
       "1       0x1603   CUS_0xd40  February  Aaron Maashoh    23  821-00-0265   \n",
       "2       0x1604   CUS_0xd40     March  Aaron Maashoh  -500  821-00-0265   \n",
       "3       0x1605   CUS_0xd40     April  Aaron Maashoh    23  821-00-0265   \n",
       "4       0x1606   CUS_0xd40       May  Aaron Maashoh    23  821-00-0265   \n",
       "...        ...         ...       ...            ...   ...          ...   \n",
       "99995  0x25fe9  CUS_0x942c     April          Nicks    25  078-73-5990   \n",
       "99996  0x25fea  CUS_0x942c       May          Nicks    25  078-73-5990   \n",
       "99997  0x25feb  CUS_0x942c      June          Nicks    25  078-73-5990   \n",
       "99998  0x25fec  CUS_0x942c      July          Nicks    25  078-73-5990   \n",
       "99999  0x25fed  CUS_0x942c    August          Nicks    25  078-73-5990   \n",
       "\n",
       "      Occupation Annual_Income Monthly_Inhand_Salary Num_Bank_Accounts  ...  \\\n",
       "0      Scientist      19114.12           1824.843333                 3  ...   \n",
       "1      Scientist      19114.12                   NaN                 3  ...   \n",
       "2      Scientist      19114.12                   NaN                 3  ...   \n",
       "3      Scientist      19114.12                   NaN                 3  ...   \n",
       "4      Scientist      19114.12           1824.843333                 3  ...   \n",
       "...          ...           ...                   ...               ...  ...   \n",
       "99995   Mechanic      39628.99           3359.415833                 4  ...   \n",
       "99996   Mechanic      39628.99           3359.415833                 4  ...   \n",
       "99997   Mechanic      39628.99           3359.415833                 4  ...   \n",
       "99998   Mechanic      39628.99           3359.415833                 4  ...   \n",
       "99999   Mechanic     39628.99_           3359.415833                 4  ...   \n",
       "\n",
       "      Credit_Mix Outstanding_Debt Credit_Utilization_Ratio  \\\n",
       "0              _           809.98                 26.82262   \n",
       "1           Good           809.98                 31.94496   \n",
       "2           Good           809.98                28.609352   \n",
       "3           Good           809.98                31.377862   \n",
       "4           Good           809.98                24.797347   \n",
       "...          ...              ...                      ...   \n",
       "99995          _           502.38                34.663572   \n",
       "99996          _           502.38                40.565631   \n",
       "99997       Good           502.38                41.255522   \n",
       "99998       Good           502.38                33.638208   \n",
       "99999       Good           502.38                34.192463   \n",
       "\n",
       "           Credit_History_Age Payment_of_Min_Amount Total_EMI_per_month  \\\n",
       "0       22 Years and 1 Months                    No           49.574949   \n",
       "1                         NaN                    No           49.574949   \n",
       "2       22 Years and 3 Months                    No           49.574949   \n",
       "3       22 Years and 4 Months                    No           49.574949   \n",
       "4       22 Years and 5 Months                    No           49.574949   \n",
       "...                       ...                   ...                 ...   \n",
       "99995   31 Years and 6 Months                    No           35.104023   \n",
       "99996   31 Years and 7 Months                    No           35.104023   \n",
       "99997   31 Years and 8 Months                    No           35.104023   \n",
       "99998   31 Years and 9 Months                    No           35.104023   \n",
       "99999  31 Years and 10 Months                    No           35.104023   \n",
       "\n",
       "      Amount_invested_monthly                 Payment_Behaviour  \\\n",
       "0           80.41529543900253   High_spent_Small_value_payments   \n",
       "1          118.28022162236736    Low_spent_Large_value_payments   \n",
       "2             81.699521264648   Low_spent_Medium_value_payments   \n",
       "3           199.4580743910713    Low_spent_Small_value_payments   \n",
       "4          41.420153086217326  High_spent_Medium_value_payments   \n",
       "...                       ...                               ...   \n",
       "99995       60.97133255718485   High_spent_Large_value_payments   \n",
       "99996       54.18595028760385  High_spent_Medium_value_payments   \n",
       "99997       24.02847744864441   High_spent_Large_value_payments   \n",
       "99998      251.67258219721603    Low_spent_Large_value_payments   \n",
       "99999       167.1638651610451                            !@9#%8   \n",
       "\n",
       "          Monthly_Balance Credit_Score  \n",
       "0      312.49408867943663         Good  \n",
       "1      284.62916249607184         Good  \n",
       "2       331.2098628537912         Good  \n",
       "3      223.45130972736786         Good  \n",
       "4      341.48923103222177         Good  \n",
       "...                   ...          ...  \n",
       "99995          479.866228         Poor  \n",
       "99996           496.65161         Poor  \n",
       "99997          516.809083         Poor  \n",
       "99998          319.164979     Standard  \n",
       "99999          393.673696         Poor  \n",
       "\n",
       "[100000 rows x 28 columns]"
      ]
     },
     "execution_count": 423,
     "metadata": {},
     "output_type": "execute_result"
    }
   ],
   "source": [
    "df.T.drop_duplicates().T     #Removing duplicate Columns"
   ]
  },
  {
   "cell_type": "code",
   "execution_count": 424,
   "id": "27f9de6c",
   "metadata": {},
   "outputs": [
    {
     "data": {
      "text/plain": [
       "ID                              0\n",
       "Customer_ID                     0\n",
       "Month                           0\n",
       "Name                         9985\n",
       "Age                             0\n",
       "SSN                             0\n",
       "Occupation                      0\n",
       "Annual_Income                   0\n",
       "Monthly_Inhand_Salary       15002\n",
       "Num_Bank_Accounts               0\n",
       "Num_Credit_Card                 0\n",
       "Interest_Rate                   0\n",
       "Num_of_Loan                     0\n",
       "Type_of_Loan                11408\n",
       "Delay_from_due_date             0\n",
       "Num_of_Delayed_Payment       7002\n",
       "Changed_Credit_Limit            0\n",
       "Num_Credit_Inquiries         1965\n",
       "Credit_Mix                      0\n",
       "Outstanding_Debt                0\n",
       "Credit_Utilization_Ratio        0\n",
       "Credit_History_Age           9030\n",
       "Payment_of_Min_Amount           0\n",
       "Total_EMI_per_month             0\n",
       "Amount_invested_monthly      4479\n",
       "Payment_Behaviour               0\n",
       "Monthly_Balance              1200\n",
       "Credit_Score                    0\n",
       "dtype: int64"
      ]
     },
     "execution_count": 424,
     "metadata": {},
     "output_type": "execute_result"
    }
   ],
   "source": [
    "df.isnull().sum()              #checking null values in each column"
   ]
  },
  {
   "cell_type": "code",
   "execution_count": 425,
   "id": "1b37bb30",
   "metadata": {},
   "outputs": [
    {
     "name": "stdout",
     "output_type": "stream",
     "text": [
      "<class 'pandas.core.frame.DataFrame'>\n",
      "RangeIndex: 100000 entries, 0 to 99999\n",
      "Data columns (total 28 columns):\n",
      " #   Column                    Non-Null Count   Dtype  \n",
      "---  ------                    --------------   -----  \n",
      " 0   ID                        100000 non-null  object \n",
      " 1   Customer_ID               100000 non-null  object \n",
      " 2   Month                     100000 non-null  object \n",
      " 3   Name                      90015 non-null   object \n",
      " 4   Age                       100000 non-null  object \n",
      " 5   SSN                       100000 non-null  object \n",
      " 6   Occupation                100000 non-null  object \n",
      " 7   Annual_Income             100000 non-null  object \n",
      " 8   Monthly_Inhand_Salary     84998 non-null   float64\n",
      " 9   Num_Bank_Accounts         100000 non-null  int64  \n",
      " 10  Num_Credit_Card           100000 non-null  int64  \n",
      " 11  Interest_Rate             100000 non-null  int64  \n",
      " 12  Num_of_Loan               100000 non-null  object \n",
      " 13  Type_of_Loan              88592 non-null   object \n",
      " 14  Delay_from_due_date       100000 non-null  int64  \n",
      " 15  Num_of_Delayed_Payment    92998 non-null   object \n",
      " 16  Changed_Credit_Limit      100000 non-null  object \n",
      " 17  Num_Credit_Inquiries      98035 non-null   float64\n",
      " 18  Credit_Mix                100000 non-null  object \n",
      " 19  Outstanding_Debt          100000 non-null  object \n",
      " 20  Credit_Utilization_Ratio  100000 non-null  float64\n",
      " 21  Credit_History_Age        90970 non-null   object \n",
      " 22  Payment_of_Min_Amount     100000 non-null  object \n",
      " 23  Total_EMI_per_month       100000 non-null  float64\n",
      " 24  Amount_invested_monthly   95521 non-null   object \n",
      " 25  Payment_Behaviour         100000 non-null  object \n",
      " 26  Monthly_Balance           98800 non-null   object \n",
      " 27  Credit_Score              100000 non-null  object \n",
      "dtypes: float64(4), int64(4), object(20)\n",
      "memory usage: 21.4+ MB\n"
     ]
    }
   ],
   "source": [
    "df.info()"
   ]
  },
  {
   "cell_type": "code",
   "execution_count": 426,
   "id": "77ed2417",
   "metadata": {},
   "outputs": [],
   "source": [
    "def Separate_data_type(df):\n",
    "    cat=[]\n",
    "    cont=[]\n",
    "    for column in df.columns:\n",
    "        if df[column].nunique()>70:\n",
    "            cont.append(column)\n",
    "        else:\n",
    "            cat.append(column)\n",
    "    return cat,cont"
   ]
  },
  {
   "cell_type": "code",
   "execution_count": 427,
   "id": "1d4e4ac4",
   "metadata": {},
   "outputs": [],
   "source": [
    "cat,cont=Separate_data_type(df)"
   ]
  },
  {
   "cell_type": "code",
   "execution_count": 428,
   "id": "ceacf994",
   "metadata": {},
   "outputs": [
    {
     "data": {
      "text/plain": [
       "['Month',\n",
       " 'Occupation',\n",
       " 'Credit_Mix',\n",
       " 'Payment_of_Min_Amount',\n",
       " 'Payment_Behaviour',\n",
       " 'Credit_Score']"
      ]
     },
     "execution_count": 428,
     "metadata": {},
     "output_type": "execute_result"
    }
   ],
   "source": [
    "cat               #categorical data"
   ]
  },
  {
   "cell_type": "code",
   "execution_count": 429,
   "id": "17090891",
   "metadata": {},
   "outputs": [
    {
     "data": {
      "text/plain": [
       "['ID',\n",
       " 'Customer_ID',\n",
       " 'Name',\n",
       " 'Age',\n",
       " 'SSN',\n",
       " 'Annual_Income',\n",
       " 'Monthly_Inhand_Salary',\n",
       " 'Num_Bank_Accounts',\n",
       " 'Num_Credit_Card',\n",
       " 'Interest_Rate',\n",
       " 'Num_of_Loan',\n",
       " 'Type_of_Loan',\n",
       " 'Delay_from_due_date',\n",
       " 'Num_of_Delayed_Payment',\n",
       " 'Changed_Credit_Limit',\n",
       " 'Num_Credit_Inquiries',\n",
       " 'Outstanding_Debt',\n",
       " 'Credit_Utilization_Ratio',\n",
       " 'Credit_History_Age',\n",
       " 'Total_EMI_per_month',\n",
       " 'Amount_invested_monthly',\n",
       " 'Monthly_Balance']"
      ]
     },
     "execution_count": 429,
     "metadata": {},
     "output_type": "execute_result"
    }
   ],
   "source": [
    "cont                #Continuous Data"
   ]
  },
  {
   "cell_type": "markdown",
   "id": "b115ad7b",
   "metadata": {},
   "source": [
    "## working on df[\"ID\"]"
   ]
  },
  {
   "cell_type": "code",
   "execution_count": 430,
   "id": "b2975a75",
   "metadata": {},
   "outputs": [
    {
     "data": {
      "text/plain": [
       "100000"
      ]
     },
     "execution_count": 430,
     "metadata": {},
     "output_type": "execute_result"
    }
   ],
   "source": [
    "df[\"ID\"].nunique()    # No. of unique values are equal to no. of rows in data it is just a nominal data"
   ]
  },
  {
   "cell_type": "code",
   "execution_count": 431,
   "id": "f89a94af",
   "metadata": {},
   "outputs": [
    {
     "data": {
      "text/plain": [
       "0"
      ]
     },
     "execution_count": 431,
     "metadata": {},
     "output_type": "execute_result"
    }
   ],
   "source": [
    "df[\"ID\"].isnull().sum()    # has 0 nos of null values"
   ]
  },
  {
   "cell_type": "code",
   "execution_count": 432,
   "id": "10dbd5c2",
   "metadata": {},
   "outputs": [],
   "source": [
    "df=df.drop(['ID'], axis =1)      #dropping the column ID as it will not contribute to the out put variable"
   ]
  },
  {
   "cell_type": "markdown",
   "id": "36d79a7d",
   "metadata": {},
   "source": [
    "## Working on df[\"Customer_ID\"] & df[\"Name\"]"
   ]
  },
  {
   "cell_type": "code",
   "execution_count": 433,
   "id": "84f4662e",
   "metadata": {},
   "outputs": [],
   "source": [
    "# Both Columns represent the same data"
   ]
  },
  {
   "cell_type": "code",
   "execution_count": 434,
   "id": "2a0684cd",
   "metadata": {},
   "outputs": [],
   "source": [
    "df=df.drop([\"Name\"], axis=1)                 # Drop customer ID"
   ]
  },
  {
   "cell_type": "code",
   "execution_count": 435,
   "id": "d261a8ef",
   "metadata": {},
   "outputs": [
    {
     "data": {
      "text/plain": [
       "(100000, 26)"
      ]
     },
     "execution_count": 435,
     "metadata": {},
     "output_type": "execute_result"
    }
   ],
   "source": [
    "df.shape"
   ]
  },
  {
   "cell_type": "code",
   "execution_count": 436,
   "id": "627e18b2",
   "metadata": {},
   "outputs": [
    {
     "data": {
      "text/plain": [
       "12500"
      ]
     },
     "execution_count": 436,
     "metadata": {},
     "output_type": "execute_result"
    }
   ],
   "source": [
    "df['Customer_ID'].nunique()"
   ]
  },
  {
   "cell_type": "code",
   "execution_count": 437,
   "id": "e3dbefdd",
   "metadata": {},
   "outputs": [
    {
     "data": {
      "text/plain": [
       "0"
      ]
     },
     "execution_count": 437,
     "metadata": {},
     "output_type": "execute_result"
    }
   ],
   "source": [
    "df['Customer_ID'].isnull().sum()"
   ]
  },
  {
   "cell_type": "code",
   "execution_count": 438,
   "id": "1050d285",
   "metadata": {},
   "outputs": [],
   "source": [
    "df=df.drop([\"Customer_ID\"],axis=1)"
   ]
  },
  {
   "cell_type": "code",
   "execution_count": 439,
   "id": "d9d2a4c9",
   "metadata": {},
   "outputs": [
    {
     "data": {
      "text/plain": [
       "(100000, 25)"
      ]
     },
     "execution_count": 439,
     "metadata": {},
     "output_type": "execute_result"
    }
   ],
   "source": [
    "df.shape"
   ]
  },
  {
   "cell_type": "markdown",
   "id": "07572064",
   "metadata": {},
   "source": [
    "## Working on df[\"Age\"]"
   ]
  },
  {
   "cell_type": "code",
   "execution_count": 440,
   "id": "11e11f36",
   "metadata": {},
   "outputs": [
    {
     "data": {
      "text/plain": [
       "0"
      ]
     },
     "execution_count": 440,
     "metadata": {},
     "output_type": "execute_result"
    }
   ],
   "source": [
    "df[\"Age\"].isnull().sum()                     #no missing value in the column"
   ]
  },
  {
   "cell_type": "code",
   "execution_count": 441,
   "id": "25a5e446",
   "metadata": {},
   "outputs": [
    {
     "data": {
      "text/plain": [
       "1788"
      ]
     },
     "execution_count": 441,
     "metadata": {},
     "output_type": "execute_result"
    }
   ],
   "source": [
    "df[\"Age\"].nunique()"
   ]
  },
  {
   "cell_type": "code",
   "execution_count": 442,
   "id": "75a79f25",
   "metadata": {},
   "outputs": [
    {
     "data": {
      "text/plain": [
       "dtype('O')"
      ]
     },
     "execution_count": 442,
     "metadata": {},
     "output_type": "execute_result"
    }
   ],
   "source": [
    "df[\"Age\"].dtypes"
   ]
  },
  {
   "cell_type": "code",
   "execution_count": 443,
   "id": "3c56c9d7",
   "metadata": {},
   "outputs": [
    {
     "data": {
      "text/plain": [
       "dtype('O')"
      ]
     },
     "execution_count": 443,
     "metadata": {},
     "output_type": "execute_result"
    }
   ],
   "source": [
    "df[\"Age\"].dtypes"
   ]
  },
  {
   "cell_type": "code",
   "execution_count": 444,
   "id": "fd2fa0ad",
   "metadata": {},
   "outputs": [],
   "source": [
    "list1=list(df[\"Age\"])"
   ]
  },
  {
   "cell_type": "code",
   "execution_count": 445,
   "id": "02120e85",
   "metadata": {},
   "outputs": [
    {
     "data": {
      "text/plain": [
       "'23'"
      ]
     },
     "execution_count": 445,
     "metadata": {},
     "output_type": "execute_result"
    }
   ],
   "source": [
    "list1[1]"
   ]
  },
  {
   "cell_type": "code",
   "execution_count": 446,
   "id": "c5b5f001",
   "metadata": {},
   "outputs": [],
   "source": [
    "li=[]\n",
    "for i in list1:\n",
    "    if i[len(i)-1]=='_':\n",
    "        i[len(i)-1]==''\n"
   ]
  },
  {
   "cell_type": "code",
   "execution_count": 447,
   "id": "855dd36a",
   "metadata": {},
   "outputs": [],
   "source": [
    "df[\"Age\"]=df[\"Age\"].str.replace(\"_\",\"\").astype(float)"
   ]
  },
  {
   "cell_type": "code",
   "execution_count": 448,
   "id": "1f15199a",
   "metadata": {},
   "outputs": [
    {
     "data": {
      "text/plain": [
       "38.0      2994\n",
       "28.0      2968\n",
       "31.0      2955\n",
       "26.0      2945\n",
       "32.0      2884\n",
       "          ... \n",
       "1908.0       1\n",
       "4583.0       1\n",
       "7549.0       1\n",
       "3119.0       1\n",
       "1342.0       1\n",
       "Name: Age, Length: 1728, dtype: int64"
      ]
     },
     "execution_count": 448,
     "metadata": {},
     "output_type": "execute_result"
    }
   ],
   "source": [
    "df['Age'].value_counts()"
   ]
  },
  {
   "cell_type": "code",
   "execution_count": 449,
   "id": "4947c6f3",
   "metadata": {},
   "outputs": [
    {
     "data": {
      "text/plain": [
       "<Axes: xlabel='Age', ylabel='Count'>"
      ]
     },
     "execution_count": 449,
     "metadata": {},
     "output_type": "execute_result"
    },
    {
     "data": {
      "image/png": "[encoded data removed]",
      "text/plain": [
       "<Figure size 640x480 with 1 Axes>"
      ]
     },
     "metadata": {},
     "output_type": "display_data"
    }
   ],
   "source": [
    "sns.histplot(df[\"Age\"])"
   ]
  },
  {
   "cell_type": "code",
   "execution_count": 450,
   "id": "82085af8",
   "metadata": {},
   "outputs": [
    {
     "data": {
      "text/plain": [
       "8487"
      ]
     },
     "execution_count": 450,
     "metadata": {},
     "output_type": "execute_result"
    }
   ],
   "source": [
    "a=0\n",
    "for i in range(len(df)):\n",
    "    if df.loc[i,\"Age\"]>69 or df.loc[i,\"Age\"]<18:\n",
    "        a=a+1\n",
    "a\n",
    "#no. of transactions having age more than 69 and less than 18."
   ]
  },
  {
   "cell_type": "code",
   "execution_count": 451,
   "id": "842035ef",
   "metadata": {},
   "outputs": [],
   "source": [
    "# Identifing the outliers\n",
    "def uflf(ser):\n",
    "    comp= pd.Series(ser)\n",
    "    print(\"Minimum\",min(comp))\n",
    "    print(\"Maximum\",max(comp))\n",
    "    print(\"Range\",(max(comp)-min(comp)))\n",
    "    Q1= comp.quantile(0.25)\n",
    "    Q3= comp.quantile(0.75)\n",
    "    IQR= Q3-Q1\n",
    "    uf= Q3+1.5*IQR\n",
    "    lf= Q1-1.5*IQR\n",
    "    print(\"uf=\",uf,\"   lf=\",lf)\n",
    "    return uf,lf\n"
   ]
  },
  {
   "cell_type": "code",
   "execution_count": 452,
   "id": "b994ebfb",
   "metadata": {},
   "outputs": [
    {
     "data": {
      "text/plain": [
       "110.6497"
      ]
     },
     "execution_count": 452,
     "metadata": {},
     "output_type": "execute_result"
    }
   ],
   "source": [
    "df[\"Age\"].mean()"
   ]
  },
  {
   "cell_type": "code",
   "execution_count": 453,
   "id": "f7481ea1",
   "metadata": {},
   "outputs": [
    {
     "data": {
      "text/plain": [
       "33.0"
      ]
     },
     "execution_count": 453,
     "metadata": {},
     "output_type": "execute_result"
    }
   ],
   "source": [
    "df[\"Age\"].median()"
   ]
  },
  {
   "cell_type": "code",
   "execution_count": 454,
   "id": "12cbd433",
   "metadata": {},
   "outputs": [],
   "source": [
    "# Outliers treatment\n",
    "for i in range(len(df)):\n",
    "    if df.loc[i,\"Age\"]<18 or df.loc[i,\"Age\"]>70:\n",
    "        df.loc[i,\"Age\"]=df[\"Age\"].median()"
   ]
  },
  {
   "cell_type": "code",
   "execution_count": 455,
   "id": "8208788e",
   "metadata": {},
   "outputs": [
    {
     "data": {
      "text/plain": [
       "0"
      ]
     },
     "execution_count": 455,
     "metadata": {},
     "output_type": "execute_result"
    }
   ],
   "source": [
    "a=0\n",
    "for i in range(len(df)):\n",
    "    if df.loc[i,\"Age\"]>69 or df.loc[i,\"Age\"]<18:\n",
    "        a=a+1\n",
    "a\n",
    "#no. of transactions having age more than 69 and less than 18."
   ]
  },
  {
   "cell_type": "code",
   "execution_count": 456,
   "id": "248538d0",
   "metadata": {},
   "outputs": [
    {
     "name": "stdout",
     "output_type": "stream",
     "text": [
      "Minimum 18.0\n",
      "Maximum 56.0\n",
      "Range 38.0\n",
      "lf= 6.0    uf= 62.0\n"
     ]
    }
   ],
   "source": [
    "comp= pd.Series(df[\"Age\"])\n",
    "print(\"Minimum\",min(comp))\n",
    "print(\"Maximum\",max(comp))\n",
    "print(\"Range\",(max(comp)-min(comp)))\n",
    "Q1= comp.quantile(0.25)\n",
    "Q3= comp.quantile(0.75)\n",
    "IQR= Q3-Q1\n",
    "uf= Q3+1.5*IQR\n",
    "lf= Q1-1.5*IQR\n",
    "print(\"lf=\",lf,\"   uf=\",uf)"
   ]
  },
  {
   "cell_type": "code",
   "execution_count": 457,
   "id": "91974e5e",
   "metadata": {},
   "outputs": [
    {
     "data": {
      "text/plain": [
       "<Axes: >"
      ]
     },
     "execution_count": 457,
     "metadata": {},
     "output_type": "execute_result"
    },
    {
     "data": {
      "image/png": "[encoded data removed]",
      "text/plain": [
       "<Figure size 640x480 with 1 Axes>"
      ]
     },
     "metadata": {},
     "output_type": "display_data"
    }
   ],
   "source": [
    "sns.boxplot(df[\"Age\"])"
   ]
  },
  {
   "cell_type": "markdown",
   "id": "a76783d9",
   "metadata": {},
   "source": [
    "## Working on df[\"Month\"]"
   ]
  },
  {
   "cell_type": "code",
   "execution_count": 458,
   "id": "141d7362",
   "metadata": {},
   "outputs": [
    {
     "data": {
      "text/plain": [
       "0"
      ]
     },
     "execution_count": 458,
     "metadata": {},
     "output_type": "execute_result"
    }
   ],
   "source": [
    "df[\"Month\"].isnull().sum()"
   ]
  },
  {
   "cell_type": "code",
   "execution_count": 459,
   "id": "f4ae32ec",
   "metadata": {},
   "outputs": [
    {
     "data": {
      "text/plain": [
       "8"
      ]
     },
     "execution_count": 459,
     "metadata": {},
     "output_type": "execute_result"
    }
   ],
   "source": [
    "df[\"Month\"].nunique()"
   ]
  },
  {
   "cell_type": "code",
   "execution_count": 460,
   "id": "2d9d6567",
   "metadata": {},
   "outputs": [
    {
     "data": {
      "text/plain": [
       "<Axes: xlabel='Month', ylabel='Count'>"
      ]
     },
     "execution_count": 460,
     "metadata": {},
     "output_type": "execute_result"
    },
    {
     "data": {
      "image/png": "[encoded data removed]",
      "text/plain": [
       "<Figure size 640x480 with 1 Axes>"
      ]
     },
     "metadata": {},
     "output_type": "display_data"
    }
   ],
   "source": [
    "sns.histplot(df[\"Month\"])"
   ]
  },
  {
   "cell_type": "code",
   "execution_count": 461,
   "id": "07d559c5",
   "metadata": {},
   "outputs": [
    {
     "data": {
      "text/plain": [
       "January     12500\n",
       "February    12500\n",
       "March       12500\n",
       "April       12500\n",
       "May         12500\n",
       "June        12500\n",
       "July        12500\n",
       "August      12500\n",
       "Name: Month, dtype: int64"
      ]
     },
     "execution_count": 461,
     "metadata": {},
     "output_type": "execute_result"
    }
   ],
   "source": [
    "df[\"Month\"].value_counts()"
   ]
  },
  {
   "cell_type": "code",
   "execution_count": 462,
   "id": "ce794ff5",
   "metadata": {},
   "outputs": [
    {
     "name": "stdout",
     "output_type": "stream",
     "text": [
      "['April' 'August' 'February' 'January' 'July' 'June' 'March' 'May']\n"
     ]
    }
   ],
   "source": [
    "# Considering it an ordinal data\n",
    "\n",
    "from sklearn.preprocessing import LabelEncoder\n",
    "month_encoder=LabelEncoder()\n",
    "month_encoder.fit(df['Month'])\n",
    "print(month_encoder.classes_)\n",
    "df['Month']=month_encoder.transform(df['Month'])"
   ]
  },
  {
   "cell_type": "markdown",
   "id": "a6550db9",
   "metadata": {},
   "source": [
    "# Working on df[\"SSN\"]"
   ]
  },
  {
   "cell_type": "code",
   "execution_count": 463,
   "id": "ba95f49a",
   "metadata": {},
   "outputs": [
    {
     "data": {
      "text/plain": [
       "12501"
      ]
     },
     "execution_count": 463,
     "metadata": {},
     "output_type": "execute_result"
    }
   ],
   "source": [
    "df[\"SSN\"].nunique()"
   ]
  },
  {
   "cell_type": "code",
   "execution_count": 464,
   "id": "2bc4ccbd",
   "metadata": {},
   "outputs": [
    {
     "data": {
      "text/plain": [
       "0"
      ]
     },
     "execution_count": 464,
     "metadata": {},
     "output_type": "execute_result"
    }
   ],
   "source": [
    "df[\"SSN\"].isnull().sum()"
   ]
  },
  {
   "cell_type": "code",
   "execution_count": 465,
   "id": "b40b0d04",
   "metadata": {},
   "outputs": [],
   "source": [
    "df=df.drop([\"SSN\"], axis=1)    #AS SSN WILL REMAIN SAME FOR NAMES OR CUSTOMER ID TO IT WILL REPRESENT THE SAME DATA AS OF NAME/CUSTOMER_ID SO IT WILL NOT COMTRIBUTE TO THE OUTPUT DATA"
   ]
  },
  {
   "cell_type": "code",
   "execution_count": 466,
   "id": "3709cb54",
   "metadata": {},
   "outputs": [
    {
     "data": {
      "text/plain": [
       "(100000, 24)"
      ]
     },
     "execution_count": 466,
     "metadata": {},
     "output_type": "execute_result"
    }
   ],
   "source": [
    "df.shape"
   ]
  },
  {
   "cell_type": "markdown",
   "id": "c8a192ea",
   "metadata": {},
   "source": [
    "## Working on df[\"Occupation\"]"
   ]
  },
  {
   "cell_type": "code",
   "execution_count": 467,
   "id": "d2eff5af",
   "metadata": {},
   "outputs": [
    {
     "data": {
      "text/plain": [
       "0"
      ]
     },
     "execution_count": 467,
     "metadata": {},
     "output_type": "execute_result"
    }
   ],
   "source": [
    "df[\"Occupation\"].isnull().sum()"
   ]
  },
  {
   "cell_type": "code",
   "execution_count": 468,
   "id": "473a987f",
   "metadata": {},
   "outputs": [
    {
     "data": {
      "text/plain": [
       "16"
      ]
     },
     "execution_count": 468,
     "metadata": {},
     "output_type": "execute_result"
    }
   ],
   "source": [
    "df[\"Occupation\"].nunique()"
   ]
  },
  {
   "cell_type": "code",
   "execution_count": 469,
   "id": "79cc3bf8",
   "metadata": {},
   "outputs": [
    {
     "data": {
      "text/plain": [
       "<Axes: xlabel='Occupation', ylabel='Count'>"
      ]
     },
     "execution_count": 469,
     "metadata": {},
     "output_type": "execute_result"
    },
    {
     "data": {
      "image/png": "[encoded data removed]",
      "text/plain": [
       "<Figure size 640x480 with 1 Axes>"
      ]
     },
     "metadata": {},
     "output_type": "display_data"
    }
   ],
   "source": [
    "sns.histplot(df[\"Occupation\"])"
   ]
  },
  {
   "cell_type": "markdown",
   "id": "360e7c20",
   "metadata": {},
   "source": [
    "## Working on df[\"Annual_Income\"] & df[\"Monthly_Inhand_Salary\"]"
   ]
  },
  {
   "cell_type": "code",
   "execution_count": 470,
   "id": "38c46e10",
   "metadata": {},
   "outputs": [
    {
     "data": {
      "text/plain": [
       "0"
      ]
     },
     "execution_count": 470,
     "metadata": {},
     "output_type": "execute_result"
    }
   ],
   "source": [
    "df[\"Annual_Income\"].isnull().sum()"
   ]
  },
  {
   "cell_type": "code",
   "execution_count": 471,
   "id": "1fbcee2c",
   "metadata": {},
   "outputs": [],
   "source": [
    "df[\"Annual_Income\"]=df[\"Annual_Income\"].str.replace('_','').astype(float)"
   ]
  },
  {
   "cell_type": "code",
   "execution_count": 472,
   "id": "65d909f8",
   "metadata": {},
   "outputs": [
    {
     "data": {
      "text/plain": [
       "<Axes: >"
      ]
     },
     "execution_count": 472,
     "metadata": {},
     "output_type": "execute_result"
    },
    {
     "data": {
      "image/png": "[encoded data removed]",
      "text/plain": [
       "<Figure size 640x480 with 1 Axes>"
      ]
     },
     "metadata": {},
     "output_type": "display_data"
    }
   ],
   "source": [
    "df.boxplot(column=\"Annual_Income\")"
   ]
  },
  {
   "cell_type": "code",
   "execution_count": 473,
   "id": "86e82507",
   "metadata": {},
   "outputs": [
    {
     "name": "stdout",
     "output_type": "stream",
     "text": [
      "lf= -60542.630000000005    uf= 152791.05\n"
     ]
    }
   ],
   "source": [
    "comp=pd.Series(df[\"Annual_Income\"])\n",
    "Q1= comp.quantile(0.25)\n",
    "Q3= comp.quantile(0.75)\n",
    "IQR= Q3-Q1\n",
    "uf= Q3+1.5*IQR\n",
    "lf= Q1-1.5*IQR\n",
    "print(\"lf=\",lf,\"   uf=\",uf)"
   ]
  },
  {
   "cell_type": "code",
   "execution_count": 474,
   "id": "a28923d2",
   "metadata": {},
   "outputs": [
    {
     "data": {
      "text/plain": [
       "2783"
      ]
     },
     "execution_count": 474,
     "metadata": {},
     "output_type": "execute_result"
    }
   ],
   "source": [
    "a=0\n",
    "for i in range(len(df)):\n",
    "    if df.loc[i,\"Annual_Income\"]>uf:\n",
    "        a=a+1\n",
    "a"
   ]
  },
  {
   "cell_type": "code",
   "execution_count": 475,
   "id": "6a21d951",
   "metadata": {},
   "outputs": [
    {
     "data": {
      "text/plain": [
       "152791.05"
      ]
     },
     "execution_count": 475,
     "metadata": {},
     "output_type": "execute_result"
    }
   ],
   "source": [
    "uf"
   ]
  },
  {
   "cell_type": "code",
   "execution_count": 476,
   "id": "bd3e8ad2",
   "metadata": {},
   "outputs": [
    {
     "data": {
      "text/plain": [
       "176415.70129814997"
      ]
     },
     "execution_count": 476,
     "metadata": {},
     "output_type": "execute_result"
    }
   ],
   "source": [
    "df[\"Annual_Income\"].mean()"
   ]
  },
  {
   "cell_type": "code",
   "execution_count": 477,
   "id": "171b58f7",
   "metadata": {},
   "outputs": [],
   "source": [
    "for i in range(len(df)):\n",
    "    if df.loc[i,\"Annual_Income\"]>uf:\n",
    "        df.loc[i,\"Annual_Income\"]=df[\"Annual_Income\"].mean()"
   ]
  },
  {
   "cell_type": "code",
   "execution_count": 478,
   "id": "3f7d21b3",
   "metadata": {},
   "outputs": [
    {
     "data": {
      "text/plain": [
       "131313.4"
      ]
     },
     "execution_count": 478,
     "metadata": {},
     "output_type": "execute_result"
    }
   ],
   "source": [
    "df[\"Annual_Income\"][55]"
   ]
  },
  {
   "cell_type": "code",
   "execution_count": 479,
   "id": "de7595e5",
   "metadata": {},
   "outputs": [
    {
     "data": {
      "text/plain": [
       "15002"
      ]
     },
     "execution_count": 479,
     "metadata": {},
     "output_type": "execute_result"
    }
   ],
   "source": [
    "df[\"Monthly_Inhand_Salary\"].isnull().sum()              #null values in df[\"Monthly_Inhand_Salary\"]"
   ]
  },
  {
   "cell_type": "code",
   "execution_count": 480,
   "id": "eb3e3fd9",
   "metadata": {},
   "outputs": [
    {
     "data": {
      "text/plain": [
       "<Axes: >"
      ]
     },
     "execution_count": 480,
     "metadata": {},
     "output_type": "execute_result"
    },
    {
     "data": {
      "image/png": "[encoded data removed]",
      "text/plain": [
       "<Figure size 640x480 with 1 Axes>"
      ]
     },
     "metadata": {},
     "output_type": "display_data"
    }
   ],
   "source": [
    "df.boxplot(column=\"Monthly_Inhand_Salary\")"
   ]
  },
  {
   "cell_type": "code",
   "execution_count": null,
   "id": "d8de4943",
   "metadata": {},
   "outputs": [],
   "source": []
  },
  {
   "cell_type": "code",
   "execution_count": 481,
   "id": "2bff9a65",
   "metadata": {},
   "outputs": [
    {
     "name": "stdout",
     "output_type": "stream",
     "text": [
      "lf= -4872.251927083333    uf= 12455.268489583334\n"
     ]
    }
   ],
   "source": [
    "comp=pd.Series(df[\"Monthly_Inhand_Salary\"])\n",
    "Q1= comp.quantile(0.25)\n",
    "Q3= comp.quantile(0.75)\n",
    "IQR= Q3-Q1\n",
    "uf= Q3+1.5*IQR\n",
    "lf= Q1-1.5*IQR\n",
    "print(\"lf=\",lf,\"   uf=\",uf)"
   ]
  },
  {
   "cell_type": "code",
   "execution_count": 482,
   "id": "6f94939a",
   "metadata": {},
   "outputs": [
    {
     "data": {
      "text/plain": [
       "4194.170849600523"
      ]
     },
     "execution_count": 482,
     "metadata": {},
     "output_type": "execute_result"
    }
   ],
   "source": [
    "df[\"Monthly_Inhand_Salary\"].mean()"
   ]
  },
  {
   "cell_type": "code",
   "execution_count": 483,
   "id": "37a9051e",
   "metadata": {},
   "outputs": [],
   "source": [
    "for i in range(len(df)):\n",
    "    if df[\"Monthly_Inhand_Salary\"].isnull()[i]==True or df[\"Monthly_Inhand_Salary\"][i]<0:\n",
    "        df.loc[i,\"Monthly_Inhand_Salary\"]=0\n",
    "#replacing negative values with '0'"
   ]
  },
  {
   "cell_type": "code",
   "execution_count": 484,
   "id": "f6dc7a1f",
   "metadata": {},
   "outputs": [
    {
     "data": {
      "text/plain": [
       "0"
      ]
     },
     "execution_count": 484,
     "metadata": {},
     "output_type": "execute_result"
    }
   ],
   "source": [
    "df[\"Monthly_Inhand_Salary\"].isnull().sum()"
   ]
  },
  {
   "cell_type": "code",
   "execution_count": 485,
   "id": "926b7d9f",
   "metadata": {},
   "outputs": [],
   "source": [
    "for i in range(len(df)):\n",
    "    if df[\"Monthly_Inhand_Salary\"][i]>lf or df[\"Monthly_Inhand_Salary\"][i]==0 :\n",
    "        df.loc[i,\"Monthly_Inhand_Salary\"]=df[\"Monthly_Inhand_Salary\"].mean()"
   ]
  },
  {
   "cell_type": "code",
   "execution_count": 486,
   "id": "0d9f58c7",
   "metadata": {},
   "outputs": [
    {
     "data": {
      "text/plain": [
       "-0.0053954047578820335"
      ]
     },
     "execution_count": 486,
     "metadata": {},
     "output_type": "execute_result"
    }
   ],
   "source": [
    "df[\"Monthly_Inhand_Salary\"].corr(df[\"Annual_Income\"])"
   ]
  },
  {
   "cell_type": "code",
   "execution_count": 487,
   "id": "7988dc01",
   "metadata": {},
   "outputs": [
    {
     "data": {
      "text/plain": [
       "<Axes: >"
      ]
     },
     "execution_count": 487,
     "metadata": {},
     "output_type": "execute_result"
    },
    {
     "data": {
      "image/png": "[encoded data removed]",
      "text/plain": [
       "<Figure size 640x480 with 1 Axes>"
      ]
     },
     "metadata": {},
     "output_type": "display_data"
    }
   ],
   "source": [
    "df.boxplot(column=\"Monthly_Inhand_Salary\")"
   ]
  },
  {
   "cell_type": "markdown",
   "id": "dccc3445",
   "metadata": {},
   "source": [
    "# Working on df[\"Num_Bank_Accounts\"]"
   ]
  },
  {
   "cell_type": "code",
   "execution_count": 488,
   "id": "a72ac203",
   "metadata": {},
   "outputs": [
    {
     "data": {
      "text/plain": [
       "array([   3,    2,    1,    7,    4,    0,    8,    5,    6,    9,   10,\n",
       "       1414, 1231,   67,  572, 1488,   91,  528, 1647, 1696, 1338,  649,\n",
       "        889, 1668,  685,  857,  975, 1496, 1534, 1620,   37, 1388, 1429,\n",
       "       1332, 1588,  120, 1777, 1096,  803,  494,  744, 1139,  831, 1613,\n",
       "        741,  121,  665, 1748, 1644,  823, 1356, 1651,   87,  711,  450,\n",
       "        210, 1671, 1722,  648,  672, 1662, 1495,  510,  666,  429, 1131,\n",
       "       1434,  980, 1026,  526,  718, 1300, 1312, 1315,  501, 1566,  480,\n",
       "       1042,  322,  628, 1016,  333, 1265,  791,  427,  563,  905, 1190,\n",
       "       1036, 1611,   38,  619,  555, 1769,  280,  752, 1201,  812, 1487,\n",
       "        222,  212, 1019, 1222,  610, 1714, 1308,  525, 1158, 1115, 1616,\n",
       "        754, 1601,  797, 1577,  521,  703,  933,  959,  809, 1089, 1656,\n",
       "       1113, 1715,  964, 1533, 1789,  871,  434, 1295,  565, 1724,  603,\n",
       "        677,  541,  698, 1101,  464, 1539, 1462, 1011, 1257, 1727,   45,\n",
       "        244, 1266,  897,  535,  484,  331,  675,  826,  946, 1675,  105,\n",
       "       1327,  845,  549,  473,  710,  527,  908,   68, 1628,  371,  445,\n",
       "       1168,  868,  687,  455, 1003,   26, 1526,  618,  598,  351, 1342,\n",
       "       1783,  683, 1557, 1335,  416, 1747,  137, 1475,  373,  338,  942,\n",
       "        170,  973, 1605, 1478,  386, 1448, 1033, 1225,  596, 1731, 1214,\n",
       "       1481, 1105,  580,  347,  108,  148, 1001, 1467, 1114, 1000,  632,\n",
       "        246, 1032, 1394,  689,  482, 1303,  720,  574,  588, 1358,  650,\n",
       "        708,  179,  844, 1140,  335,   60,  732, 1494, 1436,  820,   28,\n",
       "       1576,  818,  794,  731,  534,  556,  691, 1197, 1155, 1255, 1763,\n",
       "        769, 1124,  819,  318, 1418,  882,   61,  264,  194, 1798,  611,\n",
       "        840,  505, 1110,  719, 1065,  195,  584,  550, 1014, 1022,  903,\n",
       "        976,   31,  417, 1423, 1148,  616,  786, 1424,   55, 1061, 1293,\n",
       "        342,   43, 1540,  488, 1122, 1274, 1075,  722, 1268,   41,  814,\n",
       "       1564, 1390, 1141,  497,  224, 1135,  441,  374,   74,  314, 1408,\n",
       "        475, 1015,  681, 1236,   59, 1425, 1637, 1240,  299, 1657, 1123,\n",
       "       1091, 1264, 1561, 1632, 1562,  305, 1318, 1217, 1699, 1070,  864,\n",
       "       1391,  112,  860,  595,  229, 1624, 1051,  821, 1794, 1565,  397,\n",
       "       1368, 1353,  508, 1725, 1413, 1239,  847, 1317,  570,   -1,  302,\n",
       "        456,  198,  122,  832,  167, 1547, 1666, 1241,  275,  566, 1779,\n",
       "        201,  334, 1169,  834, 1174, 1040,  530, 1676, 1468, 1093,  706,\n",
       "        489, 1592,  688,  830, 1784, 1543, 1600, 1178,  228,  483, 1501,\n",
       "        950,  548,  870, 1211,  604,  804,  129,  540, 1702, 1636, 1680,\n",
       "       1443, 1252,  499,  180,  702,  885, 1652,  795,  938,  833, 1654,\n",
       "       1793,  303, 1621, 1516, 1138,   32,  160, 1491,   83,  423,  928,\n",
       "        339,  931,  243, 1756,  583, 1695,  274,  955,  430, 1247,  490,\n",
       "        726,  987,   42, 1626, 1470, 1739,  887,  211,  385, 1221,  753,\n",
       "        324,  406, 1677, 1567,  785,  182, 1079,  184, 1771, 1048, 1069,\n",
       "        561,  589, 1634,   70, 1371,  647, 1153,  239,  801, 1279, 1287,\n",
       "        425, 1589,  929, 1511, 1765, 1047, 1005, 1337,  981, 1766,  805,\n",
       "       1574, 1638,  186,   99,  288, 1650,  974,  996, 1595, 1594,  865,\n",
       "        203, 1440,  448,  285,   94,  875,  916, 1733,  240,  330,   79,\n",
       "         82,  135, 1043,  142, 1235, 1569, 1741, 1461,  560, 1551,  409,\n",
       "        418, 1017,  892,  354,  124,  935,  313, 1363,  232, 1200, 1184,\n",
       "       1432, 1479, 1407, 1080, 1719, 1024,  970,  761,  158,  312, 1060,\n",
       "        684,  696, 1520, 1352, 1502,  936,  485,  350, 1560, 1166, 1013,\n",
       "         34, 1691,  715, 1570, 1751, 1503, 1194, 1558,  411,  298,  260,\n",
       "        308,  796, 1442,  912, 1256,  746,  435,  620, 1774, 1181, 1323,\n",
       "        837,  307, 1430,   53, 1447,  259,  921,  328, 1034,  353,  822,\n",
       "        654,  829,  609,  166,  136,  172, 1306, 1028,  808,  270, 1072,\n",
       "        514,  156, 1331, 1630,  462, 1310, 1210,  265,   50, 1355,  394,\n",
       "       1393,  226,  991,  368, 1018, 1037,  627, 1744,  523,  894,  944,\n",
       "       1730, 1076, 1094, 1617,  449,  678, 1164,   30,  817, 1568,  607,\n",
       "        709, 1230,  606, 1480,   29, 1522, 1670,   49,  626, 1641, 1712,\n",
       "       1370, 1782,  119, 1137, 1277,   35,  947,  851, 1041, 1583, 1536,\n",
       "        575,  196,  143,   33,  383,   57,  621,  230,  162,  352, 1504,\n",
       "       1250,   39,  511, 1364,  918, 1665,  734, 1320,  316,  771,  705,\n",
       "       1435,  304,  116, 1553,  424,  493, 1530, 1195, 1604,  624, 1599,\n",
       "        782, 1606, 1622, 1285,  657, 1275, 1291, 1402,  420,  932,  468,\n",
       "        442, 1145,   93, 1218,  283,  292,  927, 1711, 1422,  364, 1398,\n",
       "        594,  789, 1350,  676,  216, 1012, 1426,  717, 1095, 1786,  850,\n",
       "        777,  375,  356,  701, 1325,  290, 1775,  467, 1365, 1549,  848,\n",
       "       1453,   84, 1458,  888,  770, 1591,  582,   40, 1261, 1764, 1067,\n",
       "        145,  471,  476, 1128,  967,  622,  641,  539,  858,  295, 1395,\n",
       "       1517, 1297, 1126,  926,  157, 1377,  993,  125,  340,  271, 1669,\n",
       "        272,  979,  707,  564,  997,  447, 1578, 1465,  415,  714, 1276,\n",
       "         18, 1316,  587,  245,  446,  978, 1002, 1631,  341, 1307,  524,\n",
       "       1267,  103,  242, 1378, 1328, 1294, 1309,  724,  197,  999,  547,\n",
       "       1100, 1456,   77, 1506, 1472,  460,   11, 1420,  218, 1253,  392,\n",
       "        670, 1321,  100, 1205,  443,   92,  811,  774,  159, 1770,  972,\n",
       "       1157, 1102,  217,  358, 1473,  440,  140, 1361,  481,  512, 1117,\n",
       "        300, 1263, 1581,  901, 1298,  310,  637,  758, 1734, 1288,  326,\n",
       "       1678, 1444, 1344, 1379,  828,  982,  104,  317, 1529, 1627,  115,\n",
       "        645, 1404,  940, 1305, 1049, 1645, 1466,  175, 1165, 1419, 1031,\n",
       "        581, 1580,  854,  725, 1655, 1134,  569, 1387, 1381, 1760,  360,\n",
       "       1735, 1146, 1411,  969, 1281,  591,  327,  466,  667,  147,  109,\n",
       "        784, 1396, 1349,  839, 1284,  802,   97,  281, 1382, 1039, 1483,\n",
       "        376, 1249, 1207, 1213, 1219, 1345, 1523,  949, 1063,  983,  886,\n",
       "       1151,  992, 1107, 1314,  151,   69, 1489,  695,  738,  444, 1525,\n",
       "        825,  506,  518, 1077, 1354,  713,  690,  861, 1389,  968,  421,\n",
       "        907,  205,  856,   72,  651,  161,  867,  971, 1078,   64, 1701,\n",
       "        546, 1216,   27, 1709,  193, 1528,  957,  577,  346, 1416,  396,\n",
       "       1182,  652, 1083, 1778,  680, 1754, 1544, 1703,  636,  472,  453,\n",
       "        463,   75,  756,  296,  891,  813,  474,  697], dtype=int64)"
      ]
     },
     "execution_count": 488,
     "metadata": {},
     "output_type": "execute_result"
    }
   ],
   "source": [
    "df[\"Num_Bank_Accounts\"].unique()"
   ]
  },
  {
   "cell_type": "code",
   "execution_count": 489,
   "id": "6e8758f1",
   "metadata": {},
   "outputs": [
    {
     "name": "stdout",
     "output_type": "stream",
     "text": [
      "Minimum -1\n",
      "Maximum 1798\n",
      "Range 1799\n",
      "uf= 13.0    lf= -3.0\n"
     ]
    },
    {
     "data": {
      "text/plain": [
       "(13.0, -3.0)"
      ]
     },
     "execution_count": 489,
     "metadata": {},
     "output_type": "execute_result"
    }
   ],
   "source": [
    "uflf(df[\"Num_Bank_Accounts\"])"
   ]
  },
  {
   "cell_type": "code",
   "execution_count": 490,
   "id": "c15bd8f6",
   "metadata": {},
   "outputs": [],
   "source": [
    "#df=df.drop('Num_Bank_Accounts',axis=1)      #Data seems to be absurd or irrelevant as a person cannot have "
   ]
  },
  {
   "cell_type": "code",
   "execution_count": 491,
   "id": "e3a0969c",
   "metadata": {},
   "outputs": [
    {
     "data": {
      "text/plain": [
       "(100000, 24)"
      ]
     },
     "execution_count": 491,
     "metadata": {},
     "output_type": "execute_result"
    }
   ],
   "source": [
    "df.shape"
   ]
  },
  {
   "cell_type": "markdown",
   "id": "ce7bc713",
   "metadata": {},
   "source": [
    "## Working on df[\"Num_Credit_Card\"]"
   ]
  },
  {
   "cell_type": "code",
   "execution_count": 492,
   "id": "76e9606f",
   "metadata": {},
   "outputs": [
    {
     "data": {
      "text/plain": [
       "1179"
      ]
     },
     "execution_count": 492,
     "metadata": {},
     "output_type": "execute_result"
    }
   ],
   "source": [
    "df[\"Num_Credit_Card\"].nunique()"
   ]
  },
  {
   "cell_type": "code",
   "execution_count": 493,
   "id": "182dca87",
   "metadata": {},
   "outputs": [
    {
     "data": {
      "text/plain": [
       "0"
      ]
     },
     "execution_count": 493,
     "metadata": {},
     "output_type": "execute_result"
    }
   ],
   "source": [
    "df[\"Num_Credit_Card\"].isnull().sum()"
   ]
  },
  {
   "cell_type": "code",
   "execution_count": 494,
   "id": "15691620",
   "metadata": {},
   "outputs": [
    {
     "data": {
      "text/plain": [
       "<Axes: >"
      ]
     },
     "execution_count": 494,
     "metadata": {},
     "output_type": "execute_result"
    },
    {
     "data": {
      "image/png": "[encoded data removed]",
      "text/plain": [
       "<Figure size 640x480 with 1 Axes>"
      ]
     },
     "metadata": {},
     "output_type": "display_data"
    }
   ],
   "source": [
    "df.boxplot(\"Num_Credit_Card\")"
   ]
  },
  {
   "cell_type": "code",
   "execution_count": 495,
   "id": "7d4d5260",
   "metadata": {},
   "outputs": [
    {
     "name": "stdout",
     "output_type": "stream",
     "text": [
      "Minimum 0\n",
      "Maximum 1499\n",
      "Range 1499\n",
      "uf= 11.5    lf= -0.5\n"
     ]
    },
    {
     "data": {
      "text/plain": [
       "(11.5, -0.5)"
      ]
     },
     "execution_count": 495,
     "metadata": {},
     "output_type": "execute_result"
    }
   ],
   "source": [
    "uflf(df[\"Num_Credit_Card\"])"
   ]
  },
  {
   "cell_type": "code",
   "execution_count": 496,
   "id": "bc2a3d62",
   "metadata": {},
   "outputs": [
    {
     "data": {
      "text/plain": [
       "2284"
      ]
     },
     "execution_count": 496,
     "metadata": {},
     "output_type": "execute_result"
    }
   ],
   "source": [
    "# No. of Outliers\n",
    "a=0\n",
    "for i in range(len(df)):\n",
    "    if df.loc[i,\"Num_Credit_Card\"]>11.5 or df.loc[i,\"Num_Credit_Card\"]<1:\n",
    "        a=a+1\n",
    "a"
   ]
  },
  {
   "cell_type": "code",
   "execution_count": 497,
   "id": "d9217e96",
   "metadata": {},
   "outputs": [
    {
     "name": "stdout",
     "output_type": "stream",
     "text": [
      "22.47443\n",
      "5.0\n"
     ]
    }
   ],
   "source": [
    "print(df[\"Num_Credit_Card\"].mean())\n",
    "print(df[\"Num_Credit_Card\"].median())"
   ]
  },
  {
   "cell_type": "code",
   "execution_count": 498,
   "id": "68f02aea",
   "metadata": {},
   "outputs": [],
   "source": [
    "# Outlier Treatment\n",
    "a=0\n",
    "for i in range(len(df)):\n",
    "    if df.loc[i,\"Num_Credit_Card\"]>11.5 or df.loc[i,\"Num_Credit_Card\"]<1:\n",
    "        df.loc[i,\"Num_Credit_Card\"]=df[\"Num_Credit_Card\"].median()"
   ]
  },
  {
   "cell_type": "code",
   "execution_count": 499,
   "id": "980378cb",
   "metadata": {},
   "outputs": [
    {
     "data": {
      "text/plain": [
       "<Axes: >"
      ]
     },
     "execution_count": 499,
     "metadata": {},
     "output_type": "execute_result"
    },
    {
     "data": {
      "image/png": "[encoded data removed]",
      "text/plain": [
       "<Figure size 640x480 with 1 Axes>"
      ]
     },
     "metadata": {},
     "output_type": "display_data"
    }
   ],
   "source": [
    "df.boxplot(\"Num_Credit_Card\")"
   ]
  },
  {
   "cell_type": "code",
   "execution_count": 500,
   "id": "1587f85e",
   "metadata": {},
   "outputs": [
    {
     "data": {
      "text/plain": [
       "dtype('int64')"
      ]
     },
     "execution_count": 500,
     "metadata": {},
     "output_type": "execute_result"
    }
   ],
   "source": [
    "df[\"Num_Credit_Card\"].dtypes"
   ]
  },
  {
   "cell_type": "markdown",
   "id": "a47c313f",
   "metadata": {},
   "source": [
    "## Working on df[\"Interest_Rate\"]"
   ]
  },
  {
   "cell_type": "code",
   "execution_count": 501,
   "id": "dbbf069a",
   "metadata": {},
   "outputs": [
    {
     "data": {
      "text/plain": [
       "dtype('int64')"
      ]
     },
     "execution_count": 501,
     "metadata": {},
     "output_type": "execute_result"
    }
   ],
   "source": [
    "df[\"Interest_Rate\"].dtypes"
   ]
  },
  {
   "cell_type": "code",
   "execution_count": 502,
   "id": "40dbed23",
   "metadata": {},
   "outputs": [
    {
     "data": {
      "text/plain": [
       "array([   3,    6,    8, ..., 1347,  387, 5729], dtype=int64)"
      ]
     },
     "execution_count": 502,
     "metadata": {},
     "output_type": "execute_result"
    }
   ],
   "source": [
    "df[\"Interest_Rate\"].unique()"
   ]
  },
  {
   "cell_type": "code",
   "execution_count": 503,
   "id": "36f69904",
   "metadata": {},
   "outputs": [
    {
     "data": {
      "text/plain": [
       "0"
      ]
     },
     "execution_count": 503,
     "metadata": {},
     "output_type": "execute_result"
    }
   ],
   "source": [
    "df[\"Interest_Rate\"].isnull().sum()"
   ]
  },
  {
   "cell_type": "code",
   "execution_count": 504,
   "id": "e342f7ed",
   "metadata": {},
   "outputs": [
    {
     "data": {
      "text/plain": [
       "<Axes: >"
      ]
     },
     "execution_count": 504,
     "metadata": {},
     "output_type": "execute_result"
    },
    {
     "data": {
      "image/png": "[encoded data removed]",
      "text/plain": [
       "<Figure size 640x480 with 1 Axes>"
      ]
     },
     "metadata": {},
     "output_type": "display_data"
    }
   ],
   "source": [
    "df.boxplot(\"Interest_Rate\")"
   ]
  },
  {
   "cell_type": "code",
   "execution_count": 505,
   "id": "70d1ab9d",
   "metadata": {},
   "outputs": [
    {
     "name": "stdout",
     "output_type": "stream",
     "text": [
      "Minimum 1\n",
      "Maximum 5797\n",
      "Range 5796\n",
      "uf= 38.0    lf= -10.0\n"
     ]
    },
    {
     "data": {
      "text/plain": [
       "(38.0, -10.0)"
      ]
     },
     "execution_count": 505,
     "metadata": {},
     "output_type": "execute_result"
    }
   ],
   "source": [
    "uflf(df[\"Interest_Rate\"])"
   ]
  },
  {
   "cell_type": "code",
   "execution_count": 506,
   "id": "3192b21c",
   "metadata": {},
   "outputs": [
    {
     "data": {
      "text/plain": [
       "2034"
      ]
     },
     "execution_count": 506,
     "metadata": {},
     "output_type": "execute_result"
    }
   ],
   "source": [
    "# No. of Outliers\n",
    "a=0\n",
    "for i in range(len(df)):\n",
    "    if df.loc[i,\"Interest_Rate\"]>38 or df.loc[i,\"Interest_Rate\"]<1:\n",
    "        a=a+1\n",
    "a"
   ]
  },
  {
   "cell_type": "code",
   "execution_count": 507,
   "id": "6ff85730",
   "metadata": {},
   "outputs": [
    {
     "name": "stdout",
     "output_type": "stream",
     "text": [
      "72.46604\n",
      "13.0\n"
     ]
    }
   ],
   "source": [
    "print(df[\"Interest_Rate\"].mean())\n",
    "print(df[\"Interest_Rate\"].median())"
   ]
  },
  {
   "cell_type": "code",
   "execution_count": 508,
   "id": "ca935b0b",
   "metadata": {},
   "outputs": [],
   "source": [
    "# Outlier Treatment\n",
    "for i in range(len(df)):\n",
    "    if df.loc[i,\"Interest_Rate\"]>38 or df.loc[i,\"Interest_Rate\"]<1:\n",
    "        df.loc[i,\"Interest_Rate\"]=df[\"Interest_Rate\"].median()"
   ]
  },
  {
   "cell_type": "code",
   "execution_count": 509,
   "id": "2ab12cfd",
   "metadata": {},
   "outputs": [
    {
     "data": {
      "text/plain": [
       "<Axes: >"
      ]
     },
     "execution_count": 509,
     "metadata": {},
     "output_type": "execute_result"
    },
    {
     "data": {
      "image/png": "[encoded data removed]",
      "text/plain": [
       "<Figure size 640x480 with 1 Axes>"
      ]
     },
     "metadata": {},
     "output_type": "display_data"
    }
   ],
   "source": [
    "df.boxplot(\"Interest_Rate\")"
   ]
  },
  {
   "cell_type": "code",
   "execution_count": null,
   "id": "5153faa8",
   "metadata": {},
   "outputs": [],
   "source": []
  },
  {
   "cell_type": "markdown",
   "id": "99b01a4e",
   "metadata": {},
   "source": [
    "## Working On df[\"Num_of_Loan\"]"
   ]
  },
  {
   "cell_type": "code",
   "execution_count": 510,
   "id": "0534e001",
   "metadata": {},
   "outputs": [
    {
     "data": {
      "text/plain": [
       "434"
      ]
     },
     "execution_count": 510,
     "metadata": {},
     "output_type": "execute_result"
    }
   ],
   "source": [
    "df[\"Num_of_Loan\"].nunique()"
   ]
  },
  {
   "cell_type": "code",
   "execution_count": 511,
   "id": "25097af9",
   "metadata": {},
   "outputs": [
    {
     "data": {
      "text/plain": [
       "0"
      ]
     },
     "execution_count": 511,
     "metadata": {},
     "output_type": "execute_result"
    }
   ],
   "source": [
    "df[\"Num_of_Loan\"].isnull().sum()"
   ]
  },
  {
   "cell_type": "code",
   "execution_count": 512,
   "id": "34c42983",
   "metadata": {},
   "outputs": [
    {
     "data": {
      "text/plain": [
       "dtype('O')"
      ]
     },
     "execution_count": 512,
     "metadata": {},
     "output_type": "execute_result"
    }
   ],
   "source": [
    "df[\"Num_of_Loan\"].dtypes"
   ]
  },
  {
   "cell_type": "code",
   "execution_count": 513,
   "id": "3c6c6de0",
   "metadata": {},
   "outputs": [],
   "source": [
    "df[\"Num_of_Loan\"]=df[\"Num_of_Loan\"].str.replace(\"_\",\"\").astype('float')"
   ]
  },
  {
   "cell_type": "code",
   "execution_count": 514,
   "id": "cc0ce892",
   "metadata": {},
   "outputs": [
    {
     "data": {
      "text/plain": [
       "<Axes: >"
      ]
     },
     "execution_count": 514,
     "metadata": {},
     "output_type": "execute_result"
    },
    {
     "data": {
      "image/png": "[encoded data removed]",
      "text/plain": [
       "<Figure size 640x480 with 1 Axes>"
      ]
     },
     "metadata": {},
     "output_type": "display_data"
    }
   ],
   "source": [
    "df.boxplot('Num_of_Loan')"
   ]
  },
  {
   "cell_type": "code",
   "execution_count": 515,
   "id": "78436416",
   "metadata": {},
   "outputs": [
    {
     "name": "stdout",
     "output_type": "stream",
     "text": [
      "Minimum -100.0\n",
      "Maximum 1496.0\n",
      "Range 1596.0\n",
      "uf= 11.0    lf= -5.0\n"
     ]
    },
    {
     "data": {
      "text/plain": [
       "(11.0, -5.0)"
      ]
     },
     "execution_count": 515,
     "metadata": {},
     "output_type": "execute_result"
    }
   ],
   "source": [
    "uflf(df[\"Num_of_Loan\"])"
   ]
  },
  {
   "cell_type": "code",
   "execution_count": 516,
   "id": "b97dd8bb",
   "metadata": {},
   "outputs": [
    {
     "data": {
      "text/plain": [
       "4348"
      ]
     },
     "execution_count": 516,
     "metadata": {},
     "output_type": "execute_result"
    }
   ],
   "source": [
    "# No. of Outliers = approx 4.5% of total data\n",
    "a=0\n",
    "for i in range(len(df)):\n",
    "    if df.loc[i,\"Num_of_Loan\"]>11 or df.loc[i,\"Num_of_Loan\"]<0:\n",
    "        a=a+1\n",
    "a"
   ]
  },
  {
   "cell_type": "code",
   "execution_count": 517,
   "id": "fe67258b",
   "metadata": {},
   "outputs": [
    {
     "name": "stdout",
     "output_type": "stream",
     "text": [
      "3.00996\n",
      "3.0\n"
     ]
    }
   ],
   "source": [
    "print(df[\"Num_of_Loan\"].mean())\n",
    "print(df[\"Num_of_Loan\"].median())"
   ]
  },
  {
   "cell_type": "code",
   "execution_count": 518,
   "id": "ee2e5ba0",
   "metadata": {},
   "outputs": [],
   "source": [
    "# Outlier Treatment\n",
    "for i in range(len(df)):\n",
    "    if df.loc[i,\"Num_of_Loan\"]>38 or df.loc[i,\"Num_of_Loan\"]<1:\n",
    "        df.loc[i,\"Num_of_Loan\"]=df[\"Num_of_Loan\"].median()"
   ]
  },
  {
   "cell_type": "code",
   "execution_count": 519,
   "id": "7ef4c0ec",
   "metadata": {},
   "outputs": [
    {
     "data": {
      "text/plain": [
       "<Axes: >"
      ]
     },
     "execution_count": 519,
     "metadata": {},
     "output_type": "execute_result"
    },
    {
     "data": {
      "image/png": "[encoded data removed]",
      "text/plain": [
       "<Figure size 640x480 with 1 Axes>"
      ]
     },
     "metadata": {},
     "output_type": "display_data"
    }
   ],
   "source": [
    "df.boxplot('Num_of_Loan')"
   ]
  },
  {
   "cell_type": "code",
   "execution_count": null,
   "id": "ab2aa903",
   "metadata": {},
   "outputs": [],
   "source": []
  },
  {
   "cell_type": "markdown",
   "id": "92ba0bf4",
   "metadata": {},
   "source": [
    "## Working on df[\"Type_of_Loan\"]"
   ]
  },
  {
   "cell_type": "code",
   "execution_count": 520,
   "id": "faa03007",
   "metadata": {},
   "outputs": [
    {
     "data": {
      "text/plain": [
       "6260"
      ]
     },
     "execution_count": 520,
     "metadata": {},
     "output_type": "execute_result"
    }
   ],
   "source": [
    "df[\"Type_of_Loan\"].nunique()"
   ]
  },
  {
   "cell_type": "code",
   "execution_count": 521,
   "id": "a537860b",
   "metadata": {},
   "outputs": [
    {
     "data": {
      "text/plain": [
       "Not Specified                                                                                                                         1408\n",
       "Credit-Builder Loan                                                                                                                   1280\n",
       "Personal Loan                                                                                                                         1272\n",
       "Debt Consolidation Loan                                                                                                               1264\n",
       "Student Loan                                                                                                                          1240\n",
       "                                                                                                                                      ... \n",
       "Not Specified, Mortgage Loan, Auto Loan, and Payday Loan                                                                                 8\n",
       "Payday Loan, Mortgage Loan, Debt Consolidation Loan, and Student Loan                                                                    8\n",
       "Debt Consolidation Loan, Auto Loan, Personal Loan, Debt Consolidation Loan, Student Loan, and Credit-Builder Loan                        8\n",
       "Student Loan, Auto Loan, Student Loan, Credit-Builder Loan, Home Equity Loan, Debt Consolidation Loan, and Debt Consolidation Loan       8\n",
       "Personal Loan, Auto Loan, Mortgage Loan, Student Loan, and Student Loan                                                                  8\n",
       "Name: Type_of_Loan, Length: 6260, dtype: int64"
      ]
     },
     "execution_count": 521,
     "metadata": {},
     "output_type": "execute_result"
    }
   ],
   "source": [
    "df[\"Type_of_Loan\"].value_counts()"
   ]
  },
  {
   "cell_type": "code",
   "execution_count": 522,
   "id": "e40d528f",
   "metadata": {},
   "outputs": [
    {
     "data": {
      "text/plain": [
       "11408"
      ]
     },
     "execution_count": 522,
     "metadata": {},
     "output_type": "execute_result"
    }
   ],
   "source": [
    "df[\"Type_of_Loan\"].isnull().sum()"
   ]
  },
  {
   "cell_type": "code",
   "execution_count": 523,
   "id": "32bd6be4",
   "metadata": {},
   "outputs": [],
   "source": [
    "df.Type_of_Loan.fillna(\"Not Specified\",inplace=True)"
   ]
  },
  {
   "cell_type": "code",
   "execution_count": 524,
   "id": "c1cf5944",
   "metadata": {},
   "outputs": [
    {
     "data": {
      "text/plain": [
       "0"
      ]
     },
     "execution_count": 524,
     "metadata": {},
     "output_type": "execute_result"
    }
   ],
   "source": [
    "df[\"Type_of_Loan\"].isnull().sum()"
   ]
  },
  {
   "cell_type": "code",
   "execution_count": 525,
   "id": "7abebf73",
   "metadata": {},
   "outputs": [
    {
     "data": {
      "text/plain": [
       "0    Not Specified\n",
       "Name: Type_of_Loan, dtype: object"
      ]
     },
     "execution_count": 525,
     "metadata": {},
     "output_type": "execute_result"
    }
   ],
   "source": [
    "df[\"Type_of_Loan\"].mode()"
   ]
  },
  {
   "cell_type": "code",
   "execution_count": 526,
   "id": "e42621e4",
   "metadata": {},
   "outputs": [
    {
     "name": "stdout",
     "output_type": "stream",
     "text": [
      "['Auto Loan'\n",
      " 'Auto Loan, Auto Loan, Auto Loan, Auto Loan, Credit-Builder Loan, Credit-Builder Loan, Mortgage Loan, and Personal Loan'\n",
      " 'Auto Loan, Auto Loan, Auto Loan, Auto Loan, Student Loan, and Student Loan'\n",
      " ... 'Student Loan, and Payday Loan' 'Student Loan, and Personal Loan'\n",
      " 'Student Loan, and Student Loan']\n"
     ]
    }
   ],
   "source": [
    "# Considering it an ordinal data\n",
    "\n",
    "Loantype_encoder=LabelEncoder()\n",
    "Loantype_encoder.fit(df['Type_of_Loan'])\n",
    "print(Loantype_encoder.classes_)"
   ]
  },
  {
   "cell_type": "code",
   "execution_count": 527,
   "id": "bb68c478",
   "metadata": {},
   "outputs": [],
   "source": [
    "df['Type_of_Loan']=Loantype_encoder.transform(df['Type_of_Loan'])"
   ]
  },
  {
   "cell_type": "code",
   "execution_count": null,
   "id": "5bb58a2e",
   "metadata": {},
   "outputs": [],
   "source": []
  },
  {
   "cell_type": "markdown",
   "id": "7f13ff56",
   "metadata": {},
   "source": [
    "## Working on df[\"Delay_from_due_date \"]"
   ]
  },
  {
   "cell_type": "code",
   "execution_count": 528,
   "id": "afda607f",
   "metadata": {},
   "outputs": [
    {
     "data": {
      "text/plain": [
       "dtype('int64')"
      ]
     },
     "execution_count": 528,
     "metadata": {},
     "output_type": "execute_result"
    }
   ],
   "source": [
    "df[\"Delay_from_due_date\"].dtypes"
   ]
  },
  {
   "cell_type": "code",
   "execution_count": 529,
   "id": "9e7793a5",
   "metadata": {},
   "outputs": [
    {
     "data": {
      "text/plain": [
       "73"
      ]
     },
     "execution_count": 529,
     "metadata": {},
     "output_type": "execute_result"
    }
   ],
   "source": [
    "df[\"Delay_from_due_date\"].nunique()"
   ]
  },
  {
   "cell_type": "code",
   "execution_count": 530,
   "id": "96a896b3",
   "metadata": {},
   "outputs": [
    {
     "data": {
      "text/plain": [
       "<Axes: >"
      ]
     },
     "execution_count": 530,
     "metadata": {},
     "output_type": "execute_result"
    },
    {
     "data": {
      "image/png": "[encoded data removed]",
      "text/plain": [
       "<Figure size 640x480 with 1 Axes>"
      ]
     },
     "metadata": {},
     "output_type": "display_data"
    }
   ],
   "source": [
    "df.boxplot('Delay_from_due_date')"
   ]
  },
  {
   "cell_type": "code",
   "execution_count": 531,
   "id": "6daa40dd",
   "metadata": {},
   "outputs": [
    {
     "name": "stdout",
     "output_type": "stream",
     "text": [
      "Minimum -5\n",
      "Maximum 67\n",
      "Range 72\n",
      "uf= 55.0    lf= -17.0\n"
     ]
    },
    {
     "data": {
      "text/plain": [
       "(55.0, -17.0)"
      ]
     },
     "execution_count": 531,
     "metadata": {},
     "output_type": "execute_result"
    }
   ],
   "source": [
    "uflf(df[\"Delay_from_due_date\"])"
   ]
  },
  {
   "cell_type": "code",
   "execution_count": 532,
   "id": "08b8f959",
   "metadata": {},
   "outputs": [
    {
     "data": {
      "text/plain": [
       "591"
      ]
     },
     "execution_count": 532,
     "metadata": {},
     "output_type": "execute_result"
    }
   ],
   "source": [
    "# No. of Outliers = approx 4.5% of total data\n",
    "a=0\n",
    "for i in range(len(df)):\n",
    "    if df.loc[i,\"Delay_from_due_date\"]>uf or df.loc[i,\"Delay_from_due_date\"]<0:\n",
    "        a=a+1\n",
    "a"
   ]
  },
  {
   "cell_type": "code",
   "execution_count": 533,
   "id": "eaa45dd4",
   "metadata": {},
   "outputs": [
    {
     "name": "stdout",
     "output_type": "stream",
     "text": [
      "21.06878\n",
      "18.0\n"
     ]
    }
   ],
   "source": [
    "print(df[\"Delay_from_due_date\"].mean())\n",
    "print(df[\"Delay_from_due_date\"].median())"
   ]
  },
  {
   "cell_type": "code",
   "execution_count": 534,
   "id": "6d210511",
   "metadata": {},
   "outputs": [],
   "source": [
    "for i in range(len(df)):\n",
    "    if df.loc[i,\"Delay_from_due_date\"]>38 or df.loc[i,\"Delay_from_due_date\"]<1:\n",
    "        df.loc[i,\"Delay_from_due_date\"]=df[\"Delay_from_due_date\"].mean()"
   ]
  },
  {
   "cell_type": "code",
   "execution_count": 535,
   "id": "7735a94d",
   "metadata": {},
   "outputs": [
    {
     "data": {
      "text/plain": [
       "<Axes: >"
      ]
     },
     "execution_count": 535,
     "metadata": {},
     "output_type": "execute_result"
    },
    {
     "data": {
      "image/png": "[encoded data removed]",
      "text/plain": [
       "<Figure size 640x480 with 1 Axes>"
      ]
     },
     "metadata": {},
     "output_type": "display_data"
    }
   ],
   "source": [
    "df.boxplot('Delay_from_due_date')"
   ]
  },
  {
   "cell_type": "code",
   "execution_count": null,
   "id": "ea716d00",
   "metadata": {},
   "outputs": [],
   "source": []
  },
  {
   "cell_type": "markdown",
   "id": "44b70397",
   "metadata": {},
   "source": [
    "## Working on df[\"Num_of_Delayed_Payment\"]"
   ]
  },
  {
   "cell_type": "code",
   "execution_count": 536,
   "id": "579c6c22",
   "metadata": {},
   "outputs": [
    {
     "data": {
      "text/plain": [
       "dtype('O')"
      ]
     },
     "execution_count": 536,
     "metadata": {},
     "output_type": "execute_result"
    }
   ],
   "source": [
    "df[\"Num_of_Delayed_Payment\"].dtypes"
   ]
  },
  {
   "cell_type": "code",
   "execution_count": 537,
   "id": "0815da5e",
   "metadata": {},
   "outputs": [
    {
     "data": {
      "text/plain": [
       "7002"
      ]
     },
     "execution_count": 537,
     "metadata": {},
     "output_type": "execute_result"
    }
   ],
   "source": [
    "df[\"Num_of_Delayed_Payment\"].isnull().sum()"
   ]
  },
  {
   "cell_type": "code",
   "execution_count": 538,
   "id": "490746ae",
   "metadata": {},
   "outputs": [
    {
     "data": {
      "text/plain": [
       "749"
      ]
     },
     "execution_count": 538,
     "metadata": {},
     "output_type": "execute_result"
    }
   ],
   "source": [
    "df[\"Num_of_Delayed_Payment\"].nunique()"
   ]
  },
  {
   "cell_type": "code",
   "execution_count": 539,
   "id": "95a3496f",
   "metadata": {},
   "outputs": [],
   "source": [
    "df[\"Num_of_Delayed_Payment\"]=df[\"Num_of_Delayed_Payment\"].str.replace(\"_\",\"\").astype(float)"
   ]
  },
  {
   "cell_type": "code",
   "execution_count": 540,
   "id": "abd4a3ac",
   "metadata": {},
   "outputs": [
    {
     "data": {
      "text/plain": [
       "<Axes: >"
      ]
     },
     "execution_count": 540,
     "metadata": {},
     "output_type": "execute_result"
    },
    {
     "data": {
      "image/png": "[encoded data removed]",
      "text/plain": [
       "<Figure size 640x480 with 1 Axes>"
      ]
     },
     "metadata": {},
     "output_type": "display_data"
    }
   ],
   "source": [
    "df.boxplot(\"Num_of_Delayed_Payment\")"
   ]
  },
  {
   "cell_type": "code",
   "execution_count": 541,
   "id": "0b8e543c",
   "metadata": {},
   "outputs": [
    {
     "name": "stdout",
     "output_type": "stream",
     "text": [
      "Minimum -3.0\n",
      "Maximum 4397.0\n",
      "Range 4400.0\n",
      "uf= 31.5    lf= -4.5\n"
     ]
    },
    {
     "data": {
      "text/plain": [
       "(31.5, -4.5)"
      ]
     },
     "execution_count": 541,
     "metadata": {},
     "output_type": "execute_result"
    }
   ],
   "source": [
    "uflf(df[\"Num_of_Delayed_Payment\"])"
   ]
  },
  {
   "cell_type": "code",
   "execution_count": 542,
   "id": "76f0ed4c",
   "metadata": {},
   "outputs": [
    {
     "data": {
      "text/plain": [
       "644"
      ]
     },
     "execution_count": 542,
     "metadata": {},
     "output_type": "execute_result"
    }
   ],
   "source": [
    "# No. of Outliers = approx 0.7% of total data\n",
    "a=0\n",
    "for i in range(len(df)):\n",
    "    if df.loc[i,\"Num_of_Delayed_Payment\"]>uf or df.loc[i,\"Num_of_Delayed_Payment\"]<0:\n",
    "        a=a+1\n",
    "a"
   ]
  },
  {
   "cell_type": "code",
   "execution_count": 543,
   "id": "9d7abd2a",
   "metadata": {},
   "outputs": [],
   "source": [
    "# No. of Outliers + Total No. of Missing Values = 7646 that is about 7.7% of total data"
   ]
  },
  {
   "cell_type": "code",
   "execution_count": 544,
   "id": "1825db4d",
   "metadata": {},
   "outputs": [
    {
     "name": "stdout",
     "output_type": "stream",
     "text": [
      "30.923342437471774\n",
      "14.0\n"
     ]
    }
   ],
   "source": [
    "print(df[\"Num_of_Delayed_Payment\"].mean())\n",
    "print(df[\"Num_of_Delayed_Payment\"].median())"
   ]
  },
  {
   "cell_type": "code",
   "execution_count": 545,
   "id": "25b20f52",
   "metadata": {},
   "outputs": [],
   "source": [
    "for i in range(len(df)):\n",
    "    if df.loc[i,\"Num_of_Delayed_Payment\"]>38 or df.loc[i,\"Num_of_Delayed_Payment\"]<0:\n",
    "        df.loc[i,\"Num_of_Delayed_Payment\"]=df[\"Num_of_Delayed_Payment\"].mean()"
   ]
  },
  {
   "cell_type": "code",
   "execution_count": 546,
   "id": "627d751c",
   "metadata": {},
   "outputs": [
    {
     "data": {
      "text/plain": [
       "<Axes: >"
      ]
     },
     "execution_count": 546,
     "metadata": {},
     "output_type": "execute_result"
    },
    {
     "data": {
      "image/png": "[encoded data removed]",
      "text/plain": [
       "<Figure size 640x480 with 1 Axes>"
      ]
     },
     "metadata": {},
     "output_type": "display_data"
    }
   ],
   "source": [
    "df.boxplot(\"Num_of_Delayed_Payment\")"
   ]
  },
  {
   "cell_type": "code",
   "execution_count": null,
   "id": "1f113b46",
   "metadata": {},
   "outputs": [],
   "source": []
  },
  {
   "cell_type": "markdown",
   "id": "30833fa1",
   "metadata": {},
   "source": [
    "## Working on df[\"Changed_Credit_Limit\"]"
   ]
  },
  {
   "cell_type": "code",
   "execution_count": 584,
   "id": "353a71a0",
   "metadata": {},
   "outputs": [
    {
     "data": {
      "text/plain": [
       "0"
      ]
     },
     "execution_count": 584,
     "metadata": {},
     "output_type": "execute_result"
    }
   ],
   "source": [
    "df[\"Changed_Credit_Limit\"].isnull().sum()"
   ]
  },
  {
   "cell_type": "code",
   "execution_count": 585,
   "id": "bf5c1bd5",
   "metadata": {},
   "outputs": [
    {
     "data": {
      "text/plain": [
       "dtype('O')"
      ]
     },
     "execution_count": 585,
     "metadata": {},
     "output_type": "execute_result"
    }
   ],
   "source": [
    "df[\"Changed_Credit_Limit\"].dtypes"
   ]
  },
  {
   "cell_type": "code",
   "execution_count": 586,
   "id": "b522decf",
   "metadata": {},
   "outputs": [
    {
     "data": {
      "text/plain": [
       "4384"
      ]
     },
     "execution_count": 586,
     "metadata": {},
     "output_type": "execute_result"
    }
   ],
   "source": [
    "df[\"Changed_Credit_Limit\"].nunique()"
   ]
  },
  {
   "cell_type": "code",
   "execution_count": 587,
   "id": "0e323853",
   "metadata": {},
   "outputs": [
    {
     "data": {
      "text/plain": [
       "_                     2091\n",
       "8.22                   133\n",
       "11.5                   127\n",
       "11.32                  126\n",
       "7.35                   121\n",
       "                      ... \n",
       "-1.84                    1\n",
       "0.8899999999999999       1\n",
       "28.06                    1\n",
       "1.5599999999999996       1\n",
       "21.17                    1\n",
       "Name: Changed_Credit_Limit, Length: 4384, dtype: int64"
      ]
     },
     "execution_count": 587,
     "metadata": {},
     "output_type": "execute_result"
    }
   ],
   "source": [
    "df[\"Changed_Credit_Limit\"].value_counts()"
   ]
  },
  {
   "cell_type": "code",
   "execution_count": 557,
   "id": "9769e684",
   "metadata": {},
   "outputs": [
    {
     "data": {
      "text/plain": [
       "0        11.27\n",
       "1        11.27\n",
       "2             \n",
       "3         6.27\n",
       "4        11.27\n",
       "         ...  \n",
       "99995     11.5\n",
       "99996     11.5\n",
       "99997     11.5\n",
       "99998     11.5\n",
       "99999     11.5\n",
       "Name: Changed_Credit_Limit, Length: 100000, dtype: object"
      ]
     },
     "execution_count": 557,
     "metadata": {},
     "output_type": "execute_result"
    }
   ],
   "source": [
    "#df[\"Changed_Credit_Limit\"].str.replace(\"_\",\"\")"
   ]
  },
  {
   "cell_type": "code",
   "execution_count": 588,
   "id": "61d7ed0a",
   "metadata": {},
   "outputs": [],
   "source": [
    "li=list(df[\"Changed_Credit_Limit\"])"
   ]
  },
  {
   "cell_type": "code",
   "execution_count": 589,
   "id": "65a0a73c",
   "metadata": {},
   "outputs": [
    {
     "data": {
      "text/plain": [
       "2091"
      ]
     },
     "execution_count": 589,
     "metadata": {},
     "output_type": "execute_result"
    }
   ],
   "source": [
    "ccl=[]\n",
    "count=0\n",
    "for i in li:\n",
    "    if i!=\"_\":\n",
    "        ccl.append(float(i))\n",
    "    else:\n",
    "        count=count+1\n",
    "count           #2% of total data to be treated"
   ]
  },
  {
   "cell_type": "code",
   "execution_count": 590,
   "id": "37347c2a",
   "metadata": {},
   "outputs": [
    {
     "data": {
      "text/plain": [
       "{'whiskers': [<matplotlib.lines.Line2D at 0x1fee43536a0>,\n",
       "  <matplotlib.lines.Line2D at 0x1fee4353940>],\n",
       " 'caps': [<matplotlib.lines.Line2D at 0x1fee4353be0>,\n",
       "  <matplotlib.lines.Line2D at 0x1fee4352410>],\n",
       " 'boxes': [<matplotlib.lines.Line2D at 0x1fee4353400>],\n",
       " 'medians': [<matplotlib.lines.Line2D at 0x1fee4388040>],\n",
       " 'fliers': [<matplotlib.lines.Line2D at 0x1fee43882e0>],\n",
       " 'means': []}"
      ]
     },
     "execution_count": 590,
     "metadata": {},
     "output_type": "execute_result"
    },
    {
     "data": {
      "image/png": "[encoded data removed]",
      "text/plain": [
       "<Figure size 640x480 with 1 Axes>"
      ]
     },
     "metadata": {},
     "output_type": "display_data"
    }
   ],
   "source": [
    "plt.boxplot(ccl)"
   ]
  },
  {
   "cell_type": "code",
   "execution_count": 591,
   "id": "fb2cae0d",
   "metadata": {},
   "outputs": [
    {
     "name": "stdout",
     "output_type": "stream",
     "text": [
      "Minimum -6.49\n",
      "Maximum 36.97\n",
      "Range 43.46\n",
      "uf= 29.195    lf= -9.004999999999999\n"
     ]
    },
    {
     "data": {
      "text/plain": [
       "(29.195, -9.004999999999999)"
      ]
     },
     "execution_count": 591,
     "metadata": {},
     "output_type": "execute_result"
    }
   ],
   "source": [
    "uflf(ccl)"
   ]
  },
  {
   "cell_type": "code",
   "execution_count": 592,
   "id": "93cd8e35",
   "metadata": {},
   "outputs": [],
   "source": [
    "avg_Changed_Credit_Limit=np.mean(ccl)"
   ]
  },
  {
   "cell_type": "code",
   "execution_count": 593,
   "id": "016b0f3e",
   "metadata": {},
   "outputs": [
    {
     "data": {
      "text/plain": [
       "9.4"
      ]
     },
     "execution_count": 593,
     "metadata": {},
     "output_type": "execute_result"
    }
   ],
   "source": [
    "np.median(ccl)"
   ]
  },
  {
   "cell_type": "code",
   "execution_count": 594,
   "id": "fb3067a9",
   "metadata": {},
   "outputs": [],
   "source": [
    "#Data Treatment\n",
    "for i in range(len(df)):\n",
    "    if df.loc[i,\"Changed_Credit_Limit\"]==\"_\":\n",
    "        df.loc[i,\"Changed_Credit_Limit\"]=avg_Changed_Credit_Limit"
   ]
  },
  {
   "cell_type": "code",
   "execution_count": 596,
   "id": "156940f1",
   "metadata": {},
   "outputs": [],
   "source": [
    "df[\"Changed_Credit_Limit\"]=df[\"Changed_Credit_Limit\"].astype(float)"
   ]
  },
  {
   "cell_type": "code",
   "execution_count": 597,
   "id": "12ff04f9",
   "metadata": {},
   "outputs": [],
   "source": [
    "for i in range(len(df)):\n",
    "    if df.loc[i,\"Changed_Credit_Limit\"]>uf or df.loc[i,\"Changed_Credit_Limit\"]<lf:\n",
    "        df.loc[i,\"Changed_Credit_Limit\"]=avg_Changed_Credit_Limit"
   ]
  },
  {
   "cell_type": "code",
   "execution_count": 606,
   "id": "2c965fac",
   "metadata": {},
   "outputs": [
    {
     "name": "stdout",
     "output_type": "stream",
     "text": [
      "Minimum -6.49\n",
      "Maximum 36.97\n",
      "Range 43.46\n",
      "uf= 28.52    lf= -8.44\n"
     ]
    },
    {
     "data": {
      "text/plain": [
       "(28.52, -8.44)"
      ]
     },
     "execution_count": 606,
     "metadata": {},
     "output_type": "execute_result"
    }
   ],
   "source": [
    "uflf(df[\"Changed_Credit_Limit\"])"
   ]
  },
  {
   "cell_type": "code",
   "execution_count": 607,
   "id": "8d442906",
   "metadata": {},
   "outputs": [
    {
     "data": {
      "text/plain": [
       "12455.268489583334"
      ]
     },
     "execution_count": 607,
     "metadata": {},
     "output_type": "execute_result"
    }
   ],
   "source": [
    "uf"
   ]
  },
  {
   "cell_type": "code",
   "execution_count": 602,
   "id": "7796e12d",
   "metadata": {},
   "outputs": [
    {
     "data": {
      "text/plain": [
       "<Axes: >"
      ]
     },
     "execution_count": 602,
     "metadata": {},
     "output_type": "execute_result"
    },
    {
     "data": {
      "image/png": "[encoded data removed]",
      "text/plain": [
       "<Figure size 640x480 with 1 Axes>"
      ]
     },
     "metadata": {},
     "output_type": "display_data"
    }
   ],
   "source": [
    "df.boxplot(\"Changed_Credit_Limit\")"
   ]
  },
  {
   "cell_type": "code",
   "execution_count": 610,
   "id": "c6188829",
   "metadata": {},
   "outputs": [
    {
     "data": {
      "text/plain": [
       "795"
      ]
     },
     "execution_count": 610,
     "metadata": {},
     "output_type": "execute_result"
    }
   ],
   "source": [
    "# No. of Outliers = approx 0.8% of total data\n",
    "a=0\n",
    "for i in range(len(df)):\n",
    "    if df.loc[i,\"Changed_Credit_Limit\"]>29 or df.loc[i,\"Changed_Credit_Limit\"]<-8.44:\n",
    "        a=a+1\n",
    "a"
   ]
  },
  {
   "cell_type": "code",
   "execution_count": 611,
   "id": "d65e1377",
   "metadata": {},
   "outputs": [
    {
     "name": "stdout",
     "output_type": "stream",
     "text": [
      "10.389025115157951\n",
      "9.56\n"
     ]
    }
   ],
   "source": [
    "print(df[\"Changed_Credit_Limit\"].mean())\n",
    "print(df[\"Changed_Credit_Limit\"].median())"
   ]
  },
  {
   "cell_type": "code",
   "execution_count": 614,
   "id": "7d8f5770",
   "metadata": {},
   "outputs": [],
   "source": [
    "for i in range(len(df)):\n",
    "    if df.loc[i,\"Changed_Credit_Limit\"]>29 or df.loc[i,\"Changed_Credit_Limit\"]<-8.44:\n",
    "        df.loc[i,\"Changed_Credit_Limit\"]=df[\"Changed_Credit_Limit\"].median()"
   ]
  },
  {
   "cell_type": "code",
   "execution_count": 615,
   "id": "4eb7f39b",
   "metadata": {},
   "outputs": [
    {
     "data": {
      "text/plain": [
       "<Axes: >"
      ]
     },
     "execution_count": 615,
     "metadata": {},
     "output_type": "execute_result"
    },
    {
     "data": {
      "image/png": "[encoded data removed]",
      "text/plain": [
       "<Figure size 640x480 with 1 Axes>"
      ]
     },
     "metadata": {},
     "output_type": "display_data"
    }
   ],
   "source": [
    "df.boxplot(\"Changed_Credit_Limit\")"
   ]
  },
  {
   "cell_type": "code",
   "execution_count": null,
   "id": "060cdb71",
   "metadata": {},
   "outputs": [],
   "source": []
  },
  {
   "cell_type": "markdown",
   "id": "8e9f720a",
   "metadata": {},
   "source": [
    "## Working on df[\"Num_Credit_Inquiries\"]"
   ]
  },
  {
   "cell_type": "code",
   "execution_count": 616,
   "id": "b5dd478f",
   "metadata": {},
   "outputs": [
    {
     "data": {
      "text/plain": [
       "dtype('float64')"
      ]
     },
     "execution_count": 616,
     "metadata": {},
     "output_type": "execute_result"
    }
   ],
   "source": [
    "df[\"Num_Credit_Inquiries\"].dtypes"
   ]
  },
  {
   "cell_type": "code",
   "execution_count": 617,
   "id": "f22c030d",
   "metadata": {},
   "outputs": [
    {
     "data": {
      "text/plain": [
       "1223"
      ]
     },
     "execution_count": 617,
     "metadata": {},
     "output_type": "execute_result"
    }
   ],
   "source": [
    "df[\"Num_Credit_Inquiries\"].nunique()"
   ]
  },
  {
   "cell_type": "code",
   "execution_count": 623,
   "id": "911757b1",
   "metadata": {},
   "outputs": [
    {
     "data": {
      "text/plain": [
       "1965"
      ]
     },
     "execution_count": 623,
     "metadata": {},
     "output_type": "execute_result"
    }
   ],
   "source": [
    "n_missing=df[\"Num_Credit_Inquiries\"].isnull().sum()\n",
    "n_missing"
   ]
  },
  {
   "cell_type": "code",
   "execution_count": 619,
   "id": "2b26010e",
   "metadata": {},
   "outputs": [
    {
     "data": {
      "text/plain": [
       "<Axes: >"
      ]
     },
     "execution_count": 619,
     "metadata": {},
     "output_type": "execute_result"
    },
    {
     "data": {
      "image/png": "[encoded data removed]",
      "text/plain": [
       "<Figure size 640x480 with 1 Axes>"
      ]
     },
     "metadata": {},
     "output_type": "display_data"
    }
   ],
   "source": [
    "df.boxplot(\"Num_Credit_Inquiries\")"
   ]
  },
  {
   "cell_type": "code",
   "execution_count": 621,
   "id": "702aaf9f",
   "metadata": {},
   "outputs": [
    {
     "name": "stdout",
     "output_type": "stream",
     "text": [
      "Minimum 0.0\n",
      "Maximum 2597.0\n",
      "Range 2597.0\n",
      "uf= 18.0    lf= -6.0\n"
     ]
    }
   ],
   "source": [
    "uf,lf=uflf(df[\"Num_Credit_Inquiries\"])"
   ]
  },
  {
   "cell_type": "code",
   "execution_count": 622,
   "id": "6883ce02",
   "metadata": {},
   "outputs": [
    {
     "data": {
      "text/plain": [
       "1650"
      ]
     },
     "execution_count": 622,
     "metadata": {},
     "output_type": "execute_result"
    }
   ],
   "source": [
    "# No. of Outliers = approx 0.8% of total data\n",
    "a=0\n",
    "for i in range(len(df)):\n",
    "    if df.loc[i,\"Num_Credit_Inquiries\"]>uf or df.loc[i,\"Num_Credit_Inquiries\"]<lf:\n",
    "        a=a+1\n",
    "a"
   ]
  },
  {
   "cell_type": "code",
   "execution_count": 627,
   "id": "ace22a3c",
   "metadata": {},
   "outputs": [
    {
     "name": "stdout",
     "output_type": "stream",
     "text": [
      "27.75425103279441\n",
      "6.0\n"
     ]
    }
   ],
   "source": [
    "print(df[\"Num_Credit_Inquiries\"].mean())\n",
    "print(df[\"Num_Credit_Inquiries\"].median())"
   ]
  },
  {
   "cell_type": "code",
   "execution_count": 625,
   "id": "46d357e5",
   "metadata": {},
   "outputs": [
    {
     "data": {
      "text/plain": [
       "3615"
      ]
     },
     "execution_count": 625,
     "metadata": {},
     "output_type": "execute_result"
    }
   ],
   "source": [
    "#Total No. of elements to be treated is approx 3.6% of total no. of rows\n",
    "total=n_missing+a\n",
    "total"
   ]
  },
  {
   "cell_type": "code",
   "execution_count": 628,
   "id": "33569575",
   "metadata": {},
   "outputs": [],
   "source": [
    "for i in range(len(df)):\n",
    "    if df.loc[i,\"Num_Credit_Inquiries\"]>uf or df.loc[i,\"Num_Credit_Inquiries\"]<lf:\n",
    "        df.loc[i,\"Num_Credit_Inquiries\"]=df[\"Num_Credit_Inquiries\"].median()"
   ]
  },
  {
   "cell_type": "code",
   "execution_count": 629,
   "id": "8c4e2384",
   "metadata": {},
   "outputs": [
    {
     "data": {
      "text/plain": [
       "<Axes: >"
      ]
     },
     "execution_count": 629,
     "metadata": {},
     "output_type": "execute_result"
    },
    {
     "data": {
      "image/png": "[encoded data removed]",
      "text/plain": [
       "<Figure size 640x480 with 1 Axes>"
      ]
     },
     "metadata": {},
     "output_type": "display_data"
    }
   ],
   "source": [
    "df.boxplot(\"Num_Credit_Inquiries\")"
   ]
  },
  {
   "cell_type": "code",
   "execution_count": null,
   "id": "b429f4c8",
   "metadata": {},
   "outputs": [],
   "source": []
  },
  {
   "cell_type": "markdown",
   "id": "ca957b27",
   "metadata": {},
   "source": [
    "## Working on df[\"Credit_Mix\"]"
   ]
  },
  {
   "cell_type": "code",
   "execution_count": 641,
   "id": "6120d35d",
   "metadata": {},
   "outputs": [
    {
     "data": {
      "text/plain": [
       "dtype('O')"
      ]
     },
     "execution_count": 641,
     "metadata": {},
     "output_type": "execute_result"
    }
   ],
   "source": [
    "df[\"Credit_Mix\"].dtypes"
   ]
  },
  {
   "cell_type": "code",
   "execution_count": 642,
   "id": "07000056",
   "metadata": {},
   "outputs": [
    {
     "data": {
      "text/plain": [
       "array(['_', 'Good', 'Standard', 'Bad'], dtype=object)"
      ]
     },
     "execution_count": 642,
     "metadata": {},
     "output_type": "execute_result"
    }
   ],
   "source": [
    "df[\"Credit_Mix\"].unique()"
   ]
  },
  {
   "cell_type": "code",
   "execution_count": 643,
   "id": "48eee922",
   "metadata": {},
   "outputs": [
    {
     "data": {
      "text/plain": [
       "Standard    36479\n",
       "Good        24337\n",
       "_           20195\n",
       "Bad         18989\n",
       "Name: Credit_Mix, dtype: int64"
      ]
     },
     "execution_count": 643,
     "metadata": {},
     "output_type": "execute_result"
    }
   ],
   "source": [
    "df[\"Credit_Mix\"].value_counts()"
   ]
  },
  {
   "cell_type": "code",
   "execution_count": 646,
   "id": "f28dd684",
   "metadata": {},
   "outputs": [],
   "source": [
    "df[\"Credit_Mix\"]=df[\"Credit_Mix\"].replace(\"_\",\"unknown\")"
   ]
  },
  {
   "cell_type": "code",
   "execution_count": null,
   "id": "24d52bfd",
   "metadata": {},
   "outputs": [],
   "source": []
  }
 ],
 "metadata": {
  "kernelspec": {
   "display_name": "Python 3 (ipykernel)",
   "language": "python",
   "name": "python3"
  },
  "language_info": {
   "codemirror_mode": {
    "name": "ipython",
    "version": 3
   },
   "file_extension": ".py",
   "mimetype": "text/x-python",
   "name": "python",
   "nbconvert_exporter": "python",
   "pygments_lexer": "ipython3",
   "version": "3.10.9"
  }
 },
 "nbformat": 4,
 "nbformat_minor": 5
}
