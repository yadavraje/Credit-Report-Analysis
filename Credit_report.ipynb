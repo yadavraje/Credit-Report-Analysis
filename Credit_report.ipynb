{
 "cells": [
  {
   "cell_type": "code",
   "execution_count": 209,
   "id": "3bc1e8a5",
   "metadata": {},
   "outputs": [],
   "source": [
    "import pandas as pd\n",
    "import numpy as np\n",
    "import matplotlib.pyplot as plt\n",
    "import seaborn as sns"
   ]
  },
  {
   "cell_type": "code",
   "execution_count": 210,
   "id": "007ebc0d",
   "metadata": {},
   "outputs": [
    {
     "name": "stderr",
     "output_type": "stream",
     "text": [
      "C:\\Users\\Rajesh Desai\\AppData\\Local\\Temp\\ipykernel_11100\\2187086723.py:1: DtypeWarning: Columns (26) have mixed types. Specify dtype option on import or set low_memory=False.\n",
      "  df=pd.read_csv(\"Credit_report.csv\")\n"
     ]
    },
    {
     "data": {
      "text/html": [
       "<div>\n",
       "<style scoped>\n",
       "    .dataframe tbody tr th:only-of-type {\n",
       "        vertical-align: middle;\n",
       "    }\n",
       "\n",
       "    .dataframe tbody tr th {\n",
       "        vertical-align: top;\n",
       "    }\n",
       "\n",
       "    .dataframe thead th {\n",
       "        text-align: right;\n",
       "    }\n",
       "</style>\n",
       "<table border=\"1\" class=\"dataframe\">\n",
       "  <thead>\n",
       "    <tr style=\"text-align: right;\">\n",
       "      <th></th>\n",
       "      <th>ID</th>\n",
       "      <th>Customer_ID</th>\n",
       "      <th>Month</th>\n",
       "      <th>Name</th>\n",
       "      <th>Age</th>\n",
       "      <th>SSN</th>\n",
       "      <th>Occupation</th>\n",
       "      <th>Annual_Income</th>\n",
       "      <th>Monthly_Inhand_Salary</th>\n",
       "      <th>Num_Bank_Accounts</th>\n",
       "      <th>...</th>\n",
       "      <th>Credit_Mix</th>\n",
       "      <th>Outstanding_Debt</th>\n",
       "      <th>Credit_Utilization_Ratio</th>\n",
       "      <th>Credit_History_Age</th>\n",
       "      <th>Payment_of_Min_Amount</th>\n",
       "      <th>Total_EMI_per_month</th>\n",
       "      <th>Amount_invested_monthly</th>\n",
       "      <th>Payment_Behaviour</th>\n",
       "      <th>Monthly_Balance</th>\n",
       "      <th>Credit_Score</th>\n",
       "    </tr>\n",
       "  </thead>\n",
       "  <tbody>\n",
       "    <tr>\n",
       "      <th>0</th>\n",
       "      <td>0x1602</td>\n",
       "      <td>CUS_0xd40</td>\n",
       "      <td>January</td>\n",
       "      <td>Aaron Maashoh</td>\n",
       "      <td>23</td>\n",
       "      <td>821-00-0265</td>\n",
       "      <td>Scientist</td>\n",
       "      <td>19114.12</td>\n",
       "      <td>1824.843333</td>\n",
       "      <td>3</td>\n",
       "      <td>...</td>\n",
       "      <td>_</td>\n",
       "      <td>809.98</td>\n",
       "      <td>26.822620</td>\n",
       "      <td>22 Years and 1 Months</td>\n",
       "      <td>No</td>\n",
       "      <td>49.574949</td>\n",
       "      <td>80.41529543900253</td>\n",
       "      <td>High_spent_Small_value_payments</td>\n",
       "      <td>312.49408867943663</td>\n",
       "      <td>Good</td>\n",
       "    </tr>\n",
       "    <tr>\n",
       "      <th>1</th>\n",
       "      <td>0x1603</td>\n",
       "      <td>CUS_0xd40</td>\n",
       "      <td>February</td>\n",
       "      <td>Aaron Maashoh</td>\n",
       "      <td>23</td>\n",
       "      <td>821-00-0265</td>\n",
       "      <td>Scientist</td>\n",
       "      <td>19114.12</td>\n",
       "      <td>NaN</td>\n",
       "      <td>3</td>\n",
       "      <td>...</td>\n",
       "      <td>Good</td>\n",
       "      <td>809.98</td>\n",
       "      <td>31.944960</td>\n",
       "      <td>NaN</td>\n",
       "      <td>No</td>\n",
       "      <td>49.574949</td>\n",
       "      <td>118.28022162236736</td>\n",
       "      <td>Low_spent_Large_value_payments</td>\n",
       "      <td>284.62916249607184</td>\n",
       "      <td>Good</td>\n",
       "    </tr>\n",
       "    <tr>\n",
       "      <th>2</th>\n",
       "      <td>0x1604</td>\n",
       "      <td>CUS_0xd40</td>\n",
       "      <td>March</td>\n",
       "      <td>Aaron Maashoh</td>\n",
       "      <td>-500</td>\n",
       "      <td>821-00-0265</td>\n",
       "      <td>Scientist</td>\n",
       "      <td>19114.12</td>\n",
       "      <td>NaN</td>\n",
       "      <td>3</td>\n",
       "      <td>...</td>\n",
       "      <td>Good</td>\n",
       "      <td>809.98</td>\n",
       "      <td>28.609352</td>\n",
       "      <td>22 Years and 3 Months</td>\n",
       "      <td>No</td>\n",
       "      <td>49.574949</td>\n",
       "      <td>81.699521264648</td>\n",
       "      <td>Low_spent_Medium_value_payments</td>\n",
       "      <td>331.2098628537912</td>\n",
       "      <td>Good</td>\n",
       "    </tr>\n",
       "    <tr>\n",
       "      <th>3</th>\n",
       "      <td>0x1605</td>\n",
       "      <td>CUS_0xd40</td>\n",
       "      <td>April</td>\n",
       "      <td>Aaron Maashoh</td>\n",
       "      <td>23</td>\n",
       "      <td>821-00-0265</td>\n",
       "      <td>Scientist</td>\n",
       "      <td>19114.12</td>\n",
       "      <td>NaN</td>\n",
       "      <td>3</td>\n",
       "      <td>...</td>\n",
       "      <td>Good</td>\n",
       "      <td>809.98</td>\n",
       "      <td>31.377862</td>\n",
       "      <td>22 Years and 4 Months</td>\n",
       "      <td>No</td>\n",
       "      <td>49.574949</td>\n",
       "      <td>199.4580743910713</td>\n",
       "      <td>Low_spent_Small_value_payments</td>\n",
       "      <td>223.45130972736786</td>\n",
       "      <td>Good</td>\n",
       "    </tr>\n",
       "    <tr>\n",
       "      <th>4</th>\n",
       "      <td>0x1606</td>\n",
       "      <td>CUS_0xd40</td>\n",
       "      <td>May</td>\n",
       "      <td>Aaron Maashoh</td>\n",
       "      <td>23</td>\n",
       "      <td>821-00-0265</td>\n",
       "      <td>Scientist</td>\n",
       "      <td>19114.12</td>\n",
       "      <td>1824.843333</td>\n",
       "      <td>3</td>\n",
       "      <td>...</td>\n",
       "      <td>Good</td>\n",
       "      <td>809.98</td>\n",
       "      <td>24.797347</td>\n",
       "      <td>22 Years and 5 Months</td>\n",
       "      <td>No</td>\n",
       "      <td>49.574949</td>\n",
       "      <td>41.420153086217326</td>\n",
       "      <td>High_spent_Medium_value_payments</td>\n",
       "      <td>341.48923103222177</td>\n",
       "      <td>Good</td>\n",
       "    </tr>\n",
       "  </tbody>\n",
       "</table>\n",
       "<p>5 rows × 28 columns</p>\n",
       "</div>"
      ],
      "text/plain": [
       "       ID Customer_ID     Month           Name   Age          SSN Occupation  \\\n",
       "0  0x1602   CUS_0xd40   January  Aaron Maashoh    23  821-00-0265  Scientist   \n",
       "1  0x1603   CUS_0xd40  February  Aaron Maashoh    23  821-00-0265  Scientist   \n",
       "2  0x1604   CUS_0xd40     March  Aaron Maashoh  -500  821-00-0265  Scientist   \n",
       "3  0x1605   CUS_0xd40     April  Aaron Maashoh    23  821-00-0265  Scientist   \n",
       "4  0x1606   CUS_0xd40       May  Aaron Maashoh    23  821-00-0265  Scientist   \n",
       "\n",
       "  Annual_Income  Monthly_Inhand_Salary  Num_Bank_Accounts  ...  Credit_Mix  \\\n",
       "0      19114.12            1824.843333                  3  ...           _   \n",
       "1      19114.12                    NaN                  3  ...        Good   \n",
       "2      19114.12                    NaN                  3  ...        Good   \n",
       "3      19114.12                    NaN                  3  ...        Good   \n",
       "4      19114.12            1824.843333                  3  ...        Good   \n",
       "\n",
       "   Outstanding_Debt Credit_Utilization_Ratio     Credit_History_Age  \\\n",
       "0            809.98                26.822620  22 Years and 1 Months   \n",
       "1            809.98                31.944960                    NaN   \n",
       "2            809.98                28.609352  22 Years and 3 Months   \n",
       "3            809.98                31.377862  22 Years and 4 Months   \n",
       "4            809.98                24.797347  22 Years and 5 Months   \n",
       "\n",
       "   Payment_of_Min_Amount Total_EMI_per_month Amount_invested_monthly  \\\n",
       "0                     No           49.574949       80.41529543900253   \n",
       "1                     No           49.574949      118.28022162236736   \n",
       "2                     No           49.574949         81.699521264648   \n",
       "3                     No           49.574949       199.4580743910713   \n",
       "4                     No           49.574949      41.420153086217326   \n",
       "\n",
       "                  Payment_Behaviour     Monthly_Balance Credit_Score  \n",
       "0   High_spent_Small_value_payments  312.49408867943663         Good  \n",
       "1    Low_spent_Large_value_payments  284.62916249607184         Good  \n",
       "2   Low_spent_Medium_value_payments   331.2098628537912         Good  \n",
       "3    Low_spent_Small_value_payments  223.45130972736786         Good  \n",
       "4  High_spent_Medium_value_payments  341.48923103222177         Good  \n",
       "\n",
       "[5 rows x 28 columns]"
      ]
     },
     "execution_count": 210,
     "metadata": {},
     "output_type": "execute_result"
    }
   ],
   "source": [
    "df=pd.read_csv(\"Credit_report.csv\")\n",
    "df.head()"
   ]
  },
  {
   "cell_type": "code",
   "execution_count": 211,
   "id": "69ecc913",
   "metadata": {},
   "outputs": [
    {
     "name": "stdout",
     "output_type": "stream",
     "text": [
      "<class 'pandas.core.frame.DataFrame'>\n",
      "RangeIndex: 100000 entries, 0 to 99999\n",
      "Data columns (total 28 columns):\n",
      " #   Column                    Non-Null Count   Dtype  \n",
      "---  ------                    --------------   -----  \n",
      " 0   ID                        100000 non-null  object \n",
      " 1   Customer_ID               100000 non-null  object \n",
      " 2   Month                     100000 non-null  object \n",
      " 3   Name                      90015 non-null   object \n",
      " 4   Age                       100000 non-null  object \n",
      " 5   SSN                       100000 non-null  object \n",
      " 6   Occupation                100000 non-null  object \n",
      " 7   Annual_Income             100000 non-null  object \n",
      " 8   Monthly_Inhand_Salary     84998 non-null   float64\n",
      " 9   Num_Bank_Accounts         100000 non-null  int64  \n",
      " 10  Num_Credit_Card           100000 non-null  int64  \n",
      " 11  Interest_Rate             100000 non-null  int64  \n",
      " 12  Num_of_Loan               100000 non-null  object \n",
      " 13  Type_of_Loan              88592 non-null   object \n",
      " 14  Delay_from_due_date       100000 non-null  int64  \n",
      " 15  Num_of_Delayed_Payment    92998 non-null   object \n",
      " 16  Changed_Credit_Limit      100000 non-null  object \n",
      " 17  Num_Credit_Inquiries      98035 non-null   float64\n",
      " 18  Credit_Mix                100000 non-null  object \n",
      " 19  Outstanding_Debt          100000 non-null  object \n",
      " 20  Credit_Utilization_Ratio  100000 non-null  float64\n",
      " 21  Credit_History_Age        90970 non-null   object \n",
      " 22  Payment_of_Min_Amount     100000 non-null  object \n",
      " 23  Total_EMI_per_month       100000 non-null  float64\n",
      " 24  Amount_invested_monthly   95521 non-null   object \n",
      " 25  Payment_Behaviour         100000 non-null  object \n",
      " 26  Monthly_Balance           98800 non-null   object \n",
      " 27  Credit_Score              100000 non-null  object \n",
      "dtypes: float64(4), int64(4), object(20)\n",
      "memory usage: 21.4+ MB\n"
     ]
    }
   ],
   "source": [
    "df.info()"
   ]
  },
  {
   "cell_type": "code",
   "execution_count": 212,
   "id": "855b80e1",
   "metadata": {},
   "outputs": [
    {
     "data": {
      "text/plain": [
       "(100000, 28)"
      ]
     },
     "execution_count": 212,
     "metadata": {},
     "output_type": "execute_result"
    }
   ],
   "source": [
    "df.shape   #check the shape of data"
   ]
  },
  {
   "cell_type": "code",
   "execution_count": 213,
   "id": "9b151f7a",
   "metadata": {},
   "outputs": [
    {
     "data": {
      "text/html": [
       "<div>\n",
       "<style scoped>\n",
       "    .dataframe tbody tr th:only-of-type {\n",
       "        vertical-align: middle;\n",
       "    }\n",
       "\n",
       "    .dataframe tbody tr th {\n",
       "        vertical-align: top;\n",
       "    }\n",
       "\n",
       "    .dataframe thead th {\n",
       "        text-align: right;\n",
       "    }\n",
       "</style>\n",
       "<table border=\"1\" class=\"dataframe\">\n",
       "  <thead>\n",
       "    <tr style=\"text-align: right;\">\n",
       "      <th></th>\n",
       "      <th>ID</th>\n",
       "      <th>Customer_ID</th>\n",
       "      <th>Month</th>\n",
       "      <th>Name</th>\n",
       "      <th>Age</th>\n",
       "      <th>SSN</th>\n",
       "      <th>Occupation</th>\n",
       "      <th>Annual_Income</th>\n",
       "      <th>Monthly_Inhand_Salary</th>\n",
       "      <th>Num_Bank_Accounts</th>\n",
       "      <th>...</th>\n",
       "      <th>Credit_Mix</th>\n",
       "      <th>Outstanding_Debt</th>\n",
       "      <th>Credit_Utilization_Ratio</th>\n",
       "      <th>Credit_History_Age</th>\n",
       "      <th>Payment_of_Min_Amount</th>\n",
       "      <th>Total_EMI_per_month</th>\n",
       "      <th>Amount_invested_monthly</th>\n",
       "      <th>Payment_Behaviour</th>\n",
       "      <th>Monthly_Balance</th>\n",
       "      <th>Credit_Score</th>\n",
       "    </tr>\n",
       "  </thead>\n",
       "  <tbody>\n",
       "    <tr>\n",
       "      <th>0</th>\n",
       "      <td>0x1602</td>\n",
       "      <td>CUS_0xd40</td>\n",
       "      <td>January</td>\n",
       "      <td>Aaron Maashoh</td>\n",
       "      <td>23</td>\n",
       "      <td>821-00-0265</td>\n",
       "      <td>Scientist</td>\n",
       "      <td>19114.12</td>\n",
       "      <td>1824.843333</td>\n",
       "      <td>3</td>\n",
       "      <td>...</td>\n",
       "      <td>_</td>\n",
       "      <td>809.98</td>\n",
       "      <td>26.822620</td>\n",
       "      <td>22 Years and 1 Months</td>\n",
       "      <td>No</td>\n",
       "      <td>49.574949</td>\n",
       "      <td>80.41529543900253</td>\n",
       "      <td>High_spent_Small_value_payments</td>\n",
       "      <td>312.49408867943663</td>\n",
       "      <td>Good</td>\n",
       "    </tr>\n",
       "    <tr>\n",
       "      <th>1</th>\n",
       "      <td>0x1603</td>\n",
       "      <td>CUS_0xd40</td>\n",
       "      <td>February</td>\n",
       "      <td>Aaron Maashoh</td>\n",
       "      <td>23</td>\n",
       "      <td>821-00-0265</td>\n",
       "      <td>Scientist</td>\n",
       "      <td>19114.12</td>\n",
       "      <td>NaN</td>\n",
       "      <td>3</td>\n",
       "      <td>...</td>\n",
       "      <td>Good</td>\n",
       "      <td>809.98</td>\n",
       "      <td>31.944960</td>\n",
       "      <td>NaN</td>\n",
       "      <td>No</td>\n",
       "      <td>49.574949</td>\n",
       "      <td>118.28022162236736</td>\n",
       "      <td>Low_spent_Large_value_payments</td>\n",
       "      <td>284.62916249607184</td>\n",
       "      <td>Good</td>\n",
       "    </tr>\n",
       "    <tr>\n",
       "      <th>2</th>\n",
       "      <td>0x1604</td>\n",
       "      <td>CUS_0xd40</td>\n",
       "      <td>March</td>\n",
       "      <td>Aaron Maashoh</td>\n",
       "      <td>-500</td>\n",
       "      <td>821-00-0265</td>\n",
       "      <td>Scientist</td>\n",
       "      <td>19114.12</td>\n",
       "      <td>NaN</td>\n",
       "      <td>3</td>\n",
       "      <td>...</td>\n",
       "      <td>Good</td>\n",
       "      <td>809.98</td>\n",
       "      <td>28.609352</td>\n",
       "      <td>22 Years and 3 Months</td>\n",
       "      <td>No</td>\n",
       "      <td>49.574949</td>\n",
       "      <td>81.699521264648</td>\n",
       "      <td>Low_spent_Medium_value_payments</td>\n",
       "      <td>331.2098628537912</td>\n",
       "      <td>Good</td>\n",
       "    </tr>\n",
       "    <tr>\n",
       "      <th>3</th>\n",
       "      <td>0x1605</td>\n",
       "      <td>CUS_0xd40</td>\n",
       "      <td>April</td>\n",
       "      <td>Aaron Maashoh</td>\n",
       "      <td>23</td>\n",
       "      <td>821-00-0265</td>\n",
       "      <td>Scientist</td>\n",
       "      <td>19114.12</td>\n",
       "      <td>NaN</td>\n",
       "      <td>3</td>\n",
       "      <td>...</td>\n",
       "      <td>Good</td>\n",
       "      <td>809.98</td>\n",
       "      <td>31.377862</td>\n",
       "      <td>22 Years and 4 Months</td>\n",
       "      <td>No</td>\n",
       "      <td>49.574949</td>\n",
       "      <td>199.4580743910713</td>\n",
       "      <td>Low_spent_Small_value_payments</td>\n",
       "      <td>223.45130972736786</td>\n",
       "      <td>Good</td>\n",
       "    </tr>\n",
       "    <tr>\n",
       "      <th>4</th>\n",
       "      <td>0x1606</td>\n",
       "      <td>CUS_0xd40</td>\n",
       "      <td>May</td>\n",
       "      <td>Aaron Maashoh</td>\n",
       "      <td>23</td>\n",
       "      <td>821-00-0265</td>\n",
       "      <td>Scientist</td>\n",
       "      <td>19114.12</td>\n",
       "      <td>1824.843333</td>\n",
       "      <td>3</td>\n",
       "      <td>...</td>\n",
       "      <td>Good</td>\n",
       "      <td>809.98</td>\n",
       "      <td>24.797347</td>\n",
       "      <td>22 Years and 5 Months</td>\n",
       "      <td>No</td>\n",
       "      <td>49.574949</td>\n",
       "      <td>41.420153086217326</td>\n",
       "      <td>High_spent_Medium_value_payments</td>\n",
       "      <td>341.48923103222177</td>\n",
       "      <td>Good</td>\n",
       "    </tr>\n",
       "    <tr>\n",
       "      <th>...</th>\n",
       "      <td>...</td>\n",
       "      <td>...</td>\n",
       "      <td>...</td>\n",
       "      <td>...</td>\n",
       "      <td>...</td>\n",
       "      <td>...</td>\n",
       "      <td>...</td>\n",
       "      <td>...</td>\n",
       "      <td>...</td>\n",
       "      <td>...</td>\n",
       "      <td>...</td>\n",
       "      <td>...</td>\n",
       "      <td>...</td>\n",
       "      <td>...</td>\n",
       "      <td>...</td>\n",
       "      <td>...</td>\n",
       "      <td>...</td>\n",
       "      <td>...</td>\n",
       "      <td>...</td>\n",
       "      <td>...</td>\n",
       "      <td>...</td>\n",
       "    </tr>\n",
       "    <tr>\n",
       "      <th>99995</th>\n",
       "      <td>0x25fe9</td>\n",
       "      <td>CUS_0x942c</td>\n",
       "      <td>April</td>\n",
       "      <td>Nicks</td>\n",
       "      <td>25</td>\n",
       "      <td>078-73-5990</td>\n",
       "      <td>Mechanic</td>\n",
       "      <td>39628.99</td>\n",
       "      <td>3359.415833</td>\n",
       "      <td>4</td>\n",
       "      <td>...</td>\n",
       "      <td>_</td>\n",
       "      <td>502.38</td>\n",
       "      <td>34.663572</td>\n",
       "      <td>31 Years and 6 Months</td>\n",
       "      <td>No</td>\n",
       "      <td>35.104023</td>\n",
       "      <td>60.97133255718485</td>\n",
       "      <td>High_spent_Large_value_payments</td>\n",
       "      <td>479.866228</td>\n",
       "      <td>Poor</td>\n",
       "    </tr>\n",
       "    <tr>\n",
       "      <th>99996</th>\n",
       "      <td>0x25fea</td>\n",
       "      <td>CUS_0x942c</td>\n",
       "      <td>May</td>\n",
       "      <td>Nicks</td>\n",
       "      <td>25</td>\n",
       "      <td>078-73-5990</td>\n",
       "      <td>Mechanic</td>\n",
       "      <td>39628.99</td>\n",
       "      <td>3359.415833</td>\n",
       "      <td>4</td>\n",
       "      <td>...</td>\n",
       "      <td>_</td>\n",
       "      <td>502.38</td>\n",
       "      <td>40.565631</td>\n",
       "      <td>31 Years and 7 Months</td>\n",
       "      <td>No</td>\n",
       "      <td>35.104023</td>\n",
       "      <td>54.18595028760385</td>\n",
       "      <td>High_spent_Medium_value_payments</td>\n",
       "      <td>496.65161</td>\n",
       "      <td>Poor</td>\n",
       "    </tr>\n",
       "    <tr>\n",
       "      <th>99997</th>\n",
       "      <td>0x25feb</td>\n",
       "      <td>CUS_0x942c</td>\n",
       "      <td>June</td>\n",
       "      <td>Nicks</td>\n",
       "      <td>25</td>\n",
       "      <td>078-73-5990</td>\n",
       "      <td>Mechanic</td>\n",
       "      <td>39628.99</td>\n",
       "      <td>3359.415833</td>\n",
       "      <td>4</td>\n",
       "      <td>...</td>\n",
       "      <td>Good</td>\n",
       "      <td>502.38</td>\n",
       "      <td>41.255522</td>\n",
       "      <td>31 Years and 8 Months</td>\n",
       "      <td>No</td>\n",
       "      <td>35.104023</td>\n",
       "      <td>24.02847744864441</td>\n",
       "      <td>High_spent_Large_value_payments</td>\n",
       "      <td>516.809083</td>\n",
       "      <td>Poor</td>\n",
       "    </tr>\n",
       "    <tr>\n",
       "      <th>99998</th>\n",
       "      <td>0x25fec</td>\n",
       "      <td>CUS_0x942c</td>\n",
       "      <td>July</td>\n",
       "      <td>Nicks</td>\n",
       "      <td>25</td>\n",
       "      <td>078-73-5990</td>\n",
       "      <td>Mechanic</td>\n",
       "      <td>39628.99</td>\n",
       "      <td>3359.415833</td>\n",
       "      <td>4</td>\n",
       "      <td>...</td>\n",
       "      <td>Good</td>\n",
       "      <td>502.38</td>\n",
       "      <td>33.638208</td>\n",
       "      <td>31 Years and 9 Months</td>\n",
       "      <td>No</td>\n",
       "      <td>35.104023</td>\n",
       "      <td>251.67258219721603</td>\n",
       "      <td>Low_spent_Large_value_payments</td>\n",
       "      <td>319.164979</td>\n",
       "      <td>Standard</td>\n",
       "    </tr>\n",
       "    <tr>\n",
       "      <th>99999</th>\n",
       "      <td>0x25fed</td>\n",
       "      <td>CUS_0x942c</td>\n",
       "      <td>August</td>\n",
       "      <td>Nicks</td>\n",
       "      <td>25</td>\n",
       "      <td>078-73-5990</td>\n",
       "      <td>Mechanic</td>\n",
       "      <td>39628.99_</td>\n",
       "      <td>3359.415833</td>\n",
       "      <td>4</td>\n",
       "      <td>...</td>\n",
       "      <td>Good</td>\n",
       "      <td>502.38</td>\n",
       "      <td>34.192463</td>\n",
       "      <td>31 Years and 10 Months</td>\n",
       "      <td>No</td>\n",
       "      <td>35.104023</td>\n",
       "      <td>167.1638651610451</td>\n",
       "      <td>!@9#%8</td>\n",
       "      <td>393.673696</td>\n",
       "      <td>Poor</td>\n",
       "    </tr>\n",
       "  </tbody>\n",
       "</table>\n",
       "<p>100000 rows × 28 columns</p>\n",
       "</div>"
      ],
      "text/plain": [
       "            ID Customer_ID     Month           Name   Age          SSN  \\\n",
       "0       0x1602   CUS_0xd40   January  Aaron Maashoh    23  821-00-0265   \n",
       "1       0x1603   CUS_0xd40  February  Aaron Maashoh    23  821-00-0265   \n",
       "2       0x1604   CUS_0xd40     March  Aaron Maashoh  -500  821-00-0265   \n",
       "3       0x1605   CUS_0xd40     April  Aaron Maashoh    23  821-00-0265   \n",
       "4       0x1606   CUS_0xd40       May  Aaron Maashoh    23  821-00-0265   \n",
       "...        ...         ...       ...            ...   ...          ...   \n",
       "99995  0x25fe9  CUS_0x942c     April          Nicks    25  078-73-5990   \n",
       "99996  0x25fea  CUS_0x942c       May          Nicks    25  078-73-5990   \n",
       "99997  0x25feb  CUS_0x942c      June          Nicks    25  078-73-5990   \n",
       "99998  0x25fec  CUS_0x942c      July          Nicks    25  078-73-5990   \n",
       "99999  0x25fed  CUS_0x942c    August          Nicks    25  078-73-5990   \n",
       "\n",
       "      Occupation Annual_Income  Monthly_Inhand_Salary  Num_Bank_Accounts  ...  \\\n",
       "0      Scientist      19114.12            1824.843333                  3  ...   \n",
       "1      Scientist      19114.12                    NaN                  3  ...   \n",
       "2      Scientist      19114.12                    NaN                  3  ...   \n",
       "3      Scientist      19114.12                    NaN                  3  ...   \n",
       "4      Scientist      19114.12            1824.843333                  3  ...   \n",
       "...          ...           ...                    ...                ...  ...   \n",
       "99995   Mechanic      39628.99            3359.415833                  4  ...   \n",
       "99996   Mechanic      39628.99            3359.415833                  4  ...   \n",
       "99997   Mechanic      39628.99            3359.415833                  4  ...   \n",
       "99998   Mechanic      39628.99            3359.415833                  4  ...   \n",
       "99999   Mechanic     39628.99_            3359.415833                  4  ...   \n",
       "\n",
       "       Credit_Mix  Outstanding_Debt Credit_Utilization_Ratio  \\\n",
       "0               _            809.98                26.822620   \n",
       "1            Good            809.98                31.944960   \n",
       "2            Good            809.98                28.609352   \n",
       "3            Good            809.98                31.377862   \n",
       "4            Good            809.98                24.797347   \n",
       "...           ...               ...                      ...   \n",
       "99995           _            502.38                34.663572   \n",
       "99996           _            502.38                40.565631   \n",
       "99997        Good            502.38                41.255522   \n",
       "99998        Good            502.38                33.638208   \n",
       "99999        Good            502.38                34.192463   \n",
       "\n",
       "           Credit_History_Age  Payment_of_Min_Amount Total_EMI_per_month  \\\n",
       "0       22 Years and 1 Months                     No           49.574949   \n",
       "1                         NaN                     No           49.574949   \n",
       "2       22 Years and 3 Months                     No           49.574949   \n",
       "3       22 Years and 4 Months                     No           49.574949   \n",
       "4       22 Years and 5 Months                     No           49.574949   \n",
       "...                       ...                    ...                 ...   \n",
       "99995   31 Years and 6 Months                     No           35.104023   \n",
       "99996   31 Years and 7 Months                     No           35.104023   \n",
       "99997   31 Years and 8 Months                     No           35.104023   \n",
       "99998   31 Years and 9 Months                     No           35.104023   \n",
       "99999  31 Years and 10 Months                     No           35.104023   \n",
       "\n",
       "      Amount_invested_monthly                 Payment_Behaviour  \\\n",
       "0           80.41529543900253   High_spent_Small_value_payments   \n",
       "1          118.28022162236736    Low_spent_Large_value_payments   \n",
       "2             81.699521264648   Low_spent_Medium_value_payments   \n",
       "3           199.4580743910713    Low_spent_Small_value_payments   \n",
       "4          41.420153086217326  High_spent_Medium_value_payments   \n",
       "...                       ...                               ...   \n",
       "99995       60.97133255718485   High_spent_Large_value_payments   \n",
       "99996       54.18595028760385  High_spent_Medium_value_payments   \n",
       "99997       24.02847744864441   High_spent_Large_value_payments   \n",
       "99998      251.67258219721603    Low_spent_Large_value_payments   \n",
       "99999       167.1638651610451                            !@9#%8   \n",
       "\n",
       "          Monthly_Balance Credit_Score  \n",
       "0      312.49408867943663         Good  \n",
       "1      284.62916249607184         Good  \n",
       "2       331.2098628537912         Good  \n",
       "3      223.45130972736786         Good  \n",
       "4      341.48923103222177         Good  \n",
       "...                   ...          ...  \n",
       "99995          479.866228         Poor  \n",
       "99996           496.65161         Poor  \n",
       "99997          516.809083         Poor  \n",
       "99998          319.164979     Standard  \n",
       "99999          393.673696         Poor  \n",
       "\n",
       "[100000 rows x 28 columns]"
      ]
     },
     "execution_count": 213,
     "metadata": {},
     "output_type": "execute_result"
    }
   ],
   "source": [
    "df.drop_duplicates(keep=False)     # Removing the Duplicate Rows - 0 rows found"
   ]
  },
  {
   "cell_type": "code",
   "execution_count": 214,
   "id": "bedc5bed",
   "metadata": {},
   "outputs": [
    {
     "data": {
      "text/html": [
       "<div>\n",
       "<style scoped>\n",
       "    .dataframe tbody tr th:only-of-type {\n",
       "        vertical-align: middle;\n",
       "    }\n",
       "\n",
       "    .dataframe tbody tr th {\n",
       "        vertical-align: top;\n",
       "    }\n",
       "\n",
       "    .dataframe thead th {\n",
       "        text-align: right;\n",
       "    }\n",
       "</style>\n",
       "<table border=\"1\" class=\"dataframe\">\n",
       "  <thead>\n",
       "    <tr style=\"text-align: right;\">\n",
       "      <th></th>\n",
       "      <th>ID</th>\n",
       "      <th>Customer_ID</th>\n",
       "      <th>Month</th>\n",
       "      <th>Name</th>\n",
       "      <th>Age</th>\n",
       "      <th>SSN</th>\n",
       "      <th>Occupation</th>\n",
       "      <th>Annual_Income</th>\n",
       "      <th>Monthly_Inhand_Salary</th>\n",
       "      <th>Num_Bank_Accounts</th>\n",
       "      <th>...</th>\n",
       "      <th>Credit_Mix</th>\n",
       "      <th>Outstanding_Debt</th>\n",
       "      <th>Credit_Utilization_Ratio</th>\n",
       "      <th>Credit_History_Age</th>\n",
       "      <th>Payment_of_Min_Amount</th>\n",
       "      <th>Total_EMI_per_month</th>\n",
       "      <th>Amount_invested_monthly</th>\n",
       "      <th>Payment_Behaviour</th>\n",
       "      <th>Monthly_Balance</th>\n",
       "      <th>Credit_Score</th>\n",
       "    </tr>\n",
       "  </thead>\n",
       "  <tbody>\n",
       "    <tr>\n",
       "      <th>0</th>\n",
       "      <td>0x1602</td>\n",
       "      <td>CUS_0xd40</td>\n",
       "      <td>January</td>\n",
       "      <td>Aaron Maashoh</td>\n",
       "      <td>23</td>\n",
       "      <td>821-00-0265</td>\n",
       "      <td>Scientist</td>\n",
       "      <td>19114.12</td>\n",
       "      <td>1824.843333</td>\n",
       "      <td>3</td>\n",
       "      <td>...</td>\n",
       "      <td>_</td>\n",
       "      <td>809.98</td>\n",
       "      <td>26.82262</td>\n",
       "      <td>22 Years and 1 Months</td>\n",
       "      <td>No</td>\n",
       "      <td>49.574949</td>\n",
       "      <td>80.41529543900253</td>\n",
       "      <td>High_spent_Small_value_payments</td>\n",
       "      <td>312.49408867943663</td>\n",
       "      <td>Good</td>\n",
       "    </tr>\n",
       "    <tr>\n",
       "      <th>1</th>\n",
       "      <td>0x1603</td>\n",
       "      <td>CUS_0xd40</td>\n",
       "      <td>February</td>\n",
       "      <td>Aaron Maashoh</td>\n",
       "      <td>23</td>\n",
       "      <td>821-00-0265</td>\n",
       "      <td>Scientist</td>\n",
       "      <td>19114.12</td>\n",
       "      <td>NaN</td>\n",
       "      <td>3</td>\n",
       "      <td>...</td>\n",
       "      <td>Good</td>\n",
       "      <td>809.98</td>\n",
       "      <td>31.94496</td>\n",
       "      <td>NaN</td>\n",
       "      <td>No</td>\n",
       "      <td>49.574949</td>\n",
       "      <td>118.28022162236736</td>\n",
       "      <td>Low_spent_Large_value_payments</td>\n",
       "      <td>284.62916249607184</td>\n",
       "      <td>Good</td>\n",
       "    </tr>\n",
       "    <tr>\n",
       "      <th>2</th>\n",
       "      <td>0x1604</td>\n",
       "      <td>CUS_0xd40</td>\n",
       "      <td>March</td>\n",
       "      <td>Aaron Maashoh</td>\n",
       "      <td>-500</td>\n",
       "      <td>821-00-0265</td>\n",
       "      <td>Scientist</td>\n",
       "      <td>19114.12</td>\n",
       "      <td>NaN</td>\n",
       "      <td>3</td>\n",
       "      <td>...</td>\n",
       "      <td>Good</td>\n",
       "      <td>809.98</td>\n",
       "      <td>28.609352</td>\n",
       "      <td>22 Years and 3 Months</td>\n",
       "      <td>No</td>\n",
       "      <td>49.574949</td>\n",
       "      <td>81.699521264648</td>\n",
       "      <td>Low_spent_Medium_value_payments</td>\n",
       "      <td>331.2098628537912</td>\n",
       "      <td>Good</td>\n",
       "    </tr>\n",
       "    <tr>\n",
       "      <th>3</th>\n",
       "      <td>0x1605</td>\n",
       "      <td>CUS_0xd40</td>\n",
       "      <td>April</td>\n",
       "      <td>Aaron Maashoh</td>\n",
       "      <td>23</td>\n",
       "      <td>821-00-0265</td>\n",
       "      <td>Scientist</td>\n",
       "      <td>19114.12</td>\n",
       "      <td>NaN</td>\n",
       "      <td>3</td>\n",
       "      <td>...</td>\n",
       "      <td>Good</td>\n",
       "      <td>809.98</td>\n",
       "      <td>31.377862</td>\n",
       "      <td>22 Years and 4 Months</td>\n",
       "      <td>No</td>\n",
       "      <td>49.574949</td>\n",
       "      <td>199.4580743910713</td>\n",
       "      <td>Low_spent_Small_value_payments</td>\n",
       "      <td>223.45130972736786</td>\n",
       "      <td>Good</td>\n",
       "    </tr>\n",
       "    <tr>\n",
       "      <th>4</th>\n",
       "      <td>0x1606</td>\n",
       "      <td>CUS_0xd40</td>\n",
       "      <td>May</td>\n",
       "      <td>Aaron Maashoh</td>\n",
       "      <td>23</td>\n",
       "      <td>821-00-0265</td>\n",
       "      <td>Scientist</td>\n",
       "      <td>19114.12</td>\n",
       "      <td>1824.843333</td>\n",
       "      <td>3</td>\n",
       "      <td>...</td>\n",
       "      <td>Good</td>\n",
       "      <td>809.98</td>\n",
       "      <td>24.797347</td>\n",
       "      <td>22 Years and 5 Months</td>\n",
       "      <td>No</td>\n",
       "      <td>49.574949</td>\n",
       "      <td>41.420153086217326</td>\n",
       "      <td>High_spent_Medium_value_payments</td>\n",
       "      <td>341.48923103222177</td>\n",
       "      <td>Good</td>\n",
       "    </tr>\n",
       "    <tr>\n",
       "      <th>...</th>\n",
       "      <td>...</td>\n",
       "      <td>...</td>\n",
       "      <td>...</td>\n",
       "      <td>...</td>\n",
       "      <td>...</td>\n",
       "      <td>...</td>\n",
       "      <td>...</td>\n",
       "      <td>...</td>\n",
       "      <td>...</td>\n",
       "      <td>...</td>\n",
       "      <td>...</td>\n",
       "      <td>...</td>\n",
       "      <td>...</td>\n",
       "      <td>...</td>\n",
       "      <td>...</td>\n",
       "      <td>...</td>\n",
       "      <td>...</td>\n",
       "      <td>...</td>\n",
       "      <td>...</td>\n",
       "      <td>...</td>\n",
       "      <td>...</td>\n",
       "    </tr>\n",
       "    <tr>\n",
       "      <th>99995</th>\n",
       "      <td>0x25fe9</td>\n",
       "      <td>CUS_0x942c</td>\n",
       "      <td>April</td>\n",
       "      <td>Nicks</td>\n",
       "      <td>25</td>\n",
       "      <td>078-73-5990</td>\n",
       "      <td>Mechanic</td>\n",
       "      <td>39628.99</td>\n",
       "      <td>3359.415833</td>\n",
       "      <td>4</td>\n",
       "      <td>...</td>\n",
       "      <td>_</td>\n",
       "      <td>502.38</td>\n",
       "      <td>34.663572</td>\n",
       "      <td>31 Years and 6 Months</td>\n",
       "      <td>No</td>\n",
       "      <td>35.104023</td>\n",
       "      <td>60.97133255718485</td>\n",
       "      <td>High_spent_Large_value_payments</td>\n",
       "      <td>479.866228</td>\n",
       "      <td>Poor</td>\n",
       "    </tr>\n",
       "    <tr>\n",
       "      <th>99996</th>\n",
       "      <td>0x25fea</td>\n",
       "      <td>CUS_0x942c</td>\n",
       "      <td>May</td>\n",
       "      <td>Nicks</td>\n",
       "      <td>25</td>\n",
       "      <td>078-73-5990</td>\n",
       "      <td>Mechanic</td>\n",
       "      <td>39628.99</td>\n",
       "      <td>3359.415833</td>\n",
       "      <td>4</td>\n",
       "      <td>...</td>\n",
       "      <td>_</td>\n",
       "      <td>502.38</td>\n",
       "      <td>40.565631</td>\n",
       "      <td>31 Years and 7 Months</td>\n",
       "      <td>No</td>\n",
       "      <td>35.104023</td>\n",
       "      <td>54.18595028760385</td>\n",
       "      <td>High_spent_Medium_value_payments</td>\n",
       "      <td>496.65161</td>\n",
       "      <td>Poor</td>\n",
       "    </tr>\n",
       "    <tr>\n",
       "      <th>99997</th>\n",
       "      <td>0x25feb</td>\n",
       "      <td>CUS_0x942c</td>\n",
       "      <td>June</td>\n",
       "      <td>Nicks</td>\n",
       "      <td>25</td>\n",
       "      <td>078-73-5990</td>\n",
       "      <td>Mechanic</td>\n",
       "      <td>39628.99</td>\n",
       "      <td>3359.415833</td>\n",
       "      <td>4</td>\n",
       "      <td>...</td>\n",
       "      <td>Good</td>\n",
       "      <td>502.38</td>\n",
       "      <td>41.255522</td>\n",
       "      <td>31 Years and 8 Months</td>\n",
       "      <td>No</td>\n",
       "      <td>35.104023</td>\n",
       "      <td>24.02847744864441</td>\n",
       "      <td>High_spent_Large_value_payments</td>\n",
       "      <td>516.809083</td>\n",
       "      <td>Poor</td>\n",
       "    </tr>\n",
       "    <tr>\n",
       "      <th>99998</th>\n",
       "      <td>0x25fec</td>\n",
       "      <td>CUS_0x942c</td>\n",
       "      <td>July</td>\n",
       "      <td>Nicks</td>\n",
       "      <td>25</td>\n",
       "      <td>078-73-5990</td>\n",
       "      <td>Mechanic</td>\n",
       "      <td>39628.99</td>\n",
       "      <td>3359.415833</td>\n",
       "      <td>4</td>\n",
       "      <td>...</td>\n",
       "      <td>Good</td>\n",
       "      <td>502.38</td>\n",
       "      <td>33.638208</td>\n",
       "      <td>31 Years and 9 Months</td>\n",
       "      <td>No</td>\n",
       "      <td>35.104023</td>\n",
       "      <td>251.67258219721603</td>\n",
       "      <td>Low_spent_Large_value_payments</td>\n",
       "      <td>319.164979</td>\n",
       "      <td>Standard</td>\n",
       "    </tr>\n",
       "    <tr>\n",
       "      <th>99999</th>\n",
       "      <td>0x25fed</td>\n",
       "      <td>CUS_0x942c</td>\n",
       "      <td>August</td>\n",
       "      <td>Nicks</td>\n",
       "      <td>25</td>\n",
       "      <td>078-73-5990</td>\n",
       "      <td>Mechanic</td>\n",
       "      <td>39628.99_</td>\n",
       "      <td>3359.415833</td>\n",
       "      <td>4</td>\n",
       "      <td>...</td>\n",
       "      <td>Good</td>\n",
       "      <td>502.38</td>\n",
       "      <td>34.192463</td>\n",
       "      <td>31 Years and 10 Months</td>\n",
       "      <td>No</td>\n",
       "      <td>35.104023</td>\n",
       "      <td>167.1638651610451</td>\n",
       "      <td>!@9#%8</td>\n",
       "      <td>393.673696</td>\n",
       "      <td>Poor</td>\n",
       "    </tr>\n",
       "  </tbody>\n",
       "</table>\n",
       "<p>100000 rows × 28 columns</p>\n",
       "</div>"
      ],
      "text/plain": [
       "            ID Customer_ID     Month           Name   Age          SSN  \\\n",
       "0       0x1602   CUS_0xd40   January  Aaron Maashoh    23  821-00-0265   \n",
       "1       0x1603   CUS_0xd40  February  Aaron Maashoh    23  821-00-0265   \n",
       "2       0x1604   CUS_0xd40     March  Aaron Maashoh  -500  821-00-0265   \n",
       "3       0x1605   CUS_0xd40     April  Aaron Maashoh    23  821-00-0265   \n",
       "4       0x1606   CUS_0xd40       May  Aaron Maashoh    23  821-00-0265   \n",
       "...        ...         ...       ...            ...   ...          ...   \n",
       "99995  0x25fe9  CUS_0x942c     April          Nicks    25  078-73-5990   \n",
       "99996  0x25fea  CUS_0x942c       May          Nicks    25  078-73-5990   \n",
       "99997  0x25feb  CUS_0x942c      June          Nicks    25  078-73-5990   \n",
       "99998  0x25fec  CUS_0x942c      July          Nicks    25  078-73-5990   \n",
       "99999  0x25fed  CUS_0x942c    August          Nicks    25  078-73-5990   \n",
       "\n",
       "      Occupation Annual_Income Monthly_Inhand_Salary Num_Bank_Accounts  ...  \\\n",
       "0      Scientist      19114.12           1824.843333                 3  ...   \n",
       "1      Scientist      19114.12                   NaN                 3  ...   \n",
       "2      Scientist      19114.12                   NaN                 3  ...   \n",
       "3      Scientist      19114.12                   NaN                 3  ...   \n",
       "4      Scientist      19114.12           1824.843333                 3  ...   \n",
       "...          ...           ...                   ...               ...  ...   \n",
       "99995   Mechanic      39628.99           3359.415833                 4  ...   \n",
       "99996   Mechanic      39628.99           3359.415833                 4  ...   \n",
       "99997   Mechanic      39628.99           3359.415833                 4  ...   \n",
       "99998   Mechanic      39628.99           3359.415833                 4  ...   \n",
       "99999   Mechanic     39628.99_           3359.415833                 4  ...   \n",
       "\n",
       "      Credit_Mix Outstanding_Debt Credit_Utilization_Ratio  \\\n",
       "0              _           809.98                 26.82262   \n",
       "1           Good           809.98                 31.94496   \n",
       "2           Good           809.98                28.609352   \n",
       "3           Good           809.98                31.377862   \n",
       "4           Good           809.98                24.797347   \n",
       "...          ...              ...                      ...   \n",
       "99995          _           502.38                34.663572   \n",
       "99996          _           502.38                40.565631   \n",
       "99997       Good           502.38                41.255522   \n",
       "99998       Good           502.38                33.638208   \n",
       "99999       Good           502.38                34.192463   \n",
       "\n",
       "           Credit_History_Age Payment_of_Min_Amount Total_EMI_per_month  \\\n",
       "0       22 Years and 1 Months                    No           49.574949   \n",
       "1                         NaN                    No           49.574949   \n",
       "2       22 Years and 3 Months                    No           49.574949   \n",
       "3       22 Years and 4 Months                    No           49.574949   \n",
       "4       22 Years and 5 Months                    No           49.574949   \n",
       "...                       ...                   ...                 ...   \n",
       "99995   31 Years and 6 Months                    No           35.104023   \n",
       "99996   31 Years and 7 Months                    No           35.104023   \n",
       "99997   31 Years and 8 Months                    No           35.104023   \n",
       "99998   31 Years and 9 Months                    No           35.104023   \n",
       "99999  31 Years and 10 Months                    No           35.104023   \n",
       "\n",
       "      Amount_invested_monthly                 Payment_Behaviour  \\\n",
       "0           80.41529543900253   High_spent_Small_value_payments   \n",
       "1          118.28022162236736    Low_spent_Large_value_payments   \n",
       "2             81.699521264648   Low_spent_Medium_value_payments   \n",
       "3           199.4580743910713    Low_spent_Small_value_payments   \n",
       "4          41.420153086217326  High_spent_Medium_value_payments   \n",
       "...                       ...                               ...   \n",
       "99995       60.97133255718485   High_spent_Large_value_payments   \n",
       "99996       54.18595028760385  High_spent_Medium_value_payments   \n",
       "99997       24.02847744864441   High_spent_Large_value_payments   \n",
       "99998      251.67258219721603    Low_spent_Large_value_payments   \n",
       "99999       167.1638651610451                            !@9#%8   \n",
       "\n",
       "          Monthly_Balance Credit_Score  \n",
       "0      312.49408867943663         Good  \n",
       "1      284.62916249607184         Good  \n",
       "2       331.2098628537912         Good  \n",
       "3      223.45130972736786         Good  \n",
       "4      341.48923103222177         Good  \n",
       "...                   ...          ...  \n",
       "99995          479.866228         Poor  \n",
       "99996           496.65161         Poor  \n",
       "99997          516.809083         Poor  \n",
       "99998          319.164979     Standard  \n",
       "99999          393.673696         Poor  \n",
       "\n",
       "[100000 rows x 28 columns]"
      ]
     },
     "execution_count": 214,
     "metadata": {},
     "output_type": "execute_result"
    }
   ],
   "source": [
    "df.T.drop_duplicates().T     #Removing duplicate Columns"
   ]
  },
  {
   "cell_type": "code",
   "execution_count": 215,
   "id": "27f9de6c",
   "metadata": {},
   "outputs": [
    {
     "data": {
      "text/plain": [
       "ID                              0\n",
       "Customer_ID                     0\n",
       "Month                           0\n",
       "Name                         9985\n",
       "Age                             0\n",
       "SSN                             0\n",
       "Occupation                      0\n",
       "Annual_Income                   0\n",
       "Monthly_Inhand_Salary       15002\n",
       "Num_Bank_Accounts               0\n",
       "Num_Credit_Card                 0\n",
       "Interest_Rate                   0\n",
       "Num_of_Loan                     0\n",
       "Type_of_Loan                11408\n",
       "Delay_from_due_date             0\n",
       "Num_of_Delayed_Payment       7002\n",
       "Changed_Credit_Limit            0\n",
       "Num_Credit_Inquiries         1965\n",
       "Credit_Mix                      0\n",
       "Outstanding_Debt                0\n",
       "Credit_Utilization_Ratio        0\n",
       "Credit_History_Age           9030\n",
       "Payment_of_Min_Amount           0\n",
       "Total_EMI_per_month             0\n",
       "Amount_invested_monthly      4479\n",
       "Payment_Behaviour               0\n",
       "Monthly_Balance              1200\n",
       "Credit_Score                    0\n",
       "dtype: int64"
      ]
     },
     "execution_count": 215,
     "metadata": {},
     "output_type": "execute_result"
    }
   ],
   "source": [
    "df.isnull().sum()              #checking null values in each column"
   ]
  },
  {
   "cell_type": "code",
   "execution_count": 216,
   "id": "1b37bb30",
   "metadata": {},
   "outputs": [
    {
     "name": "stdout",
     "output_type": "stream",
     "text": [
      "<class 'pandas.core.frame.DataFrame'>\n",
      "RangeIndex: 100000 entries, 0 to 99999\n",
      "Data columns (total 28 columns):\n",
      " #   Column                    Non-Null Count   Dtype  \n",
      "---  ------                    --------------   -----  \n",
      " 0   ID                        100000 non-null  object \n",
      " 1   Customer_ID               100000 non-null  object \n",
      " 2   Month                     100000 non-null  object \n",
      " 3   Name                      90015 non-null   object \n",
      " 4   Age                       100000 non-null  object \n",
      " 5   SSN                       100000 non-null  object \n",
      " 6   Occupation                100000 non-null  object \n",
      " 7   Annual_Income             100000 non-null  object \n",
      " 8   Monthly_Inhand_Salary     84998 non-null   float64\n",
      " 9   Num_Bank_Accounts         100000 non-null  int64  \n",
      " 10  Num_Credit_Card           100000 non-null  int64  \n",
      " 11  Interest_Rate             100000 non-null  int64  \n",
      " 12  Num_of_Loan               100000 non-null  object \n",
      " 13  Type_of_Loan              88592 non-null   object \n",
      " 14  Delay_from_due_date       100000 non-null  int64  \n",
      " 15  Num_of_Delayed_Payment    92998 non-null   object \n",
      " 16  Changed_Credit_Limit      100000 non-null  object \n",
      " 17  Num_Credit_Inquiries      98035 non-null   float64\n",
      " 18  Credit_Mix                100000 non-null  object \n",
      " 19  Outstanding_Debt          100000 non-null  object \n",
      " 20  Credit_Utilization_Ratio  100000 non-null  float64\n",
      " 21  Credit_History_Age        90970 non-null   object \n",
      " 22  Payment_of_Min_Amount     100000 non-null  object \n",
      " 23  Total_EMI_per_month       100000 non-null  float64\n",
      " 24  Amount_invested_monthly   95521 non-null   object \n",
      " 25  Payment_Behaviour         100000 non-null  object \n",
      " 26  Monthly_Balance           98800 non-null   object \n",
      " 27  Credit_Score              100000 non-null  object \n",
      "dtypes: float64(4), int64(4), object(20)\n",
      "memory usage: 21.4+ MB\n"
     ]
    }
   ],
   "source": [
    "df.info()"
   ]
  },
  {
   "cell_type": "code",
   "execution_count": 217,
   "id": "77ed2417",
   "metadata": {},
   "outputs": [],
   "source": [
    "def Separate_data_type(df):\n",
    "    cat=[]\n",
    "    cont=[]\n",
    "    for column in df.columns:\n",
    "        if df[column].nunique()>70:\n",
    "            cont.append(column)\n",
    "        else:\n",
    "            cat.append(column)\n",
    "    return cat,cont"
   ]
  },
  {
   "cell_type": "code",
   "execution_count": 218,
   "id": "1d4e4ac4",
   "metadata": {},
   "outputs": [],
   "source": [
    "cat,cont=Separate_data_type(df)"
   ]
  },
  {
   "cell_type": "code",
   "execution_count": 219,
   "id": "ceacf994",
   "metadata": {},
   "outputs": [
    {
     "data": {
      "text/plain": [
       "['Month',\n",
       " 'Occupation',\n",
       " 'Credit_Mix',\n",
       " 'Payment_of_Min_Amount',\n",
       " 'Payment_Behaviour',\n",
       " 'Credit_Score']"
      ]
     },
     "execution_count": 219,
     "metadata": {},
     "output_type": "execute_result"
    }
   ],
   "source": [
    "cat               #categorical data"
   ]
  },
  {
   "cell_type": "code",
   "execution_count": 220,
   "id": "17090891",
   "metadata": {},
   "outputs": [
    {
     "data": {
      "text/plain": [
       "['ID',\n",
       " 'Customer_ID',\n",
       " 'Name',\n",
       " 'Age',\n",
       " 'SSN',\n",
       " 'Annual_Income',\n",
       " 'Monthly_Inhand_Salary',\n",
       " 'Num_Bank_Accounts',\n",
       " 'Num_Credit_Card',\n",
       " 'Interest_Rate',\n",
       " 'Num_of_Loan',\n",
       " 'Type_of_Loan',\n",
       " 'Delay_from_due_date',\n",
       " 'Num_of_Delayed_Payment',\n",
       " 'Changed_Credit_Limit',\n",
       " 'Num_Credit_Inquiries',\n",
       " 'Outstanding_Debt',\n",
       " 'Credit_Utilization_Ratio',\n",
       " 'Credit_History_Age',\n",
       " 'Total_EMI_per_month',\n",
       " 'Amount_invested_monthly',\n",
       " 'Monthly_Balance']"
      ]
     },
     "execution_count": 220,
     "metadata": {},
     "output_type": "execute_result"
    }
   ],
   "source": [
    "cont                #Continuous Data"
   ]
  },
  {
   "cell_type": "markdown",
   "id": "b115ad7b",
   "metadata": {},
   "source": [
    "## working on df[\"ID\"]"
   ]
  },
  {
   "cell_type": "code",
   "execution_count": 221,
   "id": "b2975a75",
   "metadata": {},
   "outputs": [
    {
     "data": {
      "text/plain": [
       "100000"
      ]
     },
     "execution_count": 221,
     "metadata": {},
     "output_type": "execute_result"
    }
   ],
   "source": [
    "df[\"ID\"].nunique()    # No. of unique values are equal to no. of rows in data it is just a nominal data"
   ]
  },
  {
   "cell_type": "code",
   "execution_count": 222,
   "id": "f89a94af",
   "metadata": {},
   "outputs": [
    {
     "data": {
      "text/plain": [
       "0"
      ]
     },
     "execution_count": 222,
     "metadata": {},
     "output_type": "execute_result"
    }
   ],
   "source": [
    "df[\"ID\"].isnull().sum()    # has 0 nos of null values"
   ]
  },
  {
   "cell_type": "code",
   "execution_count": 223,
   "id": "10dbd5c2",
   "metadata": {},
   "outputs": [],
   "source": [
    "df=df.drop(['ID'], axis =1)      #dropping the column ID as it will not contribute to the out put variable"
   ]
  },
  {
   "cell_type": "markdown",
   "id": "36d79a7d",
   "metadata": {},
   "source": [
    "## Working on df[\"Customer_ID\"] & df[\"Name\"]"
   ]
  },
  {
   "cell_type": "code",
   "execution_count": 224,
   "id": "84f4662e",
   "metadata": {},
   "outputs": [],
   "source": [
    "# Both Columns represent the same data"
   ]
  },
  {
   "cell_type": "code",
   "execution_count": 225,
   "id": "2a0684cd",
   "metadata": {},
   "outputs": [],
   "source": [
    "df=df.drop([\"Name\"], axis=1)                 # Drop \"Name\""
   ]
  },
  {
   "cell_type": "code",
   "execution_count": 226,
   "id": "d261a8ef",
   "metadata": {},
   "outputs": [
    {
     "data": {
      "text/plain": [
       "(100000, 26)"
      ]
     },
     "execution_count": 226,
     "metadata": {},
     "output_type": "execute_result"
    }
   ],
   "source": [
    "df.shape"
   ]
  },
  {
   "cell_type": "code",
   "execution_count": 227,
   "id": "627e18b2",
   "metadata": {},
   "outputs": [
    {
     "data": {
      "text/plain": [
       "12500"
      ]
     },
     "execution_count": 227,
     "metadata": {},
     "output_type": "execute_result"
    }
   ],
   "source": [
    "df['Customer_ID'].nunique()"
   ]
  },
  {
   "cell_type": "code",
   "execution_count": 228,
   "id": "e3dbefdd",
   "metadata": {},
   "outputs": [
    {
     "data": {
      "text/plain": [
       "0"
      ]
     },
     "execution_count": 228,
     "metadata": {},
     "output_type": "execute_result"
    }
   ],
   "source": [
    "df['Customer_ID'].isnull().sum()"
   ]
  },
  {
   "cell_type": "code",
   "execution_count": 229,
   "id": "1050d285",
   "metadata": {},
   "outputs": [],
   "source": [
    "df=df.drop([\"Customer_ID\"],axis=1)"
   ]
  },
  {
   "cell_type": "code",
   "execution_count": 230,
   "id": "d9d2a4c9",
   "metadata": {},
   "outputs": [
    {
     "data": {
      "text/plain": [
       "(100000, 25)"
      ]
     },
     "execution_count": 230,
     "metadata": {},
     "output_type": "execute_result"
    }
   ],
   "source": [
    "df.shape"
   ]
  },
  {
   "cell_type": "markdown",
   "id": "07572064",
   "metadata": {},
   "source": [
    "## Working on df[\"Age\"]"
   ]
  },
  {
   "cell_type": "code",
   "execution_count": 231,
   "id": "11e11f36",
   "metadata": {},
   "outputs": [
    {
     "data": {
      "text/plain": [
       "0"
      ]
     },
     "execution_count": 231,
     "metadata": {},
     "output_type": "execute_result"
    }
   ],
   "source": [
    "df[\"Age\"].isnull().sum()                     #no missing value in the column"
   ]
  },
  {
   "cell_type": "code",
   "execution_count": 232,
   "id": "25a5e446",
   "metadata": {},
   "outputs": [
    {
     "data": {
      "text/plain": [
       "1788"
      ]
     },
     "execution_count": 232,
     "metadata": {},
     "output_type": "execute_result"
    }
   ],
   "source": [
    "df[\"Age\"].nunique()"
   ]
  },
  {
   "cell_type": "code",
   "execution_count": 233,
   "id": "75a79f25",
   "metadata": {},
   "outputs": [
    {
     "data": {
      "text/plain": [
       "dtype('O')"
      ]
     },
     "execution_count": 233,
     "metadata": {},
     "output_type": "execute_result"
    }
   ],
   "source": [
    "df[\"Age\"].dtypes"
   ]
  },
  {
   "cell_type": "code",
   "execution_count": 234,
   "id": "3c56c9d7",
   "metadata": {},
   "outputs": [
    {
     "data": {
      "text/plain": [
       "dtype('O')"
      ]
     },
     "execution_count": 234,
     "metadata": {},
     "output_type": "execute_result"
    }
   ],
   "source": [
    "df[\"Age\"].dtypes"
   ]
  },
  {
   "cell_type": "code",
   "execution_count": 235,
   "id": "fd2fa0ad",
   "metadata": {},
   "outputs": [],
   "source": [
    "list1=list(df[\"Age\"])"
   ]
  },
  {
   "cell_type": "code",
   "execution_count": 236,
   "id": "02120e85",
   "metadata": {},
   "outputs": [
    {
     "data": {
      "text/plain": [
       "'23'"
      ]
     },
     "execution_count": 236,
     "metadata": {},
     "output_type": "execute_result"
    }
   ],
   "source": [
    "list1[1]"
   ]
  },
  {
   "cell_type": "code",
   "execution_count": 237,
   "id": "c5b5f001",
   "metadata": {},
   "outputs": [],
   "source": [
    "li=[]\n",
    "for i in list1:\n",
    "    if i[len(i)-1]=='_':\n",
    "        i[len(i)-1]==''\n"
   ]
  },
  {
   "cell_type": "code",
   "execution_count": 238,
   "id": "855dd36a",
   "metadata": {},
   "outputs": [],
   "source": [
    "df[\"Age\"]=df[\"Age\"].str.replace(\"_\",\"\").astype(float)"
   ]
  },
  {
   "cell_type": "code",
   "execution_count": 239,
   "id": "1f15199a",
   "metadata": {},
   "outputs": [
    {
     "data": {
      "text/plain": [
       "38.0      2994\n",
       "28.0      2968\n",
       "31.0      2955\n",
       "26.0      2945\n",
       "32.0      2884\n",
       "          ... \n",
       "1908.0       1\n",
       "4583.0       1\n",
       "7549.0       1\n",
       "3119.0       1\n",
       "1342.0       1\n",
       "Name: Age, Length: 1728, dtype: int64"
      ]
     },
     "execution_count": 239,
     "metadata": {},
     "output_type": "execute_result"
    }
   ],
   "source": [
    "df['Age'].value_counts()"
   ]
  },
  {
   "cell_type": "code",
   "execution_count": 240,
   "id": "4947c6f3",
   "metadata": {},
   "outputs": [
    {
     "data": {
      "text/plain": [
       "<Axes: xlabel='Age', ylabel='Count'>"
      ]
     },
     "execution_count": 240,
     "metadata": {},
     "output_type": "execute_result"
    },
    {
     "data": {
      "image/png": "[encoded data removed]",
      "text/plain": [
       "<Figure size 640x480 with 1 Axes>"
      ]
     },
     "metadata": {},
     "output_type": "display_data"
    }
   ],
   "source": [
    "sns.histplot(df[\"Age\"])"
   ]
  },
  {
   "cell_type": "code",
   "execution_count": 241,
   "id": "82085af8",
   "metadata": {},
   "outputs": [
    {
     "data": {
      "text/plain": [
       "8487"
      ]
     },
     "execution_count": 241,
     "metadata": {},
     "output_type": "execute_result"
    }
   ],
   "source": [
    "a=0\n",
    "for i in range(len(df)):\n",
    "    if df.loc[i,\"Age\"]>69 or df.loc[i,\"Age\"]<18:\n",
    "        a=a+1\n",
    "a\n",
    "#no. of transactions having age more than 69 and less than 18."
   ]
  },
  {
   "cell_type": "code",
   "execution_count": 242,
   "id": "842035ef",
   "metadata": {},
   "outputs": [],
   "source": [
    "# Identifing the outliers\n",
    "def uflf(ser):\n",
    "    comp= pd.Series(ser)\n",
    "    print(\"Minimum\",min(comp))\n",
    "    print(\"Maximum\",max(comp))\n",
    "    print(\"Range\",(max(comp)-min(comp)))\n",
    "    Q1= comp.quantile(0.25)\n",
    "    Q3= comp.quantile(0.75)\n",
    "    IQR= Q3-Q1\n",
    "    uf= Q3+1.5*IQR\n",
    "    lf= Q1-1.5*IQR\n",
    "    print(\"uf=\",uf,\"   lf=\",lf)\n",
    "    return uf,lf\n"
   ]
  },
  {
   "cell_type": "code",
   "execution_count": 243,
   "id": "b994ebfb",
   "metadata": {},
   "outputs": [
    {
     "data": {
      "text/plain": [
       "110.6497"
      ]
     },
     "execution_count": 243,
     "metadata": {},
     "output_type": "execute_result"
    }
   ],
   "source": [
    "df[\"Age\"].mean()"
   ]
  },
  {
   "cell_type": "code",
   "execution_count": 244,
   "id": "f7481ea1",
   "metadata": {},
   "outputs": [
    {
     "data": {
      "text/plain": [
       "33.0"
      ]
     },
     "execution_count": 244,
     "metadata": {},
     "output_type": "execute_result"
    }
   ],
   "source": [
    "df[\"Age\"].median()"
   ]
  },
  {
   "cell_type": "code",
   "execution_count": 245,
   "id": "12cbd433",
   "metadata": {},
   "outputs": [],
   "source": [
    "# Outliers treatment\n",
    "for i in range(len(df)):\n",
    "    if df.loc[i,\"Age\"]<18 or df.loc[i,\"Age\"]>70:\n",
    "        df.loc[i,\"Age\"]=df[\"Age\"].median()"
   ]
  },
  {
   "cell_type": "code",
   "execution_count": 246,
   "id": "8208788e",
   "metadata": {},
   "outputs": [
    {
     "data": {
      "text/plain": [
       "0"
      ]
     },
     "execution_count": 246,
     "metadata": {},
     "output_type": "execute_result"
    }
   ],
   "source": [
    "a=0\n",
    "for i in range(len(df)):\n",
    "    if df.loc[i,\"Age\"]>69 or df.loc[i,\"Age\"]<18:\n",
    "        a=a+1\n",
    "a\n",
    "#no. of transactions having age more than 69 and less than 18."
   ]
  },
  {
   "cell_type": "code",
   "execution_count": 247,
   "id": "248538d0",
   "metadata": {},
   "outputs": [
    {
     "name": "stdout",
     "output_type": "stream",
     "text": [
      "Minimum 18.0\n",
      "Maximum 56.0\n",
      "Range 38.0\n",
      "lf= 6.0    uf= 62.0\n"
     ]
    }
   ],
   "source": [
    "comp= pd.Series(df[\"Age\"])\n",
    "print(\"Minimum\",min(comp))\n",
    "print(\"Maximum\",max(comp))\n",
    "print(\"Range\",(max(comp)-min(comp)))\n",
    "Q1= comp.quantile(0.25)\n",
    "Q3= comp.quantile(0.75)\n",
    "IQR= Q3-Q1\n",
    "uf= Q3+1.5*IQR\n",
    "lf= Q1-1.5*IQR\n",
    "print(\"lf=\",lf,\"   uf=\",uf)"
   ]
  },
  {
   "cell_type": "code",
   "execution_count": 248,
   "id": "91974e5e",
   "metadata": {},
   "outputs": [
    {
     "data": {
      "text/plain": [
       "<Axes: >"
      ]
     },
     "execution_count": 248,
     "metadata": {},
     "output_type": "execute_result"
    },
    {
     "data": {
      "image/png": "[encoded data removed]",
      "text/plain": [
       "<Figure size 640x480 with 1 Axes>"
      ]
     },
     "metadata": {},
     "output_type": "display_data"
    }
   ],
   "source": [
    "sns.boxplot(df[\"Age\"])"
   ]
  },
  {
   "cell_type": "markdown",
   "id": "a76783d9",
   "metadata": {},
   "source": [
    "## Working on df[\"Month\"]"
   ]
  },
  {
   "cell_type": "code",
   "execution_count": 249,
   "id": "141d7362",
   "metadata": {},
   "outputs": [
    {
     "data": {
      "text/plain": [
       "0"
      ]
     },
     "execution_count": 249,
     "metadata": {},
     "output_type": "execute_result"
    }
   ],
   "source": [
    "df[\"Month\"].isnull().sum()"
   ]
  },
  {
   "cell_type": "code",
   "execution_count": 250,
   "id": "f4ae32ec",
   "metadata": {},
   "outputs": [
    {
     "data": {
      "text/plain": [
       "8"
      ]
     },
     "execution_count": 250,
     "metadata": {},
     "output_type": "execute_result"
    }
   ],
   "source": [
    "df[\"Month\"].nunique()"
   ]
  },
  {
   "cell_type": "code",
   "execution_count": 251,
   "id": "2d9d6567",
   "metadata": {},
   "outputs": [
    {
     "data": {
      "text/plain": [
       "<Axes: xlabel='Month', ylabel='Count'>"
      ]
     },
     "execution_count": 251,
     "metadata": {},
     "output_type": "execute_result"
    },
    {
     "data": {
      "image/png": "[encoded data removed]",
      "text/plain": [
       "<Figure size 640x480 with 1 Axes>"
      ]
     },
     "metadata": {},
     "output_type": "display_data"
    }
   ],
   "source": [
    "sns.histplot(df[\"Month\"])"
   ]
  },
  {
   "cell_type": "code",
   "execution_count": 252,
   "id": "07d559c5",
   "metadata": {},
   "outputs": [
    {
     "data": {
      "text/plain": [
       "January     12500\n",
       "February    12500\n",
       "March       12500\n",
       "April       12500\n",
       "May         12500\n",
       "June        12500\n",
       "July        12500\n",
       "August      12500\n",
       "Name: Month, dtype: int64"
      ]
     },
     "execution_count": 252,
     "metadata": {},
     "output_type": "execute_result"
    }
   ],
   "source": [
    "df[\"Month\"].value_counts()"
   ]
  },
  {
   "cell_type": "code",
   "execution_count": 253,
   "id": "ce794ff5",
   "metadata": {},
   "outputs": [
    {
     "name": "stdout",
     "output_type": "stream",
     "text": [
      "['April' 'August' 'February' 'January' 'July' 'June' 'March' 'May']\n"
     ]
    }
   ],
   "source": [
    "# Considering it an ordinal data\n",
    "\n",
    "from sklearn.preprocessing import LabelEncoder\n",
    "month_encoder=LabelEncoder()\n",
    "month_encoder.fit(df['Month'])\n",
    "print(month_encoder.classes_)\n",
    "df['Month']=month_encoder.transform(df['Month'])"
   ]
  },
  {
   "cell_type": "markdown",
   "id": "a6550db9",
   "metadata": {},
   "source": [
    "# Working on df[\"SSN\"]"
   ]
  },
  {
   "cell_type": "code",
   "execution_count": 254,
   "id": "ba95f49a",
   "metadata": {},
   "outputs": [
    {
     "data": {
      "text/plain": [
       "12501"
      ]
     },
     "execution_count": 254,
     "metadata": {},
     "output_type": "execute_result"
    }
   ],
   "source": [
    "df[\"SSN\"].nunique()"
   ]
  },
  {
   "cell_type": "code",
   "execution_count": 255,
   "id": "2bc4ccbd",
   "metadata": {},
   "outputs": [
    {
     "data": {
      "text/plain": [
       "0"
      ]
     },
     "execution_count": 255,
     "metadata": {},
     "output_type": "execute_result"
    }
   ],
   "source": [
    "df[\"SSN\"].isnull().sum()"
   ]
  },
  {
   "cell_type": "code",
   "execution_count": 256,
   "id": "b40b0d04",
   "metadata": {},
   "outputs": [],
   "source": [
    "df=df.drop([\"SSN\"], axis=1)    #AS SSN WILL REMAIN SAME FOR NAMES OR CUSTOMER ID TO IT WILL REPRESENT THE SAME DATA AS OF NAME/CUSTOMER_ID SO IT WILL NOT COMTRIBUTE TO THE OUTPUT DATA"
   ]
  },
  {
   "cell_type": "code",
   "execution_count": 257,
   "id": "3709cb54",
   "metadata": {},
   "outputs": [
    {
     "data": {
      "text/plain": [
       "(100000, 24)"
      ]
     },
     "execution_count": 257,
     "metadata": {},
     "output_type": "execute_result"
    }
   ],
   "source": [
    "df.shape"
   ]
  },
  {
   "cell_type": "markdown",
   "id": "c8a192ea",
   "metadata": {},
   "source": [
    "## Working on df[\"Occupation\"]"
   ]
  },
  {
   "cell_type": "code",
   "execution_count": 258,
   "id": "d2eff5af",
   "metadata": {},
   "outputs": [
    {
     "data": {
      "text/plain": [
       "0"
      ]
     },
     "execution_count": 258,
     "metadata": {},
     "output_type": "execute_result"
    }
   ],
   "source": [
    "df[\"Occupation\"].isnull().sum()"
   ]
  },
  {
   "cell_type": "code",
   "execution_count": 259,
   "id": "473a987f",
   "metadata": {},
   "outputs": [
    {
     "data": {
      "text/plain": [
       "16"
      ]
     },
     "execution_count": 259,
     "metadata": {},
     "output_type": "execute_result"
    }
   ],
   "source": [
    "df[\"Occupation\"].nunique()"
   ]
  },
  {
   "cell_type": "code",
   "execution_count": 260,
   "id": "79cc3bf8",
   "metadata": {},
   "outputs": [
    {
     "data": {
      "text/plain": [
       "<Axes: xlabel='Occupation', ylabel='Count'>"
      ]
     },
     "execution_count": 260,
     "metadata": {},
     "output_type": "execute_result"
    },
    {
     "data": {
      "image/png": "[encoded data removed]",
      "text/plain": [
       "<Figure size 640x480 with 1 Axes>"
      ]
     },
     "metadata": {},
     "output_type": "display_data"
    }
   ],
   "source": [
    "sns.histplot(df[\"Occupation\"])"
   ]
  },
  {
   "cell_type": "code",
   "execution_count": 261,
   "id": "c2d4eec5",
   "metadata": {},
   "outputs": [
    {
     "data": {
      "text/plain": [
       "_______          7062\n",
       "Lawyer           6575\n",
       "Architect        6355\n",
       "Engineer         6350\n",
       "Scientist        6299\n",
       "Mechanic         6291\n",
       "Accountant       6271\n",
       "Developer        6235\n",
       "Media_Manager    6232\n",
       "Teacher          6215\n",
       "Entrepreneur     6174\n",
       "Doctor           6087\n",
       "Journalist       6085\n",
       "Manager          5973\n",
       "Musician         5911\n",
       "Writer           5885\n",
       "Name: Occupation, dtype: int64"
      ]
     },
     "execution_count": 261,
     "metadata": {},
     "output_type": "execute_result"
    }
   ],
   "source": [
    "df[\"Occupation\"].value_counts()"
   ]
  },
  {
   "cell_type": "code",
   "execution_count": 262,
   "id": "fc8ba72c",
   "metadata": {},
   "outputs": [],
   "source": [
    "df[\"Occupation\"]=df[\"Occupation\"].replace(\"_______\",\"Not_Specified\")"
   ]
  },
  {
   "cell_type": "code",
   "execution_count": 263,
   "id": "afb5f188",
   "metadata": {},
   "outputs": [
    {
     "data": {
      "text/plain": [
       "Not_Specified    7062\n",
       "Lawyer           6575\n",
       "Architect        6355\n",
       "Engineer         6350\n",
       "Scientist        6299\n",
       "Mechanic         6291\n",
       "Accountant       6271\n",
       "Developer        6235\n",
       "Media_Manager    6232\n",
       "Teacher          6215\n",
       "Entrepreneur     6174\n",
       "Doctor           6087\n",
       "Journalist       6085\n",
       "Manager          5973\n",
       "Musician         5911\n",
       "Writer           5885\n",
       "Name: Occupation, dtype: int64"
      ]
     },
     "execution_count": 263,
     "metadata": {},
     "output_type": "execute_result"
    }
   ],
   "source": [
    "df[\"Occupation\"].value_counts()"
   ]
  },
  {
   "cell_type": "code",
   "execution_count": null,
   "id": "2d51eba7",
   "metadata": {},
   "outputs": [],
   "source": []
  },
  {
   "cell_type": "markdown",
   "id": "360e7c20",
   "metadata": {},
   "source": [
    "## Working on df[\"Annual_Income\"] & df[\"Monthly_Inhand_Salary\"]"
   ]
  },
  {
   "cell_type": "code",
   "execution_count": 264,
   "id": "38c46e10",
   "metadata": {},
   "outputs": [
    {
     "data": {
      "text/plain": [
       "0"
      ]
     },
     "execution_count": 264,
     "metadata": {},
     "output_type": "execute_result"
    }
   ],
   "source": [
    "df[\"Annual_Income\"].isnull().sum()"
   ]
  },
  {
   "cell_type": "code",
   "execution_count": 265,
   "id": "1fbcee2c",
   "metadata": {},
   "outputs": [],
   "source": [
    "df[\"Annual_Income\"]=df[\"Annual_Income\"].str.replace('_','').astype(float)"
   ]
  },
  {
   "cell_type": "code",
   "execution_count": 266,
   "id": "65d909f8",
   "metadata": {},
   "outputs": [
    {
     "data": {
      "text/plain": [
       "<Axes: >"
      ]
     },
     "execution_count": 266,
     "metadata": {},
     "output_type": "execute_result"
    },
    {
     "data": {
      "image/png": "[encoded data removed]",
      "text/plain": [
       "<Figure size 640x480 with 1 Axes>"
      ]
     },
     "metadata": {},
     "output_type": "display_data"
    }
   ],
   "source": [
    "df.boxplot(column=\"Annual_Income\")"
   ]
  },
  {
   "cell_type": "code",
   "execution_count": 267,
   "id": "86e82507",
   "metadata": {},
   "outputs": [
    {
     "name": "stdout",
     "output_type": "stream",
     "text": [
      "lf= -60542.630000000005    uf= 152791.05\n"
     ]
    }
   ],
   "source": [
    "comp=pd.Series(df[\"Annual_Income\"])\n",
    "Q1= comp.quantile(0.25)\n",
    "Q3= comp.quantile(0.75)\n",
    "IQR= Q3-Q1\n",
    "uf= Q3+1.5*IQR\n",
    "lf= Q1-1.5*IQR\n",
    "print(\"lf=\",lf,\"   uf=\",uf)"
   ]
  },
  {
   "cell_type": "code",
   "execution_count": 268,
   "id": "a28923d2",
   "metadata": {},
   "outputs": [
    {
     "data": {
      "text/plain": [
       "2783"
      ]
     },
     "execution_count": 268,
     "metadata": {},
     "output_type": "execute_result"
    }
   ],
   "source": [
    "a=0\n",
    "for i in range(len(df)):\n",
    "    if df.loc[i,\"Annual_Income\"]>uf:\n",
    "        a=a+1\n",
    "a"
   ]
  },
  {
   "cell_type": "code",
   "execution_count": 269,
   "id": "6a21d951",
   "metadata": {},
   "outputs": [
    {
     "data": {
      "text/plain": [
       "152791.05"
      ]
     },
     "execution_count": 269,
     "metadata": {},
     "output_type": "execute_result"
    }
   ],
   "source": [
    "uf"
   ]
  },
  {
   "cell_type": "code",
   "execution_count": 270,
   "id": "bd3e8ad2",
   "metadata": {},
   "outputs": [
    {
     "data": {
      "text/plain": [
       "176415.70129814997"
      ]
     },
     "execution_count": 270,
     "metadata": {},
     "output_type": "execute_result"
    }
   ],
   "source": [
    "df[\"Annual_Income\"].mean()"
   ]
  },
  {
   "cell_type": "code",
   "execution_count": 271,
   "id": "171b58f7",
   "metadata": {},
   "outputs": [],
   "source": [
    "for i in range(len(df)):\n",
    "    if df.loc[i,\"Annual_Income\"]>uf:\n",
    "        df.loc[i,\"Annual_Income\"]=df[\"Annual_Income\"].mean()"
   ]
  },
  {
   "cell_type": "code",
   "execution_count": 272,
   "id": "3f7d21b3",
   "metadata": {},
   "outputs": [
    {
     "data": {
      "text/plain": [
       "131313.4"
      ]
     },
     "execution_count": 272,
     "metadata": {},
     "output_type": "execute_result"
    }
   ],
   "source": [
    "df[\"Annual_Income\"][55]"
   ]
  },
  {
   "cell_type": "code",
   "execution_count": 273,
   "id": "de7595e5",
   "metadata": {},
   "outputs": [
    {
     "data": {
      "text/plain": [
       "15002"
      ]
     },
     "execution_count": 273,
     "metadata": {},
     "output_type": "execute_result"
    }
   ],
   "source": [
    "df[\"Monthly_Inhand_Salary\"].isnull().sum()              #null values in df[\"Monthly_Inhand_Salary\"]"
   ]
  },
  {
   "cell_type": "code",
   "execution_count": 274,
   "id": "eb3e3fd9",
   "metadata": {},
   "outputs": [
    {
     "data": {
      "text/plain": [
       "<Axes: >"
      ]
     },
     "execution_count": 274,
     "metadata": {},
     "output_type": "execute_result"
    },
    {
     "data": {
      "image/png": "[encoded data removed]",
      "text/plain": [
       "<Figure size 640x480 with 1 Axes>"
      ]
     },
     "metadata": {},
     "output_type": "display_data"
    }
   ],
   "source": [
    "df.boxplot(column=\"Monthly_Inhand_Salary\")"
   ]
  },
  {
   "cell_type": "code",
   "execution_count": null,
   "id": "d8de4943",
   "metadata": {},
   "outputs": [],
   "source": []
  },
  {
   "cell_type": "code",
   "execution_count": 275,
   "id": "2bff9a65",
   "metadata": {},
   "outputs": [
    {
     "name": "stdout",
     "output_type": "stream",
     "text": [
      "lf= -4872.251927083333    uf= 12455.268489583334\n"
     ]
    }
   ],
   "source": [
    "comp=pd.Series(df[\"Monthly_Inhand_Salary\"])\n",
    "Q1= comp.quantile(0.25)\n",
    "Q3= comp.quantile(0.75)\n",
    "IQR= Q3-Q1\n",
    "uf= Q3+1.5*IQR\n",
    "lf= Q1-1.5*IQR\n",
    "print(\"lf=\",lf,\"   uf=\",uf)"
   ]
  },
  {
   "cell_type": "code",
   "execution_count": 276,
   "id": "6f94939a",
   "metadata": {},
   "outputs": [
    {
     "data": {
      "text/plain": [
       "4194.170849600523"
      ]
     },
     "execution_count": 276,
     "metadata": {},
     "output_type": "execute_result"
    }
   ],
   "source": [
    "df[\"Monthly_Inhand_Salary\"].mean()"
   ]
  },
  {
   "cell_type": "code",
   "execution_count": 277,
   "id": "37a9051e",
   "metadata": {},
   "outputs": [],
   "source": [
    "for i in range(len(df)):\n",
    "    if df[\"Monthly_Inhand_Salary\"].isnull()[i]==True or df[\"Monthly_Inhand_Salary\"][i]<0:\n",
    "        df.loc[i,\"Monthly_Inhand_Salary\"]=0\n",
    "#replacing negative values with '0'"
   ]
  },
  {
   "cell_type": "code",
   "execution_count": 278,
   "id": "f6dc7a1f",
   "metadata": {},
   "outputs": [
    {
     "data": {
      "text/plain": [
       "0"
      ]
     },
     "execution_count": 278,
     "metadata": {},
     "output_type": "execute_result"
    }
   ],
   "source": [
    "df[\"Monthly_Inhand_Salary\"].isnull().sum()"
   ]
  },
  {
   "cell_type": "code",
   "execution_count": 279,
   "id": "926b7d9f",
   "metadata": {},
   "outputs": [],
   "source": [
    "for i in range(len(df)):\n",
    "    if df[\"Monthly_Inhand_Salary\"][i]>lf or df[\"Monthly_Inhand_Salary\"][i]==0 :\n",
    "        df.loc[i,\"Monthly_Inhand_Salary\"]=df[\"Monthly_Inhand_Salary\"].mean()"
   ]
  },
  {
   "cell_type": "code",
   "execution_count": 280,
   "id": "0d9f58c7",
   "metadata": {},
   "outputs": [
    {
     "data": {
      "text/plain": [
       "-0.0053954047578820335"
      ]
     },
     "execution_count": 280,
     "metadata": {},
     "output_type": "execute_result"
    }
   ],
   "source": [
    "df[\"Monthly_Inhand_Salary\"].corr(df[\"Annual_Income\"])"
   ]
  },
  {
   "cell_type": "code",
   "execution_count": 281,
   "id": "7988dc01",
   "metadata": {},
   "outputs": [
    {
     "data": {
      "text/plain": [
       "<Axes: >"
      ]
     },
     "execution_count": 281,
     "metadata": {},
     "output_type": "execute_result"
    },
    {
     "data": {
      "image/png": "[encoded data removed]",
      "text/plain": [
       "<Figure size 640x480 with 1 Axes>"
      ]
     },
     "metadata": {},
     "output_type": "display_data"
    }
   ],
   "source": [
    "df.boxplot(column=\"Monthly_Inhand_Salary\")"
   ]
  },
  {
   "cell_type": "markdown",
   "id": "dccc3445",
   "metadata": {},
   "source": [
    "# Working on df[\"Num_Bank_Accounts\"]"
   ]
  },
  {
   "cell_type": "code",
   "execution_count": 282,
   "id": "a72ac203",
   "metadata": {},
   "outputs": [
    {
     "data": {
      "text/plain": [
       "943"
      ]
     },
     "execution_count": 282,
     "metadata": {},
     "output_type": "execute_result"
    }
   ],
   "source": [
    "df[\"Num_Bank_Accounts\"].nunique()"
   ]
  },
  {
   "cell_type": "code",
   "execution_count": 283,
   "id": "aa1783ac",
   "metadata": {},
   "outputs": [
    {
     "data": {
      "text/plain": [
       "0"
      ]
     },
     "execution_count": 283,
     "metadata": {},
     "output_type": "execute_result"
    }
   ],
   "source": [
    "df[\"Num_Bank_Accounts\"].isnull().sum()"
   ]
  },
  {
   "cell_type": "code",
   "execution_count": 284,
   "id": "6e8758f1",
   "metadata": {},
   "outputs": [
    {
     "name": "stdout",
     "output_type": "stream",
     "text": [
      "Minimum -1\n",
      "Maximum 1798\n",
      "Range 1799\n",
      "uf= 13.0    lf= -3.0\n"
     ]
    }
   ],
   "source": [
    "uf,lf=uflf(df[\"Num_Bank_Accounts\"])"
   ]
  },
  {
   "cell_type": "code",
   "execution_count": 285,
   "id": "c15bd8f6",
   "metadata": {},
   "outputs": [],
   "source": [
    "#df=df.drop('Num_Bank_Accounts',axis=1)      #Data seems to be absurd or irrelevant as a person cannot have "
   ]
  },
  {
   "cell_type": "code",
   "execution_count": 286,
   "id": "e3a0969c",
   "metadata": {},
   "outputs": [
    {
     "data": {
      "text/plain": [
       "(100000, 24)"
      ]
     },
     "execution_count": 286,
     "metadata": {},
     "output_type": "execute_result"
    }
   ],
   "source": [
    "df.shape"
   ]
  },
  {
   "cell_type": "code",
   "execution_count": 287,
   "id": "f22190e2",
   "metadata": {},
   "outputs": [
    {
     "data": {
      "text/plain": [
       "<Axes: >"
      ]
     },
     "execution_count": 287,
     "metadata": {},
     "output_type": "execute_result"
    },
    {
     "data": {
      "image/png": "[encoded data removed]",
      "text/plain": [
       "<Figure size 640x480 with 1 Axes>"
      ]
     },
     "metadata": {},
     "output_type": "display_data"
    }
   ],
   "source": [
    "df.boxplot(column=\"Num_Bank_Accounts\")"
   ]
  },
  {
   "cell_type": "code",
   "execution_count": 288,
   "id": "542f037a",
   "metadata": {},
   "outputs": [
    {
     "data": {
      "text/plain": [
       "5664"
      ]
     },
     "execution_count": 288,
     "metadata": {},
     "output_type": "execute_result"
    }
   ],
   "source": [
    "# No. of Outliers\n",
    "a=0\n",
    "for i in range(len(df)):\n",
    "    if df.loc[i,\"Num_Bank_Accounts\"]>uf or df.loc[i,\"Num_Bank_Accounts\"]<1:\n",
    "        a=a+1\n",
    "a"
   ]
  },
  {
   "cell_type": "code",
   "execution_count": 289,
   "id": "31a518c1",
   "metadata": {
    "scrolled": true
   },
   "outputs": [
    {
     "name": "stdout",
     "output_type": "stream",
     "text": [
      "17.09128\n",
      "6.0\n"
     ]
    }
   ],
   "source": [
    "print(df[\"Num_Bank_Accounts\"].mean())\n",
    "print(df[\"Num_Bank_Accounts\"].median())"
   ]
  },
  {
   "cell_type": "code",
   "execution_count": 290,
   "id": "1bf55792",
   "metadata": {},
   "outputs": [],
   "source": [
    "for i in range(len(df)):\n",
    "    if df[\"Num_Bank_Accounts\"][i]>lf or df[\"Num_Bank_Accounts\"][i]==0 :\n",
    "        df.loc[i,\"Num_Bank_Accounts\"]=df[\"Num_Bank_Accounts\"].median()"
   ]
  },
  {
   "cell_type": "code",
   "execution_count": 291,
   "id": "d2f9aac6",
   "metadata": {},
   "outputs": [
    {
     "data": {
      "text/plain": [
       "0"
      ]
     },
     "execution_count": 291,
     "metadata": {},
     "output_type": "execute_result"
    }
   ],
   "source": [
    "# No. of Outliers\n",
    "a=0\n",
    "for i in range(len(df)):\n",
    "    if df.loc[i,\"Num_Bank_Accounts\"]>uf or df.loc[i,\"Num_Bank_Accounts\"]<1:\n",
    "        a=a+1\n",
    "a"
   ]
  },
  {
   "cell_type": "code",
   "execution_count": 292,
   "id": "29d3acfb",
   "metadata": {},
   "outputs": [
    {
     "data": {
      "text/plain": [
       "<Axes: >"
      ]
     },
     "execution_count": 292,
     "metadata": {},
     "output_type": "execute_result"
    },
    {
     "data": {
      "image/png": "[encoded data removed]",
      "text/plain": [
       "<Figure size 640x480 with 1 Axes>"
      ]
     },
     "metadata": {},
     "output_type": "display_data"
    }
   ],
   "source": [
    "df.boxplot(\"Num_Bank_Accounts\")"
   ]
  },
  {
   "cell_type": "code",
   "execution_count": 293,
   "id": "c4ed7584",
   "metadata": {},
   "outputs": [
    {
     "data": {
      "text/plain": [
       "1"
      ]
     },
     "execution_count": 293,
     "metadata": {},
     "output_type": "execute_result"
    }
   ],
   "source": [
    "df[\"Num_Bank_Accounts\"].nunique()"
   ]
  },
  {
   "cell_type": "code",
   "execution_count": 294,
   "id": "8b4bbb61",
   "metadata": {},
   "outputs": [],
   "source": [
    "df=df.drop('Num_Bank_Accounts',axis=1)      #Data seems to be absurd or irrelevant as a person cannot have "
   ]
  },
  {
   "cell_type": "code",
   "execution_count": 295,
   "id": "388e35c1",
   "metadata": {},
   "outputs": [
    {
     "data": {
      "text/plain": [
       "(100000, 23)"
      ]
     },
     "execution_count": 295,
     "metadata": {},
     "output_type": "execute_result"
    }
   ],
   "source": [
    "df.shape"
   ]
  },
  {
   "cell_type": "markdown",
   "id": "ce7bc713",
   "metadata": {},
   "source": [
    "## Working on df[\"Num_Credit_Card\"]"
   ]
  },
  {
   "cell_type": "code",
   "execution_count": 296,
   "id": "76e9606f",
   "metadata": {},
   "outputs": [
    {
     "data": {
      "text/plain": [
       "1179"
      ]
     },
     "execution_count": 296,
     "metadata": {},
     "output_type": "execute_result"
    }
   ],
   "source": [
    "df[\"Num_Credit_Card\"].nunique()"
   ]
  },
  {
   "cell_type": "code",
   "execution_count": 297,
   "id": "182dca87",
   "metadata": {},
   "outputs": [
    {
     "data": {
      "text/plain": [
       "0"
      ]
     },
     "execution_count": 297,
     "metadata": {},
     "output_type": "execute_result"
    }
   ],
   "source": [
    "df[\"Num_Credit_Card\"].isnull().sum()"
   ]
  },
  {
   "cell_type": "code",
   "execution_count": 298,
   "id": "15691620",
   "metadata": {},
   "outputs": [
    {
     "data": {
      "text/plain": [
       "<Axes: >"
      ]
     },
     "execution_count": 298,
     "metadata": {},
     "output_type": "execute_result"
    },
    {
     "data": {
      "image/png": "[encoded data removed]",
      "text/plain": [
       "<Figure size 640x480 with 1 Axes>"
      ]
     },
     "metadata": {},
     "output_type": "display_data"
    }
   ],
   "source": [
    "df.boxplot(\"Num_Credit_Card\")"
   ]
  },
  {
   "cell_type": "code",
   "execution_count": 299,
   "id": "7d4d5260",
   "metadata": {},
   "outputs": [
    {
     "name": "stdout",
     "output_type": "stream",
     "text": [
      "Minimum 0\n",
      "Maximum 1499\n",
      "Range 1499\n",
      "uf= 11.5    lf= -0.5\n"
     ]
    },
    {
     "data": {
      "text/plain": [
       "(11.5, -0.5)"
      ]
     },
     "execution_count": 299,
     "metadata": {},
     "output_type": "execute_result"
    }
   ],
   "source": [
    "uflf(df[\"Num_Credit_Card\"])"
   ]
  },
  {
   "cell_type": "code",
   "execution_count": 300,
   "id": "bc2a3d62",
   "metadata": {},
   "outputs": [
    {
     "data": {
      "text/plain": [
       "2284"
      ]
     },
     "execution_count": 300,
     "metadata": {},
     "output_type": "execute_result"
    }
   ],
   "source": [
    "# No. of Outliers\n",
    "a=0\n",
    "for i in range(len(df)):\n",
    "    if df.loc[i,\"Num_Credit_Card\"]>11.5 or df.loc[i,\"Num_Credit_Card\"]<1:\n",
    "        a=a+1\n",
    "a"
   ]
  },
  {
   "cell_type": "code",
   "execution_count": 301,
   "id": "d9217e96",
   "metadata": {},
   "outputs": [
    {
     "name": "stdout",
     "output_type": "stream",
     "text": [
      "22.47443\n",
      "5.0\n"
     ]
    }
   ],
   "source": [
    "print(df[\"Num_Credit_Card\"].mean())\n",
    "print(df[\"Num_Credit_Card\"].median())"
   ]
  },
  {
   "cell_type": "code",
   "execution_count": 302,
   "id": "68f02aea",
   "metadata": {},
   "outputs": [],
   "source": [
    "# Outlier Treatment\n",
    "a=0\n",
    "for i in range(len(df)):\n",
    "    if df.loc[i,\"Num_Credit_Card\"]>11.5 or df.loc[i,\"Num_Credit_Card\"]<1:\n",
    "        df.loc[i,\"Num_Credit_Card\"]=df[\"Num_Credit_Card\"].median()"
   ]
  },
  {
   "cell_type": "code",
   "execution_count": 303,
   "id": "980378cb",
   "metadata": {},
   "outputs": [
    {
     "data": {
      "text/plain": [
       "<Axes: >"
      ]
     },
     "execution_count": 303,
     "metadata": {},
     "output_type": "execute_result"
    },
    {
     "data": {
      "image/png": "[encoded data removed]",
      "text/plain": [
       "<Figure size 640x480 with 1 Axes>"
      ]
     },
     "metadata": {},
     "output_type": "display_data"
    }
   ],
   "source": [
    "df.boxplot(\"Num_Credit_Card\")"
   ]
  },
  {
   "cell_type": "code",
   "execution_count": 304,
   "id": "1587f85e",
   "metadata": {},
   "outputs": [
    {
     "data": {
      "text/plain": [
       "dtype('int64')"
      ]
     },
     "execution_count": 304,
     "metadata": {},
     "output_type": "execute_result"
    }
   ],
   "source": [
    "df[\"Num_Credit_Card\"].dtypes"
   ]
  },
  {
   "cell_type": "markdown",
   "id": "a47c313f",
   "metadata": {},
   "source": [
    "## Working on df[\"Interest_Rate\"]"
   ]
  },
  {
   "cell_type": "code",
   "execution_count": 305,
   "id": "dbbf069a",
   "metadata": {},
   "outputs": [
    {
     "data": {
      "text/plain": [
       "dtype('int64')"
      ]
     },
     "execution_count": 305,
     "metadata": {},
     "output_type": "execute_result"
    }
   ],
   "source": [
    "df[\"Interest_Rate\"].dtypes"
   ]
  },
  {
   "cell_type": "code",
   "execution_count": 306,
   "id": "40dbed23",
   "metadata": {},
   "outputs": [
    {
     "data": {
      "text/plain": [
       "array([   3,    6,    8, ..., 1347,  387, 5729], dtype=int64)"
      ]
     },
     "execution_count": 306,
     "metadata": {},
     "output_type": "execute_result"
    }
   ],
   "source": [
    "df[\"Interest_Rate\"].unique()"
   ]
  },
  {
   "cell_type": "code",
   "execution_count": 307,
   "id": "36f69904",
   "metadata": {},
   "outputs": [
    {
     "data": {
      "text/plain": [
       "0"
      ]
     },
     "execution_count": 307,
     "metadata": {},
     "output_type": "execute_result"
    }
   ],
   "source": [
    "df[\"Interest_Rate\"].isnull().sum()"
   ]
  },
  {
   "cell_type": "code",
   "execution_count": 308,
   "id": "e342f7ed",
   "metadata": {},
   "outputs": [
    {
     "data": {
      "text/plain": [
       "<Axes: >"
      ]
     },
     "execution_count": 308,
     "metadata": {},
     "output_type": "execute_result"
    },
    {
     "data": {
      "image/png": "[encoded data removed]",
      "text/plain": [
       "<Figure size 640x480 with 1 Axes>"
      ]
     },
     "metadata": {},
     "output_type": "display_data"
    }
   ],
   "source": [
    "df.boxplot(\"Interest_Rate\")"
   ]
  },
  {
   "cell_type": "code",
   "execution_count": 309,
   "id": "70d1ab9d",
   "metadata": {},
   "outputs": [
    {
     "name": "stdout",
     "output_type": "stream",
     "text": [
      "Minimum 1\n",
      "Maximum 5797\n",
      "Range 5796\n",
      "uf= 38.0    lf= -10.0\n"
     ]
    },
    {
     "data": {
      "text/plain": [
       "(38.0, -10.0)"
      ]
     },
     "execution_count": 309,
     "metadata": {},
     "output_type": "execute_result"
    }
   ],
   "source": [
    "uflf(df[\"Interest_Rate\"])"
   ]
  },
  {
   "cell_type": "code",
   "execution_count": 310,
   "id": "3192b21c",
   "metadata": {},
   "outputs": [
    {
     "data": {
      "text/plain": [
       "2034"
      ]
     },
     "execution_count": 310,
     "metadata": {},
     "output_type": "execute_result"
    }
   ],
   "source": [
    "# No. of Outliers\n",
    "a=0\n",
    "for i in range(len(df)):\n",
    "    if df.loc[i,\"Interest_Rate\"]>38 or df.loc[i,\"Interest_Rate\"]<1:\n",
    "        a=a+1\n",
    "a"
   ]
  },
  {
   "cell_type": "code",
   "execution_count": 311,
   "id": "6ff85730",
   "metadata": {},
   "outputs": [
    {
     "name": "stdout",
     "output_type": "stream",
     "text": [
      "72.46604\n",
      "13.0\n"
     ]
    }
   ],
   "source": [
    "print(df[\"Interest_Rate\"].mean())\n",
    "print(df[\"Interest_Rate\"].median())"
   ]
  },
  {
   "cell_type": "code",
   "execution_count": 312,
   "id": "ca935b0b",
   "metadata": {},
   "outputs": [],
   "source": [
    "# Outlier Treatment\n",
    "for i in range(len(df)):\n",
    "    if df.loc[i,\"Interest_Rate\"]>38 or df.loc[i,\"Interest_Rate\"]<1:\n",
    "        df.loc[i,\"Interest_Rate\"]=df[\"Interest_Rate\"].median()"
   ]
  },
  {
   "cell_type": "code",
   "execution_count": 313,
   "id": "2ab12cfd",
   "metadata": {},
   "outputs": [
    {
     "data": {
      "text/plain": [
       "<Axes: >"
      ]
     },
     "execution_count": 313,
     "metadata": {},
     "output_type": "execute_result"
    },
    {
     "data": {
      "image/png": "[encoded data removed]",
      "text/plain": [
       "<Figure size 640x480 with 1 Axes>"
      ]
     },
     "metadata": {},
     "output_type": "display_data"
    }
   ],
   "source": [
    "df.boxplot(\"Interest_Rate\")"
   ]
  },
  {
   "cell_type": "code",
   "execution_count": null,
   "id": "5153faa8",
   "metadata": {},
   "outputs": [],
   "source": []
  },
  {
   "cell_type": "markdown",
   "id": "99b01a4e",
   "metadata": {},
   "source": [
    "## Working On df[\"Num_of_Loan\"]"
   ]
  },
  {
   "cell_type": "code",
   "execution_count": 314,
   "id": "0534e001",
   "metadata": {},
   "outputs": [
    {
     "data": {
      "text/plain": [
       "434"
      ]
     },
     "execution_count": 314,
     "metadata": {},
     "output_type": "execute_result"
    }
   ],
   "source": [
    "df[\"Num_of_Loan\"].nunique()"
   ]
  },
  {
   "cell_type": "code",
   "execution_count": 315,
   "id": "25097af9",
   "metadata": {},
   "outputs": [
    {
     "data": {
      "text/plain": [
       "0"
      ]
     },
     "execution_count": 315,
     "metadata": {},
     "output_type": "execute_result"
    }
   ],
   "source": [
    "df[\"Num_of_Loan\"].isnull().sum()"
   ]
  },
  {
   "cell_type": "code",
   "execution_count": 316,
   "id": "34c42983",
   "metadata": {},
   "outputs": [
    {
     "data": {
      "text/plain": [
       "dtype('O')"
      ]
     },
     "execution_count": 316,
     "metadata": {},
     "output_type": "execute_result"
    }
   ],
   "source": [
    "df[\"Num_of_Loan\"].dtypes"
   ]
  },
  {
   "cell_type": "code",
   "execution_count": 317,
   "id": "aeee7d90",
   "metadata": {},
   "outputs": [],
   "source": [
    "df[\"Num_of_Loan\"]=df[\"Num_of_Loan\"].astype('str')"
   ]
  },
  {
   "cell_type": "code",
   "execution_count": 318,
   "id": "3c6c6de0",
   "metadata": {},
   "outputs": [],
   "source": [
    "df[\"Num_of_Loan\"]=df[\"Num_of_Loan\"].str.replace(\"_\",\"\").astype('float')"
   ]
  },
  {
   "cell_type": "code",
   "execution_count": 319,
   "id": "cc0ce892",
   "metadata": {},
   "outputs": [
    {
     "data": {
      "text/plain": [
       "<Axes: >"
      ]
     },
     "execution_count": 319,
     "metadata": {},
     "output_type": "execute_result"
    },
    {
     "data": {
      "image/png": "[encoded data removed]",
      "text/plain": [
       "<Figure size 640x480 with 1 Axes>"
      ]
     },
     "metadata": {},
     "output_type": "display_data"
    }
   ],
   "source": [
    "df.boxplot('Num_of_Loan')"
   ]
  },
  {
   "cell_type": "code",
   "execution_count": 320,
   "id": "78436416",
   "metadata": {},
   "outputs": [
    {
     "name": "stdout",
     "output_type": "stream",
     "text": [
      "Minimum -100.0\n",
      "Maximum 1496.0\n",
      "Range 1596.0\n",
      "uf= 11.0    lf= -5.0\n"
     ]
    },
    {
     "data": {
      "text/plain": [
       "(11.0, -5.0)"
      ]
     },
     "execution_count": 320,
     "metadata": {},
     "output_type": "execute_result"
    }
   ],
   "source": [
    "uflf(df[\"Num_of_Loan\"])"
   ]
  },
  {
   "cell_type": "code",
   "execution_count": 321,
   "id": "b97dd8bb",
   "metadata": {},
   "outputs": [
    {
     "data": {
      "text/plain": [
       "4348"
      ]
     },
     "execution_count": 321,
     "metadata": {},
     "output_type": "execute_result"
    }
   ],
   "source": [
    "# No. of Outliers = approx 4.5% of total data\n",
    "a=0\n",
    "for i in range(len(df)):\n",
    "    if df.loc[i,\"Num_of_Loan\"]>11 or df.loc[i,\"Num_of_Loan\"]<0:\n",
    "        a=a+1\n",
    "a"
   ]
  },
  {
   "cell_type": "code",
   "execution_count": 322,
   "id": "fe67258b",
   "metadata": {},
   "outputs": [
    {
     "name": "stdout",
     "output_type": "stream",
     "text": [
      "3.00996\n",
      "3.0\n"
     ]
    }
   ],
   "source": [
    "print(df[\"Num_of_Loan\"].mean())\n",
    "print(df[\"Num_of_Loan\"].median())"
   ]
  },
  {
   "cell_type": "code",
   "execution_count": 323,
   "id": "ee2e5ba0",
   "metadata": {},
   "outputs": [],
   "source": [
    "# Outlier Treatment\n",
    "for i in range(len(df)):\n",
    "    if df.loc[i,\"Num_of_Loan\"]>38 or df.loc[i,\"Num_of_Loan\"]<1:\n",
    "        df.loc[i,\"Num_of_Loan\"]=df[\"Num_of_Loan\"].median()"
   ]
  },
  {
   "cell_type": "code",
   "execution_count": 324,
   "id": "7ef4c0ec",
   "metadata": {},
   "outputs": [
    {
     "data": {
      "text/plain": [
       "<Axes: >"
      ]
     },
     "execution_count": 324,
     "metadata": {},
     "output_type": "execute_result"
    },
    {
     "data": {
      "image/png": "[encoded data removed]",
      "text/plain": [
       "<Figure size 640x480 with 1 Axes>"
      ]
     },
     "metadata": {},
     "output_type": "display_data"
    }
   ],
   "source": [
    "df.boxplot('Num_of_Loan')"
   ]
  },
  {
   "cell_type": "code",
   "execution_count": null,
   "id": "ab2aa903",
   "metadata": {},
   "outputs": [],
   "source": []
  },
  {
   "cell_type": "markdown",
   "id": "92ba0bf4",
   "metadata": {},
   "source": [
    "## Working on df[\"Type_of_Loan\"]"
   ]
  },
  {
   "cell_type": "code",
   "execution_count": 325,
   "id": "faa03007",
   "metadata": {},
   "outputs": [
    {
     "data": {
      "text/plain": [
       "6260"
      ]
     },
     "execution_count": 325,
     "metadata": {},
     "output_type": "execute_result"
    }
   ],
   "source": [
    "df[\"Type_of_Loan\"].nunique()"
   ]
  },
  {
   "cell_type": "code",
   "execution_count": 326,
   "id": "a537860b",
   "metadata": {},
   "outputs": [
    {
     "data": {
      "text/plain": [
       "Not Specified                                                                                                                         1408\n",
       "Credit-Builder Loan                                                                                                                   1280\n",
       "Personal Loan                                                                                                                         1272\n",
       "Debt Consolidation Loan                                                                                                               1264\n",
       "Student Loan                                                                                                                          1240\n",
       "                                                                                                                                      ... \n",
       "Not Specified, Mortgage Loan, Auto Loan, and Payday Loan                                                                                 8\n",
       "Payday Loan, Mortgage Loan, Debt Consolidation Loan, and Student Loan                                                                    8\n",
       "Debt Consolidation Loan, Auto Loan, Personal Loan, Debt Consolidation Loan, Student Loan, and Credit-Builder Loan                        8\n",
       "Student Loan, Auto Loan, Student Loan, Credit-Builder Loan, Home Equity Loan, Debt Consolidation Loan, and Debt Consolidation Loan       8\n",
       "Personal Loan, Auto Loan, Mortgage Loan, Student Loan, and Student Loan                                                                  8\n",
       "Name: Type_of_Loan, Length: 6260, dtype: int64"
      ]
     },
     "execution_count": 326,
     "metadata": {},
     "output_type": "execute_result"
    }
   ],
   "source": [
    "df[\"Type_of_Loan\"].value_counts()"
   ]
  },
  {
   "cell_type": "code",
   "execution_count": 327,
   "id": "e40d528f",
   "metadata": {},
   "outputs": [
    {
     "data": {
      "text/plain": [
       "11408"
      ]
     },
     "execution_count": 327,
     "metadata": {},
     "output_type": "execute_result"
    }
   ],
   "source": [
    "df[\"Type_of_Loan\"].isnull().sum()"
   ]
  },
  {
   "cell_type": "code",
   "execution_count": 328,
   "id": "32bd6be4",
   "metadata": {},
   "outputs": [],
   "source": [
    "df.Type_of_Loan.fillna(\"Not Specified\",inplace=True)"
   ]
  },
  {
   "cell_type": "code",
   "execution_count": 329,
   "id": "c1cf5944",
   "metadata": {},
   "outputs": [
    {
     "data": {
      "text/plain": [
       "0"
      ]
     },
     "execution_count": 329,
     "metadata": {},
     "output_type": "execute_result"
    }
   ],
   "source": [
    "df[\"Type_of_Loan\"].isnull().sum()"
   ]
  },
  {
   "cell_type": "code",
   "execution_count": 330,
   "id": "7abebf73",
   "metadata": {},
   "outputs": [
    {
     "data": {
      "text/plain": [
       "0    Not Specified\n",
       "Name: Type_of_Loan, dtype: object"
      ]
     },
     "execution_count": 330,
     "metadata": {},
     "output_type": "execute_result"
    }
   ],
   "source": [
    "df[\"Type_of_Loan\"].mode()"
   ]
  },
  {
   "cell_type": "code",
   "execution_count": 331,
   "id": "e42621e4",
   "metadata": {},
   "outputs": [
    {
     "name": "stdout",
     "output_type": "stream",
     "text": [
      "['Auto Loan'\n",
      " 'Auto Loan, Auto Loan, Auto Loan, Auto Loan, Credit-Builder Loan, Credit-Builder Loan, Mortgage Loan, and Personal Loan'\n",
      " 'Auto Loan, Auto Loan, Auto Loan, Auto Loan, Student Loan, and Student Loan'\n",
      " ... 'Student Loan, and Payday Loan' 'Student Loan, and Personal Loan'\n",
      " 'Student Loan, and Student Loan']\n"
     ]
    }
   ],
   "source": [
    "# Considering it an ordinal data\n",
    "\n",
    "Loantype_encoder=LabelEncoder()\n",
    "Loantype_encoder.fit(df['Type_of_Loan'])\n",
    "print(Loantype_encoder.classes_)"
   ]
  },
  {
   "cell_type": "code",
   "execution_count": 332,
   "id": "bb68c478",
   "metadata": {},
   "outputs": [],
   "source": [
    "df['Type_of_Loan']=Loantype_encoder.transform(df['Type_of_Loan'])"
   ]
  },
  {
   "cell_type": "code",
   "execution_count": null,
   "id": "5bb58a2e",
   "metadata": {},
   "outputs": [],
   "source": []
  },
  {
   "cell_type": "markdown",
   "id": "7f13ff56",
   "metadata": {},
   "source": [
    "## Working on df[\"Delay_from_due_date \"]"
   ]
  },
  {
   "cell_type": "code",
   "execution_count": 333,
   "id": "afda607f",
   "metadata": {},
   "outputs": [
    {
     "data": {
      "text/plain": [
       "dtype('int64')"
      ]
     },
     "execution_count": 333,
     "metadata": {},
     "output_type": "execute_result"
    }
   ],
   "source": [
    "df[\"Delay_from_due_date\"].dtypes"
   ]
  },
  {
   "cell_type": "code",
   "execution_count": 334,
   "id": "9e7793a5",
   "metadata": {},
   "outputs": [
    {
     "data": {
      "text/plain": [
       "73"
      ]
     },
     "execution_count": 334,
     "metadata": {},
     "output_type": "execute_result"
    }
   ],
   "source": [
    "df[\"Delay_from_due_date\"].nunique()"
   ]
  },
  {
   "cell_type": "code",
   "execution_count": 335,
   "id": "96a896b3",
   "metadata": {},
   "outputs": [
    {
     "data": {
      "text/plain": [
       "<Axes: >"
      ]
     },
     "execution_count": 335,
     "metadata": {},
     "output_type": "execute_result"
    },
    {
     "data": {
      "image/png": "[encoded data removed]",
      "text/plain": [
       "<Figure size 640x480 with 1 Axes>"
      ]
     },
     "metadata": {},
     "output_type": "display_data"
    }
   ],
   "source": [
    "df.boxplot('Delay_from_due_date')"
   ]
  },
  {
   "cell_type": "code",
   "execution_count": 336,
   "id": "6daa40dd",
   "metadata": {},
   "outputs": [
    {
     "name": "stdout",
     "output_type": "stream",
     "text": [
      "Minimum -5\n",
      "Maximum 67\n",
      "Range 72\n",
      "uf= 55.0    lf= -17.0\n"
     ]
    },
    {
     "data": {
      "text/plain": [
       "(55.0, -17.0)"
      ]
     },
     "execution_count": 336,
     "metadata": {},
     "output_type": "execute_result"
    }
   ],
   "source": [
    "uflf(df[\"Delay_from_due_date\"])"
   ]
  },
  {
   "cell_type": "code",
   "execution_count": 337,
   "id": "08b8f959",
   "metadata": {},
   "outputs": [
    {
     "data": {
      "text/plain": [
       "63731"
      ]
     },
     "execution_count": 337,
     "metadata": {},
     "output_type": "execute_result"
    }
   ],
   "source": [
    "# No. of Outliers = approx 4.5% of total data\n",
    "a=0\n",
    "for i in range(len(df)):\n",
    "    if df.loc[i,\"Delay_from_due_date\"]>uf or df.loc[i,\"Delay_from_due_date\"]<0:\n",
    "        a=a+1\n",
    "a"
   ]
  },
  {
   "cell_type": "code",
   "execution_count": 338,
   "id": "eaa45dd4",
   "metadata": {},
   "outputs": [
    {
     "name": "stdout",
     "output_type": "stream",
     "text": [
      "21.06878\n",
      "18.0\n"
     ]
    }
   ],
   "source": [
    "print(df[\"Delay_from_due_date\"].mean())\n",
    "print(df[\"Delay_from_due_date\"].median())"
   ]
  },
  {
   "cell_type": "code",
   "execution_count": 339,
   "id": "6d210511",
   "metadata": {},
   "outputs": [],
   "source": [
    "for i in range(len(df)):\n",
    "    if df.loc[i,\"Delay_from_due_date\"]>38 or df.loc[i,\"Delay_from_due_date\"]<1:\n",
    "        df.loc[i,\"Delay_from_due_date\"]=df[\"Delay_from_due_date\"].mean()"
   ]
  },
  {
   "cell_type": "code",
   "execution_count": 340,
   "id": "7735a94d",
   "metadata": {},
   "outputs": [
    {
     "data": {
      "text/plain": [
       "<Axes: >"
      ]
     },
     "execution_count": 340,
     "metadata": {},
     "output_type": "execute_result"
    },
    {
     "data": {
      "image/png": "[encoded data removed]",
      "text/plain": [
       "<Figure size 640x480 with 1 Axes>"
      ]
     },
     "metadata": {},
     "output_type": "display_data"
    }
   ],
   "source": [
    "df.boxplot('Delay_from_due_date')"
   ]
  },
  {
   "cell_type": "code",
   "execution_count": null,
   "id": "ea716d00",
   "metadata": {},
   "outputs": [],
   "source": []
  },
  {
   "cell_type": "markdown",
   "id": "44b70397",
   "metadata": {},
   "source": [
    "## Working on df[\"Num_of_Delayed_Payment\"]"
   ]
  },
  {
   "cell_type": "code",
   "execution_count": 341,
   "id": "579c6c22",
   "metadata": {},
   "outputs": [
    {
     "data": {
      "text/plain": [
       "dtype('O')"
      ]
     },
     "execution_count": 341,
     "metadata": {},
     "output_type": "execute_result"
    }
   ],
   "source": [
    "df[\"Num_of_Delayed_Payment\"].dtypes"
   ]
  },
  {
   "cell_type": "code",
   "execution_count": 342,
   "id": "0815da5e",
   "metadata": {},
   "outputs": [
    {
     "data": {
      "text/plain": [
       "7002"
      ]
     },
     "execution_count": 342,
     "metadata": {},
     "output_type": "execute_result"
    }
   ],
   "source": [
    "df[\"Num_of_Delayed_Payment\"].isnull().sum()"
   ]
  },
  {
   "cell_type": "code",
   "execution_count": 343,
   "id": "490746ae",
   "metadata": {},
   "outputs": [
    {
     "data": {
      "text/plain": [
       "749"
      ]
     },
     "execution_count": 343,
     "metadata": {},
     "output_type": "execute_result"
    }
   ],
   "source": [
    "df[\"Num_of_Delayed_Payment\"].nunique()"
   ]
  },
  {
   "cell_type": "code",
   "execution_count": 344,
   "id": "95a3496f",
   "metadata": {},
   "outputs": [],
   "source": [
    "df[\"Num_of_Delayed_Payment\"]=df[\"Num_of_Delayed_Payment\"].str.replace(\"_\",\"\").astype(float)"
   ]
  },
  {
   "cell_type": "code",
   "execution_count": 345,
   "id": "abd4a3ac",
   "metadata": {},
   "outputs": [
    {
     "data": {
      "text/plain": [
       "<Axes: >"
      ]
     },
     "execution_count": 345,
     "metadata": {},
     "output_type": "execute_result"
    },
    {
     "data": {
      "image/png": "[encoded data removed]",
      "text/plain": [
       "<Figure size 640x480 with 1 Axes>"
      ]
     },
     "metadata": {},
     "output_type": "display_data"
    }
   ],
   "source": [
    "df.boxplot(\"Num_of_Delayed_Payment\")"
   ]
  },
  {
   "cell_type": "code",
   "execution_count": 346,
   "id": "0b8e543c",
   "metadata": {},
   "outputs": [
    {
     "name": "stdout",
     "output_type": "stream",
     "text": [
      "Minimum -3.0\n",
      "Maximum 4397.0\n",
      "Range 4400.0\n",
      "uf= 31.5    lf= -4.5\n"
     ]
    }
   ],
   "source": [
    "uf,lf=uflf(df[\"Num_of_Delayed_Payment\"])"
   ]
  },
  {
   "cell_type": "code",
   "execution_count": 347,
   "id": "76f0ed4c",
   "metadata": {},
   "outputs": [
    {
     "data": {
      "text/plain": [
       "1380"
      ]
     },
     "execution_count": 347,
     "metadata": {},
     "output_type": "execute_result"
    }
   ],
   "source": [
    "# No. of Outliers = approx 0.7% of total data\n",
    "a=0\n",
    "for i in range(len(df)):\n",
    "    if df.loc[i,\"Num_of_Delayed_Payment\"]>uf or df.loc[i,\"Num_of_Delayed_Payment\"]<0:\n",
    "        a=a+1\n",
    "a"
   ]
  },
  {
   "cell_type": "code",
   "execution_count": 348,
   "id": "9d7abd2a",
   "metadata": {},
   "outputs": [],
   "source": [
    "# No. of Outliers + Total No. of Missing Values = 7646 that is about 7.7% of total data"
   ]
  },
  {
   "cell_type": "code",
   "execution_count": 349,
   "id": "1825db4d",
   "metadata": {},
   "outputs": [
    {
     "name": "stdout",
     "output_type": "stream",
     "text": [
      "30.923342437471774\n",
      "14.0\n"
     ]
    }
   ],
   "source": [
    "print(df[\"Num_of_Delayed_Payment\"].mean())\n",
    "print(df[\"Num_of_Delayed_Payment\"].median())"
   ]
  },
  {
   "cell_type": "code",
   "execution_count": 350,
   "id": "25b20f52",
   "metadata": {},
   "outputs": [],
   "source": [
    "for i in range(len(df)):\n",
    "    if df.loc[i,\"Num_of_Delayed_Payment\"]>uf or df.loc[i,\"Num_of_Delayed_Payment\"]<0:\n",
    "        df.loc[i,\"Num_of_Delayed_Payment\"]=df[\"Num_of_Delayed_Payment\"].mean()"
   ]
  },
  {
   "cell_type": "code",
   "execution_count": 351,
   "id": "1e5bada0",
   "metadata": {},
   "outputs": [],
   "source": [
    "df[\"Num_of_Delayed_Payment\"].fillna(df[\"Num_of_Delayed_Payment\"].median(),inplace=True)"
   ]
  },
  {
   "cell_type": "code",
   "execution_count": 352,
   "id": "417cb092",
   "metadata": {},
   "outputs": [
    {
     "data": {
      "text/plain": [
       "0"
      ]
     },
     "execution_count": 352,
     "metadata": {},
     "output_type": "execute_result"
    }
   ],
   "source": [
    "df[\"Num_of_Delayed_Payment\"].isnull().sum()"
   ]
  },
  {
   "cell_type": "code",
   "execution_count": 353,
   "id": "627d751c",
   "metadata": {},
   "outputs": [
    {
     "data": {
      "text/plain": [
       "<Axes: >"
      ]
     },
     "execution_count": 353,
     "metadata": {},
     "output_type": "execute_result"
    },
    {
     "data": {
      "image/png": "[encoded data removed]",
      "text/plain": [
       "<Figure size 640x480 with 1 Axes>"
      ]
     },
     "metadata": {},
     "output_type": "display_data"
    }
   ],
   "source": [
    "df.boxplot(\"Num_of_Delayed_Payment\")"
   ]
  },
  {
   "cell_type": "code",
   "execution_count": null,
   "id": "1f113b46",
   "metadata": {},
   "outputs": [],
   "source": []
  },
  {
   "cell_type": "markdown",
   "id": "30833fa1",
   "metadata": {},
   "source": [
    "## Working on df[\"Changed_Credit_Limit\"]"
   ]
  },
  {
   "cell_type": "code",
   "execution_count": 354,
   "id": "353a71a0",
   "metadata": {},
   "outputs": [
    {
     "data": {
      "text/plain": [
       "0"
      ]
     },
     "execution_count": 354,
     "metadata": {},
     "output_type": "execute_result"
    }
   ],
   "source": [
    "df[\"Changed_Credit_Limit\"].isnull().sum()"
   ]
  },
  {
   "cell_type": "code",
   "execution_count": 355,
   "id": "bf5c1bd5",
   "metadata": {},
   "outputs": [
    {
     "data": {
      "text/plain": [
       "dtype('O')"
      ]
     },
     "execution_count": 355,
     "metadata": {},
     "output_type": "execute_result"
    }
   ],
   "source": [
    "df[\"Changed_Credit_Limit\"].dtypes"
   ]
  },
  {
   "cell_type": "code",
   "execution_count": 356,
   "id": "b522decf",
   "metadata": {},
   "outputs": [
    {
     "data": {
      "text/plain": [
       "4384"
      ]
     },
     "execution_count": 356,
     "metadata": {},
     "output_type": "execute_result"
    }
   ],
   "source": [
    "df[\"Changed_Credit_Limit\"].nunique()"
   ]
  },
  {
   "cell_type": "code",
   "execution_count": 357,
   "id": "0e323853",
   "metadata": {},
   "outputs": [
    {
     "data": {
      "text/plain": [
       "_                     2091\n",
       "8.22                   133\n",
       "11.5                   127\n",
       "11.32                  126\n",
       "7.35                   121\n",
       "                      ... \n",
       "-1.84                    1\n",
       "0.8899999999999999       1\n",
       "28.06                    1\n",
       "1.5599999999999996       1\n",
       "21.17                    1\n",
       "Name: Changed_Credit_Limit, Length: 4384, dtype: int64"
      ]
     },
     "execution_count": 357,
     "metadata": {},
     "output_type": "execute_result"
    }
   ],
   "source": [
    "df[\"Changed_Credit_Limit\"].value_counts()"
   ]
  },
  {
   "cell_type": "code",
   "execution_count": 358,
   "id": "61d7ed0a",
   "metadata": {},
   "outputs": [],
   "source": [
    "li=list(df[\"Changed_Credit_Limit\"])"
   ]
  },
  {
   "cell_type": "code",
   "execution_count": 359,
   "id": "65a0a73c",
   "metadata": {},
   "outputs": [
    {
     "data": {
      "text/plain": [
       "2091"
      ]
     },
     "execution_count": 359,
     "metadata": {},
     "output_type": "execute_result"
    }
   ],
   "source": [
    "ccl=[]\n",
    "count=0\n",
    "for i in li:\n",
    "    if i!=\"_\":\n",
    "        ccl.append(float(i))\n",
    "    else:\n",
    "        count=count+1\n",
    "count           #2% of total data to be treated"
   ]
  },
  {
   "cell_type": "code",
   "execution_count": 360,
   "id": "37347c2a",
   "metadata": {},
   "outputs": [
    {
     "data": {
      "text/plain": [
       "{'whiskers': [<matplotlib.lines.Line2D at 0x21559f80c70>,\n",
       "  <matplotlib.lines.Line2D at 0x21559f80f10>],\n",
       " 'caps': [<matplotlib.lines.Line2D at 0x21559f811b0>,\n",
       "  <matplotlib.lines.Line2D at 0x21559f81330>],\n",
       " 'boxes': [<matplotlib.lines.Line2D at 0x21559f809d0>],\n",
       " 'medians': [<matplotlib.lines.Line2D at 0x21559f815d0>],\n",
       " 'fliers': [<matplotlib.lines.Line2D at 0x21559f81870>],\n",
       " 'means': []}"
      ]
     },
     "execution_count": 360,
     "metadata": {},
     "output_type": "execute_result"
    },
    {
     "data": {
      "image/png": "[encoded data removed]",
      "text/plain": [
       "<Figure size 640x480 with 1 Axes>"
      ]
     },
     "metadata": {},
     "output_type": "display_data"
    }
   ],
   "source": [
    "plt.boxplot(ccl)"
   ]
  },
  {
   "cell_type": "code",
   "execution_count": 361,
   "id": "cb81bf50",
   "metadata": {},
   "outputs": [
    {
     "name": "stdout",
     "output_type": "stream",
     "text": [
      "Minimum -6.49\n",
      "Maximum 36.97\n",
      "Range 43.46\n",
      "uf= 29.195    lf= -9.004999999999999\n"
     ]
    }
   ],
   "source": [
    "uf,lf=uflf(ccl)"
   ]
  },
  {
   "cell_type": "code",
   "execution_count": 362,
   "id": "93cd8e35",
   "metadata": {},
   "outputs": [
    {
     "data": {
      "text/plain": [
       "10.389025115157953"
      ]
     },
     "execution_count": 362,
     "metadata": {},
     "output_type": "execute_result"
    }
   ],
   "source": [
    "avg_Changed_Credit_Limit=np.mean(ccl)\n",
    "avg_Changed_Credit_Limit"
   ]
  },
  {
   "cell_type": "code",
   "execution_count": 363,
   "id": "016b0f3e",
   "metadata": {},
   "outputs": [
    {
     "data": {
      "text/plain": [
       "9.4"
      ]
     },
     "execution_count": 363,
     "metadata": {},
     "output_type": "execute_result"
    }
   ],
   "source": [
    "np.median(ccl)"
   ]
  },
  {
   "cell_type": "code",
   "execution_count": 364,
   "id": "fb3067a9",
   "metadata": {},
   "outputs": [],
   "source": [
    "#Data Treatment\n",
    "for i in range(len(df)):\n",
    "    if df.loc[i,\"Changed_Credit_Limit\"]==\"_\":\n",
    "        df.loc[i,\"Changed_Credit_Limit\"]=avg_Changed_Credit_Limit"
   ]
  },
  {
   "cell_type": "code",
   "execution_count": 365,
   "id": "156940f1",
   "metadata": {},
   "outputs": [],
   "source": [
    "df[\"Changed_Credit_Limit\"]=df[\"Changed_Credit_Limit\"].astype(float)"
   ]
  },
  {
   "cell_type": "code",
   "execution_count": 366,
   "id": "a19198af",
   "metadata": {},
   "outputs": [
    {
     "data": {
      "text/plain": [
       "795"
      ]
     },
     "execution_count": 366,
     "metadata": {},
     "output_type": "execute_result"
    }
   ],
   "source": [
    "# No. of Outliers = approx 0.8% of total data\n",
    "a=0\n",
    "for i in range(len(df)):\n",
    "    if df.loc[i,\"Changed_Credit_Limit\"]>29 or df.loc[i,\"Changed_Credit_Limit\"]<-8.44:\n",
    "        a=a+1\n",
    "a"
   ]
  },
  {
   "cell_type": "code",
   "execution_count": 367,
   "id": "12ff04f9",
   "metadata": {},
   "outputs": [],
   "source": [
    "for i in range(len(df)):\n",
    "    if df.loc[i,\"Changed_Credit_Limit\"]>uf or df.loc[i,\"Changed_Credit_Limit\"]<lf:\n",
    "        df.loc[i,\"Changed_Credit_Limit\"]=avg_Changed_Credit_Limit"
   ]
  },
  {
   "cell_type": "code",
   "execution_count": 368,
   "id": "7796e12d",
   "metadata": {},
   "outputs": [
    {
     "data": {
      "text/plain": [
       "<Axes: >"
      ]
     },
     "execution_count": 368,
     "metadata": {},
     "output_type": "execute_result"
    },
    {
     "data": {
      "image/png": "[encoded data removed]",
      "text/plain": [
       "<Figure size 640x480 with 1 Axes>"
      ]
     },
     "metadata": {},
     "output_type": "display_data"
    }
   ],
   "source": [
    "df.boxplot(\"Changed_Credit_Limit\")"
   ]
  },
  {
   "cell_type": "code",
   "execution_count": null,
   "id": "d65e1377",
   "metadata": {},
   "outputs": [],
   "source": []
  },
  {
   "cell_type": "markdown",
   "id": "8e9f720a",
   "metadata": {},
   "source": [
    "## Working on df[\"Num_Credit_Inquiries\"]"
   ]
  },
  {
   "cell_type": "code",
   "execution_count": 369,
   "id": "b5dd478f",
   "metadata": {},
   "outputs": [
    {
     "data": {
      "text/plain": [
       "dtype('float64')"
      ]
     },
     "execution_count": 369,
     "metadata": {},
     "output_type": "execute_result"
    }
   ],
   "source": [
    "df[\"Num_Credit_Inquiries\"].dtypes"
   ]
  },
  {
   "cell_type": "code",
   "execution_count": 370,
   "id": "f22c030d",
   "metadata": {},
   "outputs": [
    {
     "data": {
      "text/plain": [
       "1223"
      ]
     },
     "execution_count": 370,
     "metadata": {},
     "output_type": "execute_result"
    }
   ],
   "source": [
    "df[\"Num_Credit_Inquiries\"].nunique()"
   ]
  },
  {
   "cell_type": "code",
   "execution_count": 371,
   "id": "911757b1",
   "metadata": {},
   "outputs": [
    {
     "data": {
      "text/plain": [
       "1965"
      ]
     },
     "execution_count": 371,
     "metadata": {},
     "output_type": "execute_result"
    }
   ],
   "source": [
    "n_missing=df[\"Num_Credit_Inquiries\"].isnull().sum()\n",
    "n_missing"
   ]
  },
  {
   "cell_type": "code",
   "execution_count": 372,
   "id": "2b26010e",
   "metadata": {},
   "outputs": [
    {
     "data": {
      "text/plain": [
       "<Axes: >"
      ]
     },
     "execution_count": 372,
     "metadata": {},
     "output_type": "execute_result"
    },
    {
     "data": {
      "image/png": "[encoded data removed]",
      "text/plain": [
       "<Figure size 640x480 with 1 Axes>"
      ]
     },
     "metadata": {},
     "output_type": "display_data"
    }
   ],
   "source": [
    "df.boxplot(\"Num_Credit_Inquiries\")"
   ]
  },
  {
   "cell_type": "code",
   "execution_count": 373,
   "id": "702aaf9f",
   "metadata": {},
   "outputs": [
    {
     "name": "stdout",
     "output_type": "stream",
     "text": [
      "Minimum 0.0\n",
      "Maximum 2597.0\n",
      "Range 2597.0\n",
      "uf= 18.0    lf= -6.0\n"
     ]
    }
   ],
   "source": [
    "uf,lf=uflf(df[\"Num_Credit_Inquiries\"])"
   ]
  },
  {
   "cell_type": "code",
   "execution_count": 374,
   "id": "6883ce02",
   "metadata": {},
   "outputs": [
    {
     "data": {
      "text/plain": [
       "1650"
      ]
     },
     "execution_count": 374,
     "metadata": {},
     "output_type": "execute_result"
    }
   ],
   "source": [
    "# No. of Outliers = approx 0.8% of total data\n",
    "a=0\n",
    "for i in range(len(df)):\n",
    "    if df.loc[i,\"Num_Credit_Inquiries\"]>uf or df.loc[i,\"Num_Credit_Inquiries\"]<lf:\n",
    "        a=a+1\n",
    "a"
   ]
  },
  {
   "cell_type": "code",
   "execution_count": 375,
   "id": "ace22a3c",
   "metadata": {},
   "outputs": [
    {
     "name": "stdout",
     "output_type": "stream",
     "text": [
      "27.75425103279441\n",
      "6.0\n"
     ]
    }
   ],
   "source": [
    "print(df[\"Num_Credit_Inquiries\"].mean())\n",
    "print(df[\"Num_Credit_Inquiries\"].median())"
   ]
  },
  {
   "cell_type": "code",
   "execution_count": 376,
   "id": "46d357e5",
   "metadata": {},
   "outputs": [
    {
     "data": {
      "text/plain": [
       "3615"
      ]
     },
     "execution_count": 376,
     "metadata": {},
     "output_type": "execute_result"
    }
   ],
   "source": [
    "#Total No. of elements to be treated is approx 3.6% of total no. of rows\n",
    "total=n_missing+a\n",
    "total"
   ]
  },
  {
   "cell_type": "code",
   "execution_count": 377,
   "id": "33569575",
   "metadata": {},
   "outputs": [],
   "source": [
    "for i in range(len(df)):\n",
    "    if df.loc[i,\"Num_Credit_Inquiries\"]>uf or df.loc[i,\"Num_Credit_Inquiries\"]<lf:\n",
    "        df.loc[i,\"Num_Credit_Inquiries\"]=df[\"Num_Credit_Inquiries\"].median()"
   ]
  },
  {
   "cell_type": "code",
   "execution_count": 378,
   "id": "c77b6669",
   "metadata": {},
   "outputs": [],
   "source": [
    "df[\"Num_Credit_Inquiries\"].fillna(df[\"Num_Credit_Inquiries\"].median(),inplace=True)"
   ]
  },
  {
   "cell_type": "code",
   "execution_count": 379,
   "id": "8c4e2384",
   "metadata": {},
   "outputs": [
    {
     "data": {
      "text/plain": [
       "<Axes: >"
      ]
     },
     "execution_count": 379,
     "metadata": {},
     "output_type": "execute_result"
    },
    {
     "data": {
      "image/png": "[encoded data removed]",
      "text/plain": [
       "<Figure size 640x480 with 1 Axes>"
      ]
     },
     "metadata": {},
     "output_type": "display_data"
    }
   ],
   "source": [
    "df.boxplot(\"Num_Credit_Inquiries\")"
   ]
  },
  {
   "cell_type": "code",
   "execution_count": null,
   "id": "b429f4c8",
   "metadata": {},
   "outputs": [],
   "source": []
  },
  {
   "cell_type": "markdown",
   "id": "ca957b27",
   "metadata": {},
   "source": [
    "## Working on df[\"Credit_Mix\"]"
   ]
  },
  {
   "cell_type": "code",
   "execution_count": 380,
   "id": "6120d35d",
   "metadata": {},
   "outputs": [
    {
     "data": {
      "text/plain": [
       "dtype('O')"
      ]
     },
     "execution_count": 380,
     "metadata": {},
     "output_type": "execute_result"
    }
   ],
   "source": [
    "df[\"Credit_Mix\"].dtypes"
   ]
  },
  {
   "cell_type": "code",
   "execution_count": 381,
   "id": "07000056",
   "metadata": {},
   "outputs": [
    {
     "data": {
      "text/plain": [
       "array(['_', 'Good', 'Standard', 'Bad'], dtype=object)"
      ]
     },
     "execution_count": 381,
     "metadata": {},
     "output_type": "execute_result"
    }
   ],
   "source": [
    "df[\"Credit_Mix\"].unique()"
   ]
  },
  {
   "cell_type": "code",
   "execution_count": 382,
   "id": "48eee922",
   "metadata": {},
   "outputs": [
    {
     "data": {
      "text/plain": [
       "Standard    36479\n",
       "Good        24337\n",
       "_           20195\n",
       "Bad         18989\n",
       "Name: Credit_Mix, dtype: int64"
      ]
     },
     "execution_count": 382,
     "metadata": {},
     "output_type": "execute_result"
    }
   ],
   "source": [
    "df[\"Credit_Mix\"].value_counts()"
   ]
  },
  {
   "cell_type": "code",
   "execution_count": 383,
   "id": "f28dd684",
   "metadata": {},
   "outputs": [],
   "source": [
    "df[\"Credit_Mix\"]=df[\"Credit_Mix\"].replace(\"_\",\"unknown\")"
   ]
  },
  {
   "cell_type": "code",
   "execution_count": null,
   "id": "24d52bfd",
   "metadata": {},
   "outputs": [],
   "source": []
  },
  {
   "cell_type": "markdown",
   "id": "bb91fc31",
   "metadata": {},
   "source": [
    "## Working on df[\"Outstanding_Debt\"]"
   ]
  },
  {
   "cell_type": "code",
   "execution_count": 384,
   "id": "703d1823",
   "metadata": {},
   "outputs": [
    {
     "data": {
      "text/plain": [
       "dtype('O')"
      ]
     },
     "execution_count": 384,
     "metadata": {},
     "output_type": "execute_result"
    }
   ],
   "source": [
    "df[\"Outstanding_Debt\"].dtypes"
   ]
  },
  {
   "cell_type": "code",
   "execution_count": 385,
   "id": "4ffa5584",
   "metadata": {},
   "outputs": [
    {
     "data": {
      "text/plain": [
       "13178"
      ]
     },
     "execution_count": 385,
     "metadata": {},
     "output_type": "execute_result"
    }
   ],
   "source": [
    "df[\"Outstanding_Debt\"].nunique()"
   ]
  },
  {
   "cell_type": "code",
   "execution_count": 386,
   "id": "a8dca879",
   "metadata": {},
   "outputs": [
    {
     "data": {
      "text/plain": [
       "0"
      ]
     },
     "execution_count": 386,
     "metadata": {},
     "output_type": "execute_result"
    }
   ],
   "source": [
    "df[\"Outstanding_Debt\"].isnull().sum()"
   ]
  },
  {
   "cell_type": "code",
   "execution_count": 387,
   "id": "b746be12",
   "metadata": {},
   "outputs": [
    {
     "data": {
      "text/plain": [
       "'1303.01'"
      ]
     },
     "execution_count": 387,
     "metadata": {},
     "output_type": "execute_result"
    }
   ],
   "source": [
    "df[\"Outstanding_Debt\"][17]"
   ]
  },
  {
   "cell_type": "code",
   "execution_count": 388,
   "id": "5d8cdcb4",
   "metadata": {},
   "outputs": [
    {
     "data": {
      "text/plain": [
       "0        809.98\n",
       "1        809.98\n",
       "2        809.98\n",
       "3        809.98\n",
       "4        809.98\n",
       "          ...  \n",
       "99995    502.38\n",
       "99996    502.38\n",
       "99997    502.38\n",
       "99998    502.38\n",
       "99999    502.38\n",
       "Name: Outstanding_Debt, Length: 100000, dtype: float64"
      ]
     },
     "execution_count": 388,
     "metadata": {},
     "output_type": "execute_result"
    }
   ],
   "source": [
    "df[\"Outstanding_Debt\"].str.replace(\"_\",\"\").astype(float)"
   ]
  },
  {
   "cell_type": "code",
   "execution_count": 389,
   "id": "80b3050b",
   "metadata": {},
   "outputs": [],
   "source": [
    "df[\"Outstanding_Debt\"]=df[\"Outstanding_Debt\"].str.replace(\"_\",\"\").astype(float)"
   ]
  },
  {
   "cell_type": "code",
   "execution_count": 390,
   "id": "c880a4cf",
   "metadata": {},
   "outputs": [
    {
     "data": {
      "text/plain": [
       "dtype('float64')"
      ]
     },
     "execution_count": 390,
     "metadata": {},
     "output_type": "execute_result"
    }
   ],
   "source": [
    "df[\"Outstanding_Debt\"].dtypes"
   ]
  },
  {
   "cell_type": "code",
   "execution_count": 391,
   "id": "f9861170",
   "metadata": {},
   "outputs": [
    {
     "data": {
      "text/plain": [
       "<Axes: >"
      ]
     },
     "execution_count": 391,
     "metadata": {},
     "output_type": "execute_result"
    },
    {
     "data": {
      "image/png": "[encoded data removed]",
      "text/plain": [
       "<Figure size 640x480 with 1 Axes>"
      ]
     },
     "metadata": {},
     "output_type": "display_data"
    }
   ],
   "source": [
    "df.boxplot(\"Outstanding_Debt\")"
   ]
  },
  {
   "cell_type": "code",
   "execution_count": 392,
   "id": "7c59c4ef",
   "metadata": {},
   "outputs": [
    {
     "name": "stdout",
     "output_type": "stream",
     "text": [
      "Minimum 0.23\n",
      "Maximum 4998.07\n",
      "Range 4997.84\n",
      "uf= 4015.7975    lf= -1503.7625\n"
     ]
    }
   ],
   "source": [
    "uf,lf=uflf(df[\"Outstanding_Debt\"])"
   ]
  },
  {
   "cell_type": "code",
   "execution_count": 393,
   "id": "58aab0b6",
   "metadata": {},
   "outputs": [
    {
     "data": {
      "text/plain": [
       "5272"
      ]
     },
     "execution_count": 393,
     "metadata": {},
     "output_type": "execute_result"
    }
   ],
   "source": [
    "# No. of Outliers = approx 0.8% of total data\n",
    "a=0\n",
    "for i in range(len(df)):\n",
    "    if df.loc[i,\"Outstanding_Debt\"]>uf or df.loc[i,\"Outstanding_Debt\"]<lf:\n",
    "        a=a+1\n",
    "a"
   ]
  },
  {
   "cell_type": "code",
   "execution_count": 394,
   "id": "201a0b5c",
   "metadata": {},
   "outputs": [
    {
     "name": "stdout",
     "output_type": "stream",
     "text": [
      "1426.220376\n",
      "1166.155\n"
     ]
    }
   ],
   "source": [
    "print(df[\"Outstanding_Debt\"].mean())\n",
    "print(df[\"Outstanding_Debt\"].median())"
   ]
  },
  {
   "cell_type": "code",
   "execution_count": 395,
   "id": "70a022fa",
   "metadata": {},
   "outputs": [],
   "source": [
    "for i in range(len(df)):\n",
    "    if df.loc[i,\"Outstanding_Debt\"]>uf or df.loc[i,\"Outstanding_Debt\"]<lf:\n",
    "        df.loc[i,\"Outstanding_Debt\"]=df[\"Outstanding_Debt\"].mean()"
   ]
  },
  {
   "cell_type": "code",
   "execution_count": 396,
   "id": "c8b5dfd2",
   "metadata": {},
   "outputs": [
    {
     "data": {
      "text/plain": [
       "<Axes: >"
      ]
     },
     "execution_count": 396,
     "metadata": {},
     "output_type": "execute_result"
    },
    {
     "data": {
      "image/png": "[encoded data removed]",
      "text/plain": [
       "<Figure size 640x480 with 1 Axes>"
      ]
     },
     "metadata": {},
     "output_type": "display_data"
    }
   ],
   "source": [
    "df.boxplot(\"Outstanding_Debt\")"
   ]
  },
  {
   "cell_type": "code",
   "execution_count": null,
   "id": "16b4dea1",
   "metadata": {},
   "outputs": [],
   "source": []
  },
  {
   "cell_type": "markdown",
   "id": "117ed766",
   "metadata": {},
   "source": [
    "## Working on df[\"Credit_Utilization_Ratio\"]"
   ]
  },
  {
   "cell_type": "code",
   "execution_count": 397,
   "id": "fa3331e4",
   "metadata": {},
   "outputs": [
    {
     "data": {
      "text/plain": [
       "dtype('float64')"
      ]
     },
     "execution_count": 397,
     "metadata": {},
     "output_type": "execute_result"
    }
   ],
   "source": [
    "df[\"Credit_Utilization_Ratio\"].dtypes"
   ]
  },
  {
   "cell_type": "code",
   "execution_count": 398,
   "id": "0bca097f",
   "metadata": {},
   "outputs": [
    {
     "data": {
      "text/plain": [
       "100000"
      ]
     },
     "execution_count": 398,
     "metadata": {},
     "output_type": "execute_result"
    }
   ],
   "source": [
    "df[\"Credit_Utilization_Ratio\"].nunique()"
   ]
  },
  {
   "cell_type": "code",
   "execution_count": 399,
   "id": "fb9a8204",
   "metadata": {},
   "outputs": [
    {
     "data": {
      "text/plain": [
       "0"
      ]
     },
     "execution_count": 399,
     "metadata": {},
     "output_type": "execute_result"
    }
   ],
   "source": [
    "df[\"Credit_Utilization_Ratio\"].isnull().sum()"
   ]
  },
  {
   "cell_type": "code",
   "execution_count": 400,
   "id": "67a11de8",
   "metadata": {},
   "outputs": [
    {
     "data": {
      "text/plain": [
       "<Axes: >"
      ]
     },
     "execution_count": 400,
     "metadata": {},
     "output_type": "execute_result"
    },
    {
     "data": {
      "image/png": "[encoded data removed]",
      "text/plain": [
       "<Figure size 640x480 with 1 Axes>"
      ]
     },
     "metadata": {},
     "output_type": "display_data"
    }
   ],
   "source": [
    "df.boxplot(\"Credit_Utilization_Ratio\")"
   ]
  },
  {
   "cell_type": "code",
   "execution_count": 401,
   "id": "f249ce20",
   "metadata": {},
   "outputs": [
    {
     "name": "stdout",
     "output_type": "stream",
     "text": [
      "Minimum 20.0\n",
      "Maximum 50.00000000000001\n",
      "Range 30.000000000000007\n",
      "uf= 49.1628077980216    lf= 15.38642181919627\n"
     ]
    }
   ],
   "source": [
    "uf,lf=uflf(df[\"Credit_Utilization_Ratio\"])"
   ]
  },
  {
   "cell_type": "code",
   "execution_count": 402,
   "id": "49245c53",
   "metadata": {},
   "outputs": [
    {
     "data": {
      "text/plain": [
       "4"
      ]
     },
     "execution_count": 402,
     "metadata": {},
     "output_type": "execute_result"
    }
   ],
   "source": [
    "# No. of Outliers = approx 0.8% of total data\n",
    "a=0\n",
    "for i in range(len(df)):\n",
    "    if df.loc[i,\"Credit_Utilization_Ratio\"]>uf or df.loc[i,\"Credit_Utilization_Ratio\"]<lf:\n",
    "        a=a+1\n",
    "a"
   ]
  },
  {
   "cell_type": "code",
   "execution_count": 403,
   "id": "45cb3420",
   "metadata": {},
   "outputs": [
    {
     "name": "stdout",
     "output_type": "stream",
     "text": [
      "1258.970284852567\n",
      "1166.155\n"
     ]
    }
   ],
   "source": [
    "print(df[\"Outstanding_Debt\"].mean())\n",
    "print(df[\"Outstanding_Debt\"].median())"
   ]
  },
  {
   "cell_type": "code",
   "execution_count": 404,
   "id": "760da1b2",
   "metadata": {},
   "outputs": [],
   "source": [
    "for i in range(len(df)):\n",
    "    if df.loc[i,\"Credit_Utilization_Ratio\"]>uf or df.loc[i,\"Credit_Utilization_Ratio\"]<lf:\n",
    "        df.loc[i,\"Credit_Utilization_Ratio\"]=df[\"Credit_Utilization_Ratio\"].mean()"
   ]
  },
  {
   "cell_type": "code",
   "execution_count": 405,
   "id": "900580ed",
   "metadata": {},
   "outputs": [
    {
     "data": {
      "text/plain": [
       "<Axes: >"
      ]
     },
     "execution_count": 405,
     "metadata": {},
     "output_type": "execute_result"
    },
    {
     "data": {
      "image/png": "[encoded data removed]",
      "text/plain": [
       "<Figure size 640x480 with 1 Axes>"
      ]
     },
     "metadata": {},
     "output_type": "display_data"
    }
   ],
   "source": [
    "df.boxplot(\"Credit_Utilization_Ratio\")"
   ]
  },
  {
   "cell_type": "code",
   "execution_count": null,
   "id": "c9d7f1c2",
   "metadata": {},
   "outputs": [],
   "source": []
  },
  {
   "cell_type": "markdown",
   "id": "96b8653d",
   "metadata": {},
   "source": [
    "## Working on df[\"Credit_History_Age\"]"
   ]
  },
  {
   "cell_type": "code",
   "execution_count": 406,
   "id": "19ba9cf8",
   "metadata": {},
   "outputs": [
    {
     "data": {
      "text/plain": [
       "dtype('O')"
      ]
     },
     "execution_count": 406,
     "metadata": {},
     "output_type": "execute_result"
    }
   ],
   "source": [
    "df[\"Credit_History_Age\"].dtypes"
   ]
  },
  {
   "cell_type": "code",
   "execution_count": 407,
   "id": "00bff0d9",
   "metadata": {},
   "outputs": [
    {
     "data": {
      "text/plain": [
       "404"
      ]
     },
     "execution_count": 407,
     "metadata": {},
     "output_type": "execute_result"
    }
   ],
   "source": [
    "df[\"Credit_History_Age\"].nunique()"
   ]
  },
  {
   "cell_type": "code",
   "execution_count": 408,
   "id": "07b2ba32",
   "metadata": {},
   "outputs": [
    {
     "data": {
      "text/plain": [
       "9030"
      ]
     },
     "execution_count": 408,
     "metadata": {},
     "output_type": "execute_result"
    }
   ],
   "source": [
    "df[\"Credit_History_Age\"].isnull().sum()"
   ]
  },
  {
   "cell_type": "code",
   "execution_count": 409,
   "id": "f3f05395",
   "metadata": {},
   "outputs": [
    {
     "data": {
      "text/plain": [
       "15 Years and 11 Months    446\n",
       "19 Years and 4 Months     445\n",
       "19 Years and 5 Months     444\n",
       "17 Years and 11 Months    443\n",
       "19 Years and 3 Months     441\n",
       "                         ... \n",
       "0 Years and 3 Months       20\n",
       "0 Years and 2 Months       15\n",
       "33 Years and 7 Months      14\n",
       "33 Years and 8 Months      12\n",
       "0 Years and 1 Months        2\n",
       "Name: Credit_History_Age, Length: 404, dtype: int64"
      ]
     },
     "execution_count": 409,
     "metadata": {},
     "output_type": "execute_result"
    }
   ],
   "source": [
    "df[\"Credit_History_Age\"].value_counts()"
   ]
  },
  {
   "cell_type": "code",
   "execution_count": 410,
   "id": "b18316c9",
   "metadata": {},
   "outputs": [
    {
     "data": {
      "text/plain": [
       "9030"
      ]
     },
     "execution_count": 410,
     "metadata": {},
     "output_type": "execute_result"
    }
   ],
   "source": [
    "df[\"Credit_History_Age\"].isnull().sum()          #null values are almost 9% of the Data"
   ]
  },
  {
   "cell_type": "code",
   "execution_count": 411,
   "id": "c5c202a2",
   "metadata": {},
   "outputs": [
    {
     "data": {
      "text/plain": [
       "'17 Years and 10 Months'"
      ]
     },
     "execution_count": 411,
     "metadata": {},
     "output_type": "execute_result"
    }
   ],
   "source": [
    "df[\"Credit_History_Age\"][17]"
   ]
  },
  {
   "cell_type": "code",
   "execution_count": 412,
   "id": "c384a8bc",
   "metadata": {},
   "outputs": [
    {
     "data": {
      "text/plain": [
       "'1'"
      ]
     },
     "execution_count": 412,
     "metadata": {},
     "output_type": "execute_result"
    }
   ],
   "source": [
    "s=\"17 Years and 10 Months\"\n",
    "s[13]"
   ]
  },
  {
   "cell_type": "code",
   "execution_count": 413,
   "id": "b3535020",
   "metadata": {},
   "outputs": [
    {
     "data": {
      "text/plain": [
       "214.0"
      ]
     },
     "execution_count": 413,
     "metadata": {},
     "output_type": "execute_result"
    }
   ],
   "source": [
    "s=\"17 Years and 10 Months\"\n",
    "p=s.split(\" \")\n",
    "(float(p[0])*12)+float(p[3])"
   ]
  },
  {
   "cell_type": "code",
   "execution_count": 414,
   "id": "e195f164",
   "metadata": {},
   "outputs": [],
   "source": [
    "for i in range(len(df)):\n",
    "    s=str(df.loc[i,\"Credit_History_Age\"])\n",
    "    p=s.split(\" \")\n",
    "    if len(p)>4:\n",
    "        df.loc[i,\"Credit_History_Age\"]=(float(p[0])*12)+float(p[3])"
   ]
  },
  {
   "cell_type": "code",
   "execution_count": 415,
   "id": "f489c605",
   "metadata": {},
   "outputs": [
    {
     "data": {
      "text/plain": [
       "214.0"
      ]
     },
     "execution_count": 415,
     "metadata": {},
     "output_type": "execute_result"
    }
   ],
   "source": [
    "df[\"Credit_History_Age\"][17]"
   ]
  },
  {
   "cell_type": "code",
   "execution_count": 416,
   "id": "350da62e",
   "metadata": {},
   "outputs": [
    {
     "data": {
      "text/plain": [
       "9030"
      ]
     },
     "execution_count": 416,
     "metadata": {},
     "output_type": "execute_result"
    }
   ],
   "source": [
    "df[\"Credit_History_Age\"].isnull().sum()  "
   ]
  },
  {
   "cell_type": "code",
   "execution_count": 417,
   "id": "ff7c6668",
   "metadata": {},
   "outputs": [
    {
     "data": {
      "text/plain": [
       "dtype('O')"
      ]
     },
     "execution_count": 417,
     "metadata": {},
     "output_type": "execute_result"
    }
   ],
   "source": [
    "df[\"Credit_History_Age\"].dtypes"
   ]
  },
  {
   "cell_type": "code",
   "execution_count": 418,
   "id": "f4895967",
   "metadata": {},
   "outputs": [],
   "source": [
    "df[\"Credit_History_Age\"]=df[\"Credit_History_Age\"].astype(float)"
   ]
  },
  {
   "cell_type": "code",
   "execution_count": 419,
   "id": "be6dd6a6",
   "metadata": {},
   "outputs": [
    {
     "data": {
      "text/plain": [
       "dtype('float64')"
      ]
     },
     "execution_count": 419,
     "metadata": {},
     "output_type": "execute_result"
    }
   ],
   "source": [
    "df[\"Credit_History_Age\"].dtypes"
   ]
  },
  {
   "cell_type": "code",
   "execution_count": 420,
   "id": "62ee290f",
   "metadata": {},
   "outputs": [
    {
     "name": "stdout",
     "output_type": "stream",
     "text": [
      "Minimum 1.0\n",
      "Maximum 404.0\n",
      "Range 403.0\n",
      "uf= 539.0    lf= -93.0\n"
     ]
    }
   ],
   "source": [
    "uf,lf=uflf(df[\"Credit_History_Age\"])"
   ]
  },
  {
   "cell_type": "code",
   "execution_count": 421,
   "id": "9e57f0c6",
   "metadata": {},
   "outputs": [
    {
     "data": {
      "text/plain": [
       "0"
      ]
     },
     "execution_count": 421,
     "metadata": {},
     "output_type": "execute_result"
    }
   ],
   "source": [
    "# No. of Outliers = approx 0.8% of total data\n",
    "a=0\n",
    "for i in range(len(df)):\n",
    "    if df.loc[i,\"Credit_History_Age\"]>uf or df.loc[i,\"Credit_History_Age\"]<lf:\n",
    "        a=a+1\n",
    "a"
   ]
  },
  {
   "cell_type": "code",
   "execution_count": 422,
   "id": "818de7c9",
   "metadata": {},
   "outputs": [
    {
     "name": "stdout",
     "output_type": "stream",
     "text": [
      "221.19540507859733\n",
      "219.0\n"
     ]
    }
   ],
   "source": [
    "print(df[\"Credit_History_Age\"].mean())\n",
    "print(df[\"Credit_History_Age\"].median())"
   ]
  },
  {
   "cell_type": "code",
   "execution_count": 423,
   "id": "b98e21f8",
   "metadata": {},
   "outputs": [],
   "source": [
    "df[\"Credit_History_Age\"].fillna(df[\"Credit_History_Age\"].mean(),inplace=True)"
   ]
  },
  {
   "cell_type": "code",
   "execution_count": 424,
   "id": "43abeec1",
   "metadata": {},
   "outputs": [
    {
     "data": {
      "text/plain": [
       "0"
      ]
     },
     "execution_count": 424,
     "metadata": {},
     "output_type": "execute_result"
    }
   ],
   "source": [
    "df[\"Credit_History_Age\"].isnull().sum()  "
   ]
  },
  {
   "cell_type": "markdown",
   "id": "c3dca407",
   "metadata": {},
   "source": [
    "## Working on df[\"Payment_of_Min_Amount\"]"
   ]
  },
  {
   "cell_type": "code",
   "execution_count": 425,
   "id": "08e9edef",
   "metadata": {},
   "outputs": [
    {
     "data": {
      "text/plain": [
       "dtype('O')"
      ]
     },
     "execution_count": 425,
     "metadata": {},
     "output_type": "execute_result"
    }
   ],
   "source": [
    "df[\"Payment_of_Min_Amount\"].dtypes"
   ]
  },
  {
   "cell_type": "code",
   "execution_count": 426,
   "id": "d9352411",
   "metadata": {},
   "outputs": [
    {
     "data": {
      "text/plain": [
       "3"
      ]
     },
     "execution_count": 426,
     "metadata": {},
     "output_type": "execute_result"
    }
   ],
   "source": [
    "df[\"Payment_of_Min_Amount\"].nunique()"
   ]
  },
  {
   "cell_type": "code",
   "execution_count": 427,
   "id": "5002dd7d",
   "metadata": {},
   "outputs": [
    {
     "data": {
      "text/plain": [
       "0"
      ]
     },
     "execution_count": 427,
     "metadata": {},
     "output_type": "execute_result"
    }
   ],
   "source": [
    "df[\"Payment_of_Min_Amount\"].isnull().sum()"
   ]
  },
  {
   "cell_type": "code",
   "execution_count": 428,
   "id": "0d12ee27",
   "metadata": {},
   "outputs": [
    {
     "data": {
      "text/plain": [
       "Yes    52326\n",
       "No     35667\n",
       "NM     12007\n",
       "Name: Payment_of_Min_Amount, dtype: int64"
      ]
     },
     "execution_count": 428,
     "metadata": {},
     "output_type": "execute_result"
    }
   ],
   "source": [
    "df[\"Payment_of_Min_Amount\"].value_counts()"
   ]
  },
  {
   "cell_type": "code",
   "execution_count": 429,
   "id": "a7a6f6d4",
   "metadata": {},
   "outputs": [
    {
     "data": {
      "text/plain": [
       "<Axes: xlabel='Payment_of_Min_Amount', ylabel='count'>"
      ]
     },
     "execution_count": 429,
     "metadata": {},
     "output_type": "execute_result"
    },
    {
     "data": {
      "image/png": "[encoded data removed]",
      "text/plain": [
       "<Figure size 640x480 with 1 Axes>"
      ]
     },
     "metadata": {},
     "output_type": "display_data"
    }
   ],
   "source": [
    "sns.countplot(x=df[\"Payment_of_Min_Amount\"])"
   ]
  },
  {
   "cell_type": "code",
   "execution_count": null,
   "id": "1528c38f",
   "metadata": {},
   "outputs": [],
   "source": []
  },
  {
   "cell_type": "markdown",
   "id": "5465cab1",
   "metadata": {},
   "source": [
    "## Working on df[\"Total_EMI_per_month\"]"
   ]
  },
  {
   "cell_type": "code",
   "execution_count": 430,
   "id": "8750e07d",
   "metadata": {},
   "outputs": [
    {
     "data": {
      "text/plain": [
       "dtype('float64')"
      ]
     },
     "execution_count": 430,
     "metadata": {},
     "output_type": "execute_result"
    }
   ],
   "source": [
    "df[\"Total_EMI_per_month\"].dtypes"
   ]
  },
  {
   "cell_type": "code",
   "execution_count": 431,
   "id": "5b9d8877",
   "metadata": {},
   "outputs": [
    {
     "data": {
      "text/plain": [
       "0"
      ]
     },
     "execution_count": 431,
     "metadata": {},
     "output_type": "execute_result"
    }
   ],
   "source": [
    "df[\"Total_EMI_per_month\"].isnull().sum()"
   ]
  },
  {
   "cell_type": "code",
   "execution_count": 432,
   "id": "295285a4",
   "metadata": {},
   "outputs": [
    {
     "data": {
      "text/plain": [
       "14950"
      ]
     },
     "execution_count": 432,
     "metadata": {},
     "output_type": "execute_result"
    }
   ],
   "source": [
    "df[\"Total_EMI_per_month\"].nunique()"
   ]
  },
  {
   "cell_type": "code",
   "execution_count": 433,
   "id": "4023bc97",
   "metadata": {},
   "outputs": [
    {
     "data": {
      "text/plain": [
       "<Axes: >"
      ]
     },
     "execution_count": 433,
     "metadata": {},
     "output_type": "execute_result"
    },
    {
     "data": {
      "image/png": "[encoded data removed]",
      "text/plain": [
       "<Figure size 640x480 with 1 Axes>"
      ]
     },
     "metadata": {},
     "output_type": "display_data"
    }
   ],
   "source": [
    "df.boxplot(\"Total_EMI_per_month\")"
   ]
  },
  {
   "cell_type": "code",
   "execution_count": 434,
   "id": "328fc941",
   "metadata": {},
   "outputs": [
    {
     "name": "stdout",
     "output_type": "stream",
     "text": [
      "Minimum 0.0\n",
      "Maximum 82331.0\n",
      "Range 82331.0\n",
      "uf= 357.60063203221614    lf= -166.06972242783047\n"
     ]
    }
   ],
   "source": [
    "uf,lf=uflf(df[\"Total_EMI_per_month\"])"
   ]
  },
  {
   "cell_type": "code",
   "execution_count": 435,
   "id": "c85caf61",
   "metadata": {},
   "outputs": [
    {
     "data": {
      "text/plain": [
       "6795"
      ]
     },
     "execution_count": 435,
     "metadata": {},
     "output_type": "execute_result"
    }
   ],
   "source": [
    "# No. of Outliers = approx 0.8% of total data\n",
    "a=0\n",
    "for i in range(len(df)):\n",
    "    if df.loc[i,\"Total_EMI_per_month\"]>uf or df.loc[i,\"Total_EMI_per_month\"]<lf:\n",
    "        a=a+1\n",
    "a"
   ]
  },
  {
   "cell_type": "code",
   "execution_count": 436,
   "id": "06153cea",
   "metadata": {},
   "outputs": [
    {
     "name": "stdout",
     "output_type": "stream",
     "text": [
      "1403.1182166159933\n",
      "69.24947329972044\n"
     ]
    }
   ],
   "source": [
    "print(df[\"Total_EMI_per_month\"].mean())\n",
    "print(df[\"Total_EMI_per_month\"].median())"
   ]
  },
  {
   "cell_type": "code",
   "execution_count": 437,
   "id": "215b7e8b",
   "metadata": {},
   "outputs": [],
   "source": [
    "for i in range(len(df)):\n",
    "    if df.loc[i,\"Total_EMI_per_month\"]>uf or df.loc[i,\"Total_EMI_per_month\"]<lf:\n",
    "        df.loc[i,\"Total_EMI_per_month\"]=df[\"Total_EMI_per_month\"].median()"
   ]
  },
  {
   "cell_type": "code",
   "execution_count": 438,
   "id": "edcebe44",
   "metadata": {},
   "outputs": [
    {
     "data": {
      "text/plain": [
       "<Axes: >"
      ]
     },
     "execution_count": 438,
     "metadata": {},
     "output_type": "execute_result"
    },
    {
     "data": {
      "image/png": "[encoded data removed]",
      "text/plain": [
       "<Figure size 640x480 with 1 Axes>"
      ]
     },
     "metadata": {},
     "output_type": "display_data"
    }
   ],
   "source": [
    "df.boxplot(\"Total_EMI_per_month\")"
   ]
  },
  {
   "cell_type": "code",
   "execution_count": null,
   "id": "092a3c07",
   "metadata": {},
   "outputs": [],
   "source": []
  },
  {
   "cell_type": "markdown",
   "id": "1a53a625",
   "metadata": {},
   "source": [
    "## Working on df[\"Amount_invested_monthly\"]"
   ]
  },
  {
   "cell_type": "code",
   "execution_count": 439,
   "id": "f47c5502",
   "metadata": {},
   "outputs": [
    {
     "data": {
      "text/plain": [
       "dtype('O')"
      ]
     },
     "execution_count": 439,
     "metadata": {},
     "output_type": "execute_result"
    }
   ],
   "source": [
    "df[\"Amount_invested_monthly\"].dtypes"
   ]
  },
  {
   "cell_type": "code",
   "execution_count": 440,
   "id": "056c59f0",
   "metadata": {},
   "outputs": [
    {
     "data": {
      "text/plain": [
       "0         80.41529543900253\n",
       "1        118.28022162236736\n",
       "2           81.699521264648\n",
       "3         199.4580743910713\n",
       "4        41.420153086217326\n",
       "                ...        \n",
       "99995     60.97133255718485\n",
       "99996     54.18595028760385\n",
       "99997     24.02847744864441\n",
       "99998    251.67258219721603\n",
       "99999     167.1638651610451\n",
       "Name: Amount_invested_monthly, Length: 100000, dtype: object"
      ]
     },
     "execution_count": 440,
     "metadata": {},
     "output_type": "execute_result"
    }
   ],
   "source": [
    "df[\"Amount_invested_monthly\"]"
   ]
  },
  {
   "cell_type": "code",
   "execution_count": 441,
   "id": "679d2260",
   "metadata": {},
   "outputs": [],
   "source": [
    "df[\"Amount_invested_monthly\"]=df[\"Amount_invested_monthly\"].str.replace(\"_\",\"\").astype(float)"
   ]
  },
  {
   "cell_type": "code",
   "execution_count": 442,
   "id": "ee4da018",
   "metadata": {},
   "outputs": [
    {
     "data": {
      "text/plain": [
       "dtype('float64')"
      ]
     },
     "execution_count": 442,
     "metadata": {},
     "output_type": "execute_result"
    }
   ],
   "source": [
    "df[\"Amount_invested_monthly\"].dtypes"
   ]
  },
  {
   "cell_type": "code",
   "execution_count": 443,
   "id": "7cb8a7e7",
   "metadata": {},
   "outputs": [
    {
     "data": {
      "text/plain": [
       "4479"
      ]
     },
     "execution_count": 443,
     "metadata": {},
     "output_type": "execute_result"
    }
   ],
   "source": [
    "df[\"Amount_invested_monthly\"].isnull().sum()"
   ]
  },
  {
   "cell_type": "code",
   "execution_count": 444,
   "id": "d8c8dfc3",
   "metadata": {},
   "outputs": [
    {
     "data": {
      "text/plain": [
       "91049"
      ]
     },
     "execution_count": 444,
     "metadata": {},
     "output_type": "execute_result"
    }
   ],
   "source": [
    "df[\"Amount_invested_monthly\"].nunique()"
   ]
  },
  {
   "cell_type": "code",
   "execution_count": 445,
   "id": "ecc215b7",
   "metadata": {},
   "outputs": [
    {
     "name": "stdout",
     "output_type": "stream",
     "text": [
      "Minimum 0.0\n",
      "Maximum 10000.0\n",
      "Range 10000.0\n",
      "uf= 552.5283301990064    lf= -212.2625956491557\n"
     ]
    }
   ],
   "source": [
    "uf,lf = uflf(df[\"Amount_invested_monthly\"])"
   ]
  },
  {
   "cell_type": "code",
   "execution_count": 446,
   "id": "f0867cae",
   "metadata": {},
   "outputs": [
    {
     "data": {
      "text/plain": [
       "<Axes: >"
      ]
     },
     "execution_count": 446,
     "metadata": {},
     "output_type": "execute_result"
    },
    {
     "data": {
      "image/png": "[encoded data removed]",
      "text/plain": [
       "<Figure size 640x480 with 1 Axes>"
      ]
     },
     "metadata": {},
     "output_type": "display_data"
    }
   ],
   "source": [
    "df.boxplot(\"Amount_invested_monthly\")"
   ]
  },
  {
   "cell_type": "code",
   "execution_count": 447,
   "id": "687dc56c",
   "metadata": {},
   "outputs": [
    {
     "data": {
      "text/plain": [
       "10096"
      ]
     },
     "execution_count": 447,
     "metadata": {},
     "output_type": "execute_result"
    }
   ],
   "source": [
    "# No. of Outliers = approx 10% of total data\n",
    "a=0\n",
    "for i in range(len(df)):\n",
    "    if df.loc[i,\"Amount_invested_monthly\"]>uf or df.loc[i,\"Amount_invested_monthly\"]<lf:\n",
    "        a=a+1\n",
    "a"
   ]
  },
  {
   "cell_type": "code",
   "execution_count": 448,
   "id": "477ca66e",
   "metadata": {},
   "outputs": [
    {
     "name": "stdout",
     "output_type": "stream",
     "text": [
      "637.4129984078688\n",
      "135.92568154608836\n"
     ]
    }
   ],
   "source": [
    "print(df[\"Amount_invested_monthly\"].mean())\n",
    "print(df[\"Amount_invested_monthly\"].median())"
   ]
  },
  {
   "cell_type": "code",
   "execution_count": 449,
   "id": "327517ce",
   "metadata": {},
   "outputs": [],
   "source": [
    "#Total Data to be treated is outliers + Null values, is around 15% of Data.\n",
    "for i in range(len(df)):\n",
    "    if df.loc[i,\"Amount_invested_monthly\"]>uf or df.loc[i,\"Amount_invested_monthly\"]<lf:\n",
    "        df.loc[i,\"Amount_invested_monthly\"]=df[\"Amount_invested_monthly\"].median()"
   ]
  },
  {
   "cell_type": "code",
   "execution_count": 450,
   "id": "87f733aa",
   "metadata": {},
   "outputs": [],
   "source": [
    "med=df[\"Amount_invested_monthly\"].median()"
   ]
  },
  {
   "cell_type": "code",
   "execution_count": 451,
   "id": "9adda56f",
   "metadata": {},
   "outputs": [],
   "source": [
    "df[\"Amount_invested_monthly\"].fillna(df[\"Amount_invested_monthly\"].median(),inplace=True)"
   ]
  },
  {
   "cell_type": "code",
   "execution_count": 452,
   "id": "373199f1",
   "metadata": {},
   "outputs": [
    {
     "data": {
      "text/plain": [
       "<Axes: >"
      ]
     },
     "execution_count": 452,
     "metadata": {},
     "output_type": "execute_result"
    },
    {
     "data": {
      "image/png": "[encoded data removed]",
      "text/plain": [
       "<Figure size 640x480 with 1 Axes>"
      ]
     },
     "metadata": {},
     "output_type": "display_data"
    }
   ],
   "source": [
    "df.boxplot(\"Amount_invested_monthly\")"
   ]
  },
  {
   "cell_type": "code",
   "execution_count": 453,
   "id": "67e1c603",
   "metadata": {},
   "outputs": [
    {
     "data": {
      "text/plain": [
       "0"
      ]
     },
     "execution_count": 453,
     "metadata": {},
     "output_type": "execute_result"
    }
   ],
   "source": [
    "df[\"Amount_invested_monthly\"].isnull().sum()"
   ]
  },
  {
   "cell_type": "code",
   "execution_count": null,
   "id": "9fb9bd54",
   "metadata": {},
   "outputs": [],
   "source": []
  },
  {
   "cell_type": "markdown",
   "id": "8a6afdca",
   "metadata": {},
   "source": [
    "## Working on df[\"Payment_Behaviour\"]"
   ]
  },
  {
   "cell_type": "code",
   "execution_count": 454,
   "id": "a031dd90",
   "metadata": {},
   "outputs": [
    {
     "data": {
      "text/plain": [
       "7"
      ]
     },
     "execution_count": 454,
     "metadata": {},
     "output_type": "execute_result"
    }
   ],
   "source": [
    "df[\"Payment_Behaviour\"].nunique()"
   ]
  },
  {
   "cell_type": "code",
   "execution_count": 455,
   "id": "be61cc4a",
   "metadata": {},
   "outputs": [
    {
     "data": {
      "text/plain": [
       "0"
      ]
     },
     "execution_count": 455,
     "metadata": {},
     "output_type": "execute_result"
    }
   ],
   "source": [
    "df[\"Payment_Behaviour\"].isnull().sum()"
   ]
  },
  {
   "cell_type": "code",
   "execution_count": 456,
   "id": "15a6ac47",
   "metadata": {},
   "outputs": [
    {
     "data": {
      "text/plain": [
       "Low_spent_Small_value_payments      25513\n",
       "High_spent_Medium_value_payments    17540\n",
       "Low_spent_Medium_value_payments     13861\n",
       "High_spent_Large_value_payments     13721\n",
       "High_spent_Small_value_payments     11340\n",
       "Low_spent_Large_value_payments      10425\n",
       "!@9#%8                               7600\n",
       "Name: Payment_Behaviour, dtype: int64"
      ]
     },
     "execution_count": 456,
     "metadata": {},
     "output_type": "execute_result"
    }
   ],
   "source": [
    "df[\"Payment_Behaviour\"].value_counts()"
   ]
  },
  {
   "cell_type": "code",
   "execution_count": 457,
   "id": "fdf0675c",
   "metadata": {},
   "outputs": [],
   "source": [
    "mode_of_Payment_Behaviour=df[\"Payment_Behaviour\"].mode()"
   ]
  },
  {
   "cell_type": "code",
   "execution_count": 458,
   "id": "05278d6a",
   "metadata": {},
   "outputs": [],
   "source": [
    "#   '!@9#%8' is to be treated, It occupies about 7% of the data.....Treating it by replacing it with mode() of the column\n",
    "df[\"Payment_Behaviour\"]=df[\"Payment_Behaviour\"].replace(\"!@9#%8\",\"Low_spent_Small_value_payments\")"
   ]
  },
  {
   "cell_type": "code",
   "execution_count": 459,
   "id": "b2f79a24",
   "metadata": {},
   "outputs": [
    {
     "data": {
      "text/plain": [
       "Low_spent_Small_value_payments      33113\n",
       "High_spent_Medium_value_payments    17540\n",
       "Low_spent_Medium_value_payments     13861\n",
       "High_spent_Large_value_payments     13721\n",
       "High_spent_Small_value_payments     11340\n",
       "Low_spent_Large_value_payments      10425\n",
       "Name: Payment_Behaviour, dtype: int64"
      ]
     },
     "execution_count": 459,
     "metadata": {},
     "output_type": "execute_result"
    }
   ],
   "source": [
    "df[\"Payment_Behaviour\"].value_counts()"
   ]
  },
  {
   "cell_type": "code",
   "execution_count": 460,
   "id": "2dedf02c",
   "metadata": {},
   "outputs": [
    {
     "data": {
      "text/plain": [
       "<Axes: xlabel='Payment_Behaviour', ylabel='count'>"
      ]
     },
     "execution_count": 460,
     "metadata": {},
     "output_type": "execute_result"
    },
    {
     "data": {
      "image/png": "[encoded data removed]",
      "text/plain": [
       "<Figure size 640x480 with 1 Axes>"
      ]
     },
     "metadata": {},
     "output_type": "display_data"
    }
   ],
   "source": [
    "sns.countplot(x=df[\"Payment_Behaviour\"])"
   ]
  },
  {
   "cell_type": "code",
   "execution_count": null,
   "id": "dd210c87",
   "metadata": {},
   "outputs": [],
   "source": []
  },
  {
   "cell_type": "markdown",
   "id": "103352fa",
   "metadata": {},
   "source": [
    "## Working on df[\" Monthly_Balance\"]"
   ]
  },
  {
   "cell_type": "code",
   "execution_count": 461,
   "id": "f4e8a422",
   "metadata": {},
   "outputs": [
    {
     "data": {
      "text/plain": [
       "98792"
      ]
     },
     "execution_count": 461,
     "metadata": {},
     "output_type": "execute_result"
    }
   ],
   "source": [
    "df[\"Monthly_Balance\"].nunique()"
   ]
  },
  {
   "cell_type": "code",
   "execution_count": 462,
   "id": "4e539876",
   "metadata": {},
   "outputs": [
    {
     "data": {
      "text/plain": [
       "dtype('O')"
      ]
     },
     "execution_count": 462,
     "metadata": {},
     "output_type": "execute_result"
    }
   ],
   "source": [
    "df[\"Monthly_Balance\"].dtypes"
   ]
  },
  {
   "cell_type": "code",
   "execution_count": 463,
   "id": "844579c0",
   "metadata": {},
   "outputs": [
    {
     "data": {
      "text/plain": [
       "1200"
      ]
     },
     "execution_count": 463,
     "metadata": {},
     "output_type": "execute_result"
    }
   ],
   "source": [
    "df[\"Monthly_Balance\"].isnull().sum()"
   ]
  },
  {
   "cell_type": "code",
   "execution_count": 464,
   "id": "a9a64871",
   "metadata": {},
   "outputs": [],
   "source": [
    "df[\"Monthly_Balance\"]=df[\"Monthly_Balance\"].str.replace(\"_\",\"\").astype(float)"
   ]
  },
  {
   "cell_type": "code",
   "execution_count": 465,
   "id": "6fc31003",
   "metadata": {},
   "outputs": [
    {
     "data": {
      "text/plain": [
       "2868"
      ]
     },
     "execution_count": 465,
     "metadata": {},
     "output_type": "execute_result"
    }
   ],
   "source": [
    "df[\"Monthly_Balance\"].isnull().sum()"
   ]
  },
  {
   "cell_type": "code",
   "execution_count": 466,
   "id": "1b8973b4",
   "metadata": {},
   "outputs": [
    {
     "data": {
      "text/plain": [
       "dtype('float64')"
      ]
     },
     "execution_count": 466,
     "metadata": {},
     "output_type": "execute_result"
    }
   ],
   "source": [
    "df[\"Monthly_Balance\"].dtypes"
   ]
  },
  {
   "cell_type": "code",
   "execution_count": 467,
   "id": "966e8914",
   "metadata": {},
   "outputs": [
    {
     "data": {
      "text/plain": [
       "97124"
      ]
     },
     "execution_count": 467,
     "metadata": {},
     "output_type": "execute_result"
    }
   ],
   "source": [
    "df[\"Monthly_Balance\"].nunique()"
   ]
  },
  {
   "cell_type": "code",
   "execution_count": 468,
   "id": "3cce9cd9",
   "metadata": {},
   "outputs": [
    {
     "data": {
      "text/plain": [
       "<Axes: >"
      ]
     },
     "execution_count": 468,
     "metadata": {},
     "output_type": "execute_result"
    },
    {
     "data": {
      "image/png": "[encoded data removed]",
      "text/plain": [
       "<Figure size 640x480 with 1 Axes>"
      ]
     },
     "metadata": {},
     "output_type": "display_data"
    }
   ],
   "source": [
    "df.boxplot(\"Monthly_Balance\")"
   ]
  },
  {
   "cell_type": "code",
   "execution_count": 469,
   "id": "f6a5f568",
   "metadata": {},
   "outputs": [
    {
     "name": "stdout",
     "output_type": "stream",
     "text": [
      "Minimum -3.333333333333333e+26\n",
      "Maximum 1602.0405189622518\n",
      "Range 3.333333333333333e+26\n",
      "uf= 769.1225277810217    lf= -29.49624661125773\n"
     ]
    }
   ],
   "source": [
    "uf,lf=uflf(df[\"Monthly_Balance\"])"
   ]
  },
  {
   "cell_type": "code",
   "execution_count": 470,
   "id": "dbdfc433",
   "metadata": {},
   "outputs": [
    {
     "data": {
      "text/plain": [
       "7517"
      ]
     },
     "execution_count": 470,
     "metadata": {},
     "output_type": "execute_result"
    }
   ],
   "source": [
    "# No. of Outliers = approx 10% of total data\n",
    "a=0\n",
    "for i in range(len(df)):\n",
    "    if df.loc[i,\"Monthly_Balance\"]>uf or df.loc[i,\"Monthly_Balance\"]<lf:\n",
    "        a=a+1\n",
    "a"
   ]
  },
  {
   "cell_type": "code",
   "execution_count": 471,
   "id": "0c8ae5e1",
   "metadata": {},
   "outputs": [
    {
     "name": "stdout",
     "output_type": "stream",
     "text": [
      "-3.0885804884075278e+22\n",
      "336.44926592668395\n"
     ]
    }
   ],
   "source": [
    "print(df[\"Monthly_Balance\"].mean())\n",
    "print(df[\"Monthly_Balance\"].median())"
   ]
  },
  {
   "cell_type": "code",
   "execution_count": 472,
   "id": "8e8d0420",
   "metadata": {},
   "outputs": [
    {
     "data": {
      "text/plain": [
       "2868"
      ]
     },
     "execution_count": 472,
     "metadata": {},
     "output_type": "execute_result"
    }
   ],
   "source": [
    "df[\"Monthly_Balance\"].isnull().sum()"
   ]
  },
  {
   "cell_type": "code",
   "execution_count": 473,
   "id": "426c1128",
   "metadata": {},
   "outputs": [],
   "source": [
    "# Data to be treated is about 10% of total"
   ]
  },
  {
   "cell_type": "code",
   "execution_count": 474,
   "id": "c640caf3",
   "metadata": {},
   "outputs": [],
   "source": [
    "#Missing Value Treatment\n",
    "df['Monthly_Balance'].fillna(df['Monthly_Balance'].median(),inplace=True)"
   ]
  },
  {
   "cell_type": "code",
   "execution_count": 475,
   "id": "7023694c",
   "metadata": {},
   "outputs": [
    {
     "data": {
      "text/plain": [
       "0"
      ]
     },
     "execution_count": 475,
     "metadata": {},
     "output_type": "execute_result"
    }
   ],
   "source": [
    "df[\"Monthly_Balance\"].isnull().sum()"
   ]
  },
  {
   "cell_type": "code",
   "execution_count": 476,
   "id": "30e0653a",
   "metadata": {},
   "outputs": [],
   "source": [
    "for i in range(len(df)):\n",
    "    if df.loc[i,\"Monthly_Balance\"]>uf or df.loc[i,\"Monthly_Balance\"]<lf:\n",
    "        df.loc[i,\"Monthly_Balance\"]=df[\"Monthly_Balance\"].median()"
   ]
  },
  {
   "cell_type": "code",
   "execution_count": 477,
   "id": "4ee32213",
   "metadata": {},
   "outputs": [
    {
     "data": {
      "text/plain": [
       "0"
      ]
     },
     "execution_count": 477,
     "metadata": {},
     "output_type": "execute_result"
    }
   ],
   "source": [
    "df[\"Monthly_Balance\"].isnull().sum()"
   ]
  },
  {
   "cell_type": "code",
   "execution_count": 478,
   "id": "9a77c58c",
   "metadata": {},
   "outputs": [
    {
     "name": "stdout",
     "output_type": "stream",
     "text": [
      "<class 'pandas.core.frame.DataFrame'>\n",
      "RangeIndex: 100000 entries, 0 to 99999\n",
      "Data columns (total 23 columns):\n",
      " #   Column                    Non-Null Count   Dtype  \n",
      "---  ------                    --------------   -----  \n",
      " 0   Month                     100000 non-null  int32  \n",
      " 1   Age                       100000 non-null  float64\n",
      " 2   Occupation                100000 non-null  object \n",
      " 3   Annual_Income             100000 non-null  float64\n",
      " 4   Monthly_Inhand_Salary     100000 non-null  float64\n",
      " 5   Num_Credit_Card           100000 non-null  int64  \n",
      " 6   Interest_Rate             100000 non-null  int64  \n",
      " 7   Num_of_Loan               100000 non-null  float64\n",
      " 8   Type_of_Loan              100000 non-null  int32  \n",
      " 9   Delay_from_due_date       100000 non-null  float64\n",
      " 10  Num_of_Delayed_Payment    100000 non-null  float64\n",
      " 11  Changed_Credit_Limit      100000 non-null  float64\n",
      " 12  Num_Credit_Inquiries      100000 non-null  float64\n",
      " 13  Credit_Mix                100000 non-null  object \n",
      " 14  Outstanding_Debt          100000 non-null  float64\n",
      " 15  Credit_Utilization_Ratio  100000 non-null  float64\n",
      " 16  Credit_History_Age        100000 non-null  float64\n",
      " 17  Payment_of_Min_Amount     100000 non-null  object \n",
      " 18  Total_EMI_per_month       100000 non-null  float64\n",
      " 19  Amount_invested_monthly   100000 non-null  float64\n",
      " 20  Payment_Behaviour         100000 non-null  object \n",
      " 21  Monthly_Balance           100000 non-null  float64\n",
      " 22  Credit_Score              100000 non-null  object \n",
      "dtypes: float64(14), int32(2), int64(2), object(5)\n",
      "memory usage: 16.8+ MB\n"
     ]
    }
   ],
   "source": [
    "df.info()"
   ]
  },
  {
   "cell_type": "code",
   "execution_count": 479,
   "id": "36c3e644",
   "metadata": {},
   "outputs": [],
   "source": [
    "## Splitting the Data in Dependent and independent variable"
   ]
  },
  {
   "cell_type": "code",
   "execution_count": 658,
   "id": "2f1b986a",
   "metadata": {},
   "outputs": [
    {
     "data": {
      "text/plain": [
       "(100000, 23)"
      ]
     },
     "execution_count": 658,
     "metadata": {},
     "output_type": "execute_result"
    }
   ],
   "source": [
    "df.shape"
   ]
  },
  {
   "cell_type": "code",
   "execution_count": 536,
   "id": "369c22c3",
   "metadata": {},
   "outputs": [],
   "source": [
    "X=df.iloc[:,:-1]          #InDependent Variable \n",
    "y=df.iloc[:,-1]           #Dependent Variable   "
   ]
  },
  {
   "cell_type": "code",
   "execution_count": 537,
   "id": "6a235eba",
   "metadata": {
    "scrolled": true
   },
   "outputs": [
    {
     "data": {
      "text/plain": [
       "(100000, 22)"
      ]
     },
     "execution_count": 537,
     "metadata": {},
     "output_type": "execute_result"
    }
   ],
   "source": [
    "X.shape"
   ]
  },
  {
   "cell_type": "code",
   "execution_count": 538,
   "id": "74e46099",
   "metadata": {},
   "outputs": [
    {
     "data": {
      "text/plain": [
       "(100000,)"
      ]
     },
     "execution_count": 538,
     "metadata": {},
     "output_type": "execute_result"
    }
   ],
   "source": [
    "y.shape"
   ]
  },
  {
   "cell_type": "code",
   "execution_count": 543,
   "id": "b01c994c",
   "metadata": {},
   "outputs": [
    {
     "data": {
      "text/plain": [
       "Not_Specified    7062\n",
       "Lawyer           6575\n",
       "Architect        6355\n",
       "Engineer         6350\n",
       "Scientist        6299\n",
       "Mechanic         6291\n",
       "Accountant       6271\n",
       "Developer        6235\n",
       "Media_Manager    6232\n",
       "Teacher          6215\n",
       "Entrepreneur     6174\n",
       "Doctor           6087\n",
       "Journalist       6085\n",
       "Manager          5973\n",
       "Musician         5911\n",
       "Writer           5885\n",
       "Name: Occupation, dtype: int64"
      ]
     },
     "execution_count": 543,
     "metadata": {},
     "output_type": "execute_result"
    }
   ],
   "source": [
    "X.iloc[:,2].value_counts()"
   ]
  },
  {
   "cell_type": "code",
   "execution_count": 544,
   "id": "127f87eb",
   "metadata": {},
   "outputs": [],
   "source": [
    "from sklearn.compose import ColumnTransformer\n",
    "from sklearn.preprocessing import OneHotEncoder\n",
    "ct1=ColumnTransformer(transformers=[('encoder',OneHotEncoder(),[2])],remainder=\"passthrough\")\n",
    "X=np.array(ct1.fit_transform(X))"
   ]
  },
  {
   "cell_type": "code",
   "execution_count": 545,
   "id": "ac62cdf4",
   "metadata": {},
   "outputs": [
    {
     "data": {
      "text/plain": [
       "(100000, 37)"
      ]
     },
     "execution_count": 545,
     "metadata": {},
     "output_type": "execute_result"
    }
   ],
   "source": [
    "X.shape"
   ]
  },
  {
   "cell_type": "code",
   "execution_count": 546,
   "id": "0d14e94b",
   "metadata": {},
   "outputs": [],
   "source": [
    "from sklearn.preprocessing import LabelEncoder\n",
    "creditmix_encoder=LabelEncoder()"
   ]
  },
  {
   "cell_type": "code",
   "execution_count": 547,
   "id": "64fad136",
   "metadata": {},
   "outputs": [
    {
     "data": {
      "text/plain": [
       "(100000, 37)"
      ]
     },
     "execution_count": 547,
     "metadata": {},
     "output_type": "execute_result"
    }
   ],
   "source": [
    "X=pd.DataFrame(X)\n",
    "X.shape"
   ]
  },
  {
   "cell_type": "code",
   "execution_count": 563,
   "id": "36cef34e",
   "metadata": {},
   "outputs": [
    {
     "data": {
      "text/plain": [
       "0        unknown\n",
       "1           Good\n",
       "2           Good\n",
       "3           Good\n",
       "4           Good\n",
       "          ...   \n",
       "99995    unknown\n",
       "99996    unknown\n",
       "99997       Good\n",
       "99998       Good\n",
       "99999       Good\n",
       "Name: 28, Length: 100000, dtype: object"
      ]
     },
     "execution_count": 563,
     "metadata": {},
     "output_type": "execute_result"
    }
   ],
   "source": [
    "X[28]"
   ]
  },
  {
   "cell_type": "code",
   "execution_count": 564,
   "id": "a4d7cf69",
   "metadata": {},
   "outputs": [],
   "source": [
    "creditmix_encoder.fit(X[28])\n",
    "X[28]=creditmix_encoder.transform(X[28])"
   ]
  },
  {
   "cell_type": "code",
   "execution_count": 565,
   "id": "8913d573",
   "metadata": {},
   "outputs": [
    {
     "name": "stdout",
     "output_type": "stream",
     "text": [
      "['Bad' 'Good' 'Standard' 'unknown']\n"
     ]
    }
   ],
   "source": [
    "print(creditmix_encoder.classes_)"
   ]
  },
  {
   "cell_type": "code",
   "execution_count": 566,
   "id": "1c45d915",
   "metadata": {},
   "outputs": [
    {
     "data": {
      "text/plain": [
       "(100000, 37)"
      ]
     },
     "execution_count": 566,
     "metadata": {},
     "output_type": "execute_result"
    }
   ],
   "source": [
    "X.shape"
   ]
  },
  {
   "cell_type": "code",
   "execution_count": 567,
   "id": "8f5702bf",
   "metadata": {},
   "outputs": [
    {
     "data": {
      "text/plain": [
       "Yes    52326\n",
       "No     35667\n",
       "NM     12007\n",
       "Name: 32, dtype: int64"
      ]
     },
     "execution_count": 567,
     "metadata": {},
     "output_type": "execute_result"
    }
   ],
   "source": [
    "X[32].value_counts()"
   ]
  },
  {
   "cell_type": "code",
   "execution_count": 568,
   "id": "9e9b0ce9",
   "metadata": {},
   "outputs": [],
   "source": [
    "X=pd.DataFrame(X)"
   ]
  },
  {
   "cell_type": "code",
   "execution_count": 569,
   "id": "8e389abe",
   "metadata": {},
   "outputs": [],
   "source": [
    "ct2=ColumnTransformer(transformers=[('encoder',OneHotEncoder(),[32])],remainder=\"passthrough\")\n",
    "X=np.array(ct2.fit_transform(X))"
   ]
  },
  {
   "cell_type": "code",
   "execution_count": 570,
   "id": "35aa6f7a",
   "metadata": {},
   "outputs": [
    {
     "data": {
      "text/plain": [
       "(100000, 39)"
      ]
     },
     "execution_count": 570,
     "metadata": {},
     "output_type": "execute_result"
    }
   ],
   "source": [
    "X.shape"
   ]
  },
  {
   "cell_type": "code",
   "execution_count": 571,
   "id": "415524ec",
   "metadata": {},
   "outputs": [],
   "source": [
    "X=pd.DataFrame(X)"
   ]
  },
  {
   "cell_type": "code",
   "execution_count": 572,
   "id": "f75a1bc0",
   "metadata": {},
   "outputs": [],
   "source": [
    "ct3=ColumnTransformer(transformers=[('encoder',OneHotEncoder(),[37])],remainder=\"passthrough\")\n",
    "X=np.array(ct3.fit_transform(X))"
   ]
  },
  {
   "cell_type": "code",
   "execution_count": 573,
   "id": "81d7bd3d",
   "metadata": {},
   "outputs": [
    {
     "data": {
      "text/plain": [
       "(100000, 44)"
      ]
     },
     "execution_count": 573,
     "metadata": {},
     "output_type": "execute_result"
    }
   ],
   "source": [
    "X.shape"
   ]
  },
  {
   "cell_type": "code",
   "execution_count": 574,
   "id": "b00d11a2",
   "metadata": {},
   "outputs": [],
   "source": [
    "X=pd.DataFrame(X)"
   ]
  },
  {
   "cell_type": "code",
   "execution_count": 578,
   "id": "c6e033ff",
   "metadata": {},
   "outputs": [
    {
     "data": {
      "text/html": [
       "<div>\n",
       "<style scoped>\n",
       "    .dataframe tbody tr th:only-of-type {\n",
       "        vertical-align: middle;\n",
       "    }\n",
       "\n",
       "    .dataframe tbody tr th {\n",
       "        vertical-align: top;\n",
       "    }\n",
       "\n",
       "    .dataframe thead th {\n",
       "        text-align: right;\n",
       "    }\n",
       "</style>\n",
       "<table border=\"1\" class=\"dataframe\">\n",
       "  <thead>\n",
       "    <tr style=\"text-align: right;\">\n",
       "      <th></th>\n",
       "      <th>0</th>\n",
       "      <th>1</th>\n",
       "      <th>2</th>\n",
       "      <th>3</th>\n",
       "      <th>4</th>\n",
       "      <th>5</th>\n",
       "      <th>6</th>\n",
       "      <th>7</th>\n",
       "      <th>8</th>\n",
       "      <th>9</th>\n",
       "      <th>...</th>\n",
       "      <th>34</th>\n",
       "      <th>35</th>\n",
       "      <th>36</th>\n",
       "      <th>37</th>\n",
       "      <th>38</th>\n",
       "      <th>39</th>\n",
       "      <th>40</th>\n",
       "      <th>41</th>\n",
       "      <th>42</th>\n",
       "      <th>43</th>\n",
       "    </tr>\n",
       "  </thead>\n",
       "  <tbody>\n",
       "    <tr>\n",
       "      <th>0</th>\n",
       "      <td>0.0</td>\n",
       "      <td>0.0</td>\n",
       "      <td>1.0</td>\n",
       "      <td>0.0</td>\n",
       "      <td>0.0</td>\n",
       "      <td>0.0</td>\n",
       "      <td>0.0</td>\n",
       "      <td>1.0</td>\n",
       "      <td>0.0</td>\n",
       "      <td>0.0</td>\n",
       "      <td>...</td>\n",
       "      <td>7.0</td>\n",
       "      <td>11.270000</td>\n",
       "      <td>4.0</td>\n",
       "      <td>3.0</td>\n",
       "      <td>809.98</td>\n",
       "      <td>26.822620</td>\n",
       "      <td>265.000000</td>\n",
       "      <td>49.574949</td>\n",
       "      <td>80.415295</td>\n",
       "      <td>312.494089</td>\n",
       "    </tr>\n",
       "    <tr>\n",
       "      <th>1</th>\n",
       "      <td>0.0</td>\n",
       "      <td>0.0</td>\n",
       "      <td>0.0</td>\n",
       "      <td>1.0</td>\n",
       "      <td>0.0</td>\n",
       "      <td>0.0</td>\n",
       "      <td>0.0</td>\n",
       "      <td>1.0</td>\n",
       "      <td>0.0</td>\n",
       "      <td>0.0</td>\n",
       "      <td>...</td>\n",
       "      <td>14.0</td>\n",
       "      <td>11.270000</td>\n",
       "      <td>4.0</td>\n",
       "      <td>1.0</td>\n",
       "      <td>809.98</td>\n",
       "      <td>31.944960</td>\n",
       "      <td>221.195405</td>\n",
       "      <td>49.574949</td>\n",
       "      <td>118.280222</td>\n",
       "      <td>284.629162</td>\n",
       "    </tr>\n",
       "    <tr>\n",
       "      <th>2</th>\n",
       "      <td>0.0</td>\n",
       "      <td>0.0</td>\n",
       "      <td>0.0</td>\n",
       "      <td>0.0</td>\n",
       "      <td>1.0</td>\n",
       "      <td>0.0</td>\n",
       "      <td>0.0</td>\n",
       "      <td>1.0</td>\n",
       "      <td>0.0</td>\n",
       "      <td>0.0</td>\n",
       "      <td>...</td>\n",
       "      <td>7.0</td>\n",
       "      <td>10.389025</td>\n",
       "      <td>4.0</td>\n",
       "      <td>1.0</td>\n",
       "      <td>809.98</td>\n",
       "      <td>28.609352</td>\n",
       "      <td>267.000000</td>\n",
       "      <td>49.574949</td>\n",
       "      <td>81.699521</td>\n",
       "      <td>331.209863</td>\n",
       "    </tr>\n",
       "    <tr>\n",
       "      <th>3</th>\n",
       "      <td>0.0</td>\n",
       "      <td>0.0</td>\n",
       "      <td>0.0</td>\n",
       "      <td>0.0</td>\n",
       "      <td>0.0</td>\n",
       "      <td>1.0</td>\n",
       "      <td>0.0</td>\n",
       "      <td>1.0</td>\n",
       "      <td>0.0</td>\n",
       "      <td>0.0</td>\n",
       "      <td>...</td>\n",
       "      <td>4.0</td>\n",
       "      <td>6.270000</td>\n",
       "      <td>4.0</td>\n",
       "      <td>1.0</td>\n",
       "      <td>809.98</td>\n",
       "      <td>31.377862</td>\n",
       "      <td>268.000000</td>\n",
       "      <td>49.574949</td>\n",
       "      <td>199.458074</td>\n",
       "      <td>223.451310</td>\n",
       "    </tr>\n",
       "    <tr>\n",
       "      <th>4</th>\n",
       "      <td>0.0</td>\n",
       "      <td>1.0</td>\n",
       "      <td>0.0</td>\n",
       "      <td>0.0</td>\n",
       "      <td>0.0</td>\n",
       "      <td>0.0</td>\n",
       "      <td>0.0</td>\n",
       "      <td>1.0</td>\n",
       "      <td>0.0</td>\n",
       "      <td>0.0</td>\n",
       "      <td>...</td>\n",
       "      <td>14.0</td>\n",
       "      <td>11.270000</td>\n",
       "      <td>4.0</td>\n",
       "      <td>1.0</td>\n",
       "      <td>809.98</td>\n",
       "      <td>24.797347</td>\n",
       "      <td>269.000000</td>\n",
       "      <td>49.574949</td>\n",
       "      <td>41.420153</td>\n",
       "      <td>341.489231</td>\n",
       "    </tr>\n",
       "    <tr>\n",
       "      <th>...</th>\n",
       "      <td>...</td>\n",
       "      <td>...</td>\n",
       "      <td>...</td>\n",
       "      <td>...</td>\n",
       "      <td>...</td>\n",
       "      <td>...</td>\n",
       "      <td>...</td>\n",
       "      <td>...</td>\n",
       "      <td>...</td>\n",
       "      <td>...</td>\n",
       "      <td>...</td>\n",
       "      <td>...</td>\n",
       "      <td>...</td>\n",
       "      <td>...</td>\n",
       "      <td>...</td>\n",
       "      <td>...</td>\n",
       "      <td>...</td>\n",
       "      <td>...</td>\n",
       "      <td>...</td>\n",
       "      <td>...</td>\n",
       "      <td>...</td>\n",
       "    </tr>\n",
       "    <tr>\n",
       "      <th>99995</th>\n",
       "      <td>1.0</td>\n",
       "      <td>0.0</td>\n",
       "      <td>0.0</td>\n",
       "      <td>0.0</td>\n",
       "      <td>0.0</td>\n",
       "      <td>0.0</td>\n",
       "      <td>0.0</td>\n",
       "      <td>1.0</td>\n",
       "      <td>0.0</td>\n",
       "      <td>0.0</td>\n",
       "      <td>...</td>\n",
       "      <td>7.0</td>\n",
       "      <td>11.500000</td>\n",
       "      <td>3.0</td>\n",
       "      <td>3.0</td>\n",
       "      <td>502.38</td>\n",
       "      <td>34.663572</td>\n",
       "      <td>378.000000</td>\n",
       "      <td>35.104023</td>\n",
       "      <td>60.971333</td>\n",
       "      <td>336.449266</td>\n",
       "    </tr>\n",
       "    <tr>\n",
       "      <th>99996</th>\n",
       "      <td>0.0</td>\n",
       "      <td>1.0</td>\n",
       "      <td>0.0</td>\n",
       "      <td>0.0</td>\n",
       "      <td>0.0</td>\n",
       "      <td>0.0</td>\n",
       "      <td>0.0</td>\n",
       "      <td>1.0</td>\n",
       "      <td>0.0</td>\n",
       "      <td>0.0</td>\n",
       "      <td>...</td>\n",
       "      <td>7.0</td>\n",
       "      <td>11.500000</td>\n",
       "      <td>3.0</td>\n",
       "      <td>3.0</td>\n",
       "      <td>502.38</td>\n",
       "      <td>40.565631</td>\n",
       "      <td>379.000000</td>\n",
       "      <td>35.104023</td>\n",
       "      <td>54.185950</td>\n",
       "      <td>336.449266</td>\n",
       "    </tr>\n",
       "    <tr>\n",
       "      <th>99997</th>\n",
       "      <td>1.0</td>\n",
       "      <td>0.0</td>\n",
       "      <td>0.0</td>\n",
       "      <td>0.0</td>\n",
       "      <td>0.0</td>\n",
       "      <td>0.0</td>\n",
       "      <td>0.0</td>\n",
       "      <td>1.0</td>\n",
       "      <td>0.0</td>\n",
       "      <td>0.0</td>\n",
       "      <td>...</td>\n",
       "      <td>6.0</td>\n",
       "      <td>11.500000</td>\n",
       "      <td>3.0</td>\n",
       "      <td>1.0</td>\n",
       "      <td>502.38</td>\n",
       "      <td>41.255522</td>\n",
       "      <td>380.000000</td>\n",
       "      <td>35.104023</td>\n",
       "      <td>24.028477</td>\n",
       "      <td>336.449266</td>\n",
       "    </tr>\n",
       "    <tr>\n",
       "      <th>99998</th>\n",
       "      <td>0.0</td>\n",
       "      <td>0.0</td>\n",
       "      <td>0.0</td>\n",
       "      <td>1.0</td>\n",
       "      <td>0.0</td>\n",
       "      <td>0.0</td>\n",
       "      <td>0.0</td>\n",
       "      <td>1.0</td>\n",
       "      <td>0.0</td>\n",
       "      <td>0.0</td>\n",
       "      <td>...</td>\n",
       "      <td>14.0</td>\n",
       "      <td>11.500000</td>\n",
       "      <td>3.0</td>\n",
       "      <td>1.0</td>\n",
       "      <td>502.38</td>\n",
       "      <td>33.638208</td>\n",
       "      <td>381.000000</td>\n",
       "      <td>35.104023</td>\n",
       "      <td>251.672582</td>\n",
       "      <td>336.449266</td>\n",
       "    </tr>\n",
       "    <tr>\n",
       "      <th>99999</th>\n",
       "      <td>0.0</td>\n",
       "      <td>0.0</td>\n",
       "      <td>0.0</td>\n",
       "      <td>0.0</td>\n",
       "      <td>0.0</td>\n",
       "      <td>1.0</td>\n",
       "      <td>0.0</td>\n",
       "      <td>1.0</td>\n",
       "      <td>0.0</td>\n",
       "      <td>0.0</td>\n",
       "      <td>...</td>\n",
       "      <td>6.0</td>\n",
       "      <td>11.500000</td>\n",
       "      <td>3.0</td>\n",
       "      <td>1.0</td>\n",
       "      <td>502.38</td>\n",
       "      <td>34.192463</td>\n",
       "      <td>382.000000</td>\n",
       "      <td>35.104023</td>\n",
       "      <td>167.163865</td>\n",
       "      <td>336.449266</td>\n",
       "    </tr>\n",
       "  </tbody>\n",
       "</table>\n",
       "<p>100000 rows × 44 columns</p>\n",
       "</div>"
      ],
      "text/plain": [
       "        0    1    2    3    4    5    6    7    8    9   ...    34         35  \\\n",
       "0      0.0  0.0  1.0  0.0  0.0  0.0  0.0  1.0  0.0  0.0  ...   7.0  11.270000   \n",
       "1      0.0  0.0  0.0  1.0  0.0  0.0  0.0  1.0  0.0  0.0  ...  14.0  11.270000   \n",
       "2      0.0  0.0  0.0  0.0  1.0  0.0  0.0  1.0  0.0  0.0  ...   7.0  10.389025   \n",
       "3      0.0  0.0  0.0  0.0  0.0  1.0  0.0  1.0  0.0  0.0  ...   4.0   6.270000   \n",
       "4      0.0  1.0  0.0  0.0  0.0  0.0  0.0  1.0  0.0  0.0  ...  14.0  11.270000   \n",
       "...    ...  ...  ...  ...  ...  ...  ...  ...  ...  ...  ...   ...        ...   \n",
       "99995  1.0  0.0  0.0  0.0  0.0  0.0  0.0  1.0  0.0  0.0  ...   7.0  11.500000   \n",
       "99996  0.0  1.0  0.0  0.0  0.0  0.0  0.0  1.0  0.0  0.0  ...   7.0  11.500000   \n",
       "99997  1.0  0.0  0.0  0.0  0.0  0.0  0.0  1.0  0.0  0.0  ...   6.0  11.500000   \n",
       "99998  0.0  0.0  0.0  1.0  0.0  0.0  0.0  1.0  0.0  0.0  ...  14.0  11.500000   \n",
       "99999  0.0  0.0  0.0  0.0  0.0  1.0  0.0  1.0  0.0  0.0  ...   6.0  11.500000   \n",
       "\n",
       "        36   37      38         39          40         41          42  \\\n",
       "0      4.0  3.0  809.98  26.822620  265.000000  49.574949   80.415295   \n",
       "1      4.0  1.0  809.98  31.944960  221.195405  49.574949  118.280222   \n",
       "2      4.0  1.0  809.98  28.609352  267.000000  49.574949   81.699521   \n",
       "3      4.0  1.0  809.98  31.377862  268.000000  49.574949  199.458074   \n",
       "4      4.0  1.0  809.98  24.797347  269.000000  49.574949   41.420153   \n",
       "...    ...  ...     ...        ...         ...        ...         ...   \n",
       "99995  3.0  3.0  502.38  34.663572  378.000000  35.104023   60.971333   \n",
       "99996  3.0  3.0  502.38  40.565631  379.000000  35.104023   54.185950   \n",
       "99997  3.0  1.0  502.38  41.255522  380.000000  35.104023   24.028477   \n",
       "99998  3.0  1.0  502.38  33.638208  381.000000  35.104023  251.672582   \n",
       "99999  3.0  1.0  502.38  34.192463  382.000000  35.104023  167.163865   \n",
       "\n",
       "               43  \n",
       "0      312.494089  \n",
       "1      284.629162  \n",
       "2      331.209863  \n",
       "3      223.451310  \n",
       "4      341.489231  \n",
       "...           ...  \n",
       "99995  336.449266  \n",
       "99996  336.449266  \n",
       "99997  336.449266  \n",
       "99998  336.449266  \n",
       "99999  336.449266  \n",
       "\n",
       "[100000 rows x 44 columns]"
      ]
     },
     "execution_count": 578,
     "metadata": {},
     "output_type": "execute_result"
    }
   ],
   "source": [
    "X.astype(float)"
   ]
  },
  {
   "cell_type": "code",
   "execution_count": 584,
   "id": "9bcd3da3",
   "metadata": {},
   "outputs": [
    {
     "data": {
      "text/html": [
       "<div>\n",
       "<style scoped>\n",
       "    .dataframe tbody tr th:only-of-type {\n",
       "        vertical-align: middle;\n",
       "    }\n",
       "\n",
       "    .dataframe tbody tr th {\n",
       "        vertical-align: top;\n",
       "    }\n",
       "\n",
       "    .dataframe thead th {\n",
       "        text-align: right;\n",
       "    }\n",
       "</style>\n",
       "<table border=\"1\" class=\"dataframe\">\n",
       "  <thead>\n",
       "    <tr style=\"text-align: right;\">\n",
       "      <th></th>\n",
       "      <th>0</th>\n",
       "      <th>1</th>\n",
       "      <th>2</th>\n",
       "      <th>3</th>\n",
       "      <th>4</th>\n",
       "      <th>5</th>\n",
       "      <th>6</th>\n",
       "      <th>7</th>\n",
       "      <th>8</th>\n",
       "      <th>9</th>\n",
       "      <th>...</th>\n",
       "      <th>34</th>\n",
       "      <th>35</th>\n",
       "      <th>36</th>\n",
       "      <th>37</th>\n",
       "      <th>38</th>\n",
       "      <th>39</th>\n",
       "      <th>40</th>\n",
       "      <th>41</th>\n",
       "      <th>42</th>\n",
       "      <th>43</th>\n",
       "    </tr>\n",
       "  </thead>\n",
       "  <tbody>\n",
       "    <tr>\n",
       "      <th>0</th>\n",
       "      <td>0.0</td>\n",
       "      <td>0.0</td>\n",
       "      <td>1.0</td>\n",
       "      <td>0.0</td>\n",
       "      <td>0.0</td>\n",
       "      <td>0.0</td>\n",
       "      <td>0.0</td>\n",
       "      <td>1.0</td>\n",
       "      <td>0.0</td>\n",
       "      <td>0.0</td>\n",
       "      <td>...</td>\n",
       "      <td>7.0</td>\n",
       "      <td>11.27</td>\n",
       "      <td>4.0</td>\n",
       "      <td>3</td>\n",
       "      <td>809.98</td>\n",
       "      <td>26.82262</td>\n",
       "      <td>265.0</td>\n",
       "      <td>49.574949</td>\n",
       "      <td>80.415295</td>\n",
       "      <td>312.494089</td>\n",
       "    </tr>\n",
       "    <tr>\n",
       "      <th>1</th>\n",
       "      <td>0.0</td>\n",
       "      <td>0.0</td>\n",
       "      <td>0.0</td>\n",
       "      <td>1.0</td>\n",
       "      <td>0.0</td>\n",
       "      <td>0.0</td>\n",
       "      <td>0.0</td>\n",
       "      <td>1.0</td>\n",
       "      <td>0.0</td>\n",
       "      <td>0.0</td>\n",
       "      <td>...</td>\n",
       "      <td>14.0</td>\n",
       "      <td>11.27</td>\n",
       "      <td>4.0</td>\n",
       "      <td>1</td>\n",
       "      <td>809.98</td>\n",
       "      <td>31.94496</td>\n",
       "      <td>221.195405</td>\n",
       "      <td>49.574949</td>\n",
       "      <td>118.280222</td>\n",
       "      <td>284.629162</td>\n",
       "    </tr>\n",
       "    <tr>\n",
       "      <th>2</th>\n",
       "      <td>0.0</td>\n",
       "      <td>0.0</td>\n",
       "      <td>0.0</td>\n",
       "      <td>0.0</td>\n",
       "      <td>1.0</td>\n",
       "      <td>0.0</td>\n",
       "      <td>0.0</td>\n",
       "      <td>1.0</td>\n",
       "      <td>0.0</td>\n",
       "      <td>0.0</td>\n",
       "      <td>...</td>\n",
       "      <td>7.0</td>\n",
       "      <td>10.389025</td>\n",
       "      <td>4.0</td>\n",
       "      <td>1</td>\n",
       "      <td>809.98</td>\n",
       "      <td>28.609352</td>\n",
       "      <td>267.0</td>\n",
       "      <td>49.574949</td>\n",
       "      <td>81.699521</td>\n",
       "      <td>331.209863</td>\n",
       "    </tr>\n",
       "    <tr>\n",
       "      <th>3</th>\n",
       "      <td>0.0</td>\n",
       "      <td>0.0</td>\n",
       "      <td>0.0</td>\n",
       "      <td>0.0</td>\n",
       "      <td>0.0</td>\n",
       "      <td>1.0</td>\n",
       "      <td>0.0</td>\n",
       "      <td>1.0</td>\n",
       "      <td>0.0</td>\n",
       "      <td>0.0</td>\n",
       "      <td>...</td>\n",
       "      <td>4.0</td>\n",
       "      <td>6.27</td>\n",
       "      <td>4.0</td>\n",
       "      <td>1</td>\n",
       "      <td>809.98</td>\n",
       "      <td>31.377862</td>\n",
       "      <td>268.0</td>\n",
       "      <td>49.574949</td>\n",
       "      <td>199.458074</td>\n",
       "      <td>223.45131</td>\n",
       "    </tr>\n",
       "    <tr>\n",
       "      <th>4</th>\n",
       "      <td>0.0</td>\n",
       "      <td>1.0</td>\n",
       "      <td>0.0</td>\n",
       "      <td>0.0</td>\n",
       "      <td>0.0</td>\n",
       "      <td>0.0</td>\n",
       "      <td>0.0</td>\n",
       "      <td>1.0</td>\n",
       "      <td>0.0</td>\n",
       "      <td>0.0</td>\n",
       "      <td>...</td>\n",
       "      <td>14.0</td>\n",
       "      <td>11.27</td>\n",
       "      <td>4.0</td>\n",
       "      <td>1</td>\n",
       "      <td>809.98</td>\n",
       "      <td>24.797347</td>\n",
       "      <td>269.0</td>\n",
       "      <td>49.574949</td>\n",
       "      <td>41.420153</td>\n",
       "      <td>341.489231</td>\n",
       "    </tr>\n",
       "    <tr>\n",
       "      <th>...</th>\n",
       "      <td>...</td>\n",
       "      <td>...</td>\n",
       "      <td>...</td>\n",
       "      <td>...</td>\n",
       "      <td>...</td>\n",
       "      <td>...</td>\n",
       "      <td>...</td>\n",
       "      <td>...</td>\n",
       "      <td>...</td>\n",
       "      <td>...</td>\n",
       "      <td>...</td>\n",
       "      <td>...</td>\n",
       "      <td>...</td>\n",
       "      <td>...</td>\n",
       "      <td>...</td>\n",
       "      <td>...</td>\n",
       "      <td>...</td>\n",
       "      <td>...</td>\n",
       "      <td>...</td>\n",
       "      <td>...</td>\n",
       "      <td>...</td>\n",
       "    </tr>\n",
       "    <tr>\n",
       "      <th>99995</th>\n",
       "      <td>1.0</td>\n",
       "      <td>0.0</td>\n",
       "      <td>0.0</td>\n",
       "      <td>0.0</td>\n",
       "      <td>0.0</td>\n",
       "      <td>0.0</td>\n",
       "      <td>0.0</td>\n",
       "      <td>1.0</td>\n",
       "      <td>0.0</td>\n",
       "      <td>0.0</td>\n",
       "      <td>...</td>\n",
       "      <td>7.0</td>\n",
       "      <td>11.5</td>\n",
       "      <td>3.0</td>\n",
       "      <td>3</td>\n",
       "      <td>502.38</td>\n",
       "      <td>34.663572</td>\n",
       "      <td>378.0</td>\n",
       "      <td>35.104023</td>\n",
       "      <td>60.971333</td>\n",
       "      <td>336.449266</td>\n",
       "    </tr>\n",
       "    <tr>\n",
       "      <th>99996</th>\n",
       "      <td>0.0</td>\n",
       "      <td>1.0</td>\n",
       "      <td>0.0</td>\n",
       "      <td>0.0</td>\n",
       "      <td>0.0</td>\n",
       "      <td>0.0</td>\n",
       "      <td>0.0</td>\n",
       "      <td>1.0</td>\n",
       "      <td>0.0</td>\n",
       "      <td>0.0</td>\n",
       "      <td>...</td>\n",
       "      <td>7.0</td>\n",
       "      <td>11.5</td>\n",
       "      <td>3.0</td>\n",
       "      <td>3</td>\n",
       "      <td>502.38</td>\n",
       "      <td>40.565631</td>\n",
       "      <td>379.0</td>\n",
       "      <td>35.104023</td>\n",
       "      <td>54.18595</td>\n",
       "      <td>336.449266</td>\n",
       "    </tr>\n",
       "    <tr>\n",
       "      <th>99997</th>\n",
       "      <td>1.0</td>\n",
       "      <td>0.0</td>\n",
       "      <td>0.0</td>\n",
       "      <td>0.0</td>\n",
       "      <td>0.0</td>\n",
       "      <td>0.0</td>\n",
       "      <td>0.0</td>\n",
       "      <td>1.0</td>\n",
       "      <td>0.0</td>\n",
       "      <td>0.0</td>\n",
       "      <td>...</td>\n",
       "      <td>6.0</td>\n",
       "      <td>11.5</td>\n",
       "      <td>3.0</td>\n",
       "      <td>1</td>\n",
       "      <td>502.38</td>\n",
       "      <td>41.255522</td>\n",
       "      <td>380.0</td>\n",
       "      <td>35.104023</td>\n",
       "      <td>24.028477</td>\n",
       "      <td>336.449266</td>\n",
       "    </tr>\n",
       "    <tr>\n",
       "      <th>99998</th>\n",
       "      <td>0.0</td>\n",
       "      <td>0.0</td>\n",
       "      <td>0.0</td>\n",
       "      <td>1.0</td>\n",
       "      <td>0.0</td>\n",
       "      <td>0.0</td>\n",
       "      <td>0.0</td>\n",
       "      <td>1.0</td>\n",
       "      <td>0.0</td>\n",
       "      <td>0.0</td>\n",
       "      <td>...</td>\n",
       "      <td>14.0</td>\n",
       "      <td>11.5</td>\n",
       "      <td>3.0</td>\n",
       "      <td>1</td>\n",
       "      <td>502.38</td>\n",
       "      <td>33.638208</td>\n",
       "      <td>381.0</td>\n",
       "      <td>35.104023</td>\n",
       "      <td>251.672582</td>\n",
       "      <td>336.449266</td>\n",
       "    </tr>\n",
       "    <tr>\n",
       "      <th>99999</th>\n",
       "      <td>0.0</td>\n",
       "      <td>0.0</td>\n",
       "      <td>0.0</td>\n",
       "      <td>0.0</td>\n",
       "      <td>0.0</td>\n",
       "      <td>1.0</td>\n",
       "      <td>0.0</td>\n",
       "      <td>1.0</td>\n",
       "      <td>0.0</td>\n",
       "      <td>0.0</td>\n",
       "      <td>...</td>\n",
       "      <td>6.0</td>\n",
       "      <td>11.5</td>\n",
       "      <td>3.0</td>\n",
       "      <td>1</td>\n",
       "      <td>502.38</td>\n",
       "      <td>34.192463</td>\n",
       "      <td>382.0</td>\n",
       "      <td>35.104023</td>\n",
       "      <td>167.163865</td>\n",
       "      <td>336.449266</td>\n",
       "    </tr>\n",
       "  </tbody>\n",
       "</table>\n",
       "<p>100000 rows × 44 columns</p>\n",
       "</div>"
      ],
      "text/plain": [
       "        0    1    2    3    4    5    6    7    8    9   ...    34         35  \\\n",
       "0      0.0  0.0  1.0  0.0  0.0  0.0  0.0  1.0  0.0  0.0  ...   7.0      11.27   \n",
       "1      0.0  0.0  0.0  1.0  0.0  0.0  0.0  1.0  0.0  0.0  ...  14.0      11.27   \n",
       "2      0.0  0.0  0.0  0.0  1.0  0.0  0.0  1.0  0.0  0.0  ...   7.0  10.389025   \n",
       "3      0.0  0.0  0.0  0.0  0.0  1.0  0.0  1.0  0.0  0.0  ...   4.0       6.27   \n",
       "4      0.0  1.0  0.0  0.0  0.0  0.0  0.0  1.0  0.0  0.0  ...  14.0      11.27   \n",
       "...    ...  ...  ...  ...  ...  ...  ...  ...  ...  ...  ...   ...        ...   \n",
       "99995  1.0  0.0  0.0  0.0  0.0  0.0  0.0  1.0  0.0  0.0  ...   7.0       11.5   \n",
       "99996  0.0  1.0  0.0  0.0  0.0  0.0  0.0  1.0  0.0  0.0  ...   7.0       11.5   \n",
       "99997  1.0  0.0  0.0  0.0  0.0  0.0  0.0  1.0  0.0  0.0  ...   6.0       11.5   \n",
       "99998  0.0  0.0  0.0  1.0  0.0  0.0  0.0  1.0  0.0  0.0  ...  14.0       11.5   \n",
       "99999  0.0  0.0  0.0  0.0  0.0  1.0  0.0  1.0  0.0  0.0  ...   6.0       11.5   \n",
       "\n",
       "        36 37      38         39          40         41          42  \\\n",
       "0      4.0  3  809.98   26.82262       265.0  49.574949   80.415295   \n",
       "1      4.0  1  809.98   31.94496  221.195405  49.574949  118.280222   \n",
       "2      4.0  1  809.98  28.609352       267.0  49.574949   81.699521   \n",
       "3      4.0  1  809.98  31.377862       268.0  49.574949  199.458074   \n",
       "4      4.0  1  809.98  24.797347       269.0  49.574949   41.420153   \n",
       "...    ... ..     ...        ...         ...        ...         ...   \n",
       "99995  3.0  3  502.38  34.663572       378.0  35.104023   60.971333   \n",
       "99996  3.0  3  502.38  40.565631       379.0  35.104023    54.18595   \n",
       "99997  3.0  1  502.38  41.255522       380.0  35.104023   24.028477   \n",
       "99998  3.0  1  502.38  33.638208       381.0  35.104023  251.672582   \n",
       "99999  3.0  1  502.38  34.192463       382.0  35.104023  167.163865   \n",
       "\n",
       "               43  \n",
       "0      312.494089  \n",
       "1      284.629162  \n",
       "2      331.209863  \n",
       "3       223.45131  \n",
       "4      341.489231  \n",
       "...           ...  \n",
       "99995  336.449266  \n",
       "99996  336.449266  \n",
       "99997  336.449266  \n",
       "99998  336.449266  \n",
       "99999  336.449266  \n",
       "\n",
       "[100000 rows x 44 columns]"
      ]
     },
     "execution_count": 584,
     "metadata": {},
     "output_type": "execute_result"
    }
   ],
   "source": [
    "X"
   ]
  },
  {
   "cell_type": "code",
   "execution_count": 585,
   "id": "24ba9811",
   "metadata": {},
   "outputs": [],
   "source": [
    "y_encoder=LabelEncoder()\n",
    "y_encoder.fit(y)\n",
    "y=y_encoder.transform(y)"
   ]
  },
  {
   "cell_type": "markdown",
   "id": "a4f2020d",
   "metadata": {},
   "source": [
    "## Scaling the Independent Variables"
   ]
  },
  {
   "cell_type": "code",
   "execution_count": 586,
   "id": "6add2012",
   "metadata": {},
   "outputs": [
    {
     "data": {
      "text/plain": [
       "array([[-0.39878639, -0.46120407,  2.79612985, ..., -0.48554785,\n",
       "        -0.66680858, -0.30993069],\n",
       "       [-0.39878639, -0.46120407, -0.35763718, ..., -0.48554785,\n",
       "        -0.31624841, -0.51826523],\n",
       "       [-0.39878639, -0.46120407, -0.35763718, ..., -0.48554785,\n",
       "        -0.65491899, -0.17000057],\n",
       "       ...,\n",
       "       [ 2.50760813, -0.46120407, -0.35763718, ..., -0.66624086,\n",
       "        -1.1888477 , -0.13082772],\n",
       "       [-0.39878639, -0.46120407, -0.35763718, ..., -0.66624086,\n",
       "         0.91872163, -0.13082772],\n",
       "       [-0.39878639, -0.46120407, -0.35763718, ..., -0.66624086,\n",
       "         0.136325  , -0.13082772]])"
      ]
     },
     "execution_count": 586,
     "metadata": {},
     "output_type": "execute_result"
    }
   ],
   "source": [
    "from sklearn.preprocessing import StandardScaler\n",
    "X=StandardScaler().fit_transform(X)\n",
    "X"
   ]
  },
  {
   "cell_type": "code",
   "execution_count": 591,
   "id": "9972c0df",
   "metadata": {},
   "outputs": [
    {
     "data": {
      "text/plain": [
       "<Axes: >"
      ]
     },
     "execution_count": 591,
     "metadata": {},
     "output_type": "execute_result"
    },
    {
     "data": {
      "image/png": "[encoded data removed]",
      "text/plain": [
       "<Figure size 640x480 with 2 Axes>"
      ]
     },
     "metadata": {},
     "output_type": "display_data"
    }
   ],
   "source": [
    "sns.heatmap(pd.DataFrame(X).corr())"
   ]
  },
  {
   "cell_type": "code",
   "execution_count": 659,
   "id": "c5e9c5b2",
   "metadata": {},
   "outputs": [],
   "source": [
    "from sklearn.model_selection import train_test_split\n",
    "X_train,X_test,y_train,y_test=train_test_split(X,y,test_size=0.3,random_state=0)"
   ]
  },
  {
   "cell_type": "markdown",
   "id": "9559a78b",
   "metadata": {},
   "source": [
    "## Using Decision Tree Classification"
   ]
  },
  {
   "cell_type": "code",
   "execution_count": 593,
   "id": "e38946a1",
   "metadata": {},
   "outputs": [],
   "source": [
    "from sklearn.tree import DecisionTreeClassifier\n",
    "classifier1=DecisionTreeClassifier()"
   ]
  },
  {
   "cell_type": "code",
   "execution_count": 594,
   "id": "0334d631",
   "metadata": {},
   "outputs": [
    {
     "data": {
      "text/html": [
       "<style>#sk-container-id-1 {color: black;background-color: white;}#sk-container-id-1 pre{padding: 0;}#sk-container-id-1 div.sk-toggleable {background-color: white;}#sk-container-id-1 label.sk-toggleable__label {cursor: pointer;display: block;width: 100%;margin-bottom: 0;padding: 0.3em;box-sizing: border-box;text-align: center;}#sk-container-id-1 label.sk-toggleable__label-arrow:before {content: \"▸\";float: left;margin-right: 0.25em;color: #696969;}#sk-container-id-1 label.sk-toggleable__label-arrow:hover:before {color: black;}#sk-container-id-1 div.sk-estimator:hover label.sk-toggleable__label-arrow:before {color: black;}#sk-container-id-1 div.sk-toggleable__content {max-height: 0;max-width: 0;overflow: hidden;text-align: left;background-color: #f0f8ff;}#sk-container-id-1 div.sk-toggleable__content pre {margin: 0.2em;color: black;border-radius: 0.25em;background-color: #f0f8ff;}#sk-container-id-1 input.sk-toggleable__control:checked~div.sk-toggleable__content {max-height: 200px;max-width: 100%;overflow: auto;}#sk-container-id-1 input.sk-toggleable__control:checked~label.sk-toggleable__label-arrow:before {content: \"▾\";}#sk-container-id-1 div.sk-estimator input.sk-toggleable__control:checked~label.sk-toggleable__label {background-color: #d4ebff;}#sk-container-id-1 div.sk-label input.sk-toggleable__control:checked~label.sk-toggleable__label {background-color: #d4ebff;}#sk-container-id-1 input.sk-hidden--visually {border: 0;clip: rect(1px 1px 1px 1px);clip: rect(1px, 1px, 1px, 1px);height: 1px;margin: -1px;overflow: hidden;padding: 0;position: absolute;width: 1px;}#sk-container-id-1 div.sk-estimator {font-family: monospace;background-color: #f0f8ff;border: 1px dotted black;border-radius: 0.25em;box-sizing: border-box;margin-bottom: 0.5em;}#sk-container-id-1 div.sk-estimator:hover {background-color: #d4ebff;}#sk-container-id-1 div.sk-parallel-item::after {content: \"\";width: 100%;border-bottom: 1px solid gray;flex-grow: 1;}#sk-container-id-1 div.sk-label:hover label.sk-toggleable__label {background-color: #d4ebff;}#sk-container-id-1 div.sk-serial::before {content: \"\";position: absolute;border-left: 1px solid gray;box-sizing: border-box;top: 0;bottom: 0;left: 50%;z-index: 0;}#sk-container-id-1 div.sk-serial {display: flex;flex-direction: column;align-items: center;background-color: white;padding-right: 0.2em;padding-left: 0.2em;position: relative;}#sk-container-id-1 div.sk-item {position: relative;z-index: 1;}#sk-container-id-1 div.sk-parallel {display: flex;align-items: stretch;justify-content: center;background-color: white;position: relative;}#sk-container-id-1 div.sk-item::before, #sk-container-id-1 div.sk-parallel-item::before {content: \"\";position: absolute;border-left: 1px solid gray;box-sizing: border-box;top: 0;bottom: 0;left: 50%;z-index: -1;}#sk-container-id-1 div.sk-parallel-item {display: flex;flex-direction: column;z-index: 1;position: relative;background-color: white;}#sk-container-id-1 div.sk-parallel-item:first-child::after {align-self: flex-end;width: 50%;}#sk-container-id-1 div.sk-parallel-item:last-child::after {align-self: flex-start;width: 50%;}#sk-container-id-1 div.sk-parallel-item:only-child::after {width: 0;}#sk-container-id-1 div.sk-dashed-wrapped {border: 1px dashed gray;margin: 0 0.4em 0.5em 0.4em;box-sizing: border-box;padding-bottom: 0.4em;background-color: white;}#sk-container-id-1 div.sk-label label {font-family: monospace;font-weight: bold;display: inline-block;line-height: 1.2em;}#sk-container-id-1 div.sk-label-container {text-align: center;}#sk-container-id-1 div.sk-container {/* jupyter's `normalize.less` sets `[hidden] { display: none; }` but bootstrap.min.css set `[hidden] { display: none !important; }` so we also need the `!important` here to be able to override the default hidden behavior on the sphinx rendered scikit-learn.org. See: https://github.com/scikit-learn/scikit-learn/issues/21755 */display: inline-block !important;position: relative;}#sk-container-id-1 div.sk-text-repr-fallback {display: none;}</style><div id=\"sk-container-id-1\" class=\"sk-top-container\"><div class=\"sk-text-repr-fallback\"><pre>DecisionTreeClassifier()</pre><b>In a Jupyter environment, please rerun this cell to show the HTML representation or trust the notebook. <br />On GitHub, the HTML representation is unable to render, please try loading this page with nbviewer.org.</b></div><div class=\"sk-container\" hidden><div class=\"sk-item\"><div class=\"sk-estimator sk-toggleable\"><input class=\"sk-toggleable__control sk-hidden--visually\" id=\"sk-estimator-id-1\" type=\"checkbox\" checked><label for=\"sk-estimator-id-1\" class=\"sk-toggleable__label sk-toggleable__label-arrow\">DecisionTreeClassifier</label><div class=\"sk-toggleable__content\"><pre>DecisionTreeClassifier()</pre></div></div></div></div></div>"
      ],
      "text/plain": [
       "DecisionTreeClassifier()"
      ]
     },
     "execution_count": 594,
     "metadata": {},
     "output_type": "execute_result"
    }
   ],
   "source": [
    "classifier1.fit(X_train,y_train)"
   ]
  },
  {
   "cell_type": "code",
   "execution_count": 595,
   "id": "c2992cbf",
   "metadata": {},
   "outputs": [],
   "source": [
    "y_pred1=classifier1.predict(X_test)"
   ]
  },
  {
   "cell_type": "code",
   "execution_count": 596,
   "id": "8274767c",
   "metadata": {},
   "outputs": [
    {
     "data": {
      "text/plain": [
       "(30000,)"
      ]
     },
     "execution_count": 596,
     "metadata": {},
     "output_type": "execute_result"
    }
   ],
   "source": [
    "y_pred1.shape"
   ]
  },
  {
   "cell_type": "code",
   "execution_count": 597,
   "id": "2596b2a1",
   "metadata": {},
   "outputs": [
    {
     "data": {
      "text/plain": [
       "array([[ 3113,   342,  1863],\n",
       "       [  339,  5752,  2712],\n",
       "       [ 1995,  2592, 11292]], dtype=int64)"
      ]
     },
     "execution_count": 597,
     "metadata": {},
     "output_type": "execute_result"
    }
   ],
   "source": [
    "from sklearn.metrics import confusion_matrix, classification_report\n",
    "confusion_matrix(y_test, y_pred1)"
   ]
  },
  {
   "cell_type": "code",
   "execution_count": 598,
   "id": "21771e9d",
   "metadata": {},
   "outputs": [
    {
     "name": "stdout",
     "output_type": "stream",
     "text": [
      "              precision    recall  f1-score   support\n",
      "\n",
      "           0       0.57      0.59      0.58      5318\n",
      "           1       0.66      0.65      0.66      8803\n",
      "           2       0.71      0.71      0.71     15879\n",
      "\n",
      "    accuracy                           0.67     30000\n",
      "   macro avg       0.65      0.65      0.65     30000\n",
      "weighted avg       0.67      0.67      0.67     30000\n",
      "\n"
     ]
    }
   ],
   "source": [
    "print(classification_report(y_test, y_pred1, zero_division=0.0))"
   ]
  },
  {
   "cell_type": "code",
   "execution_count": 599,
   "id": "e89099ae",
   "metadata": {},
   "outputs": [
    {
     "data": {
      "text/plain": [
       "array([2, 2, 1, ..., 2, 1, 2])"
      ]
     },
     "execution_count": 599,
     "metadata": {},
     "output_type": "execute_result"
    }
   ],
   "source": [
    "y_pred1"
   ]
  },
  {
   "cell_type": "code",
   "execution_count": null,
   "id": "d52e4bd0",
   "metadata": {},
   "outputs": [],
   "source": []
  },
  {
   "cell_type": "markdown",
   "id": "a25b0708",
   "metadata": {},
   "source": [
    "## Using SVC Classifier"
   ]
  },
  {
   "cell_type": "markdown",
   "id": "63fb9a86",
   "metadata": {},
   "source": [
    "#from sklearn.svm import SVC\n",
    "#classifier2= SVC(kernel= 'rbf', random_state=0)\n",
    "#classifier2.fit(X_train, y_train)"
   ]
  },
  {
   "cell_type": "markdown",
   "id": "65518d81",
   "metadata": {},
   "source": [
    "y_pred2=classifier2.predict(X_test)"
   ]
  },
  {
   "cell_type": "markdown",
   "id": "b0dc9308",
   "metadata": {},
   "source": [
    "y_pred2"
   ]
  },
  {
   "cell_type": "markdown",
   "id": "102bb877",
   "metadata": {},
   "source": [
    "print(classification_report(y_test, y_pred2, zero_division=0.0))"
   ]
  },
  {
   "cell_type": "markdown",
   "id": "1eec85ac",
   "metadata": {},
   "source": [
    "## XGboost Classifier"
   ]
  },
  {
   "cell_type": "markdown",
   "id": "9c3555cc",
   "metadata": {},
   "source": [
    "import xgboost as xgb\n",
    "classifier3= xgb.XGBClassifier()\n",
    "classifier3.fit(X_train, y_train)"
   ]
  },
  {
   "cell_type": "markdown",
   "id": "7693e6dc",
   "metadata": {},
   "source": [
    "y_pred3=classifier3.predict(X_test)"
   ]
  },
  {
   "cell_type": "markdown",
   "id": "61d7d381",
   "metadata": {},
   "source": [
    "y_pred3"
   ]
  },
  {
   "cell_type": "markdown",
   "id": "65988424",
   "metadata": {},
   "source": [
    "print(classification_report(y_test, y_pred3, zero_division=0.0))"
   ]
  },
  {
   "cell_type": "code",
   "execution_count": null,
   "id": "25cf16e0",
   "metadata": {},
   "outputs": [],
   "source": []
  },
  {
   "cell_type": "markdown",
   "id": "eec24f10",
   "metadata": {},
   "source": [
    "## KNN Classifier"
   ]
  },
  {
   "cell_type": "code",
   "execution_count": 600,
   "id": "e1639ee9",
   "metadata": {},
   "outputs": [
    {
     "data": {
      "text/html": [
       "<style>#sk-container-id-2 {color: black;background-color: white;}#sk-container-id-2 pre{padding: 0;}#sk-container-id-2 div.sk-toggleable {background-color: white;}#sk-container-id-2 label.sk-toggleable__label {cursor: pointer;display: block;width: 100%;margin-bottom: 0;padding: 0.3em;box-sizing: border-box;text-align: center;}#sk-container-id-2 label.sk-toggleable__label-arrow:before {content: \"▸\";float: left;margin-right: 0.25em;color: #696969;}#sk-container-id-2 label.sk-toggleable__label-arrow:hover:before {color: black;}#sk-container-id-2 div.sk-estimator:hover label.sk-toggleable__label-arrow:before {color: black;}#sk-container-id-2 div.sk-toggleable__content {max-height: 0;max-width: 0;overflow: hidden;text-align: left;background-color: #f0f8ff;}#sk-container-id-2 div.sk-toggleable__content pre {margin: 0.2em;color: black;border-radius: 0.25em;background-color: #f0f8ff;}#sk-container-id-2 input.sk-toggleable__control:checked~div.sk-toggleable__content {max-height: 200px;max-width: 100%;overflow: auto;}#sk-container-id-2 input.sk-toggleable__control:checked~label.sk-toggleable__label-arrow:before {content: \"▾\";}#sk-container-id-2 div.sk-estimator input.sk-toggleable__control:checked~label.sk-toggleable__label {background-color: #d4ebff;}#sk-container-id-2 div.sk-label input.sk-toggleable__control:checked~label.sk-toggleable__label {background-color: #d4ebff;}#sk-container-id-2 input.sk-hidden--visually {border: 0;clip: rect(1px 1px 1px 1px);clip: rect(1px, 1px, 1px, 1px);height: 1px;margin: -1px;overflow: hidden;padding: 0;position: absolute;width: 1px;}#sk-container-id-2 div.sk-estimator {font-family: monospace;background-color: #f0f8ff;border: 1px dotted black;border-radius: 0.25em;box-sizing: border-box;margin-bottom: 0.5em;}#sk-container-id-2 div.sk-estimator:hover {background-color: #d4ebff;}#sk-container-id-2 div.sk-parallel-item::after {content: \"\";width: 100%;border-bottom: 1px solid gray;flex-grow: 1;}#sk-container-id-2 div.sk-label:hover label.sk-toggleable__label {background-color: #d4ebff;}#sk-container-id-2 div.sk-serial::before {content: \"\";position: absolute;border-left: 1px solid gray;box-sizing: border-box;top: 0;bottom: 0;left: 50%;z-index: 0;}#sk-container-id-2 div.sk-serial {display: flex;flex-direction: column;align-items: center;background-color: white;padding-right: 0.2em;padding-left: 0.2em;position: relative;}#sk-container-id-2 div.sk-item {position: relative;z-index: 1;}#sk-container-id-2 div.sk-parallel {display: flex;align-items: stretch;justify-content: center;background-color: white;position: relative;}#sk-container-id-2 div.sk-item::before, #sk-container-id-2 div.sk-parallel-item::before {content: \"\";position: absolute;border-left: 1px solid gray;box-sizing: border-box;top: 0;bottom: 0;left: 50%;z-index: -1;}#sk-container-id-2 div.sk-parallel-item {display: flex;flex-direction: column;z-index: 1;position: relative;background-color: white;}#sk-container-id-2 div.sk-parallel-item:first-child::after {align-self: flex-end;width: 50%;}#sk-container-id-2 div.sk-parallel-item:last-child::after {align-self: flex-start;width: 50%;}#sk-container-id-2 div.sk-parallel-item:only-child::after {width: 0;}#sk-container-id-2 div.sk-dashed-wrapped {border: 1px dashed gray;margin: 0 0.4em 0.5em 0.4em;box-sizing: border-box;padding-bottom: 0.4em;background-color: white;}#sk-container-id-2 div.sk-label label {font-family: monospace;font-weight: bold;display: inline-block;line-height: 1.2em;}#sk-container-id-2 div.sk-label-container {text-align: center;}#sk-container-id-2 div.sk-container {/* jupyter's `normalize.less` sets `[hidden] { display: none; }` but bootstrap.min.css set `[hidden] { display: none !important; }` so we also need the `!important` here to be able to override the default hidden behavior on the sphinx rendered scikit-learn.org. See: https://github.com/scikit-learn/scikit-learn/issues/21755 */display: inline-block !important;position: relative;}#sk-container-id-2 div.sk-text-repr-fallback {display: none;}</style><div id=\"sk-container-id-2\" class=\"sk-top-container\"><div class=\"sk-text-repr-fallback\"><pre>KNeighborsClassifier()</pre><b>In a Jupyter environment, please rerun this cell to show the HTML representation or trust the notebook. <br />On GitHub, the HTML representation is unable to render, please try loading this page with nbviewer.org.</b></div><div class=\"sk-container\" hidden><div class=\"sk-item\"><div class=\"sk-estimator sk-toggleable\"><input class=\"sk-toggleable__control sk-hidden--visually\" id=\"sk-estimator-id-2\" type=\"checkbox\" checked><label for=\"sk-estimator-id-2\" class=\"sk-toggleable__label sk-toggleable__label-arrow\">KNeighborsClassifier</label><div class=\"sk-toggleable__content\"><pre>KNeighborsClassifier()</pre></div></div></div></div></div>"
      ],
      "text/plain": [
       "KNeighborsClassifier()"
      ]
     },
     "execution_count": 600,
     "metadata": {},
     "output_type": "execute_result"
    }
   ],
   "source": [
    "from sklearn import neighbors\n",
    "classifier5=neighbors.KNeighborsClassifier()\n",
    "classifier5.fit(X_train,y_train)"
   ]
  },
  {
   "cell_type": "code",
   "execution_count": 601,
   "id": "c776b095",
   "metadata": {},
   "outputs": [
    {
     "data": {
      "text/plain": [
       "array([1, 1, 0, ..., 0, 1, 2])"
      ]
     },
     "execution_count": 601,
     "metadata": {},
     "output_type": "execute_result"
    }
   ],
   "source": [
    "y_pred5=classifier5.predict(X_test)\n",
    "y_pred5"
   ]
  },
  {
   "cell_type": "code",
   "execution_count": 602,
   "id": "e052a4eb",
   "metadata": {},
   "outputs": [
    {
     "name": "stdout",
     "output_type": "stream",
     "text": [
      "              precision    recall  f1-score   support\n",
      "\n",
      "           0       0.49      0.51      0.50      5318\n",
      "           1       0.64      0.59      0.61      8803\n",
      "           2       0.68      0.70      0.69     15879\n",
      "\n",
      "    accuracy                           0.63     30000\n",
      "   macro avg       0.60      0.60      0.60     30000\n",
      "weighted avg       0.63      0.63      0.63     30000\n",
      "\n"
     ]
    }
   ],
   "source": [
    "print(classification_report(y_test, y_pred5, zero_division=0.0))"
   ]
  },
  {
   "cell_type": "code",
   "execution_count": null,
   "id": "34cccae6",
   "metadata": {},
   "outputs": [],
   "source": []
  },
  {
   "cell_type": "markdown",
   "id": "324a3f01",
   "metadata": {},
   "source": [
    "## Naive Bayes Classifier"
   ]
  },
  {
   "cell_type": "code",
   "execution_count": 603,
   "id": "6fa8ad2b",
   "metadata": {},
   "outputs": [],
   "source": [
    "from sklearn.naive_bayes import GaussianNB\n",
    "classifier6=GaussianNB()"
   ]
  },
  {
   "cell_type": "code",
   "execution_count": 604,
   "id": "1094c45c",
   "metadata": {},
   "outputs": [
    {
     "data": {
      "text/plain": [
       "array([1, 1, 0, ..., 0, 1, 1])"
      ]
     },
     "execution_count": 604,
     "metadata": {},
     "output_type": "execute_result"
    }
   ],
   "source": [
    "classifier6.fit(X_train,y_train)\n",
    "y_pred6=classifier6.predict(X_test)\n",
    "y_pred6"
   ]
  },
  {
   "cell_type": "code",
   "execution_count": 605,
   "id": "7719cada",
   "metadata": {},
   "outputs": [
    {
     "name": "stdout",
     "output_type": "stream",
     "text": [
      "              precision    recall  f1-score   support\n",
      "\n",
      "           0       0.40      0.85      0.54      5318\n",
      "           1       0.61      0.71      0.66      8803\n",
      "           2       0.81      0.43      0.56     15879\n",
      "\n",
      "    accuracy                           0.59     30000\n",
      "   macro avg       0.61      0.66      0.59     30000\n",
      "weighted avg       0.68      0.59      0.59     30000\n",
      "\n"
     ]
    }
   ],
   "source": [
    "print(classification_report(y_test, y_pred6, zero_division=0.0))"
   ]
  },
  {
   "cell_type": "code",
   "execution_count": null,
   "id": "7f2e1179",
   "metadata": {},
   "outputs": [],
   "source": []
  },
  {
   "cell_type": "markdown",
   "id": "b89241ae",
   "metadata": {},
   "source": [
    "## Random Forest Classifier"
   ]
  },
  {
   "cell_type": "code",
   "execution_count": 606,
   "id": "010ac61b",
   "metadata": {},
   "outputs": [],
   "source": [
    "from sklearn.ensemble import RandomForestClassifier"
   ]
  },
  {
   "cell_type": "code",
   "execution_count": 607,
   "id": "2a3e5da0",
   "metadata": {},
   "outputs": [
    {
     "data": {
      "text/html": [
       "<style>#sk-container-id-3 {color: black;background-color: white;}#sk-container-id-3 pre{padding: 0;}#sk-container-id-3 div.sk-toggleable {background-color: white;}#sk-container-id-3 label.sk-toggleable__label {cursor: pointer;display: block;width: 100%;margin-bottom: 0;padding: 0.3em;box-sizing: border-box;text-align: center;}#sk-container-id-3 label.sk-toggleable__label-arrow:before {content: \"▸\";float: left;margin-right: 0.25em;color: #696969;}#sk-container-id-3 label.sk-toggleable__label-arrow:hover:before {color: black;}#sk-container-id-3 div.sk-estimator:hover label.sk-toggleable__label-arrow:before {color: black;}#sk-container-id-3 div.sk-toggleable__content {max-height: 0;max-width: 0;overflow: hidden;text-align: left;background-color: #f0f8ff;}#sk-container-id-3 div.sk-toggleable__content pre {margin: 0.2em;color: black;border-radius: 0.25em;background-color: #f0f8ff;}#sk-container-id-3 input.sk-toggleable__control:checked~div.sk-toggleable__content {max-height: 200px;max-width: 100%;overflow: auto;}#sk-container-id-3 input.sk-toggleable__control:checked~label.sk-toggleable__label-arrow:before {content: \"▾\";}#sk-container-id-3 div.sk-estimator input.sk-toggleable__control:checked~label.sk-toggleable__label {background-color: #d4ebff;}#sk-container-id-3 div.sk-label input.sk-toggleable__control:checked~label.sk-toggleable__label {background-color: #d4ebff;}#sk-container-id-3 input.sk-hidden--visually {border: 0;clip: rect(1px 1px 1px 1px);clip: rect(1px, 1px, 1px, 1px);height: 1px;margin: -1px;overflow: hidden;padding: 0;position: absolute;width: 1px;}#sk-container-id-3 div.sk-estimator {font-family: monospace;background-color: #f0f8ff;border: 1px dotted black;border-radius: 0.25em;box-sizing: border-box;margin-bottom: 0.5em;}#sk-container-id-3 div.sk-estimator:hover {background-color: #d4ebff;}#sk-container-id-3 div.sk-parallel-item::after {content: \"\";width: 100%;border-bottom: 1px solid gray;flex-grow: 1;}#sk-container-id-3 div.sk-label:hover label.sk-toggleable__label {background-color: #d4ebff;}#sk-container-id-3 div.sk-serial::before {content: \"\";position: absolute;border-left: 1px solid gray;box-sizing: border-box;top: 0;bottom: 0;left: 50%;z-index: 0;}#sk-container-id-3 div.sk-serial {display: flex;flex-direction: column;align-items: center;background-color: white;padding-right: 0.2em;padding-left: 0.2em;position: relative;}#sk-container-id-3 div.sk-item {position: relative;z-index: 1;}#sk-container-id-3 div.sk-parallel {display: flex;align-items: stretch;justify-content: center;background-color: white;position: relative;}#sk-container-id-3 div.sk-item::before, #sk-container-id-3 div.sk-parallel-item::before {content: \"\";position: absolute;border-left: 1px solid gray;box-sizing: border-box;top: 0;bottom: 0;left: 50%;z-index: -1;}#sk-container-id-3 div.sk-parallel-item {display: flex;flex-direction: column;z-index: 1;position: relative;background-color: white;}#sk-container-id-3 div.sk-parallel-item:first-child::after {align-self: flex-end;width: 50%;}#sk-container-id-3 div.sk-parallel-item:last-child::after {align-self: flex-start;width: 50%;}#sk-container-id-3 div.sk-parallel-item:only-child::after {width: 0;}#sk-container-id-3 div.sk-dashed-wrapped {border: 1px dashed gray;margin: 0 0.4em 0.5em 0.4em;box-sizing: border-box;padding-bottom: 0.4em;background-color: white;}#sk-container-id-3 div.sk-label label {font-family: monospace;font-weight: bold;display: inline-block;line-height: 1.2em;}#sk-container-id-3 div.sk-label-container {text-align: center;}#sk-container-id-3 div.sk-container {/* jupyter's `normalize.less` sets `[hidden] { display: none; }` but bootstrap.min.css set `[hidden] { display: none !important; }` so we also need the `!important` here to be able to override the default hidden behavior on the sphinx rendered scikit-learn.org. See: https://github.com/scikit-learn/scikit-learn/issues/21755 */display: inline-block !important;position: relative;}#sk-container-id-3 div.sk-text-repr-fallback {display: none;}</style><div id=\"sk-container-id-3\" class=\"sk-top-container\"><div class=\"sk-text-repr-fallback\"><pre>RandomForestClassifier()</pre><b>In a Jupyter environment, please rerun this cell to show the HTML representation or trust the notebook. <br />On GitHub, the HTML representation is unable to render, please try loading this page with nbviewer.org.</b></div><div class=\"sk-container\" hidden><div class=\"sk-item\"><div class=\"sk-estimator sk-toggleable\"><input class=\"sk-toggleable__control sk-hidden--visually\" id=\"sk-estimator-id-3\" type=\"checkbox\" checked><label for=\"sk-estimator-id-3\" class=\"sk-toggleable__label sk-toggleable__label-arrow\">RandomForestClassifier</label><div class=\"sk-toggleable__content\"><pre>RandomForestClassifier()</pre></div></div></div></div></div>"
      ],
      "text/plain": [
       "RandomForestClassifier()"
      ]
     },
     "execution_count": 607,
     "metadata": {},
     "output_type": "execute_result"
    }
   ],
   "source": [
    "classifier4=RandomForestClassifier()\n",
    "classifier4.fit(X_train,y_train)"
   ]
  },
  {
   "cell_type": "code",
   "execution_count": 608,
   "id": "59bf5c93",
   "metadata": {},
   "outputs": [
    {
     "data": {
      "text/plain": [
       "array([1, 2, 1, ..., 2, 1, 2])"
      ]
     },
     "execution_count": 608,
     "metadata": {},
     "output_type": "execute_result"
    }
   ],
   "source": [
    "y_pred4=classifier4.predict(X_test)\n",
    "y_pred4"
   ]
  },
  {
   "cell_type": "code",
   "execution_count": 609,
   "id": "badc85f4",
   "metadata": {},
   "outputs": [
    {
     "name": "stdout",
     "output_type": "stream",
     "text": [
      "              precision    recall  f1-score   support\n",
      "\n",
      "           0       0.70      0.70      0.70      5318\n",
      "           1       0.78      0.78      0.78      8803\n",
      "           2       0.79      0.80      0.80     15879\n",
      "\n",
      "    accuracy                           0.77     30000\n",
      "   macro avg       0.76      0.76      0.76     30000\n",
      "weighted avg       0.77      0.77      0.77     30000\n",
      "\n"
     ]
    }
   ],
   "source": [
    "print(classification_report(y_test, y_pred4, zero_division=0.0))"
   ]
  },
  {
   "cell_type": "code",
   "execution_count": 610,
   "id": "e70f1d31",
   "metadata": {},
   "outputs": [],
   "source": [
    "parameters ={\n",
    "    'criterion':['gini','entrophy'],\n",
    "    'max_depth':[1,2,3,4,5,6,7,8,9,10,11,12,13,14,15,16,17],\n",
    "    'max_features':['auto', 'sqrt']\n",
    "}"
   ]
  },
  {
   "cell_type": "code",
   "execution_count": 611,
   "id": "06e0c868",
   "metadata": {},
   "outputs": [
    {
     "data": {
      "text/html": [
       "<style>#sk-container-id-4 {color: black;background-color: white;}#sk-container-id-4 pre{padding: 0;}#sk-container-id-4 div.sk-toggleable {background-color: white;}#sk-container-id-4 label.sk-toggleable__label {cursor: pointer;display: block;width: 100%;margin-bottom: 0;padding: 0.3em;box-sizing: border-box;text-align: center;}#sk-container-id-4 label.sk-toggleable__label-arrow:before {content: \"▸\";float: left;margin-right: 0.25em;color: #696969;}#sk-container-id-4 label.sk-toggleable__label-arrow:hover:before {color: black;}#sk-container-id-4 div.sk-estimator:hover label.sk-toggleable__label-arrow:before {color: black;}#sk-container-id-4 div.sk-toggleable__content {max-height: 0;max-width: 0;overflow: hidden;text-align: left;background-color: #f0f8ff;}#sk-container-id-4 div.sk-toggleable__content pre {margin: 0.2em;color: black;border-radius: 0.25em;background-color: #f0f8ff;}#sk-container-id-4 input.sk-toggleable__control:checked~div.sk-toggleable__content {max-height: 200px;max-width: 100%;overflow: auto;}#sk-container-id-4 input.sk-toggleable__control:checked~label.sk-toggleable__label-arrow:before {content: \"▾\";}#sk-container-id-4 div.sk-estimator input.sk-toggleable__control:checked~label.sk-toggleable__label {background-color: #d4ebff;}#sk-container-id-4 div.sk-label input.sk-toggleable__control:checked~label.sk-toggleable__label {background-color: #d4ebff;}#sk-container-id-4 input.sk-hidden--visually {border: 0;clip: rect(1px 1px 1px 1px);clip: rect(1px, 1px, 1px, 1px);height: 1px;margin: -1px;overflow: hidden;padding: 0;position: absolute;width: 1px;}#sk-container-id-4 div.sk-estimator {font-family: monospace;background-color: #f0f8ff;border: 1px dotted black;border-radius: 0.25em;box-sizing: border-box;margin-bottom: 0.5em;}#sk-container-id-4 div.sk-estimator:hover {background-color: #d4ebff;}#sk-container-id-4 div.sk-parallel-item::after {content: \"\";width: 100%;border-bottom: 1px solid gray;flex-grow: 1;}#sk-container-id-4 div.sk-label:hover label.sk-toggleable__label {background-color: #d4ebff;}#sk-container-id-4 div.sk-serial::before {content: \"\";position: absolute;border-left: 1px solid gray;box-sizing: border-box;top: 0;bottom: 0;left: 50%;z-index: 0;}#sk-container-id-4 div.sk-serial {display: flex;flex-direction: column;align-items: center;background-color: white;padding-right: 0.2em;padding-left: 0.2em;position: relative;}#sk-container-id-4 div.sk-item {position: relative;z-index: 1;}#sk-container-id-4 div.sk-parallel {display: flex;align-items: stretch;justify-content: center;background-color: white;position: relative;}#sk-container-id-4 div.sk-item::before, #sk-container-id-4 div.sk-parallel-item::before {content: \"\";position: absolute;border-left: 1px solid gray;box-sizing: border-box;top: 0;bottom: 0;left: 50%;z-index: -1;}#sk-container-id-4 div.sk-parallel-item {display: flex;flex-direction: column;z-index: 1;position: relative;background-color: white;}#sk-container-id-4 div.sk-parallel-item:first-child::after {align-self: flex-end;width: 50%;}#sk-container-id-4 div.sk-parallel-item:last-child::after {align-self: flex-start;width: 50%;}#sk-container-id-4 div.sk-parallel-item:only-child::after {width: 0;}#sk-container-id-4 div.sk-dashed-wrapped {border: 1px dashed gray;margin: 0 0.4em 0.5em 0.4em;box-sizing: border-box;padding-bottom: 0.4em;background-color: white;}#sk-container-id-4 div.sk-label label {font-family: monospace;font-weight: bold;display: inline-block;line-height: 1.2em;}#sk-container-id-4 div.sk-label-container {text-align: center;}#sk-container-id-4 div.sk-container {/* jupyter's `normalize.less` sets `[hidden] { display: none; }` but bootstrap.min.css set `[hidden] { display: none !important; }` so we also need the `!important` here to be able to override the default hidden behavior on the sphinx rendered scikit-learn.org. See: https://github.com/scikit-learn/scikit-learn/issues/21755 */display: inline-block !important;position: relative;}#sk-container-id-4 div.sk-text-repr-fallback {display: none;}</style><div id=\"sk-container-id-4\" class=\"sk-top-container\"><div class=\"sk-text-repr-fallback\"><pre>GridSearchCV(cv=5, estimator=RandomForestClassifier(),\n",
       "             param_grid={&#x27;criterion&#x27;: [&#x27;gini&#x27;, &#x27;entrophy&#x27;],\n",
       "                         &#x27;max_depth&#x27;: [1, 2, 3, 4, 5, 6, 7, 8, 9, 10, 11, 12,\n",
       "                                       13, 14, 15, 16, 17],\n",
       "                         &#x27;max_features&#x27;: [&#x27;auto&#x27;, &#x27;sqrt&#x27;]},\n",
       "             scoring=&#x27;accuracy&#x27;)</pre><b>In a Jupyter environment, please rerun this cell to show the HTML representation or trust the notebook. <br />On GitHub, the HTML representation is unable to render, please try loading this page with nbviewer.org.</b></div><div class=\"sk-container\" hidden><div class=\"sk-item sk-dashed-wrapped\"><div class=\"sk-label-container\"><div class=\"sk-label sk-toggleable\"><input class=\"sk-toggleable__control sk-hidden--visually\" id=\"sk-estimator-id-4\" type=\"checkbox\" ><label for=\"sk-estimator-id-4\" class=\"sk-toggleable__label sk-toggleable__label-arrow\">GridSearchCV</label><div class=\"sk-toggleable__content\"><pre>GridSearchCV(cv=5, estimator=RandomForestClassifier(),\n",
       "             param_grid={&#x27;criterion&#x27;: [&#x27;gini&#x27;, &#x27;entrophy&#x27;],\n",
       "                         &#x27;max_depth&#x27;: [1, 2, 3, 4, 5, 6, 7, 8, 9, 10, 11, 12,\n",
       "                                       13, 14, 15, 16, 17],\n",
       "                         &#x27;max_features&#x27;: [&#x27;auto&#x27;, &#x27;sqrt&#x27;]},\n",
       "             scoring=&#x27;accuracy&#x27;)</pre></div></div></div><div class=\"sk-parallel\"><div class=\"sk-parallel-item\"><div class=\"sk-item\"><div class=\"sk-label-container\"><div class=\"sk-label sk-toggleable\"><input class=\"sk-toggleable__control sk-hidden--visually\" id=\"sk-estimator-id-5\" type=\"checkbox\" ><label for=\"sk-estimator-id-5\" class=\"sk-toggleable__label sk-toggleable__label-arrow\">estimator: RandomForestClassifier</label><div class=\"sk-toggleable__content\"><pre>RandomForestClassifier()</pre></div></div></div><div class=\"sk-serial\"><div class=\"sk-item\"><div class=\"sk-estimator sk-toggleable\"><input class=\"sk-toggleable__control sk-hidden--visually\" id=\"sk-estimator-id-6\" type=\"checkbox\" ><label for=\"sk-estimator-id-6\" class=\"sk-toggleable__label sk-toggleable__label-arrow\">RandomForestClassifier</label><div class=\"sk-toggleable__content\"><pre>RandomForestClassifier()</pre></div></div></div></div></div></div></div></div></div></div>"
      ],
      "text/plain": [
       "GridSearchCV(cv=5, estimator=RandomForestClassifier(),\n",
       "             param_grid={'criterion': ['gini', 'entrophy'],\n",
       "                         'max_depth': [1, 2, 3, 4, 5, 6, 7, 8, 9, 10, 11, 12,\n",
       "                                       13, 14, 15, 16, 17],\n",
       "                         'max_features': ['auto', 'sqrt']},\n",
       "             scoring='accuracy')"
      ]
     },
     "execution_count": 611,
     "metadata": {},
     "output_type": "execute_result"
    }
   ],
   "source": [
    "from sklearn.model_selection import GridSearchCV\n",
    "cv = GridSearchCV(classifier4, param_grid = parameters, cv=5,scoring='accuracy')\n",
    "cv"
   ]
  },
  {
   "cell_type": "code",
   "execution_count": 612,
   "id": "db656959",
   "metadata": {},
   "outputs": [
    {
     "name": "stderr",
     "output_type": "stream",
     "text": [
      "C:\\Users\\Rajesh Desai\\anaconda3\\lib\\site-packages\\sklearn\\ensemble\\_forest.py:424: FutureWarning: `max_features='auto'` has been deprecated in 1.1 and will be removed in 1.3. To keep the past behaviour, explicitly set `max_features='sqrt'` or remove this parameter as it is also the default value for RandomForestClassifiers and ExtraTreesClassifiers.\n",
      "  warn(\n",
      "C:\\Users\\Rajesh Desai\\anaconda3\\lib\\site-packages\\sklearn\\ensemble\\_forest.py:424: FutureWarning: `max_features='auto'` has been deprecated in 1.1 and will be removed in 1.3. To keep the past behaviour, explicitly set `max_features='sqrt'` or remove this parameter as it is also the default value for RandomForestClassifiers and ExtraTreesClassifiers.\n",
      "  warn(\n",
      "C:\\Users\\Rajesh Desai\\anaconda3\\lib\\site-packages\\sklearn\\ensemble\\_forest.py:424: FutureWarning: `max_features='auto'` has been deprecated in 1.1 and will be removed in 1.3. To keep the past behaviour, explicitly set `max_features='sqrt'` or remove this parameter as it is also the default value for RandomForestClassifiers and ExtraTreesClassifiers.\n",
      "  warn(\n",
      "C:\\Users\\Rajesh Desai\\anaconda3\\lib\\site-packages\\sklearn\\ensemble\\_forest.py:424: FutureWarning: `max_features='auto'` has been deprecated in 1.1 and will be removed in 1.3. To keep the past behaviour, explicitly set `max_features='sqrt'` or remove this parameter as it is also the default value for RandomForestClassifiers and ExtraTreesClassifiers.\n",
      "  warn(\n",
      "C:\\Users\\Rajesh Desai\\anaconda3\\lib\\site-packages\\sklearn\\ensemble\\_forest.py:424: FutureWarning: `max_features='auto'` has been deprecated in 1.1 and will be removed in 1.3. To keep the past behaviour, explicitly set `max_features='sqrt'` or remove this parameter as it is also the default value for RandomForestClassifiers and ExtraTreesClassifiers.\n",
      "  warn(\n",
      "C:\\Users\\Rajesh Desai\\anaconda3\\lib\\site-packages\\sklearn\\ensemble\\_forest.py:424: FutureWarning: `max_features='auto'` has been deprecated in 1.1 and will be removed in 1.3. To keep the past behaviour, explicitly set `max_features='sqrt'` or remove this parameter as it is also the default value for RandomForestClassifiers and ExtraTreesClassifiers.\n",
      "  warn(\n",
      "C:\\Users\\Rajesh Desai\\anaconda3\\lib\\site-packages\\sklearn\\ensemble\\_forest.py:424: FutureWarning: `max_features='auto'` has been deprecated in 1.1 and will be removed in 1.3. To keep the past behaviour, explicitly set `max_features='sqrt'` or remove this parameter as it is also the default value for RandomForestClassifiers and ExtraTreesClassifiers.\n",
      "  warn(\n",
      "C:\\Users\\Rajesh Desai\\anaconda3\\lib\\site-packages\\sklearn\\ensemble\\_forest.py:424: FutureWarning: `max_features='auto'` has been deprecated in 1.1 and will be removed in 1.3. To keep the past behaviour, explicitly set `max_features='sqrt'` or remove this parameter as it is also the default value for RandomForestClassifiers and ExtraTreesClassifiers.\n",
      "  warn(\n",
      "C:\\Users\\Rajesh Desai\\anaconda3\\lib\\site-packages\\sklearn\\ensemble\\_forest.py:424: FutureWarning: `max_features='auto'` has been deprecated in 1.1 and will be removed in 1.3. To keep the past behaviour, explicitly set `max_features='sqrt'` or remove this parameter as it is also the default value for RandomForestClassifiers and ExtraTreesClassifiers.\n",
      "  warn(\n",
      "C:\\Users\\Rajesh Desai\\anaconda3\\lib\\site-packages\\sklearn\\ensemble\\_forest.py:424: FutureWarning: `max_features='auto'` has been deprecated in 1.1 and will be removed in 1.3. To keep the past behaviour, explicitly set `max_features='sqrt'` or remove this parameter as it is also the default value for RandomForestClassifiers and ExtraTreesClassifiers.\n",
      "  warn(\n",
      "C:\\Users\\Rajesh Desai\\anaconda3\\lib\\site-packages\\sklearn\\ensemble\\_forest.py:424: FutureWarning: `max_features='auto'` has been deprecated in 1.1 and will be removed in 1.3. To keep the past behaviour, explicitly set `max_features='sqrt'` or remove this parameter as it is also the default value for RandomForestClassifiers and ExtraTreesClassifiers.\n",
      "  warn(\n",
      "C:\\Users\\Rajesh Desai\\anaconda3\\lib\\site-packages\\sklearn\\ensemble\\_forest.py:424: FutureWarning: `max_features='auto'` has been deprecated in 1.1 and will be removed in 1.3. To keep the past behaviour, explicitly set `max_features='sqrt'` or remove this parameter as it is also the default value for RandomForestClassifiers and ExtraTreesClassifiers.\n",
      "  warn(\n",
      "C:\\Users\\Rajesh Desai\\anaconda3\\lib\\site-packages\\sklearn\\ensemble\\_forest.py:424: FutureWarning: `max_features='auto'` has been deprecated in 1.1 and will be removed in 1.3. To keep the past behaviour, explicitly set `max_features='sqrt'` or remove this parameter as it is also the default value for RandomForestClassifiers and ExtraTreesClassifiers.\n",
      "  warn(\n",
      "C:\\Users\\Rajesh Desai\\anaconda3\\lib\\site-packages\\sklearn\\ensemble\\_forest.py:424: FutureWarning: `max_features='auto'` has been deprecated in 1.1 and will be removed in 1.3. To keep the past behaviour, explicitly set `max_features='sqrt'` or remove this parameter as it is also the default value for RandomForestClassifiers and ExtraTreesClassifiers.\n",
      "  warn(\n",
      "C:\\Users\\Rajesh Desai\\anaconda3\\lib\\site-packages\\sklearn\\ensemble\\_forest.py:424: FutureWarning: `max_features='auto'` has been deprecated in 1.1 and will be removed in 1.3. To keep the past behaviour, explicitly set `max_features='sqrt'` or remove this parameter as it is also the default value for RandomForestClassifiers and ExtraTreesClassifiers.\n",
      "  warn(\n",
      "C:\\Users\\Rajesh Desai\\anaconda3\\lib\\site-packages\\sklearn\\ensemble\\_forest.py:424: FutureWarning: `max_features='auto'` has been deprecated in 1.1 and will be removed in 1.3. To keep the past behaviour, explicitly set `max_features='sqrt'` or remove this parameter as it is also the default value for RandomForestClassifiers and ExtraTreesClassifiers.\n",
      "  warn(\n",
      "C:\\Users\\Rajesh Desai\\anaconda3\\lib\\site-packages\\sklearn\\ensemble\\_forest.py:424: FutureWarning: `max_features='auto'` has been deprecated in 1.1 and will be removed in 1.3. To keep the past behaviour, explicitly set `max_features='sqrt'` or remove this parameter as it is also the default value for RandomForestClassifiers and ExtraTreesClassifiers.\n",
      "  warn(\n",
      "C:\\Users\\Rajesh Desai\\anaconda3\\lib\\site-packages\\sklearn\\ensemble\\_forest.py:424: FutureWarning: `max_features='auto'` has been deprecated in 1.1 and will be removed in 1.3. To keep the past behaviour, explicitly set `max_features='sqrt'` or remove this parameter as it is also the default value for RandomForestClassifiers and ExtraTreesClassifiers.\n",
      "  warn(\n",
      "C:\\Users\\Rajesh Desai\\anaconda3\\lib\\site-packages\\sklearn\\ensemble\\_forest.py:424: FutureWarning: `max_features='auto'` has been deprecated in 1.1 and will be removed in 1.3. To keep the past behaviour, explicitly set `max_features='sqrt'` or remove this parameter as it is also the default value for RandomForestClassifiers and ExtraTreesClassifiers.\n",
      "  warn(\n",
      "C:\\Users\\Rajesh Desai\\anaconda3\\lib\\site-packages\\sklearn\\ensemble\\_forest.py:424: FutureWarning: `max_features='auto'` has been deprecated in 1.1 and will be removed in 1.3. To keep the past behaviour, explicitly set `max_features='sqrt'` or remove this parameter as it is also the default value for RandomForestClassifiers and ExtraTreesClassifiers.\n",
      "  warn(\n",
      "C:\\Users\\Rajesh Desai\\anaconda3\\lib\\site-packages\\sklearn\\ensemble\\_forest.py:424: FutureWarning: `max_features='auto'` has been deprecated in 1.1 and will be removed in 1.3. To keep the past behaviour, explicitly set `max_features='sqrt'` or remove this parameter as it is also the default value for RandomForestClassifiers and ExtraTreesClassifiers.\n",
      "  warn(\n",
      "C:\\Users\\Rajesh Desai\\anaconda3\\lib\\site-packages\\sklearn\\ensemble\\_forest.py:424: FutureWarning: `max_features='auto'` has been deprecated in 1.1 and will be removed in 1.3. To keep the past behaviour, explicitly set `max_features='sqrt'` or remove this parameter as it is also the default value for RandomForestClassifiers and ExtraTreesClassifiers.\n",
      "  warn(\n",
      "C:\\Users\\Rajesh Desai\\anaconda3\\lib\\site-packages\\sklearn\\ensemble\\_forest.py:424: FutureWarning: `max_features='auto'` has been deprecated in 1.1 and will be removed in 1.3. To keep the past behaviour, explicitly set `max_features='sqrt'` or remove this parameter as it is also the default value for RandomForestClassifiers and ExtraTreesClassifiers.\n",
      "  warn(\n"
     ]
    },
    {
     "name": "stderr",
     "output_type": "stream",
     "text": [
      "C:\\Users\\Rajesh Desai\\anaconda3\\lib\\site-packages\\sklearn\\ensemble\\_forest.py:424: FutureWarning: `max_features='auto'` has been deprecated in 1.1 and will be removed in 1.3. To keep the past behaviour, explicitly set `max_features='sqrt'` or remove this parameter as it is also the default value for RandomForestClassifiers and ExtraTreesClassifiers.\n",
      "  warn(\n",
      "C:\\Users\\Rajesh Desai\\anaconda3\\lib\\site-packages\\sklearn\\ensemble\\_forest.py:424: FutureWarning: `max_features='auto'` has been deprecated in 1.1 and will be removed in 1.3. To keep the past behaviour, explicitly set `max_features='sqrt'` or remove this parameter as it is also the default value for RandomForestClassifiers and ExtraTreesClassifiers.\n",
      "  warn(\n",
      "C:\\Users\\Rajesh Desai\\anaconda3\\lib\\site-packages\\sklearn\\ensemble\\_forest.py:424: FutureWarning: `max_features='auto'` has been deprecated in 1.1 and will be removed in 1.3. To keep the past behaviour, explicitly set `max_features='sqrt'` or remove this parameter as it is also the default value for RandomForestClassifiers and ExtraTreesClassifiers.\n",
      "  warn(\n",
      "C:\\Users\\Rajesh Desai\\anaconda3\\lib\\site-packages\\sklearn\\ensemble\\_forest.py:424: FutureWarning: `max_features='auto'` has been deprecated in 1.1 and will be removed in 1.3. To keep the past behaviour, explicitly set `max_features='sqrt'` or remove this parameter as it is also the default value for RandomForestClassifiers and ExtraTreesClassifiers.\n",
      "  warn(\n",
      "C:\\Users\\Rajesh Desai\\anaconda3\\lib\\site-packages\\sklearn\\ensemble\\_forest.py:424: FutureWarning: `max_features='auto'` has been deprecated in 1.1 and will be removed in 1.3. To keep the past behaviour, explicitly set `max_features='sqrt'` or remove this parameter as it is also the default value for RandomForestClassifiers and ExtraTreesClassifiers.\n",
      "  warn(\n",
      "C:\\Users\\Rajesh Desai\\anaconda3\\lib\\site-packages\\sklearn\\ensemble\\_forest.py:424: FutureWarning: `max_features='auto'` has been deprecated in 1.1 and will be removed in 1.3. To keep the past behaviour, explicitly set `max_features='sqrt'` or remove this parameter as it is also the default value for RandomForestClassifiers and ExtraTreesClassifiers.\n",
      "  warn(\n",
      "C:\\Users\\Rajesh Desai\\anaconda3\\lib\\site-packages\\sklearn\\ensemble\\_forest.py:424: FutureWarning: `max_features='auto'` has been deprecated in 1.1 and will be removed in 1.3. To keep the past behaviour, explicitly set `max_features='sqrt'` or remove this parameter as it is also the default value for RandomForestClassifiers and ExtraTreesClassifiers.\n",
      "  warn(\n",
      "C:\\Users\\Rajesh Desai\\anaconda3\\lib\\site-packages\\sklearn\\ensemble\\_forest.py:424: FutureWarning: `max_features='auto'` has been deprecated in 1.1 and will be removed in 1.3. To keep the past behaviour, explicitly set `max_features='sqrt'` or remove this parameter as it is also the default value for RandomForestClassifiers and ExtraTreesClassifiers.\n",
      "  warn(\n",
      "C:\\Users\\Rajesh Desai\\anaconda3\\lib\\site-packages\\sklearn\\ensemble\\_forest.py:424: FutureWarning: `max_features='auto'` has been deprecated in 1.1 and will be removed in 1.3. To keep the past behaviour, explicitly set `max_features='sqrt'` or remove this parameter as it is also the default value for RandomForestClassifiers and ExtraTreesClassifiers.\n",
      "  warn(\n",
      "C:\\Users\\Rajesh Desai\\anaconda3\\lib\\site-packages\\sklearn\\ensemble\\_forest.py:424: FutureWarning: `max_features='auto'` has been deprecated in 1.1 and will be removed in 1.3. To keep the past behaviour, explicitly set `max_features='sqrt'` or remove this parameter as it is also the default value for RandomForestClassifiers and ExtraTreesClassifiers.\n",
      "  warn(\n",
      "C:\\Users\\Rajesh Desai\\anaconda3\\lib\\site-packages\\sklearn\\ensemble\\_forest.py:424: FutureWarning: `max_features='auto'` has been deprecated in 1.1 and will be removed in 1.3. To keep the past behaviour, explicitly set `max_features='sqrt'` or remove this parameter as it is also the default value for RandomForestClassifiers and ExtraTreesClassifiers.\n",
      "  warn(\n",
      "C:\\Users\\Rajesh Desai\\anaconda3\\lib\\site-packages\\sklearn\\ensemble\\_forest.py:424: FutureWarning: `max_features='auto'` has been deprecated in 1.1 and will be removed in 1.3. To keep the past behaviour, explicitly set `max_features='sqrt'` or remove this parameter as it is also the default value for RandomForestClassifiers and ExtraTreesClassifiers.\n",
      "  warn(\n",
      "C:\\Users\\Rajesh Desai\\anaconda3\\lib\\site-packages\\sklearn\\ensemble\\_forest.py:424: FutureWarning: `max_features='auto'` has been deprecated in 1.1 and will be removed in 1.3. To keep the past behaviour, explicitly set `max_features='sqrt'` or remove this parameter as it is also the default value for RandomForestClassifiers and ExtraTreesClassifiers.\n",
      "  warn(\n",
      "C:\\Users\\Rajesh Desai\\anaconda3\\lib\\site-packages\\sklearn\\ensemble\\_forest.py:424: FutureWarning: `max_features='auto'` has been deprecated in 1.1 and will be removed in 1.3. To keep the past behaviour, explicitly set `max_features='sqrt'` or remove this parameter as it is also the default value for RandomForestClassifiers and ExtraTreesClassifiers.\n",
      "  warn(\n",
      "C:\\Users\\Rajesh Desai\\anaconda3\\lib\\site-packages\\sklearn\\ensemble\\_forest.py:424: FutureWarning: `max_features='auto'` has been deprecated in 1.1 and will be removed in 1.3. To keep the past behaviour, explicitly set `max_features='sqrt'` or remove this parameter as it is also the default value for RandomForestClassifiers and ExtraTreesClassifiers.\n",
      "  warn(\n",
      "C:\\Users\\Rajesh Desai\\anaconda3\\lib\\site-packages\\sklearn\\ensemble\\_forest.py:424: FutureWarning: `max_features='auto'` has been deprecated in 1.1 and will be removed in 1.3. To keep the past behaviour, explicitly set `max_features='sqrt'` or remove this parameter as it is also the default value for RandomForestClassifiers and ExtraTreesClassifiers.\n",
      "  warn(\n",
      "C:\\Users\\Rajesh Desai\\anaconda3\\lib\\site-packages\\sklearn\\ensemble\\_forest.py:424: FutureWarning: `max_features='auto'` has been deprecated in 1.1 and will be removed in 1.3. To keep the past behaviour, explicitly set `max_features='sqrt'` or remove this parameter as it is also the default value for RandomForestClassifiers and ExtraTreesClassifiers.\n",
      "  warn(\n",
      "C:\\Users\\Rajesh Desai\\anaconda3\\lib\\site-packages\\sklearn\\ensemble\\_forest.py:424: FutureWarning: `max_features='auto'` has been deprecated in 1.1 and will be removed in 1.3. To keep the past behaviour, explicitly set `max_features='sqrt'` or remove this parameter as it is also the default value for RandomForestClassifiers and ExtraTreesClassifiers.\n",
      "  warn(\n",
      "C:\\Users\\Rajesh Desai\\anaconda3\\lib\\site-packages\\sklearn\\ensemble\\_forest.py:424: FutureWarning: `max_features='auto'` has been deprecated in 1.1 and will be removed in 1.3. To keep the past behaviour, explicitly set `max_features='sqrt'` or remove this parameter as it is also the default value for RandomForestClassifiers and ExtraTreesClassifiers.\n",
      "  warn(\n",
      "C:\\Users\\Rajesh Desai\\anaconda3\\lib\\site-packages\\sklearn\\ensemble\\_forest.py:424: FutureWarning: `max_features='auto'` has been deprecated in 1.1 and will be removed in 1.3. To keep the past behaviour, explicitly set `max_features='sqrt'` or remove this parameter as it is also the default value for RandomForestClassifiers and ExtraTreesClassifiers.\n",
      "  warn(\n",
      "C:\\Users\\Rajesh Desai\\anaconda3\\lib\\site-packages\\sklearn\\ensemble\\_forest.py:424: FutureWarning: `max_features='auto'` has been deprecated in 1.1 and will be removed in 1.3. To keep the past behaviour, explicitly set `max_features='sqrt'` or remove this parameter as it is also the default value for RandomForestClassifiers and ExtraTreesClassifiers.\n",
      "  warn(\n",
      "C:\\Users\\Rajesh Desai\\anaconda3\\lib\\site-packages\\sklearn\\ensemble\\_forest.py:424: FutureWarning: `max_features='auto'` has been deprecated in 1.1 and will be removed in 1.3. To keep the past behaviour, explicitly set `max_features='sqrt'` or remove this parameter as it is also the default value for RandomForestClassifiers and ExtraTreesClassifiers.\n",
      "  warn(\n",
      "C:\\Users\\Rajesh Desai\\anaconda3\\lib\\site-packages\\sklearn\\ensemble\\_forest.py:424: FutureWarning: `max_features='auto'` has been deprecated in 1.1 and will be removed in 1.3. To keep the past behaviour, explicitly set `max_features='sqrt'` or remove this parameter as it is also the default value for RandomForestClassifiers and ExtraTreesClassifiers.\n",
      "  warn(\n"
     ]
    },
    {
     "name": "stderr",
     "output_type": "stream",
     "text": [
      "C:\\Users\\Rajesh Desai\\anaconda3\\lib\\site-packages\\sklearn\\ensemble\\_forest.py:424: FutureWarning: `max_features='auto'` has been deprecated in 1.1 and will be removed in 1.3. To keep the past behaviour, explicitly set `max_features='sqrt'` or remove this parameter as it is also the default value for RandomForestClassifiers and ExtraTreesClassifiers.\n",
      "  warn(\n",
      "C:\\Users\\Rajesh Desai\\anaconda3\\lib\\site-packages\\sklearn\\ensemble\\_forest.py:424: FutureWarning: `max_features='auto'` has been deprecated in 1.1 and will be removed in 1.3. To keep the past behaviour, explicitly set `max_features='sqrt'` or remove this parameter as it is also the default value for RandomForestClassifiers and ExtraTreesClassifiers.\n",
      "  warn(\n",
      "C:\\Users\\Rajesh Desai\\anaconda3\\lib\\site-packages\\sklearn\\ensemble\\_forest.py:424: FutureWarning: `max_features='auto'` has been deprecated in 1.1 and will be removed in 1.3. To keep the past behaviour, explicitly set `max_features='sqrt'` or remove this parameter as it is also the default value for RandomForestClassifiers and ExtraTreesClassifiers.\n",
      "  warn(\n",
      "C:\\Users\\Rajesh Desai\\anaconda3\\lib\\site-packages\\sklearn\\ensemble\\_forest.py:424: FutureWarning: `max_features='auto'` has been deprecated in 1.1 and will be removed in 1.3. To keep the past behaviour, explicitly set `max_features='sqrt'` or remove this parameter as it is also the default value for RandomForestClassifiers and ExtraTreesClassifiers.\n",
      "  warn(\n",
      "C:\\Users\\Rajesh Desai\\anaconda3\\lib\\site-packages\\sklearn\\ensemble\\_forest.py:424: FutureWarning: `max_features='auto'` has been deprecated in 1.1 and will be removed in 1.3. To keep the past behaviour, explicitly set `max_features='sqrt'` or remove this parameter as it is also the default value for RandomForestClassifiers and ExtraTreesClassifiers.\n",
      "  warn(\n",
      "C:\\Users\\Rajesh Desai\\anaconda3\\lib\\site-packages\\sklearn\\ensemble\\_forest.py:424: FutureWarning: `max_features='auto'` has been deprecated in 1.1 and will be removed in 1.3. To keep the past behaviour, explicitly set `max_features='sqrt'` or remove this parameter as it is also the default value for RandomForestClassifiers and ExtraTreesClassifiers.\n",
      "  warn(\n",
      "C:\\Users\\Rajesh Desai\\anaconda3\\lib\\site-packages\\sklearn\\ensemble\\_forest.py:424: FutureWarning: `max_features='auto'` has been deprecated in 1.1 and will be removed in 1.3. To keep the past behaviour, explicitly set `max_features='sqrt'` or remove this parameter as it is also the default value for RandomForestClassifiers and ExtraTreesClassifiers.\n",
      "  warn(\n",
      "C:\\Users\\Rajesh Desai\\anaconda3\\lib\\site-packages\\sklearn\\ensemble\\_forest.py:424: FutureWarning: `max_features='auto'` has been deprecated in 1.1 and will be removed in 1.3. To keep the past behaviour, explicitly set `max_features='sqrt'` or remove this parameter as it is also the default value for RandomForestClassifiers and ExtraTreesClassifiers.\n",
      "  warn(\n",
      "C:\\Users\\Rajesh Desai\\anaconda3\\lib\\site-packages\\sklearn\\ensemble\\_forest.py:424: FutureWarning: `max_features='auto'` has been deprecated in 1.1 and will be removed in 1.3. To keep the past behaviour, explicitly set `max_features='sqrt'` or remove this parameter as it is also the default value for RandomForestClassifiers and ExtraTreesClassifiers.\n",
      "  warn(\n",
      "C:\\Users\\Rajesh Desai\\anaconda3\\lib\\site-packages\\sklearn\\ensemble\\_forest.py:424: FutureWarning: `max_features='auto'` has been deprecated in 1.1 and will be removed in 1.3. To keep the past behaviour, explicitly set `max_features='sqrt'` or remove this parameter as it is also the default value for RandomForestClassifiers and ExtraTreesClassifiers.\n",
      "  warn(\n",
      "C:\\Users\\Rajesh Desai\\anaconda3\\lib\\site-packages\\sklearn\\ensemble\\_forest.py:424: FutureWarning: `max_features='auto'` has been deprecated in 1.1 and will be removed in 1.3. To keep the past behaviour, explicitly set `max_features='sqrt'` or remove this parameter as it is also the default value for RandomForestClassifiers and ExtraTreesClassifiers.\n",
      "  warn(\n",
      "C:\\Users\\Rajesh Desai\\anaconda3\\lib\\site-packages\\sklearn\\ensemble\\_forest.py:424: FutureWarning: `max_features='auto'` has been deprecated in 1.1 and will be removed in 1.3. To keep the past behaviour, explicitly set `max_features='sqrt'` or remove this parameter as it is also the default value for RandomForestClassifiers and ExtraTreesClassifiers.\n",
      "  warn(\n",
      "C:\\Users\\Rajesh Desai\\anaconda3\\lib\\site-packages\\sklearn\\ensemble\\_forest.py:424: FutureWarning: `max_features='auto'` has been deprecated in 1.1 and will be removed in 1.3. To keep the past behaviour, explicitly set `max_features='sqrt'` or remove this parameter as it is also the default value for RandomForestClassifiers and ExtraTreesClassifiers.\n",
      "  warn(\n",
      "C:\\Users\\Rajesh Desai\\anaconda3\\lib\\site-packages\\sklearn\\ensemble\\_forest.py:424: FutureWarning: `max_features='auto'` has been deprecated in 1.1 and will be removed in 1.3. To keep the past behaviour, explicitly set `max_features='sqrt'` or remove this parameter as it is also the default value for RandomForestClassifiers and ExtraTreesClassifiers.\n",
      "  warn(\n",
      "C:\\Users\\Rajesh Desai\\anaconda3\\lib\\site-packages\\sklearn\\ensemble\\_forest.py:424: FutureWarning: `max_features='auto'` has been deprecated in 1.1 and will be removed in 1.3. To keep the past behaviour, explicitly set `max_features='sqrt'` or remove this parameter as it is also the default value for RandomForestClassifiers and ExtraTreesClassifiers.\n",
      "  warn(\n",
      "C:\\Users\\Rajesh Desai\\anaconda3\\lib\\site-packages\\sklearn\\ensemble\\_forest.py:424: FutureWarning: `max_features='auto'` has been deprecated in 1.1 and will be removed in 1.3. To keep the past behaviour, explicitly set `max_features='sqrt'` or remove this parameter as it is also the default value for RandomForestClassifiers and ExtraTreesClassifiers.\n",
      "  warn(\n",
      "C:\\Users\\Rajesh Desai\\anaconda3\\lib\\site-packages\\sklearn\\ensemble\\_forest.py:424: FutureWarning: `max_features='auto'` has been deprecated in 1.1 and will be removed in 1.3. To keep the past behaviour, explicitly set `max_features='sqrt'` or remove this parameter as it is also the default value for RandomForestClassifiers and ExtraTreesClassifiers.\n",
      "  warn(\n",
      "C:\\Users\\Rajesh Desai\\anaconda3\\lib\\site-packages\\sklearn\\ensemble\\_forest.py:424: FutureWarning: `max_features='auto'` has been deprecated in 1.1 and will be removed in 1.3. To keep the past behaviour, explicitly set `max_features='sqrt'` or remove this parameter as it is also the default value for RandomForestClassifiers and ExtraTreesClassifiers.\n",
      "  warn(\n",
      "C:\\Users\\Rajesh Desai\\anaconda3\\lib\\site-packages\\sklearn\\ensemble\\_forest.py:424: FutureWarning: `max_features='auto'` has been deprecated in 1.1 and will be removed in 1.3. To keep the past behaviour, explicitly set `max_features='sqrt'` or remove this parameter as it is also the default value for RandomForestClassifiers and ExtraTreesClassifiers.\n",
      "  warn(\n",
      "C:\\Users\\Rajesh Desai\\anaconda3\\lib\\site-packages\\sklearn\\ensemble\\_forest.py:424: FutureWarning: `max_features='auto'` has been deprecated in 1.1 and will be removed in 1.3. To keep the past behaviour, explicitly set `max_features='sqrt'` or remove this parameter as it is also the default value for RandomForestClassifiers and ExtraTreesClassifiers.\n",
      "  warn(\n",
      "C:\\Users\\Rajesh Desai\\anaconda3\\lib\\site-packages\\sklearn\\ensemble\\_forest.py:424: FutureWarning: `max_features='auto'` has been deprecated in 1.1 and will be removed in 1.3. To keep the past behaviour, explicitly set `max_features='sqrt'` or remove this parameter as it is also the default value for RandomForestClassifiers and ExtraTreesClassifiers.\n",
      "  warn(\n",
      "C:\\Users\\Rajesh Desai\\anaconda3\\lib\\site-packages\\sklearn\\ensemble\\_forest.py:424: FutureWarning: `max_features='auto'` has been deprecated in 1.1 and will be removed in 1.3. To keep the past behaviour, explicitly set `max_features='sqrt'` or remove this parameter as it is also the default value for RandomForestClassifiers and ExtraTreesClassifiers.\n",
      "  warn(\n",
      "C:\\Users\\Rajesh Desai\\anaconda3\\lib\\site-packages\\sklearn\\ensemble\\_forest.py:424: FutureWarning: `max_features='auto'` has been deprecated in 1.1 and will be removed in 1.3. To keep the past behaviour, explicitly set `max_features='sqrt'` or remove this parameter as it is also the default value for RandomForestClassifiers and ExtraTreesClassifiers.\n",
      "  warn(\n"
     ]
    },
    {
     "name": "stderr",
     "output_type": "stream",
     "text": [
      "C:\\Users\\Rajesh Desai\\anaconda3\\lib\\site-packages\\sklearn\\ensemble\\_forest.py:424: FutureWarning: `max_features='auto'` has been deprecated in 1.1 and will be removed in 1.3. To keep the past behaviour, explicitly set `max_features='sqrt'` or remove this parameter as it is also the default value for RandomForestClassifiers and ExtraTreesClassifiers.\n",
      "  warn(\n",
      "C:\\Users\\Rajesh Desai\\anaconda3\\lib\\site-packages\\sklearn\\ensemble\\_forest.py:424: FutureWarning: `max_features='auto'` has been deprecated in 1.1 and will be removed in 1.3. To keep the past behaviour, explicitly set `max_features='sqrt'` or remove this parameter as it is also the default value for RandomForestClassifiers and ExtraTreesClassifiers.\n",
      "  warn(\n",
      "C:\\Users\\Rajesh Desai\\anaconda3\\lib\\site-packages\\sklearn\\ensemble\\_forest.py:424: FutureWarning: `max_features='auto'` has been deprecated in 1.1 and will be removed in 1.3. To keep the past behaviour, explicitly set `max_features='sqrt'` or remove this parameter as it is also the default value for RandomForestClassifiers and ExtraTreesClassifiers.\n",
      "  warn(\n",
      "C:\\Users\\Rajesh Desai\\anaconda3\\lib\\site-packages\\sklearn\\ensemble\\_forest.py:424: FutureWarning: `max_features='auto'` has been deprecated in 1.1 and will be removed in 1.3. To keep the past behaviour, explicitly set `max_features='sqrt'` or remove this parameter as it is also the default value for RandomForestClassifiers and ExtraTreesClassifiers.\n",
      "  warn(\n",
      "C:\\Users\\Rajesh Desai\\anaconda3\\lib\\site-packages\\sklearn\\ensemble\\_forest.py:424: FutureWarning: `max_features='auto'` has been deprecated in 1.1 and will be removed in 1.3. To keep the past behaviour, explicitly set `max_features='sqrt'` or remove this parameter as it is also the default value for RandomForestClassifiers and ExtraTreesClassifiers.\n",
      "  warn(\n",
      "C:\\Users\\Rajesh Desai\\anaconda3\\lib\\site-packages\\sklearn\\ensemble\\_forest.py:424: FutureWarning: `max_features='auto'` has been deprecated in 1.1 and will be removed in 1.3. To keep the past behaviour, explicitly set `max_features='sqrt'` or remove this parameter as it is also the default value for RandomForestClassifiers and ExtraTreesClassifiers.\n",
      "  warn(\n",
      "C:\\Users\\Rajesh Desai\\anaconda3\\lib\\site-packages\\sklearn\\ensemble\\_forest.py:424: FutureWarning: `max_features='auto'` has been deprecated in 1.1 and will be removed in 1.3. To keep the past behaviour, explicitly set `max_features='sqrt'` or remove this parameter as it is also the default value for RandomForestClassifiers and ExtraTreesClassifiers.\n",
      "  warn(\n",
      "C:\\Users\\Rajesh Desai\\anaconda3\\lib\\site-packages\\sklearn\\ensemble\\_forest.py:424: FutureWarning: `max_features='auto'` has been deprecated in 1.1 and will be removed in 1.3. To keep the past behaviour, explicitly set `max_features='sqrt'` or remove this parameter as it is also the default value for RandomForestClassifiers and ExtraTreesClassifiers.\n",
      "  warn(\n",
      "C:\\Users\\Rajesh Desai\\anaconda3\\lib\\site-packages\\sklearn\\ensemble\\_forest.py:424: FutureWarning: `max_features='auto'` has been deprecated in 1.1 and will be removed in 1.3. To keep the past behaviour, explicitly set `max_features='sqrt'` or remove this parameter as it is also the default value for RandomForestClassifiers and ExtraTreesClassifiers.\n",
      "  warn(\n",
      "C:\\Users\\Rajesh Desai\\anaconda3\\lib\\site-packages\\sklearn\\ensemble\\_forest.py:424: FutureWarning: `max_features='auto'` has been deprecated in 1.1 and will be removed in 1.3. To keep the past behaviour, explicitly set `max_features='sqrt'` or remove this parameter as it is also the default value for RandomForestClassifiers and ExtraTreesClassifiers.\n",
      "  warn(\n",
      "C:\\Users\\Rajesh Desai\\anaconda3\\lib\\site-packages\\sklearn\\ensemble\\_forest.py:424: FutureWarning: `max_features='auto'` has been deprecated in 1.1 and will be removed in 1.3. To keep the past behaviour, explicitly set `max_features='sqrt'` or remove this parameter as it is also the default value for RandomForestClassifiers and ExtraTreesClassifiers.\n",
      "  warn(\n",
      "C:\\Users\\Rajesh Desai\\anaconda3\\lib\\site-packages\\sklearn\\ensemble\\_forest.py:424: FutureWarning: `max_features='auto'` has been deprecated in 1.1 and will be removed in 1.3. To keep the past behaviour, explicitly set `max_features='sqrt'` or remove this parameter as it is also the default value for RandomForestClassifiers and ExtraTreesClassifiers.\n",
      "  warn(\n",
      "C:\\Users\\Rajesh Desai\\anaconda3\\lib\\site-packages\\sklearn\\ensemble\\_forest.py:424: FutureWarning: `max_features='auto'` has been deprecated in 1.1 and will be removed in 1.3. To keep the past behaviour, explicitly set `max_features='sqrt'` or remove this parameter as it is also the default value for RandomForestClassifiers and ExtraTreesClassifiers.\n",
      "  warn(\n",
      "C:\\Users\\Rajesh Desai\\anaconda3\\lib\\site-packages\\sklearn\\ensemble\\_forest.py:424: FutureWarning: `max_features='auto'` has been deprecated in 1.1 and will be removed in 1.3. To keep the past behaviour, explicitly set `max_features='sqrt'` or remove this parameter as it is also the default value for RandomForestClassifiers and ExtraTreesClassifiers.\n",
      "  warn(\n",
      "C:\\Users\\Rajesh Desai\\anaconda3\\lib\\site-packages\\sklearn\\ensemble\\_forest.py:424: FutureWarning: `max_features='auto'` has been deprecated in 1.1 and will be removed in 1.3. To keep the past behaviour, explicitly set `max_features='sqrt'` or remove this parameter as it is also the default value for RandomForestClassifiers and ExtraTreesClassifiers.\n",
      "  warn(\n",
      "C:\\Users\\Rajesh Desai\\anaconda3\\lib\\site-packages\\sklearn\\ensemble\\_forest.py:424: FutureWarning: `max_features='auto'` has been deprecated in 1.1 and will be removed in 1.3. To keep the past behaviour, explicitly set `max_features='sqrt'` or remove this parameter as it is also the default value for RandomForestClassifiers and ExtraTreesClassifiers.\n",
      "  warn(\n",
      "C:\\Users\\Rajesh Desai\\anaconda3\\lib\\site-packages\\sklearn\\model_selection\\_validation.py:378: FitFailedWarning: \n",
      "170 fits failed out of a total of 340.\n",
      "The score on these train-test partitions for these parameters will be set to nan.\n",
      "If these failures are not expected, you can try to debug them by setting error_score='raise'.\n",
      "\n",
      "Below are more details about the failures:\n",
      "--------------------------------------------------------------------------------\n",
      "170 fits failed with the following error:\n",
      "Traceback (most recent call last):\n",
      "  File \"C:\\Users\\Rajesh Desai\\anaconda3\\lib\\site-packages\\sklearn\\model_selection\\_validation.py\", line 686, in _fit_and_score\n",
      "    estimator.fit(X_train, y_train, **fit_params)\n",
      "  File \"C:\\Users\\Rajesh Desai\\anaconda3\\lib\\site-packages\\sklearn\\ensemble\\_forest.py\", line 340, in fit\n",
      "    self._validate_params()\n",
      "  File \"C:\\Users\\Rajesh Desai\\anaconda3\\lib\\site-packages\\sklearn\\base.py\", line 581, in _validate_params\n",
      "    validate_parameter_constraints(\n",
      "  File \"C:\\Users\\Rajesh Desai\\anaconda3\\lib\\site-packages\\sklearn\\utils\\_param_validation.py\", line 97, in validate_parameter_constraints\n",
      "    raise InvalidParameterError(\n",
      "sklearn.utils._param_validation.InvalidParameterError: The 'criterion' parameter of RandomForestClassifier must be a str among {'gini', 'entropy', 'log_loss'}. Got 'entrophy' instead.\n",
      "\n",
      "  warnings.warn(some_fits_failed_message, FitFailedWarning)\n",
      "C:\\Users\\Rajesh Desai\\anaconda3\\lib\\site-packages\\sklearn\\model_selection\\_search.py:952: UserWarning: One or more of the test scores are non-finite: [0.53851429 0.5379     0.59734286 0.59377143 0.62162857 0.6263\n",
      " 0.64181429 0.64174286 0.65298571 0.65437143 0.66481429 0.66552857\n",
      " 0.67788571 0.67624286 0.68594286 0.68688571 0.69848571 0.69721429\n",
      " 0.70617143 0.70828571 0.71361429 0.71455714 0.7213     0.72071429\n",
      " 0.72568571 0.725      0.73107143 0.73022857 0.73558571 0.73671429\n",
      " 0.74151429 0.74002857 0.74468571 0.74365714        nan        nan\n",
      "        nan        nan        nan        nan        nan        nan\n",
      "        nan        nan        nan        nan        nan        nan\n",
      "        nan        nan        nan        nan        nan        nan\n",
      "        nan        nan        nan        nan        nan        nan\n",
      "        nan        nan        nan        nan        nan        nan\n",
      "        nan        nan]\n",
      "  warnings.warn(\n",
      "C:\\Users\\Rajesh Desai\\anaconda3\\lib\\site-packages\\sklearn\\ensemble\\_forest.py:424: FutureWarning: `max_features='auto'` has been deprecated in 1.1 and will be removed in 1.3. To keep the past behaviour, explicitly set `max_features='sqrt'` or remove this parameter as it is also the default value for RandomForestClassifiers and ExtraTreesClassifiers.\n",
      "  warn(\n"
     ]
    },
    {
     "data": {
      "text/html": [
       "<style>#sk-container-id-5 {color: black;background-color: white;}#sk-container-id-5 pre{padding: 0;}#sk-container-id-5 div.sk-toggleable {background-color: white;}#sk-container-id-5 label.sk-toggleable__label {cursor: pointer;display: block;width: 100%;margin-bottom: 0;padding: 0.3em;box-sizing: border-box;text-align: center;}#sk-container-id-5 label.sk-toggleable__label-arrow:before {content: \"▸\";float: left;margin-right: 0.25em;color: #696969;}#sk-container-id-5 label.sk-toggleable__label-arrow:hover:before {color: black;}#sk-container-id-5 div.sk-estimator:hover label.sk-toggleable__label-arrow:before {color: black;}#sk-container-id-5 div.sk-toggleable__content {max-height: 0;max-width: 0;overflow: hidden;text-align: left;background-color: #f0f8ff;}#sk-container-id-5 div.sk-toggleable__content pre {margin: 0.2em;color: black;border-radius: 0.25em;background-color: #f0f8ff;}#sk-container-id-5 input.sk-toggleable__control:checked~div.sk-toggleable__content {max-height: 200px;max-width: 100%;overflow: auto;}#sk-container-id-5 input.sk-toggleable__control:checked~label.sk-toggleable__label-arrow:before {content: \"▾\";}#sk-container-id-5 div.sk-estimator input.sk-toggleable__control:checked~label.sk-toggleable__label {background-color: #d4ebff;}#sk-container-id-5 div.sk-label input.sk-toggleable__control:checked~label.sk-toggleable__label {background-color: #d4ebff;}#sk-container-id-5 input.sk-hidden--visually {border: 0;clip: rect(1px 1px 1px 1px);clip: rect(1px, 1px, 1px, 1px);height: 1px;margin: -1px;overflow: hidden;padding: 0;position: absolute;width: 1px;}#sk-container-id-5 div.sk-estimator {font-family: monospace;background-color: #f0f8ff;border: 1px dotted black;border-radius: 0.25em;box-sizing: border-box;margin-bottom: 0.5em;}#sk-container-id-5 div.sk-estimator:hover {background-color: #d4ebff;}#sk-container-id-5 div.sk-parallel-item::after {content: \"\";width: 100%;border-bottom: 1px solid gray;flex-grow: 1;}#sk-container-id-5 div.sk-label:hover label.sk-toggleable__label {background-color: #d4ebff;}#sk-container-id-5 div.sk-serial::before {content: \"\";position: absolute;border-left: 1px solid gray;box-sizing: border-box;top: 0;bottom: 0;left: 50%;z-index: 0;}#sk-container-id-5 div.sk-serial {display: flex;flex-direction: column;align-items: center;background-color: white;padding-right: 0.2em;padding-left: 0.2em;position: relative;}#sk-container-id-5 div.sk-item {position: relative;z-index: 1;}#sk-container-id-5 div.sk-parallel {display: flex;align-items: stretch;justify-content: center;background-color: white;position: relative;}#sk-container-id-5 div.sk-item::before, #sk-container-id-5 div.sk-parallel-item::before {content: \"\";position: absolute;border-left: 1px solid gray;box-sizing: border-box;top: 0;bottom: 0;left: 50%;z-index: -1;}#sk-container-id-5 div.sk-parallel-item {display: flex;flex-direction: column;z-index: 1;position: relative;background-color: white;}#sk-container-id-5 div.sk-parallel-item:first-child::after {align-self: flex-end;width: 50%;}#sk-container-id-5 div.sk-parallel-item:last-child::after {align-self: flex-start;width: 50%;}#sk-container-id-5 div.sk-parallel-item:only-child::after {width: 0;}#sk-container-id-5 div.sk-dashed-wrapped {border: 1px dashed gray;margin: 0 0.4em 0.5em 0.4em;box-sizing: border-box;padding-bottom: 0.4em;background-color: white;}#sk-container-id-5 div.sk-label label {font-family: monospace;font-weight: bold;display: inline-block;line-height: 1.2em;}#sk-container-id-5 div.sk-label-container {text-align: center;}#sk-container-id-5 div.sk-container {/* jupyter's `normalize.less` sets `[hidden] { display: none; }` but bootstrap.min.css set `[hidden] { display: none !important; }` so we also need the `!important` here to be able to override the default hidden behavior on the sphinx rendered scikit-learn.org. See: https://github.com/scikit-learn/scikit-learn/issues/21755 */display: inline-block !important;position: relative;}#sk-container-id-5 div.sk-text-repr-fallback {display: none;}</style><div id=\"sk-container-id-5\" class=\"sk-top-container\"><div class=\"sk-text-repr-fallback\"><pre>GridSearchCV(cv=5, estimator=RandomForestClassifier(),\n",
       "             param_grid={&#x27;criterion&#x27;: [&#x27;gini&#x27;, &#x27;entrophy&#x27;],\n",
       "                         &#x27;max_depth&#x27;: [1, 2, 3, 4, 5, 6, 7, 8, 9, 10, 11, 12,\n",
       "                                       13, 14, 15, 16, 17],\n",
       "                         &#x27;max_features&#x27;: [&#x27;auto&#x27;, &#x27;sqrt&#x27;]},\n",
       "             scoring=&#x27;accuracy&#x27;)</pre><b>In a Jupyter environment, please rerun this cell to show the HTML representation or trust the notebook. <br />On GitHub, the HTML representation is unable to render, please try loading this page with nbviewer.org.</b></div><div class=\"sk-container\" hidden><div class=\"sk-item sk-dashed-wrapped\"><div class=\"sk-label-container\"><div class=\"sk-label sk-toggleable\"><input class=\"sk-toggleable__control sk-hidden--visually\" id=\"sk-estimator-id-7\" type=\"checkbox\" ><label for=\"sk-estimator-id-7\" class=\"sk-toggleable__label sk-toggleable__label-arrow\">GridSearchCV</label><div class=\"sk-toggleable__content\"><pre>GridSearchCV(cv=5, estimator=RandomForestClassifier(),\n",
       "             param_grid={&#x27;criterion&#x27;: [&#x27;gini&#x27;, &#x27;entrophy&#x27;],\n",
       "                         &#x27;max_depth&#x27;: [1, 2, 3, 4, 5, 6, 7, 8, 9, 10, 11, 12,\n",
       "                                       13, 14, 15, 16, 17],\n",
       "                         &#x27;max_features&#x27;: [&#x27;auto&#x27;, &#x27;sqrt&#x27;]},\n",
       "             scoring=&#x27;accuracy&#x27;)</pre></div></div></div><div class=\"sk-parallel\"><div class=\"sk-parallel-item\"><div class=\"sk-item\"><div class=\"sk-label-container\"><div class=\"sk-label sk-toggleable\"><input class=\"sk-toggleable__control sk-hidden--visually\" id=\"sk-estimator-id-8\" type=\"checkbox\" ><label for=\"sk-estimator-id-8\" class=\"sk-toggleable__label sk-toggleable__label-arrow\">estimator: RandomForestClassifier</label><div class=\"sk-toggleable__content\"><pre>RandomForestClassifier()</pre></div></div></div><div class=\"sk-serial\"><div class=\"sk-item\"><div class=\"sk-estimator sk-toggleable\"><input class=\"sk-toggleable__control sk-hidden--visually\" id=\"sk-estimator-id-9\" type=\"checkbox\" ><label for=\"sk-estimator-id-9\" class=\"sk-toggleable__label sk-toggleable__label-arrow\">RandomForestClassifier</label><div class=\"sk-toggleable__content\"><pre>RandomForestClassifier()</pre></div></div></div></div></div></div></div></div></div></div>"
      ],
      "text/plain": [
       "GridSearchCV(cv=5, estimator=RandomForestClassifier(),\n",
       "             param_grid={'criterion': ['gini', 'entrophy'],\n",
       "                         'max_depth': [1, 2, 3, 4, 5, 6, 7, 8, 9, 10, 11, 12,\n",
       "                                       13, 14, 15, 16, 17],\n",
       "                         'max_features': ['auto', 'sqrt']},\n",
       "             scoring='accuracy')"
      ]
     },
     "execution_count": 612,
     "metadata": {},
     "output_type": "execute_result"
    }
   ],
   "source": [
    "cv.fit(X_train, y_train)"
   ]
  },
  {
   "cell_type": "code",
   "execution_count": 613,
   "id": "77653a24",
   "metadata": {},
   "outputs": [
    {
     "data": {
      "text/plain": [
       "{'criterion': 'gini', 'max_depth': 17, 'max_features': 'auto'}"
      ]
     },
     "execution_count": 613,
     "metadata": {},
     "output_type": "execute_result"
    }
   ],
   "source": [
    "cv.best_params_"
   ]
  },
  {
   "cell_type": "code",
   "execution_count": 614,
   "id": "c784688c",
   "metadata": {},
   "outputs": [
    {
     "data": {
      "text/plain": [
       "0.7446857142857144"
      ]
     },
     "execution_count": 614,
     "metadata": {},
     "output_type": "execute_result"
    }
   ],
   "source": [
    "cv.best_score_"
   ]
  },
  {
   "cell_type": "markdown",
   "id": "91a06dfc",
   "metadata": {},
   "source": [
    "### Highest Accuracy we have till now is only 78%, so we will try raising up the accuracy_score by using feature engineering and dimensionality reduction."
   ]
  },
  {
   "cell_type": "markdown",
   "id": "3901093e",
   "metadata": {},
   "source": [
    "## Variance Threshold Method"
   ]
  },
  {
   "cell_type": "code",
   "execution_count": 615,
   "id": "0356e09c",
   "metadata": {},
   "outputs": [
    {
     "data": {
      "text/plain": [
       "44"
      ]
     },
     "execution_count": 615,
     "metadata": {},
     "output_type": "execute_result"
    }
   ],
   "source": [
    "##get_support identifies the columns to be removed or are incorrect\n",
    "\n",
    "from sklearn.feature_selection import VarianceThreshold\n",
    "sel= VarianceThreshold(threshold=0.5)  #0.05 is assumed is the drawback of Variance threshold method\n",
    "sel.fit(X_train)\n",
    "sum(sel.get_support())   "
   ]
  },
  {
   "cell_type": "markdown",
   "id": "7f7bdd23",
   "metadata": {},
   "source": [
    "#### Variance Threshold method is not working on the Data as all the columns are showing high variance"
   ]
  },
  {
   "cell_type": "code",
   "execution_count": null,
   "id": "df3a6b9d",
   "metadata": {},
   "outputs": [],
   "source": []
  },
  {
   "cell_type": "markdown",
   "id": "dbe17b97",
   "metadata": {},
   "source": [
    "## Correlation matrix Method"
   ]
  },
  {
   "cell_type": "code",
   "execution_count": 616,
   "id": "4654f09c",
   "metadata": {},
   "outputs": [],
   "source": [
    "X_train=pd.DataFrame(X_train)\n",
    "corrmat=X_train.corr()"
   ]
  },
  {
   "cell_type": "code",
   "execution_count": 619,
   "id": "db70ab39",
   "metadata": {},
   "outputs": [
    {
     "data": {
      "text/plain": [
       "array([ 0,  1,  2,  3,  4,  5,  6,  7,  8,  9, 10, 11, 12, 13, 14, 15, 16,\n",
       "       17, 18, 19, 20, 21, 22, 23, 24, 25, 26, 27, 28, 29, 30, 31, 32, 33,\n",
       "       34, 35, 36, 37, 38, 39, 40, 41, 42, 43])"
      ]
     },
     "execution_count": 619,
     "metadata": {},
     "output_type": "execute_result"
    }
   ],
   "source": [
    "cols=np.arange(0,44)\n",
    "cols"
   ]
  },
  {
   "cell_type": "code",
   "execution_count": 620,
   "id": "c90a555e",
   "metadata": {},
   "outputs": [],
   "source": [
    "columns_to_drop=[]\n",
    "for i in range(len(cols)):\n",
    "    for j in range(i+1, len(cols)):\n",
    "        if corrmat.loc[cols[i],cols[j]]>0.9 or corrmat.loc[cols[i],cols[j]]<-0.9:\n",
    "            columns_to_drop.append(cols[j])"
   ]
  },
  {
   "cell_type": "code",
   "execution_count": 621,
   "id": "33cae7fe",
   "metadata": {},
   "outputs": [
    {
     "data": {
      "text/plain": [
       "[]"
      ]
     },
     "execution_count": 621,
     "metadata": {},
     "output_type": "execute_result"
    }
   ],
   "source": [
    "columns_to_drop"
   ]
  },
  {
   "cell_type": "markdown",
   "id": "9640a170",
   "metadata": {},
   "source": [
    "## ANOVA TEST"
   ]
  },
  {
   "cell_type": "code",
   "execution_count": 640,
   "id": "c7798516",
   "metadata": {},
   "outputs": [],
   "source": [
    "X_train=pd.DataFrame(X_train)\n",
    "X_test=pd.DataFrame(X_test)"
   ]
  },
  {
   "cell_type": "code",
   "execution_count": 641,
   "id": "d81a1791",
   "metadata": {},
   "outputs": [],
   "source": [
    "from sklearn.feature_selection import f_classif\n",
    "from sklearn.feature_selection import SelectKBest"
   ]
  },
  {
   "cell_type": "code",
   "execution_count": 642,
   "id": "5c4fc9a5",
   "metadata": {},
   "outputs": [
    {
     "data": {
      "text/plain": [
       "(70000, 44)"
      ]
     },
     "execution_count": 642,
     "metadata": {},
     "output_type": "execute_result"
    }
   ],
   "source": [
    "X_train.shape"
   ]
  },
  {
   "cell_type": "code",
   "execution_count": 643,
   "id": "3c7453c2",
   "metadata": {},
   "outputs": [
    {
     "data": {
      "text/plain": [
       "Int64Index([ 0,  1,  2,  5,  6,  7,  8, 10, 18, 19, 24, 26, 27, 28, 29, 30, 31,\n",
       "            32, 33, 34, 35, 36, 37, 38, 39, 40, 41, 42, 43],\n",
       "           dtype='int64')"
      ]
     },
     "execution_count": 643,
     "metadata": {},
     "output_type": "execute_result"
    }
   ],
   "source": [
    "sel1=SelectKBest(f_classif,k=29).fit(X_train,y_train)\n",
    "X_train.columns[sel1.get_support()]"
   ]
  },
  {
   "cell_type": "code",
   "execution_count": 644,
   "id": "1fa066ed",
   "metadata": {},
   "outputs": [],
   "source": [
    "X_train=sel1.transform(X_train)\n",
    "X_test=sel1.transform(X_test)"
   ]
  },
  {
   "cell_type": "code",
   "execution_count": 645,
   "id": "4fb69d55",
   "metadata": {},
   "outputs": [
    {
     "data": {
      "text/plain": [
       "(70000, 29)"
      ]
     },
     "execution_count": 645,
     "metadata": {},
     "output_type": "execute_result"
    }
   ],
   "source": [
    "X_train.shape"
   ]
  },
  {
   "cell_type": "code",
   "execution_count": 646,
   "id": "b908cc46",
   "metadata": {},
   "outputs": [
    {
     "data": {
      "text/plain": [
       "(30000, 29)"
      ]
     },
     "execution_count": 646,
     "metadata": {},
     "output_type": "execute_result"
    }
   ],
   "source": [
    "X_test.shape"
   ]
  },
  {
   "cell_type": "code",
   "execution_count": 647,
   "id": "d9648e4b",
   "metadata": {},
   "outputs": [
    {
     "name": "stdout",
     "output_type": "stream",
     "text": [
      "              precision    recall  f1-score   support\n",
      "\n",
      "           0       0.59      0.59      0.59      5318\n",
      "           1       0.68      0.68      0.68      8803\n",
      "           2       0.72      0.72      0.72     15879\n",
      "\n",
      "    accuracy                           0.69     30000\n",
      "   macro avg       0.67      0.67      0.67     30000\n",
      "weighted avg       0.69      0.69      0.69     30000\n",
      "\n"
     ]
    }
   ],
   "source": [
    "classifier1.fit(X_train,y_train)\n",
    "y_pred7=classifier1.predict(X_test)\n",
    "print(classification_report(y_test, y_pred7, zero_division=0.0))"
   ]
  },
  {
   "cell_type": "code",
   "execution_count": 648,
   "id": "95e9b6d5",
   "metadata": {},
   "outputs": [
    {
     "name": "stdout",
     "output_type": "stream",
     "text": [
      "              precision    recall  f1-score   support\n",
      "\n",
      "           0       0.71      0.71      0.71      5318\n",
      "           1       0.78      0.78      0.78      8803\n",
      "           2       0.80      0.80      0.80     15879\n",
      "\n",
      "    accuracy                           0.78     30000\n",
      "   macro avg       0.76      0.76      0.76     30000\n",
      "weighted avg       0.78      0.78      0.78     30000\n",
      "\n"
     ]
    }
   ],
   "source": [
    "classifier4.fit(X_train,y_train)\n",
    "y_pred8=classifier4.predict(X_test)\n",
    "print(classification_report(y_test, y_pred8, zero_division=0.0))"
   ]
  },
  {
   "cell_type": "code",
   "execution_count": 649,
   "id": "ad658a0c",
   "metadata": {},
   "outputs": [
    {
     "data": {
      "text/plain": [
       "(70000, 29)"
      ]
     },
     "execution_count": 649,
     "metadata": {},
     "output_type": "execute_result"
    }
   ],
   "source": [
    "X_train.shape"
   ]
  },
  {
   "cell_type": "markdown",
   "id": "2c8be4a2",
   "metadata": {},
   "source": [
    "### Maximum Accuracy acheived till now is 78% only and i not acceptable. So going ahead we will be using Principle component analysis for dimensionality Reduction\n"
   ]
  },
  {
   "cell_type": "code",
   "execution_count": 660,
   "id": "88e80e12",
   "metadata": {},
   "outputs": [],
   "source": [
    "cov_mat= np.cov(X_train.T)"
   ]
  },
  {
   "cell_type": "code",
   "execution_count": 661,
   "id": "24cb98da",
   "metadata": {},
   "outputs": [],
   "source": [
    "from numpy.linalg import eig\n",
    "from sklearn.decomposition import PCA\n",
    "eigen_value, eigen_vec= np.linalg.eig(cov_mat)"
   ]
  },
  {
   "cell_type": "code",
   "execution_count": 662,
   "id": "c999a9e4",
   "metadata": {},
   "outputs": [
    {
     "name": "stdout",
     "output_type": "stream",
     "text": [
      "[ 6.00057332e+00  1.96836270e+00  1.55877207e+00  3.09859922e-01\n",
      "  3.69110139e-01  3.60205635e-01  4.04643937e-01  4.54660292e-01\n",
      "  4.35294753e-16 -3.58973709e-16  7.78168257e-16  5.08946333e-01\n",
      "  5.39266185e-01  5.67861430e-01  6.32081981e-01  6.73521431e-01\n",
      "  7.15084236e-01  1.28635927e+00  1.25641184e+00  8.40928748e-01\n",
      "  1.19611616e+00  1.20036592e+00  9.43660482e-01  9.52550687e-01\n",
      "  1.14257361e+00  9.88807796e-01  1.11837980e+00  1.00099318e+00\n",
      "  1.00779005e+00  1.08733810e+00  1.08055124e+00  1.07865670e+00\n",
      "  1.05281056e+00  1.05513351e+00  1.07479099e+00  1.07149973e+00\n",
      "  1.06978999e+00  1.05842149e+00  1.06713486e+00  1.06062235e+00\n",
      "  1.06555879e+00  1.06182767e+00  1.06407307e+00  1.06312731e+00]\n",
      "[[ 0.05676153  0.30528017 -0.25813296 ... -0.0112109  -0.02013051\n",
      "  -0.00807938]\n",
      " [ 0.02594355  0.22461144 -0.31590753 ... -0.02834661 -0.00710805\n",
      "   0.0060475 ]\n",
      " [ 0.00196456  0.0483228  -0.02407484 ...  0.09167403  0.08029939\n",
      "   0.00830049]\n",
      " ...\n",
      " [-0.06983007  0.46922156  0.33620661 ... -0.01051926  0.02667575\n",
      "   0.00759778]\n",
      " [ 0.07841958  0.12346795  0.60451973 ...  0.0108298   0.00061442\n",
      "   0.00235615]\n",
      " [ 0.16957461  0.35572948 -0.29638582 ... -0.01075177  0.01079773\n",
      "  -0.01752027]]\n"
     ]
    }
   ],
   "source": [
    "print(eigen_value)"
   ]
  },
  {
   "cell_type": "code",
   "execution_count": 669,
   "id": "220e6c96",
   "metadata": {},
   "outputs": [
    {
     "data": {
      "text/plain": [
       "array([[ 5.67615252e-02,  3.05280168e-01, -2.58132963e-01,\n",
       "        -1.38658854e-01,  1.28221407e-01],\n",
       "       [ 2.59435513e-02,  2.24611437e-01, -3.15907527e-01,\n",
       "        -2.10768703e-02,  2.35790961e-02],\n",
       "       [ 1.96456073e-03,  4.83228026e-02, -2.40748366e-02,\n",
       "         2.71081058e-02, -3.40967048e-02],\n",
       "       [ 7.43543228e-04, -2.45536379e-02,  8.71750727e-02,\n",
       "         4.30683931e-02, -3.48457337e-02],\n",
       "       [ 3.52802996e-03,  1.91914011e-02,  2.10223166e-01,\n",
       "        -3.79069557e-03, -1.60331943e-02],\n",
       "       [-6.68600364e-02, -4.35403666e-01,  2.49271234e-01,\n",
       "         7.49591404e-02, -5.54258608e-02],\n",
       "       [ 6.37265744e-03, -7.71745772e-03,  3.43037214e-02,\n",
       "         2.42610267e-03,  1.16547106e-03],\n",
       "       [ 3.10140489e-01, -4.74006025e-02,  8.79354569e-02,\n",
       "        -1.82440742e-02,  1.38487770e-02],\n",
       "       [-3.01593930e-01,  5.04829840e-02, -1.06660885e-01,\n",
       "         1.59184706e-02, -1.40404349e-02],\n",
       "       [-3.31529398e-03,  4.85959728e-03,  6.12938132e-03,\n",
       "        -4.40639634e-04,  2.06333180e-03],\n",
       "       [ 7.01528804e-03,  7.13799751e-03, -3.05874156e-02,\n",
       "         4.36559265e-03,  1.75993579e-03],\n",
       "       [-3.82221625e-03,  2.38065873e-03,  4.57082595e-03,\n",
       "        -3.68668243e-03, -3.25884346e-03],\n",
       "       [-1.47653603e-03,  5.08374395e-03,  1.54656311e-02,\n",
       "         7.06834120e-03,  7.43138939e-04],\n",
       "       [-5.48866847e-03,  9.99520585e-03, -1.58233636e-03,\n",
       "         2.05000746e-03, -3.48592829e-04],\n",
       "       [ 1.72135680e-03,  8.72730201e-03,  1.01875038e-02,\n",
       "         8.77891078e-04, -4.88672017e-03],\n",
       "       [ 1.33573642e-04, -2.84652215e-02, -2.22556793e-02,\n",
       "         8.18666231e-04,  3.68292275e-03],\n",
       "       [ 2.44204763e-03, -1.53188270e-02, -5.39967450e-03,\n",
       "         4.75184387e-03,  5.77964955e-03],\n",
       "       [ 7.07552750e-04,  6.01085738e-03,  1.41107479e-02,\n",
       "        -5.78143089e-03, -1.00433178e-02],\n",
       "       [-2.55583431e-03,  1.84184090e-03,  1.58244066e-02,\n",
       "         3.51333191e-03,  1.09973709e-03],\n",
       "       [ 3.31850038e-03, -8.53672225e-03,  2.68686327e-03,\n",
       "        -4.12129839e-03, -7.47886100e-04],\n",
       "       [ 4.28883202e-03,  2.69934696e-03,  5.73758778e-04,\n",
       "        -9.08450257e-04,  4.29238903e-04],\n",
       "       [ 1.24936616e-03, -4.64109447e-03, -7.94077170e-03,\n",
       "         6.46835824e-04, -1.10747061e-03],\n",
       "       [ 2.06619913e-03,  1.25459215e-02,  1.82202671e-02,\n",
       "        -3.93709934e-03, -6.14991046e-03],\n",
       "       [-2.37351610e-03, -1.01615539e-02, -1.24195696e-02,\n",
       "        -2.59230610e-03,  3.75663722e-03],\n",
       "       [-4.05023990e-03,  6.38464618e-03, -6.79597999e-03,\n",
       "        -2.96223331e-03,  7.19166762e-03],\n",
       "       [-1.20175301e-03,  1.40447714e-03,  3.27638091e-03,\n",
       "         6.31431402e-04, -2.79648480e-03],\n",
       "       [ 1.04675014e-01, -3.70326912e-02, -5.12357794e-03,\n",
       "        -2.63622475e-03,  4.72935160e-03],\n",
       "       [ 1.73323160e-01,  4.77240182e-01,  2.74490188e-01,\n",
       "         7.16116628e-01, -3.04255328e-01],\n",
       "       [ 6.60189228e-03, -4.60194978e-04,  1.45000884e-03,\n",
       "         1.73649715e-02, -3.15117330e-03],\n",
       "       [-2.49465436e-01,  4.94110335e-02,  3.13668978e-03,\n",
       "        -1.47527033e-03, -1.17744193e-02],\n",
       "       [-3.24956034e-01,  4.43341769e-02, -2.08972294e-02,\n",
       "        -7.45505759e-04, -2.08197813e-02],\n",
       "       [-2.93402557e-01,  9.87190646e-02,  1.33755604e-01,\n",
       "         3.82134254e-01,  6.77158126e-01],\n",
       "       [ 1.32272321e-02,  5.99461939e-03,  6.47831601e-03,\n",
       "        -7.92973023e-03, -9.70458193e-03],\n",
       "       [-2.20573768e-01,  3.86937441e-02, -4.23216630e-02,\n",
       "         4.02692485e-03, -1.79918857e-03],\n",
       "       [-2.72350387e-01,  3.45564713e-02, -3.70726042e-02,\n",
       "         9.57803810e-03, -5.36776493e-02],\n",
       "       [-2.18710068e-01,  6.47653827e-02, -5.23431942e-02,\n",
       "        -2.05369533e-02,  3.01883982e-03],\n",
       "       [-3.17351624e-01,  6.07489059e-02,  1.90550923e-04,\n",
       "         2.29205811e-02,  8.55771201e-02],\n",
       "       [ 1.09330004e-01, -5.99871450e-02, -1.54700201e-01,\n",
       "         5.14129069e-02,  5.39010553e-02],\n",
       "       [-2.99157097e-01,  5.29816571e-02,  4.08530525e-02,\n",
       "        -3.69453201e-02, -1.74311676e-01],\n",
       "       [ 5.64978978e-02,  1.75341677e-01, -6.17884816e-02,\n",
       "        -5.72441699e-02,  1.86658281e-02],\n",
       "       [ 3.05489053e-01, -6.19924420e-02, -2.11535978e-02,\n",
       "         4.52927442e-02,  2.43891463e-01],\n",
       "       [-6.98300722e-02,  4.69221561e-01,  3.36206606e-01,\n",
       "        -4.48904267e-01, -2.58587967e-01],\n",
       "       [ 7.84195791e-02,  1.23467950e-01,  6.04519731e-01,\n",
       "        -2.99355117e-01,  4.06509899e-01],\n",
       "       [ 1.69574615e-01,  3.55729484e-01, -2.96385818e-01,\n",
       "        -1.02781655e-01,  2.98885644e-01]])"
      ]
     },
     "execution_count": 669,
     "metadata": {},
     "output_type": "execute_result"
    }
   ],
   "source": [
    "eigen_vec=eigen_vec[:,:5]\n",
    "eigen_vec"
   ]
  },
  {
   "cell_type": "code",
   "execution_count": 670,
   "id": "b4dd51f6",
   "metadata": {},
   "outputs": [
    {
     "data": {
      "text/plain": [
       "(44, 5)"
      ]
     },
     "execution_count": 670,
     "metadata": {},
     "output_type": "execute_result"
    }
   ],
   "source": [
    "eigen_vec.shape"
   ]
  },
  {
   "cell_type": "code",
   "execution_count": 671,
   "id": "e9d339be",
   "metadata": {},
   "outputs": [],
   "source": [
    "eigen_val= list(eigen_value)\n",
    "eigen_val.sort(reverse= True)"
   ]
  },
  {
   "cell_type": "code",
   "execution_count": 672,
   "id": "c84d53bb",
   "metadata": {},
   "outputs": [
    {
     "data": {
      "image/png": "[encoded data removed]",
      "text/plain": [
       "<Figure size 640x480 with 1 Axes>"
      ]
     },
     "metadata": {},
     "output_type": "display_data"
    }
   ],
   "source": [
    "plt.plot(eigen_val, 'bp')\n",
    "plt.plot(eigen_val)\n",
    "plt.xlabel('Principal Components')\n",
    "plt.ylabel('Variance Explained')\n",
    "\n",
    "plt.annotate(text='elbow-point', xy=(4, 1.5), xytext=(5, 2),\n",
    "             arrowprops=dict(facecolor='black', arrowstyle='simple'))\n",
    "plt.title('Scree Plot')\n",
    "plt.show()"
   ]
  },
  {
   "cell_type": "code",
   "execution_count": 676,
   "id": "611ef7f4",
   "metadata": {},
   "outputs": [
    {
     "data": {
      "text/plain": [
       "(100000, 44)"
      ]
     },
     "execution_count": 676,
     "metadata": {},
     "output_type": "execute_result"
    }
   ],
   "source": [
    "X.shape"
   ]
  },
  {
   "cell_type": "code",
   "execution_count": 677,
   "id": "b159b48f",
   "metadata": {},
   "outputs": [
    {
     "data": {
      "text/html": [
       "<div>\n",
       "<style scoped>\n",
       "    .dataframe tbody tr th:only-of-type {\n",
       "        vertical-align: middle;\n",
       "    }\n",
       "\n",
       "    .dataframe tbody tr th {\n",
       "        vertical-align: top;\n",
       "    }\n",
       "\n",
       "    .dataframe thead th {\n",
       "        text-align: right;\n",
       "    }\n",
       "</style>\n",
       "<table border=\"1\" class=\"dataframe\">\n",
       "  <thead>\n",
       "    <tr style=\"text-align: right;\">\n",
       "      <th></th>\n",
       "      <th>PC1</th>\n",
       "      <th>PC2</th>\n",
       "      <th>PC3</th>\n",
       "      <th>PC4</th>\n",
       "      <th>PC5</th>\n",
       "    </tr>\n",
       "  </thead>\n",
       "  <tbody>\n",
       "    <tr>\n",
       "      <th>0</th>\n",
       "      <td>2.163896</td>\n",
       "      <td>-1.172566</td>\n",
       "      <td>-0.568467</td>\n",
       "      <td>0.078279</td>\n",
       "      <td>0.298316</td>\n",
       "    </tr>\n",
       "    <tr>\n",
       "      <th>1</th>\n",
       "      <td>1.062804</td>\n",
       "      <td>-0.990911</td>\n",
       "      <td>0.183979</td>\n",
       "      <td>-0.109914</td>\n",
       "      <td>0.107497</td>\n",
       "    </tr>\n",
       "    <tr>\n",
       "      <th>2</th>\n",
       "      <td>2.139189</td>\n",
       "      <td>-1.085058</td>\n",
       "      <td>0.370871</td>\n",
       "      <td>-0.155597</td>\n",
       "      <td>0.312191</td>\n",
       "    </tr>\n",
       "    <tr>\n",
       "      <th>3</th>\n",
       "      <td>2.085023</td>\n",
       "      <td>-2.137783</td>\n",
       "      <td>1.194400</td>\n",
       "      <td>-0.249032</td>\n",
       "      <td>0.482494</td>\n",
       "    </tr>\n",
       "    <tr>\n",
       "      <th>4</th>\n",
       "      <td>1.613911</td>\n",
       "      <td>-0.599310</td>\n",
       "      <td>-1.329079</td>\n",
       "      <td>-0.039821</td>\n",
       "      <td>0.214890</td>\n",
       "    </tr>\n",
       "    <tr>\n",
       "      <th>...</th>\n",
       "      <td>...</td>\n",
       "      <td>...</td>\n",
       "      <td>...</td>\n",
       "      <td>...</td>\n",
       "      <td>...</td>\n",
       "    </tr>\n",
       "    <tr>\n",
       "      <th>99995</th>\n",
       "      <td>2.434057</td>\n",
       "      <td>-0.035912</td>\n",
       "      <td>-1.699097</td>\n",
       "      <td>-0.279967</td>\n",
       "      <td>0.355450</td>\n",
       "    </tr>\n",
       "    <tr>\n",
       "      <th>99996</th>\n",
       "      <td>2.528825</td>\n",
       "      <td>-0.157504</td>\n",
       "      <td>-1.853722</td>\n",
       "      <td>0.020377</td>\n",
       "      <td>0.035879</td>\n",
       "    </tr>\n",
       "    <tr>\n",
       "      <th>99997</th>\n",
       "      <td>1.982307</td>\n",
       "      <td>0.311453</td>\n",
       "      <td>-1.702134</td>\n",
       "      <td>-0.350618</td>\n",
       "      <td>0.126689</td>\n",
       "    </tr>\n",
       "    <tr>\n",
       "      <th>99998</th>\n",
       "      <td>1.955308</td>\n",
       "      <td>-0.675825</td>\n",
       "      <td>0.698790</td>\n",
       "      <td>-0.342374</td>\n",
       "      <td>0.417903</td>\n",
       "    </tr>\n",
       "    <tr>\n",
       "      <th>99999</th>\n",
       "      <td>2.172133</td>\n",
       "      <td>-1.655545</td>\n",
       "      <td>0.517990</td>\n",
       "      <td>-0.109958</td>\n",
       "      <td>0.175557</td>\n",
       "    </tr>\n",
       "  </tbody>\n",
       "</table>\n",
       "<p>100000 rows × 5 columns</p>\n",
       "</div>"
      ],
      "text/plain": [
       "            PC1       PC2       PC3       PC4       PC5\n",
       "0      2.163896 -1.172566 -0.568467  0.078279  0.298316\n",
       "1      1.062804 -0.990911  0.183979 -0.109914  0.107497\n",
       "2      2.139189 -1.085058  0.370871 -0.155597  0.312191\n",
       "3      2.085023 -2.137783  1.194400 -0.249032  0.482494\n",
       "4      1.613911 -0.599310 -1.329079 -0.039821  0.214890\n",
       "...         ...       ...       ...       ...       ...\n",
       "99995  2.434057 -0.035912 -1.699097 -0.279967  0.355450\n",
       "99996  2.528825 -0.157504 -1.853722  0.020377  0.035879\n",
       "99997  1.982307  0.311453 -1.702134 -0.350618  0.126689\n",
       "99998  1.955308 -0.675825  0.698790 -0.342374  0.417903\n",
       "99999  2.172133 -1.655545  0.517990 -0.109958  0.175557\n",
       "\n",
       "[100000 rows x 5 columns]"
      ]
     },
     "execution_count": 677,
     "metadata": {},
     "output_type": "execute_result"
    }
   ],
   "source": [
    "df_pcs=pd.DataFrame(X.dot(eigen_vec), columns=['PC1', 'PC2', 'PC3', 'PC4', 'PC5'])\n",
    "df_pcs"
   ]
  },
  {
   "cell_type": "code",
   "execution_count": 678,
   "id": "51ba7490",
   "metadata": {},
   "outputs": [
    {
     "data": {
      "text/html": [
       "<div>\n",
       "<style scoped>\n",
       "    .dataframe tbody tr th:only-of-type {\n",
       "        vertical-align: middle;\n",
       "    }\n",
       "\n",
       "    .dataframe tbody tr th {\n",
       "        vertical-align: top;\n",
       "    }\n",
       "\n",
       "    .dataframe thead th {\n",
       "        text-align: right;\n",
       "    }\n",
       "</style>\n",
       "<table border=\"1\" class=\"dataframe\">\n",
       "  <thead>\n",
       "    <tr style=\"text-align: right;\">\n",
       "      <th></th>\n",
       "      <th>PC1</th>\n",
       "      <th>PC2</th>\n",
       "      <th>PC3</th>\n",
       "      <th>PC4</th>\n",
       "      <th>PC5</th>\n",
       "    </tr>\n",
       "  </thead>\n",
       "  <tbody>\n",
       "    <tr>\n",
       "      <th>0</th>\n",
       "      <td>-2.163265</td>\n",
       "      <td>-1.083615</td>\n",
       "      <td>-0.471745</td>\n",
       "      <td>-0.307908</td>\n",
       "      <td>1.355888</td>\n",
       "    </tr>\n",
       "    <tr>\n",
       "      <th>1</th>\n",
       "      <td>-1.058089</td>\n",
       "      <td>-0.936933</td>\n",
       "      <td>0.646364</td>\n",
       "      <td>0.000152</td>\n",
       "      <td>0.531669</td>\n",
       "    </tr>\n",
       "    <tr>\n",
       "      <th>2</th>\n",
       "      <td>-2.134872</td>\n",
       "      <td>-0.920523</td>\n",
       "      <td>1.115714</td>\n",
       "      <td>0.787720</td>\n",
       "      <td>1.335946</td>\n",
       "    </tr>\n",
       "    <tr>\n",
       "      <th>3</th>\n",
       "      <td>-2.078833</td>\n",
       "      <td>-2.014202</td>\n",
       "      <td>1.693006</td>\n",
       "      <td>0.869849</td>\n",
       "      <td>-0.958521</td>\n",
       "    </tr>\n",
       "    <tr>\n",
       "      <th>4</th>\n",
       "      <td>-1.612497</td>\n",
       "      <td>-0.347647</td>\n",
       "      <td>-0.540866</td>\n",
       "      <td>1.300694</td>\n",
       "      <td>0.705055</td>\n",
       "    </tr>\n",
       "  </tbody>\n",
       "</table>\n",
       "</div>"
      ],
      "text/plain": [
       "        PC1       PC2       PC3       PC4       PC5\n",
       "0 -2.163265 -1.083615 -0.471745 -0.307908  1.355888\n",
       "1 -1.058089 -0.936933  0.646364  0.000152  0.531669\n",
       "2 -2.134872 -0.920523  1.115714  0.787720  1.335946\n",
       "3 -2.078833 -2.014202  1.693006  0.869849 -0.958521\n",
       "4 -1.612497 -0.347647 -0.540866  1.300694  0.705055"
      ]
     },
     "execution_count": 678,
     "metadata": {},
     "output_type": "execute_result"
    }
   ],
   "source": [
    "pca=PCA(n_components=5, random_state=0)\n",
    "principle_components= pca.fit_transform(X)\n",
    "\n",
    "pca_df=pd.DataFrame(data=principle_components, columns=['PC1', 'PC2', 'PC3', 'PC4', 'PC5'])\n",
    "pca_df.head()"
   ]
  },
  {
   "cell_type": "code",
   "execution_count": 679,
   "id": "d92e3807",
   "metadata": {},
   "outputs": [
    {
     "data": {
      "text/plain": [
       "(100000, 5)"
      ]
     },
     "execution_count": 679,
     "metadata": {},
     "output_type": "execute_result"
    }
   ],
   "source": [
    "pca_df.shape"
   ]
  },
  {
   "cell_type": "code",
   "execution_count": 681,
   "id": "e55b2367",
   "metadata": {},
   "outputs": [
    {
     "data": {
      "text/html": [
       "<style>#sk-container-id-6 {color: black;background-color: white;}#sk-container-id-6 pre{padding: 0;}#sk-container-id-6 div.sk-toggleable {background-color: white;}#sk-container-id-6 label.sk-toggleable__label {cursor: pointer;display: block;width: 100%;margin-bottom: 0;padding: 0.3em;box-sizing: border-box;text-align: center;}#sk-container-id-6 label.sk-toggleable__label-arrow:before {content: \"▸\";float: left;margin-right: 0.25em;color: #696969;}#sk-container-id-6 label.sk-toggleable__label-arrow:hover:before {color: black;}#sk-container-id-6 div.sk-estimator:hover label.sk-toggleable__label-arrow:before {color: black;}#sk-container-id-6 div.sk-toggleable__content {max-height: 0;max-width: 0;overflow: hidden;text-align: left;background-color: #f0f8ff;}#sk-container-id-6 div.sk-toggleable__content pre {margin: 0.2em;color: black;border-radius: 0.25em;background-color: #f0f8ff;}#sk-container-id-6 input.sk-toggleable__control:checked~div.sk-toggleable__content {max-height: 200px;max-width: 100%;overflow: auto;}#sk-container-id-6 input.sk-toggleable__control:checked~label.sk-toggleable__label-arrow:before {content: \"▾\";}#sk-container-id-6 div.sk-estimator input.sk-toggleable__control:checked~label.sk-toggleable__label {background-color: #d4ebff;}#sk-container-id-6 div.sk-label input.sk-toggleable__control:checked~label.sk-toggleable__label {background-color: #d4ebff;}#sk-container-id-6 input.sk-hidden--visually {border: 0;clip: rect(1px 1px 1px 1px);clip: rect(1px, 1px, 1px, 1px);height: 1px;margin: -1px;overflow: hidden;padding: 0;position: absolute;width: 1px;}#sk-container-id-6 div.sk-estimator {font-family: monospace;background-color: #f0f8ff;border: 1px dotted black;border-radius: 0.25em;box-sizing: border-box;margin-bottom: 0.5em;}#sk-container-id-6 div.sk-estimator:hover {background-color: #d4ebff;}#sk-container-id-6 div.sk-parallel-item::after {content: \"\";width: 100%;border-bottom: 1px solid gray;flex-grow: 1;}#sk-container-id-6 div.sk-label:hover label.sk-toggleable__label {background-color: #d4ebff;}#sk-container-id-6 div.sk-serial::before {content: \"\";position: absolute;border-left: 1px solid gray;box-sizing: border-box;top: 0;bottom: 0;left: 50%;z-index: 0;}#sk-container-id-6 div.sk-serial {display: flex;flex-direction: column;align-items: center;background-color: white;padding-right: 0.2em;padding-left: 0.2em;position: relative;}#sk-container-id-6 div.sk-item {position: relative;z-index: 1;}#sk-container-id-6 div.sk-parallel {display: flex;align-items: stretch;justify-content: center;background-color: white;position: relative;}#sk-container-id-6 div.sk-item::before, #sk-container-id-6 div.sk-parallel-item::before {content: \"\";position: absolute;border-left: 1px solid gray;box-sizing: border-box;top: 0;bottom: 0;left: 50%;z-index: -1;}#sk-container-id-6 div.sk-parallel-item {display: flex;flex-direction: column;z-index: 1;position: relative;background-color: white;}#sk-container-id-6 div.sk-parallel-item:first-child::after {align-self: flex-end;width: 50%;}#sk-container-id-6 div.sk-parallel-item:last-child::after {align-self: flex-start;width: 50%;}#sk-container-id-6 div.sk-parallel-item:only-child::after {width: 0;}#sk-container-id-6 div.sk-dashed-wrapped {border: 1px dashed gray;margin: 0 0.4em 0.5em 0.4em;box-sizing: border-box;padding-bottom: 0.4em;background-color: white;}#sk-container-id-6 div.sk-label label {font-family: monospace;font-weight: bold;display: inline-block;line-height: 1.2em;}#sk-container-id-6 div.sk-label-container {text-align: center;}#sk-container-id-6 div.sk-container {/* jupyter's `normalize.less` sets `[hidden] { display: none; }` but bootstrap.min.css set `[hidden] { display: none !important; }` so we also need the `!important` here to be able to override the default hidden behavior on the sphinx rendered scikit-learn.org. See: https://github.com/scikit-learn/scikit-learn/issues/21755 */display: inline-block !important;position: relative;}#sk-container-id-6 div.sk-text-repr-fallback {display: none;}</style><div id=\"sk-container-id-6\" class=\"sk-top-container\"><div class=\"sk-text-repr-fallback\"><pre>RandomForestClassifier()</pre><b>In a Jupyter environment, please rerun this cell to show the HTML representation or trust the notebook. <br />On GitHub, the HTML representation is unable to render, please try loading this page with nbviewer.org.</b></div><div class=\"sk-container\" hidden><div class=\"sk-item\"><div class=\"sk-estimator sk-toggleable\"><input class=\"sk-toggleable__control sk-hidden--visually\" id=\"sk-estimator-id-10\" type=\"checkbox\" checked><label for=\"sk-estimator-id-10\" class=\"sk-toggleable__label sk-toggleable__label-arrow\">RandomForestClassifier</label><div class=\"sk-toggleable__content\"><pre>RandomForestClassifier()</pre></div></div></div></div></div>"
      ],
      "text/plain": [
       "RandomForestClassifier()"
      ]
     },
     "execution_count": 681,
     "metadata": {},
     "output_type": "execute_result"
    }
   ],
   "source": [
    "from sklearn.model_selection import train_test_split\n",
    "X_train, X_test, y_train, y_test=train_test_split(X,y, test_size=0.25, random_state=0)\n",
    "classifier4=RandomForestClassifier()\n",
    "classifier4.fit(X_train,y_train)"
   ]
  },
  {
   "cell_type": "code",
   "execution_count": 682,
   "id": "76f66f41",
   "metadata": {},
   "outputs": [
    {
     "name": "stdout",
     "output_type": "stream",
     "text": [
      "              precision    recall  f1-score   support\n",
      "\n",
      "           0       0.71      0.70      0.70      4428\n",
      "           1       0.78      0.78      0.78      7277\n",
      "           2       0.80      0.80      0.80     13295\n",
      "\n",
      "    accuracy                           0.78     25000\n",
      "   macro avg       0.76      0.76      0.76     25000\n",
      "weighted avg       0.78      0.78      0.78     25000\n",
      "\n"
     ]
    }
   ],
   "source": [
    "y_pred=classifier4.predict(X_test)\n",
    "print(classification_report(y_test, y_pred, zero_division=0.0))"
   ]
  },
  {
   "cell_type": "code",
   "execution_count": null,
   "id": "4e2fe1ab",
   "metadata": {},
   "outputs": [],
   "source": []
  }
 ],
 "metadata": {
  "kernelspec": {
   "display_name": "Python 3 (ipykernel)",
   "language": "python",
   "name": "python3"
  },
  "language_info": {
   "codemirror_mode": {
    "name": "ipython",
    "version": 3
   },
   "file_extension": ".py",
   "mimetype": "text/x-python",
   "name": "python",
   "nbconvert_exporter": "python",
   "pygments_lexer": "ipython3",
   "version": "3.10.9"
  }
 },
 "nbformat": 4,
 "nbformat_minor": 5
}
